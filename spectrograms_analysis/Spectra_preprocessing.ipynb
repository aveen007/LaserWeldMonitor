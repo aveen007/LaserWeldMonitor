{
  "nbformat": 4,
  "nbformat_minor": 0,
  "metadata": {
    "colab": {
      "provenance": []
    },
    "kernelspec": {
      "name": "python3",
      "display_name": "Python 3"
    },
    "language_info": {
      "name": "python"
    }
  },
  "cells": [
    {
      "cell_type": "code",
      "execution_count": null,
      "metadata": {
        "id": "0eV8Ip8Y9mge"
      },
      "outputs": [],
      "source": [
        "import pandas as pd\n",
        "import glob\n",
        "import json\n",
        "from scipy.stats import gaussian_kde, skew, kurtosis\n",
        "import numpy as np\n",
        "from scipy.signal import find_peaks\n",
        "import seaborn as sns\n",
        "import matplotlib.pyplot as plt\n",
        "from scipy import stats, signal\n",
        "from scipy.fft import rfft, rfftfreq\n",
        "from scipy.interpolate import interp1d"
      ]
    },
    {
      "cell_type": "code",
      "source": [
        "file_list = glob.glob('/content/*.xlsx')  # Adjust path if necessary\n",
        "file_list = sorted(file_list)"
      ],
      "metadata": {
        "id": "C9NHzPyx-12d"
      },
      "execution_count": null,
      "outputs": []
    },
    {
      "cell_type": "code",
      "source": [
        "file_list"
      ],
      "metadata": {
        "colab": {
          "base_uri": "https://localhost:8080/"
        },
        "id": "u18dHnNOcONc",
        "outputId": "b43a7916-ba8d-4981-db1f-183e8bee4536"
      },
      "execution_count": null,
      "outputs": [
        {
          "output_type": "execute_result",
          "data": {
            "text/plain": [
              "['/content/10.xlsx',\n",
              " '/content/11.xlsx',\n",
              " '/content/12.xlsx',\n",
              " '/content/13.xlsx',\n",
              " '/content/14.xlsx',\n",
              " '/content/15.xlsx',\n",
              " '/content/16.xlsx',\n",
              " '/content/17.xlsx',\n",
              " '/content/18.xlsx',\n",
              " '/content/19.xlsx',\n",
              " '/content/20.xlsx',\n",
              " '/content/21.xlsx',\n",
              " '/content/22.xlsx',\n",
              " '/content/23.xlsx',\n",
              " '/content/24.xlsx',\n",
              " '/content/25.xlsx',\n",
              " '/content/26.xlsx',\n",
              " '/content/27.xlsx',\n",
              " '/content/28.xlsx',\n",
              " '/content/29.xlsx',\n",
              " '/content/30.xlsx',\n",
              " '/content/31.xlsx',\n",
              " '/content/32.xlsx',\n",
              " '/content/33.xlsx',\n",
              " '/content/34.xlsx']"
            ]
          },
          "metadata": {},
          "execution_count": 3
        }
      ]
    },
    {
      "cell_type": "code",
      "source": [
        "for file in file_list:\n",
        "    # Read Excel file\n",
        "    df = pd.read_excel(file, sheet_name='1712307U3_01', header=None)\n",
        "\n",
        "    # Delete first 6 rows and transpose data\n",
        "    df_transposed = df.iloc[6:].T\n",
        "    df_transposed.columns = df_transposed.iloc[0]\n",
        "    df_transposed = df_transposed.iloc[1:].reset_index(drop=True)  # Reset index\n",
        "    # Create a new filename by appending '_transposed' before '.xlsx'\n",
        "    filename_parts = file.split('.')\n",
        "    new_filename = f\"{filename_parts[0]}_07.{filename_parts[1]}\"\n",
        "\n",
        "    # Write transposed dataframe to a new Excel file\n",
        "    df_transposed.to_excel(new_filename, index=False)\n",
        "\n",
        "print(\"All files processed.\")"
      ],
      "metadata": {
        "colab": {
          "base_uri": "https://localhost:8080/"
        },
        "id": "AJIHInK2-4qX",
        "outputId": "325a4b55-58f9-450b-d723-a8985bef8c48"
      },
      "execution_count": null,
      "outputs": [
        {
          "output_type": "stream",
          "name": "stdout",
          "text": [
            "All files processed.\n"
          ]
        }
      ]
    }
  ]
}