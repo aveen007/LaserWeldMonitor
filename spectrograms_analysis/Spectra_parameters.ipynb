{
  "nbformat": 4,
  "nbformat_minor": 0,
  "metadata": {
    "colab": {
      "provenance": []
    },
    "kernelspec": {
      "name": "python3",
      "display_name": "Python 3"
    },
    "language_info": {
      "name": "python"
    }
  },
  "cells": [
    {
      "cell_type": "code",
      "source": [
        "!pip install scipy seaborn"
      ],
      "metadata": {
        "colab": {
          "base_uri": "https://localhost:8080/"
        },
        "id": "eMnbs0efPRHR",
        "outputId": "77bb6b82-d049-482a-dddb-a2ec06368ec6"
      },
      "execution_count": null,
      "outputs": [
        {
          "output_type": "stream",
          "name": "stdout",
          "text": [
            "Requirement already satisfied: scipy in /usr/local/lib/python3.11/dist-packages (1.13.1)\n",
            "Requirement already satisfied: seaborn in /usr/local/lib/python3.11/dist-packages (0.13.2)\n",
            "Requirement already satisfied: numpy<2.3,>=1.22.4 in /usr/local/lib/python3.11/dist-packages (from scipy) (1.26.4)\n",
            "Requirement already satisfied: pandas>=1.2 in /usr/local/lib/python3.11/dist-packages (from seaborn) (2.2.2)\n",
            "Requirement already satisfied: matplotlib!=3.6.1,>=3.4 in /usr/local/lib/python3.11/dist-packages (from seaborn) (3.10.0)\n",
            "Requirement already satisfied: contourpy>=1.0.1 in /usr/local/lib/python3.11/dist-packages (from matplotlib!=3.6.1,>=3.4->seaborn) (1.3.1)\n",
            "Requirement already satisfied: cycler>=0.10 in /usr/local/lib/python3.11/dist-packages (from matplotlib!=3.6.1,>=3.4->seaborn) (0.12.1)\n",
            "Requirement already satisfied: fonttools>=4.22.0 in /usr/local/lib/python3.11/dist-packages (from matplotlib!=3.6.1,>=3.4->seaborn) (4.55.8)\n",
            "Requirement already satisfied: kiwisolver>=1.3.1 in /usr/local/lib/python3.11/dist-packages (from matplotlib!=3.6.1,>=3.4->seaborn) (1.4.8)\n",
            "Requirement already satisfied: packaging>=20.0 in /usr/local/lib/python3.11/dist-packages (from matplotlib!=3.6.1,>=3.4->seaborn) (24.2)\n",
            "Requirement already satisfied: pillow>=8 in /usr/local/lib/python3.11/dist-packages (from matplotlib!=3.6.1,>=3.4->seaborn) (11.1.0)\n",
            "Requirement already satisfied: pyparsing>=2.3.1 in /usr/local/lib/python3.11/dist-packages (from matplotlib!=3.6.1,>=3.4->seaborn) (3.2.1)\n",
            "Requirement already satisfied: python-dateutil>=2.7 in /usr/local/lib/python3.11/dist-packages (from matplotlib!=3.6.1,>=3.4->seaborn) (2.8.2)\n",
            "Requirement already satisfied: pytz>=2020.1 in /usr/local/lib/python3.11/dist-packages (from pandas>=1.2->seaborn) (2025.1)\n",
            "Requirement already satisfied: tzdata>=2022.7 in /usr/local/lib/python3.11/dist-packages (from pandas>=1.2->seaborn) (2025.1)\n",
            "Requirement already satisfied: six>=1.5 in /usr/local/lib/python3.11/dist-packages (from python-dateutil>=2.7->matplotlib!=3.6.1,>=3.4->seaborn) (1.17.0)\n"
          ]
        }
      ]
    },
    {
      "cell_type": "code",
      "execution_count": null,
      "metadata": {
        "colab": {
          "base_uri": "https://localhost:8080/"
        },
        "id": "qiBVRpIZLSKo",
        "outputId": "87621af3-82ba-4444-c0f1-b2e3eba94195"
      },
      "outputs": [
        {
          "output_type": "stream",
          "name": "stdout",
          "text": [
            "Requirement already satisfied: openpyxl in /usr/local/lib/python3.11/dist-packages (3.1.5)\n",
            "Requirement already satisfied: et-xmlfile in /usr/local/lib/python3.11/dist-packages (from openpyxl) (2.0.0)\n"
          ]
        }
      ],
      "source": [
        "!pip install openpyxl"
      ]
    },
    {
      "cell_type": "code",
      "source": [
        "import pandas as pd\n",
        "import glob\n",
        "import json\n",
        "from scipy.stats import gaussian_kde, skew, kurtosis\n",
        "import numpy as np\n",
        "from scipy.signal import find_peaks\n",
        "import seaborn as sns\n",
        "import matplotlib.pyplot as plt\n",
        "from scipy import stats, signal\n",
        "from scipy.fft import rfft, rfftfreq\n",
        "from scipy.interpolate import interp1d\n",
        "\n"
      ],
      "metadata": {
        "id": "mDJt2mWTLz6i"
      },
      "execution_count": null,
      "outputs": []
    },
    {
      "cell_type": "code",
      "source": [
        "file_list = glob.glob('/content/*.xlsx')  # Adjust path if necessary\n",
        "file_list = sorted(file_list)"
      ],
      "metadata": {
        "id": "IqugklhXL0RP"
      },
      "execution_count": null,
      "outputs": []
    },
    {
      "cell_type": "code",
      "source": [
        "file_list"
      ],
      "metadata": {
        "colab": {
          "base_uri": "https://localhost:8080/"
        },
        "id": "JaZNVBvTmyeT",
        "outputId": "38bed1ee-c0b1-42c8-80e2-a18bd81954d6"
      },
      "execution_count": null,
      "outputs": [
        {
          "output_type": "execute_result",
          "data": {
            "text/plain": [
              "['/content/11_07.xlsx',\n",
              " '/content/12_07.xlsx',\n",
              " '/content/13_07.xlsx',\n",
              " '/content/14_07.xlsx',\n",
              " '/content/15_07.xlsx',\n",
              " '/content/16_07.xlsx',\n",
              " '/content/17_07.xlsx',\n",
              " '/content/18_07.xlsx',\n",
              " '/content/19_07.xlsx',\n",
              " '/content/20_07.xlsx',\n",
              " '/content/21_07.xlsx',\n",
              " '/content/22_07.xlsx',\n",
              " '/content/23_07.xlsx',\n",
              " '/content/24_07.xlsx',\n",
              " '/content/25_07.xlsx',\n",
              " '/content/26_07.xlsx',\n",
              " '/content/27_07.xlsx',\n",
              " '/content/28_07.xlsx',\n",
              " '/content/29_07.xlsx',\n",
              " '/content/30_07.xlsx',\n",
              " '/content/31_07.xlsx',\n",
              " '/content/32_07.xlsx',\n",
              " '/content/33_07.xlsx',\n",
              " '/content/34_07.xlsx']"
            ]
          },
          "metadata": {},
          "execution_count": 13
        }
      ]
    },
    {
      "cell_type": "markdown",
      "source": [
        "Модальность, skewness, kurtosis"
      ],
      "metadata": {
        "id": "qcP_HqF5iGRQ"
      }
    },
    {
      "cell_type": "code",
      "source": [
        "\n",
        "def calculate_mean(spectral_data):\n",
        "  return np.mean(spectral_data)\n",
        "\n",
        "def calculate_std(spectral_data):\n",
        "  return np.std(spectral_data)\n",
        "\n",
        "def calculate_modality(spectral_data):\n",
        "  kde = gaussian_kde(spectral_data)\n",
        "  x = np.linspace(min(spectral_data), max(spectral_data), 1000)\n",
        "  y = kde(x)\n",
        "  peaks, _ = find_peaks(y)\n",
        "\n",
        "  #print(str(len(peaks))+\" \"+str(index))\n",
        "  \"\"\"\n",
        "  if (index==33):\n",
        "    plt.plot(x, y, label=f'Spectrum {index} from {file}')\n",
        "    plt.plot(x[peaks], y[peaks], \"x\", color='red', label='Peaks')\n",
        "    plt.axvline(x=4008.6875, color='green', linestyle='--', label='Line at 4008.6875')\n",
        "    plt.axvline(x=6088.0, color='blue', linestyle='--', label='Line at 6088.0')\n",
        "    plt.xlabel('Intensity')\n",
        "    plt.ylabel('Density')\n",
        "  \"\"\"\n",
        "\n",
        "  return len(peaks)\n",
        "\n",
        "\n",
        "def calculate_skewness(spectral_data):\n",
        "  skewness = pd.Series(spectral_data).skew()\n",
        "  return skewness\n",
        "\n",
        "def calculate_kurtosis(spectral_data):\n",
        "  kurtosis_value = kurtosis(spectral_data)\n",
        "  return kurtosis_value\n",
        "\n",
        "def calculate_IQR(spectral_data):\n",
        "  q1 = np.percentile(spectral_data, 25)  # First quartile\n",
        "  q3 = np.percentile(spectral_data, 75)  # Third quartile\n",
        "  if (index==33):\n",
        "    print(str(q1)+\" \"+str(q3))\n",
        "  iqr_value = q3 - q1  # Interquartile Range\n",
        "  return iqr_value\n",
        "\n",
        "def calculate_SNR1(spectral_data):\n",
        "  rms_signal = np.sqrt(np.mean(np.square(spectral_data)))\n",
        "  rms_noise = np.std(spectral_data)  # You may want to filter out peaks here\n",
        "  snr = rms_signal / rms_noise\n",
        "  return snr\n",
        "\n",
        "def calculate_SNR2(spectral_data, noise):\n",
        "  aver_noise=np.average(noise)\n",
        "  aver_signal=np.average(spectral_data)\n",
        "  return aver_signal/aver_noise\n",
        "\n",
        "def calculate_MaxI(spectral_data):\n",
        "  max=np.max(spectral_data)\n",
        "  return max\n",
        "\n",
        "def get_Intensity_On_Wavelenght(wavelenghts, wavelenght, spectral_data):\n",
        "  w_array=np.array(wavelenghts)\n",
        "  for index, value in np.ndenumerate(w_array):\n",
        "    if abs(float(value)-wavelenght)<0.0001:\n",
        "      return spectral_data[index]\n",
        "  return 1\n",
        "\n",
        "\n",
        "\n",
        "\n",
        "\n"
      ],
      "metadata": {
        "id": "VTdDGfdQIhWn"
      },
      "execution_count": null,
      "outputs": []
    },
    {
      "cell_type": "code",
      "source": [
        "def fft(spectral_data_list, wavelenghts):\n",
        "  time_data = np.array(wavelenghts)  # Replace with your actual time data\n",
        "  spectral_data = np.array(spectral_data)  # Replace with your actual intensity data\n",
        "\n",
        "  # Step 1: Calculate the average increment\n",
        "  increments = np.diff(time_data)\n",
        "  average_increment = np.mean(increments)\n",
        "\n",
        "        # Step 2: Create evenly spaced time points\n",
        "  start_time = np.min(time_data)\n",
        "  end_time = np.max(time_data)\n",
        "  even_time_data = np.arange(start_time, end_time, average_increment)\n",
        "\n",
        "        # Step 3: Interpolate spectral data to the new time points\n",
        "  interpolator = interp1d(time_data, spectral_data, kind='linear', fill_value='extrapolate')\n",
        "  even_spectral_data = interpolator(even_time_data)\n",
        "\n",
        "        # Step 4: Perform FFT on the interpolated data\n",
        "  fft_result = np.fft.fft(even_spectral_data)\n",
        "\n",
        "        # Step 5: Compute frequency bins\n",
        "  freq_bins = np.fft.fftfreq(len(even_spectral_data), d=average_increment)\n",
        "\n",
        "        # Step 6: Plotting the results\n",
        "  plt.figure(figsize=(12, 6))\n",
        "\n",
        "        # Original Spectrum (Interpolated)\n",
        "  plt.subplot(1, 2, 1)\n",
        "  plt.plot(even_time_data, even_spectral_data)\n",
        "  plt.title('Interpolated Spectrum')\n",
        "  plt.xlabel('Time')\n",
        "  plt.ylabel('Intensity')\n",
        "\n",
        "        # FFT Result\n",
        "  plt.subplot(1, 2, 2)\n",
        "  plt.plot(freq_bins[:len(freq_bins)//2], np.abs(fft_result)[:len(freq_bins)//2])  # Plot only positive frequencies\n",
        "  plt.title('FFT of Spectrum')\n",
        "  plt.xlabel('Frequency (Hz)')\n",
        "  plt.ylabel('Magnitude')\n",
        "\n",
        "  plt.tight_layout()\n",
        "  plt.show()\n"
      ],
      "metadata": {
        "id": "zQAeqJGB6_Mj"
      },
      "execution_count": null,
      "outputs": []
    },
    {
      "cell_type": "code",
      "source": [
        "\n",
        "value_to_find = 533.480895996094\n",
        "index_of_element = -1\n",
        "w_array=np.array(wavelenghts)\n",
        "for i in range(w_array.size):\n",
        "    if abs(w_array[i] - value_to_find)<0.0001:\n",
        "        index_of_element = i\n",
        "        break\n",
        "\n",
        "if index_of_element != -1:\n",
        "    print(\"Element found at index:\", index_of_element)  # Output: Element found at index: 2\n",
        "else:\n",
        "    print(\"Element not present\")"
      ],
      "metadata": {
        "colab": {
          "base_uri": "https://localhost:8080/",
          "height": 211
        },
        "id": "eFpAeAlkZVeF",
        "outputId": "f7fff897-9226-4e18-9fd4-9cf49c9521a3"
      },
      "execution_count": null,
      "outputs": [
        {
          "output_type": "error",
          "ename": "TypeError",
          "evalue": "unsupported operand type(s) for -: 'numpy.str_' and 'float'",
          "traceback": [
            "\u001b[0;31m---------------------------------------------------------------------------\u001b[0m",
            "\u001b[0;31mTypeError\u001b[0m                                 Traceback (most recent call last)",
            "\u001b[0;32m<ipython-input-13-668d44648eda>\u001b[0m in \u001b[0;36m<cell line: 0>\u001b[0;34m()\u001b[0m\n\u001b[1;32m      3\u001b[0m \u001b[0mw_array\u001b[0m\u001b[0;34m=\u001b[0m\u001b[0mnp\u001b[0m\u001b[0;34m.\u001b[0m\u001b[0marray\u001b[0m\u001b[0;34m(\u001b[0m\u001b[0mwavelenghts\u001b[0m\u001b[0;34m)\u001b[0m\u001b[0;34m\u001b[0m\u001b[0;34m\u001b[0m\u001b[0m\n\u001b[1;32m      4\u001b[0m \u001b[0;32mfor\u001b[0m \u001b[0mi\u001b[0m \u001b[0;32min\u001b[0m \u001b[0mrange\u001b[0m\u001b[0;34m(\u001b[0m\u001b[0mw_array\u001b[0m\u001b[0;34m.\u001b[0m\u001b[0msize\u001b[0m\u001b[0;34m)\u001b[0m\u001b[0;34m:\u001b[0m\u001b[0;34m\u001b[0m\u001b[0;34m\u001b[0m\u001b[0m\n\u001b[0;32m----> 5\u001b[0;31m     \u001b[0;32mif\u001b[0m \u001b[0mabs\u001b[0m\u001b[0;34m(\u001b[0m\u001b[0mw_array\u001b[0m\u001b[0;34m[\u001b[0m\u001b[0mi\u001b[0m\u001b[0;34m]\u001b[0m \u001b[0;34m-\u001b[0m \u001b[0mvalue_to_find\u001b[0m\u001b[0;34m)\u001b[0m\u001b[0;34m<\u001b[0m\u001b[0;36m0.0001\u001b[0m\u001b[0;34m:\u001b[0m\u001b[0;34m\u001b[0m\u001b[0;34m\u001b[0m\u001b[0m\n\u001b[0m\u001b[1;32m      6\u001b[0m         \u001b[0mindex_of_element\u001b[0m \u001b[0;34m=\u001b[0m \u001b[0mi\u001b[0m\u001b[0;34m\u001b[0m\u001b[0;34m\u001b[0m\u001b[0m\n\u001b[1;32m      7\u001b[0m         \u001b[0;32mbreak\u001b[0m\u001b[0;34m\u001b[0m\u001b[0;34m\u001b[0m\u001b[0m\n",
            "\u001b[0;31mTypeError\u001b[0m: unsupported operand type(s) for -: 'numpy.str_' and 'float'"
          ]
        }
      ]
    },
    {
      "cell_type": "code",
      "source": [
        "characteristic_wavelengths=np.array([\n",
        "    590.1740112,\n",
        "    589.5755615,\n",
        "    589.4558105,\n",
        "    546.1279907,\n",
        "    545.2479248,\n",
        "    543.9893188,\n",
        "    543.6113892,\n",
        "    541.2146606,\n",
        "    540.3302002,\n",
        "    537.7988281,\n",
        "    533.3536377,\n",
        "    527.6098022,\n",
        "    517.3203125\n",
        "])\n",
        "characteristic_wavelengths1=np.array([\n",
        "    440.481171,\n",
        "    438.363617,\n",
        "    432.614502,\n",
        "    430.829926,\n",
        "    427.163879,\n",
        "    422.709778,\n",
        "    403.44339,\n",
        "    388.654724,\n",
        "    387.844147,\n",
        "    385.975616,\n",
        "    382.548187,\n",
        "    374.55777,\n",
        "    373.728149,\n",
        "    371.982452\n",
        "])\n",
        "\n",
        "wavelength_dict = {\n",
        "}\n",
        "\n",
        "for i in range(len(characteristic_wavelengths)):\n",
        "        # Convert each list into a NumPy array if needed.\n",
        "        wavelength_dict[characteristic_wavelengths[i]] =[]\n",
        "\n"
      ],
      "metadata": {
        "id": "ewqVJNNpyYol"
      },
      "execution_count": null,
      "outputs": []
    },
    {
      "cell_type": "code",
      "source": [
        "len(wavelength_dict)"
      ],
      "metadata": {
        "colab": {
          "base_uri": "https://localhost:8080/"
        },
        "id": "A1u7bN6s0W79",
        "outputId": "0e8ef49f-66e4-4640-e95e-ef2836ed8180"
      },
      "execution_count": null,
      "outputs": [
        {
          "output_type": "execute_result",
          "data": {
            "text/plain": [
              "13"
            ]
          },
          "metadata": {},
          "execution_count": 10
        }
      ]
    },
    {
      "cell_type": "code",
      "source": [
        "#plt.figure(figsize=(12, 8))\n",
        "\n",
        "for file in file_list:\n",
        "    modalities = []\n",
        "    skewness_values = []\n",
        "    kurtosis_values = []\n",
        "    iqr_values = []\n",
        "    snr1_values=[]\n",
        "    snr2_values=[]\n",
        "    max_values=[]\n",
        "    noise=[]\n",
        "    sumI=[]\n",
        "    mean=[]\n",
        "    std=[]\n",
        "    for i in range(len(characteristic_wavelengths)):\n",
        "        # Convert each list into a NumPy array if needed.\n",
        "        wavelength_dict[characteristic_wavelengths[i]] =[]\n",
        "    df = pd.read_excel(file, engine='openpyxl')\n",
        "    wavelenghts = df.columns.tolist()\n",
        "    #df.iloc[:,:0]\n",
        "    for index, row in df.iterrows():\n",
        "      spectral_data = row.values  # All values in the row\n",
        "      if (index==0):\n",
        "        noise=np.copy(spectral_data)\n",
        "\n",
        "      #Mean\n",
        "      current_mean=calculate_mean(spectral_data)\n",
        "      mean.append(current_mean)\n",
        "\n",
        "      #STD\n",
        "      current_std=calculate_std(spectral_data)\n",
        "      std.append(current_std)\n",
        "\n",
        "      #SumI\n",
        "      current_sum = np.sum(spectral_data)\n",
        "      sumI.append(current_sum)\n",
        "\n",
        "\n",
        "\n",
        "\n",
        "      #Modality\n",
        "      modality=calculate_modality(spectral_data)\n",
        "      modalities.append(modality)\n",
        "\n",
        "\n",
        "\n",
        "      #Skewness\n",
        "      skewness = calculate_skewness(spectral_data)\n",
        "      skewness_values.append(skewness)\n",
        "\n",
        "      #Kurtosis\n",
        "      kurtosis_value = calculate_kurtosis(spectral_data)\n",
        "      kurtosis_values.append(kurtosis_value)\n",
        "\n",
        "      #IQR\n",
        "      iqr_value=calculate_IQR(spectral_data)\n",
        "      iqr_values.append(iqr_value)\n",
        "\n",
        "      #SNR1\n",
        "      snr1_value=calculate_SNR1(spectral_data)\n",
        "      snr1_values.append(snr1_value)\n",
        "\n",
        "      #SNR2\n",
        "      snr2_value=calculate_SNR2(spectral_data, noise)\n",
        "      snr2_values.append(snr2_value)\n",
        "\n",
        "      #MaxI\n",
        "      max_value=calculate_MaxI(spectral_data)\n",
        "      max_values.append(max_value)\n",
        "\n",
        "      for i in range(len(characteristic_wavelengths)):\n",
        "        # Convert each list into a NumPy array if needed.\n",
        "        wavelength_dict[characteristic_wavelengths[i]].append(get_Intensity_On_Wavelenght(wavelenghts, characteristic_wavelengths[i], spectral_data)\n",
        ")\n",
        "\n",
        "\n",
        "    df['Mean']=mean\n",
        "    df['STD']=std\n",
        "    df['Modality'] = modalities\n",
        "    df['Skewness'] = skewness_values\n",
        "    df['Kurtosis'] = kurtosis_values\n",
        "    df['IQR'] = iqr_values\n",
        "    df['SNR1']=snr1_values\n",
        "    df['SNR2']=snr2_values\n",
        "    df['MaxI']=max_values\n",
        "    df['SumI']=sumI\n",
        "\n",
        "    for i in range(len(characteristic_wavelengths)):\n",
        "        # Convert each list into a NumPy array if needed.\n",
        "        df[str(characteristic_wavelengths[i])]=wavelength_dict[characteristic_wavelengths[i]]\n",
        "\n",
        "    df.to_excel(file, index=False)\n",
        "\n"
      ],
      "metadata": {
        "id": "JthE6s3hL4Fr",
        "colab": {
          "base_uri": "https://localhost:8080/"
        },
        "outputId": "bbfd62ac-83e0-49a3-82b1-f40d8173b2da"
      },
      "execution_count": null,
      "outputs": [
        {
          "metadata": {
            "tags": null
          },
          "name": "stdout",
          "output_type": "stream",
          "text": [
            "760.0 820.75\n",
            "838.75 921.75\n",
            "845.75 920.0\n",
            "776.25 836.75\n",
            "674.5 697.5\n",
            "678.0 708.5\n",
            "690.0 714.75\n",
            "689.25 722.25\n",
            "692.5 718.25\n",
            "717.0 738.0\n",
            "1074.5 1304.25\n",
            "694.25 726.75\n",
            "4009.75 6088.5\n",
            "718.25 747.75\n",
            "705.5 728.75\n",
            "710.25 733.25\n",
            "578.75 603.25\n",
            "567.0 587.75\n",
            "571.25 607.25\n",
            "612.5 636.5\n",
            "598.0 627.25\n",
            "614.5 635.5\n",
            "622.5 646.75\n",
            "617.0 640.5\n"
          ]
        }
      ]
    }
  ]
}