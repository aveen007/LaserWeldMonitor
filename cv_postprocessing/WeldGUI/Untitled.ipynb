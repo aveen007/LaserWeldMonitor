{
 "cells": [
  {
   "cell_type": "code",
   "execution_count": 2,
   "id": "f929f1bd-aa49-4d0b-92e6-e77ce8e85ca9",
   "metadata": {},
   "outputs": [
    {
     "name": "stdout",
     "output_type": "stream",
     "text": [
      "{'output': \"D:\\\\LaserWeldMonitor\\\\cv_postprocessing\\\\WeldGUI\\nD:\\\\LaserWeldMonitor\\\\cv_postprocessing\\\\WeldGUI\\\\welding\\\\examples\\\\images\\\\image.jpg\\n[2025/07/16 17:10:08] ppocr WARNING: Since the angle classifier is not initialized, it will not be used during the forward process\\nv 1\\nl 380\\n\\nWARNING вљ\\xa0пёЏ Model does not support 'augment=True', reverting to single-scale prediction.\\n0: 480x640 1 weld, 38.9ms\\nSpeed: 4.2ms preprocess, 38.9ms inference, 64.8ms postprocess per image at shape (1, 3, 480, 640)\\n\\nWARNING вљ\\xa0пёЏ Model does not support 'augment=True', reverting to single-scale prediction.\\n0: 480x640 1 weld, 5.4ms\\nSpeed: 1.1ms preprocess, 5.4ms inference, 1.1ms postprocess per image at shape (1, 3, 480, 640)\\nt\\n 1127.0\\nle\\n 0.002631578947368421\\nT\\n 2.9657894736842105\\n{507: 'B', 515: 'B', 504: 'B', 509: 'C', 5011: 'D', 502: 'B'}\\n\"}\n"
     ]
    }
   ],
   "source": [
    "import requests\n",
    "\n",
    "response = requests.post(\"http://localhost:5000/api/predict\")\n",
    "print(response.json())  # Should print {\"output\": \"...\"}"
   ]
  },
  {
   "cell_type": "code",
   "execution_count": null,
   "id": "ed7f123d-d792-4249-ba7f-80d4cb17436e",
   "metadata": {},
   "outputs": [],
   "source": []
  }
 ],
 "metadata": {
  "kernelspec": {
   "display_name": "Python (measure)",
   "language": "python",
   "name": "my_env"
  },
  "language_info": {
   "codemirror_mode": {
    "name": "ipython",
    "version": 3
   },
   "file_extension": ".py",
   "mimetype": "text/x-python",
   "name": "python",
   "nbconvert_exporter": "python",
   "pygments_lexer": "ipython3",
   "version": "3.9.21"
  }
 },
 "nbformat": 4,
 "nbformat_minor": 5
}
