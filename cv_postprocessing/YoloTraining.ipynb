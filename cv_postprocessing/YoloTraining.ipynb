{
 "cells": [
  {
   "cell_type": "markdown",
   "id": "29286b86-d695-46c8-b6f1-2f9fa153e7bc",
   "metadata": {},
   "source": [
    "# How the algorithm works\n",
    "### label real data using a service like roboflow/label real data usingg an old model\n",
    "### put the labeled data (masks, images) in the folder temp\n",
    "### run this line to get the polygons from the masks \n"
   ]
  },
  {
   "cell_type": "code",
   "execution_count": 24,
   "id": "3d09be88-6944-4271-9c3e-d10dd71f79d8",
   "metadata": {},
   "outputs": [],
   "source": [
    "%run masks_to_polygons.py"
   ]
  },
  {
   "cell_type": "markdown",
   "id": "93c7ce75-0034-497c-91b6-d00311ef64e2",
   "metadata": {},
   "source": [
    "### By this stage you should have three folders inside temp (images, labels, masks)\n",
    "### run the following function (split_img_label), this function will take the temp data and transform it into a data set of images and lables each having their train and validation data set"
   ]
  },
  {
   "cell_type": "code",
   "execution_count": 1,
   "id": "1c83d788-656c-4f7a-b3db-fd3ea5ceda91",
   "metadata": {},
   "outputs": [],
   "source": [
    "from tqdm import tqdm\n",
    "import subprocess"
   ]
  },
  {
   "cell_type": "code",
   "execution_count": 2,
   "id": "fb9fa522-d5c4-49a7-b603-641effb98f67",
   "metadata": {},
   "outputs": [],
   "source": [
    "def split_img_label(data_train,data_test,folder_train,folder_test):\n",
    "    \n",
    "    # os.mkdir(folder_train)\n",
    "    # os.mkdir(folder_test)\n",
    "    main_dir = \"dataset\"\n",
    "    sub_dirs = [\"images\", \"labels\"]\n",
    "    train_val_dirs = [\"train\", \"val\"]\n",
    "    \n",
    "    # Create the main dataset directory\n",
    "    os.makedirs(main_dir, exist_ok=True)\n",
    "    \n",
    "    # Create subdirectories and train/val folders\n",
    "    for sub_dir in sub_dirs:\n",
    "        # Create the folder for images and labels\n",
    "        sub_dir_path = os.path.join(main_dir, sub_dir)\n",
    "        os.makedirs(sub_dir_path, exist_ok=True)\n",
    "        \n",
    "        for train_val in train_val_dirs:\n",
    "            # Create the train and val folders inside images and labels\n",
    "            os.makedirs(os.path.join(sub_dir_path, train_val), exist_ok=True)\n",
    "\n",
    "    \n",
    "    train_ind=list(data_train.index)\n",
    "    test_ind=list(data_test.index)\n",
    "    folder_train_images=\"dataset\\\\images\\\\train\"\n",
    "    folder_train_labels=\"dataset\\\\labels\\\\train\"\n",
    "    folder_test_images=\"dataset\\\\images\\\\val\"\n",
    "    folder_test_labels=\"dataset\\\\labels\\\\val\"\n",
    "  \n",
    "    # Train folder\n",
    "    for i in tqdm(range(len(train_ind))):\n",
    "        source ='.\\\\'+ \"tmp\\\\images\" + '\\\\'  +data_train[train_ind[i]].split('/')[3]\n",
    "        destination = '.\\\\'+ folder_train_images + '\\\\'  +data_train[train_ind[i]].split('/')[3]\n",
    "        command = f'copy \"{source}\" \"{destination}\"'\n",
    "        os.system(command)\n",
    "        source ='.\\\\'+ \"tmp\\\\labels\" + '\\\\'  +data_train[train_ind[i]].split('/')[3].split('.jpg')[0]+'.txt'\n",
    "        destination = '.\\\\'+ folder_train_labels + '\\\\'  +data_train[train_ind[i]].split('/')[3].split('.jpg')[0]+'.txt'\n",
    "        command = f'copy \"{source}\" \"{destination}\"'\n",
    "        os.system(command)\n",
    "     \n",
    "# Execute the command\n",
    "#     Test folder\n",
    "    for j in tqdm(range(len(test_ind))):\n",
    "        source ='.\\\\'+ \"tmp\\\\images\" + '\\\\'  +data_test[test_ind[j]].split('/')[3]\n",
    "        destination = '.\\\\'+ folder_test_images + '\\\\'  +data_test[test_ind[j]].split('/')[3]\n",
    "        command = f'copy \"{source}\" \"{destination}\"'\n",
    "        os.system(command)\n",
    "        source ='.\\\\'+ \"tmp\\\\labels\" + '\\\\'  +data_test[test_ind[j]].split('/')[3].split('.jpg')[0]+'.txt'\n",
    "        destination = '.\\\\'+ folder_test_labels + '\\\\'  +data_test[test_ind[j]].split('/')[3].split('.jpg')[0]+'.txt'\n",
    "        command = f'copy \"{source}\" \"{destination}\"'\n",
    "        os.system(command)\n"
   ]
  },
  {
   "cell_type": "markdown",
   "id": "e67141c2-a65b-4f0b-b54e-3a64d96ca07a",
   "metadata": {},
   "source": [
    "### the  following code is only responsible for creating a list of the names of the image and label files into an array and running the split function on that indexing. !Be careful of the image type as it requires a minor change to jpg if such files exists "
   ]
  },
  {
   "cell_type": "code",
   "execution_count": 3,
   "id": "d270c426-70de-416b-8b3f-9c7e0b0813ac",
   "metadata": {},
   "outputs": [
    {
     "name": "stderr",
     "output_type": "stream",
     "text": [
      "100%|████████████████████████████████████████████████████████████████████████████████| 261/261 [00:06<00:00, 39.75it/s]\n",
      "100%|██████████████████████████████████████████████████████████████████████████████████| 66/66 [00:01<00:00, 40.59it/s]\n"
     ]
    }
   ],
   "source": [
    "import pandas as pd \n",
    "import os \n",
    "import sklearn.model_selection\n",
    "from sklearn.model_selection import train_test_split\n",
    "import glob\n",
    "\n",
    "PATH_Images = './tmp/images/'\n",
    "PATH_Labels= './tmp/labels/'\n",
    "\n",
    "list_img=[img for img in os.listdir(PATH_Images) if img.endswith('.jpg')==True]# you can change this extension to jpg\n",
    "list_txt=[img for img in os.listdir(PATH_Labels) if img.endswith('.txt')==True]\n",
    "\n",
    "path_img=[]\n",
    "\n",
    "for i in range (len(list_img)):\n",
    "    path_img.append(PATH_Images+list_img[i])\n",
    "    \n",
    "df=pd.DataFrame(path_img)\n",
    "\n",
    "# split \n",
    "data_train, data_test, labels_train, labels_test = train_test_split(df[0], df.index, test_size=0.20, random_state=42)\n",
    "folder_train_name=\"train\"\n",
    "folder_test_name=\"test\"\n",
    "# Function split \n",
    "split_img_label(data_train,data_test,folder_train_name,folder_test_name)\n"
   ]
  },
  {
   "cell_type": "markdown",
   "id": "98ac6ba6-5e06-4745-857b-c20108db9ff4",
   "metadata": {},
   "source": [
    "### by this stage you should hava a ready to train data set"
   ]
  },
  {
   "cell_type": "code",
   "execution_count": 4,
   "id": "419f8fda-dfa5-4265-87b2-437ff3365b1d",
   "metadata": {},
   "outputs": [
    {
     "name": "stdout",
     "output_type": "stream",
     "text": [
      "New https://pypi.org/project/ultralytics/8.3.75 available  Update with 'pip install -U ultralytics'\n",
      "Ultralytics 8.3.69  Python-3.9.21 torch-2.5.1+cu121 CUDA:0 (NVIDIA GeForce RTX 4060 Ti, 8188MiB)\n",
      "\u001b[34m\u001b[1mengine\\trainer: \u001b[0mtask=segment, mode=train, model=runs/segment/train20/weights/best.pt, data=yolo.yaml, epochs=200, time=None, patience=100, batch=32, imgsz=640, save=True, save_period=-1, cache=False, device=[0], workers=8, project=None, name=train32, exist_ok=False, pretrained=True, optimizer=auto, verbose=True, seed=0, deterministic=True, single_cls=False, rect=False, cos_lr=False, close_mosaic=10, resume=False, amp=True, fraction=1.0, profile=False, freeze=None, multi_scale=False, overlap_mask=True, mask_ratio=2, dropout=0.0, val=True, split=val, save_json=False, save_hybrid=False, conf=None, iou=0.7, max_det=300, half=False, dnn=False, plots=True, source=None, vid_stride=1, stream_buffer=False, visualize=False, augment=True, agnostic_nms=False, classes=None, retina_masks=False, embed=None, show=False, save_frames=False, save_txt=False, save_conf=False, save_crop=False, show_labels=True, show_conf=True, show_boxes=True, line_width=None, format=torchscript, keras=False, optimize=False, int8=False, dynamic=False, simplify=True, opset=None, workspace=None, nms=False, lr0=0.0001, lrf=0.01, momentum=0.937, weight_decay=0.0005, warmup_epochs=3.0, warmup_momentum=0.8, warmup_bias_lr=0.1, box=7.5, cls=0.5, dfl=1.5, pose=12.0, kobj=1.0, nbs=64, hsv_h=0.015, hsv_s=0.7, hsv_v=0.4, degrees=0.0, translate=0.1, scale=0.5, shear=0.0, perspective=0.0, flipud=0.0, fliplr=0.5, bgr=0.0, mosaic=1.0, mixup=0.0, copy_paste=0.0, copy_paste_mode=flip, auto_augment=randaugment, erasing=0.4, crop_fraction=1.0, cfg=None, tracker=botsort.yaml, save_dir=runs\\segment\\train32\n",
      "\n",
      "                   from  n    params  module                                       arguments                     \n",
      "  0                  -1  1       464  ultralytics.nn.modules.conv.Conv             [3, 16, 3, 2]                 \n",
      "  1                  -1  1      4672  ultralytics.nn.modules.conv.Conv             [16, 32, 3, 2]                \n",
      "  2                  -1  1      7360  ultralytics.nn.modules.block.C2f             [32, 32, 1, True]             \n",
      "  3                  -1  1     18560  ultralytics.nn.modules.conv.Conv             [32, 64, 3, 2]                \n",
      "  4                  -1  2     49664  ultralytics.nn.modules.block.C2f             [64, 64, 2, True]             \n",
      "  5                  -1  1     73984  ultralytics.nn.modules.conv.Conv             [64, 128, 3, 2]               \n",
      "  6                  -1  2    197632  ultralytics.nn.modules.block.C2f             [128, 128, 2, True]           \n",
      "  7                  -1  1    295424  ultralytics.nn.modules.conv.Conv             [128, 256, 3, 2]              \n",
      "  8                  -1  1    460288  ultralytics.nn.modules.block.C2f             [256, 256, 1, True]           \n",
      "  9                  -1  1    164608  ultralytics.nn.modules.block.SPPF            [256, 256, 5]                 \n",
      " 10                  -1  1         0  torch.nn.modules.upsampling.Upsample         [None, 2, 'nearest']          \n",
      " 11             [-1, 6]  1         0  ultralytics.nn.modules.conv.Concat           [1]                           \n",
      " 12                  -1  1    148224  ultralytics.nn.modules.block.C2f             [384, 128, 1]                 \n",
      " 13                  -1  1         0  torch.nn.modules.upsampling.Upsample         [None, 2, 'nearest']          \n",
      " 14             [-1, 4]  1         0  ultralytics.nn.modules.conv.Concat           [1]                           \n",
      " 15                  -1  1     37248  ultralytics.nn.modules.block.C2f             [192, 64, 1]                  \n",
      " 16                  -1  1     36992  ultralytics.nn.modules.conv.Conv             [64, 64, 3, 2]                \n",
      " 17            [-1, 12]  1         0  ultralytics.nn.modules.conv.Concat           [1]                           \n",
      " 18                  -1  1    123648  ultralytics.nn.modules.block.C2f             [192, 128, 1]                 \n",
      " 19                  -1  1    147712  ultralytics.nn.modules.conv.Conv             [128, 128, 3, 2]              \n",
      " 20             [-1, 9]  1         0  ultralytics.nn.modules.conv.Concat           [1]                           \n",
      " 21                  -1  1    493056  ultralytics.nn.modules.block.C2f             [384, 256, 1]                 \n",
      " 22        [15, 18, 21]  1   1004275  ultralytics.nn.modules.head.Segment          [1, 32, 64, [64, 128, 256]]   \n",
      "YOLOv8n-seg summary: 261 layers, 3,263,811 parameters, 3,263,795 gradients, 12.1 GFLOPs\n",
      "\n",
      "Transferred 417/417 items from pretrained weights\n",
      "Freezing layer 'model.22.dfl.conv.weight'\n",
      "\u001b[34m\u001b[1mAMP: \u001b[0mrunning Automatic Mixed Precision (AMP) checks...\n",
      "\u001b[34m\u001b[1mAMP: \u001b[0mchecks passed \n"
     ]
    },
    {
     "name": "stderr",
     "output_type": "stream",
     "text": [
      "\u001b[34m\u001b[1mtrain: \u001b[0mScanning D:\\mask-to-annotation\\datasets\\dataset\\labels\\train... 261 images, 0 backgrounds, 0 corrupt: 100%|█████\u001b[0m"
     ]
    },
    {
     "name": "stdout",
     "output_type": "stream",
     "text": [
      "\u001b[34m\u001b[1mtrain: \u001b[0mNew cache created: D:\\mask-to-annotation\\datasets\\dataset\\labels\\train.cache\n"
     ]
    },
    {
     "name": "stderr",
     "output_type": "stream",
     "text": [
      "\n",
      "\u001b[34m\u001b[1mval: \u001b[0mScanning D:\\mask-to-annotation\\datasets\\dataset\\labels\\val... 66 images, 0 backgrounds, 0 corrupt: 100%|██████████\u001b[0m\n"
     ]
    },
    {
     "name": "stdout",
     "output_type": "stream",
     "text": [
      "\u001b[34m\u001b[1mval: \u001b[0mNew cache created: D:\\mask-to-annotation\\datasets\\dataset\\labels\\val.cache\n",
      "Plotting labels to runs\\segment\\train32\\labels.jpg... \n",
      "\u001b[34m\u001b[1moptimizer:\u001b[0m 'optimizer=auto' found, ignoring 'lr0=0.0001' and 'momentum=0.937' and determining best 'optimizer', 'lr0' and 'momentum' automatically... \n",
      "\u001b[34m\u001b[1moptimizer:\u001b[0m AdamW(lr=0.002, momentum=0.9) with parameter groups 66 weight(decay=0.0), 77 weight(decay=0.0005), 76 bias(decay=0.0)\n",
      "Image sizes 640 train, 640 val\n",
      "Using 8 dataloader workers\n",
      "Logging results to \u001b[1mruns\\segment\\train32\u001b[0m\n",
      "Starting training for 200 epochs...\n",
      "\n",
      "      Epoch    GPU_mem   box_loss   seg_loss   cls_loss   dfl_loss  Instances       Size\n"
     ]
    },
    {
     "name": "stderr",
     "output_type": "stream",
     "text": [
      "      1/200      5.04G      1.097      2.855      1.405      1.253         12        640: 100%|██████████| 9/9 [00:03<0\n",
      "                 Class     Images  Instances      Box(P          R      mAP50  mAP50-95)     Mask(P          R      mAP"
     ]
    },
    {
     "name": "stdout",
     "output_type": "stream",
     "text": [
      "                   all         66         66      0.974      0.742       0.94       0.74      0.974      0.742      0.926      0.696\n"
     ]
    },
    {
     "name": "stderr",
     "output_type": "stream",
     "text": [
      "\n"
     ]
    },
    {
     "name": "stdout",
     "output_type": "stream",
     "text": [
      "\n",
      "      Epoch    GPU_mem   box_loss   seg_loss   cls_loss   dfl_loss  Instances       Size\n"
     ]
    },
    {
     "name": "stderr",
     "output_type": "stream",
     "text": [
      "      2/200      5.09G     0.8776      1.565     0.9115        1.1         14        640: 100%|██████████| 9/9 [00:02<0\n",
      "                 Class     Images  Instances      Box(P          R      mAP50  mAP50-95)     Mask(P          R      mAP"
     ]
    },
    {
     "name": "stdout",
     "output_type": "stream",
     "text": [
      "                   all         66         66      0.716      0.727      0.752      0.536      0.716      0.727      0.749      0.534\n"
     ]
    },
    {
     "name": "stderr",
     "output_type": "stream",
     "text": [
      "\n"
     ]
    },
    {
     "name": "stdout",
     "output_type": "stream",
     "text": [
      "\n",
      "      Epoch    GPU_mem   box_loss   seg_loss   cls_loss   dfl_loss  Instances       Size\n"
     ]
    },
    {
     "name": "stderr",
     "output_type": "stream",
     "text": [
      "      3/200      5.11G     0.8094      1.352     0.8538       1.08          9        640: 100%|██████████| 9/9 [00:02<0\n",
      "                 Class     Images  Instances      Box(P          R      mAP50  mAP50-95)     Mask(P          R      mAP"
     ]
    },
    {
     "name": "stdout",
     "output_type": "stream",
     "text": [
      "                   all         66         66      0.891      0.497      0.632      0.382      0.774       0.47      0.569      0.367\n"
     ]
    },
    {
     "name": "stderr",
     "output_type": "stream",
     "text": [
      "\n"
     ]
    },
    {
     "name": "stdout",
     "output_type": "stream",
     "text": [
      "\n",
      "      Epoch    GPU_mem   box_loss   seg_loss   cls_loss   dfl_loss  Instances       Size\n"
     ]
    },
    {
     "name": "stderr",
     "output_type": "stream",
     "text": [
      "      4/200      5.18G     0.8906      1.349     0.8571      1.105          7        640: 100%|██████████| 9/9 [00:02<0\n",
      "                 Class     Images  Instances      Box(P          R      mAP50  mAP50-95)     Mask(P          R      mAP"
     ]
    },
    {
     "name": "stdout",
     "output_type": "stream",
     "text": [
      "                   all         66         66      0.917      0.668      0.849      0.621      0.972      0.621      0.766      0.515\n"
     ]
    },
    {
     "name": "stderr",
     "output_type": "stream",
     "text": [
      "\n"
     ]
    },
    {
     "name": "stdout",
     "output_type": "stream",
     "text": [
      "\n",
      "      Epoch    GPU_mem   box_loss   seg_loss   cls_loss   dfl_loss  Instances       Size\n"
     ]
    },
    {
     "name": "stderr",
     "output_type": "stream",
     "text": [
      "      5/200      5.07G     0.8801      1.285     0.8435       1.11         12        640: 100%|██████████| 9/9 [00:02<0\n",
      "                 Class     Images  Instances      Box(P          R      mAP50  mAP50-95)     Mask(P          R      mAP"
     ]
    },
    {
     "name": "stdout",
     "output_type": "stream",
     "text": [
      "                   all         66         66      0.753      0.697      0.781      0.451      0.753      0.697      0.777      0.453\n"
     ]
    },
    {
     "name": "stderr",
     "output_type": "stream",
     "text": [
      "\n"
     ]
    },
    {
     "name": "stdout",
     "output_type": "stream",
     "text": [
      "\n",
      "      Epoch    GPU_mem   box_loss   seg_loss   cls_loss   dfl_loss  Instances       Size\n"
     ]
    },
    {
     "name": "stderr",
     "output_type": "stream",
     "text": [
      "      6/200       5.1G     0.8743      1.288     0.8272      1.084         13        640: 100%|██████████| 9/9 [00:02<0\n",
      "                 Class     Images  Instances      Box(P          R      mAP50  mAP50-95)     Mask(P          R      mAP"
     ]
    },
    {
     "name": "stdout",
     "output_type": "stream",
     "text": [
      "                   all         66         66      0.785      0.848      0.891      0.596        0.8      0.864      0.913      0.615\n"
     ]
    },
    {
     "name": "stderr",
     "output_type": "stream",
     "text": [
      "\n"
     ]
    },
    {
     "name": "stdout",
     "output_type": "stream",
     "text": [
      "\n",
      "      Epoch    GPU_mem   box_loss   seg_loss   cls_loss   dfl_loss  Instances       Size\n"
     ]
    },
    {
     "name": "stderr",
     "output_type": "stream",
     "text": [
      "      7/200      5.05G     0.8508      1.213     0.7661      1.069         11        640: 100%|██████████| 9/9 [00:02<0\n",
      "                 Class     Images  Instances      Box(P          R      mAP50  mAP50-95)     Mask(P          R      mAP"
     ]
    },
    {
     "name": "stdout",
     "output_type": "stream",
     "text": [
      "                   all         66         66      0.968      0.915      0.958      0.768      0.984      0.934      0.965      0.727\n"
     ]
    },
    {
     "name": "stderr",
     "output_type": "stream",
     "text": [
      "\n"
     ]
    },
    {
     "name": "stdout",
     "output_type": "stream",
     "text": [
      "\n",
      "      Epoch    GPU_mem   box_loss   seg_loss   cls_loss   dfl_loss  Instances       Size\n"
     ]
    },
    {
     "name": "stderr",
     "output_type": "stream",
     "text": [
      "      8/200      5.18G     0.8063      1.239     0.7261      1.053         10        640: 100%|██████████| 9/9 [00:02<0\n",
      "                 Class     Images  Instances      Box(P          R      mAP50  mAP50-95)     Mask(P          R      mAP"
     ]
    },
    {
     "name": "stdout",
     "output_type": "stream",
     "text": [
      "                   all         66         66      0.892      0.818      0.906      0.674      0.908      0.833      0.925      0.695\n"
     ]
    },
    {
     "name": "stderr",
     "output_type": "stream",
     "text": [
      "\n"
     ]
    },
    {
     "name": "stdout",
     "output_type": "stream",
     "text": [
      "\n",
      "      Epoch    GPU_mem   box_loss   seg_loss   cls_loss   dfl_loss  Instances       Size\n"
     ]
    },
    {
     "name": "stderr",
     "output_type": "stream",
     "text": [
      "      9/200      5.09G     0.8435      1.322     0.7339      1.067         10        640: 100%|██████████| 9/9 [00:02<0\n",
      "                 Class     Images  Instances      Box(P          R      mAP50  mAP50-95)     Mask(P          R      mAP"
     ]
    },
    {
     "name": "stdout",
     "output_type": "stream",
     "text": [
      "                   all         66         66      0.895      0.833      0.884      0.632      0.895      0.833      0.891       0.66\n"
     ]
    },
    {
     "name": "stderr",
     "output_type": "stream",
     "text": [
      "\n"
     ]
    },
    {
     "name": "stdout",
     "output_type": "stream",
     "text": [
      "\n",
      "      Epoch    GPU_mem   box_loss   seg_loss   cls_loss   dfl_loss  Instances       Size\n"
     ]
    },
    {
     "name": "stderr",
     "output_type": "stream",
     "text": [
      "     10/200      5.06G     0.8408      1.362     0.7284      1.084         12        640: 100%|██████████| 9/9 [00:02<0\n",
      "                 Class     Images  Instances      Box(P          R      mAP50  mAP50-95)     Mask(P          R      mAP"
     ]
    },
    {
     "name": "stdout",
     "output_type": "stream",
     "text": [
      "                   all         66         66      0.608       0.73      0.716      0.521      0.631      0.727      0.705      0.393\n"
     ]
    },
    {
     "name": "stderr",
     "output_type": "stream",
     "text": [
      "\n"
     ]
    },
    {
     "name": "stdout",
     "output_type": "stream",
     "text": [
      "\n",
      "      Epoch    GPU_mem   box_loss   seg_loss   cls_loss   dfl_loss  Instances       Size\n"
     ]
    },
    {
     "name": "stderr",
     "output_type": "stream",
     "text": [
      "     11/200      5.05G     0.8598      1.292     0.7441       1.09         10        640: 100%|██████████| 9/9 [00:02<0\n",
      "                 Class     Images  Instances      Box(P          R      mAP50  mAP50-95)     Mask(P          R      mAP"
     ]
    },
    {
     "name": "stdout",
     "output_type": "stream",
     "text": [
      "                   all         66         66      0.982      0.894      0.944      0.702      0.965      0.879      0.929      0.571\n"
     ]
    },
    {
     "name": "stderr",
     "output_type": "stream",
     "text": [
      "\n"
     ]
    },
    {
     "name": "stdout",
     "output_type": "stream",
     "text": [
      "\n",
      "      Epoch    GPU_mem   box_loss   seg_loss   cls_loss   dfl_loss  Instances       Size\n"
     ]
    },
    {
     "name": "stderr",
     "output_type": "stream",
     "text": [
      "     12/200      5.16G      0.923      1.451     0.7841      1.101         14        640: 100%|██████████| 9/9 [00:02<0\n",
      "                 Class     Images  Instances      Box(P          R      mAP50  mAP50-95)     Mask(P          R      mAP"
     ]
    },
    {
     "name": "stdout",
     "output_type": "stream",
     "text": [
      "                   all         66         66      0.366      0.652      0.393      0.203      0.309      0.561      0.316      0.142\n"
     ]
    },
    {
     "name": "stderr",
     "output_type": "stream",
     "text": [
      "\n"
     ]
    },
    {
     "name": "stdout",
     "output_type": "stream",
     "text": [
      "\n",
      "      Epoch    GPU_mem   box_loss   seg_loss   cls_loss   dfl_loss  Instances       Size\n"
     ]
    },
    {
     "name": "stderr",
     "output_type": "stream",
     "text": [
      "     13/200      5.06G     0.8645      1.353     0.7307      1.074         14        640: 100%|██████████| 9/9 [00:02<0\n",
      "                 Class     Images  Instances      Box(P          R      mAP50  mAP50-95)     Mask(P          R      mAP"
     ]
    },
    {
     "name": "stdout",
     "output_type": "stream",
     "text": [
      "                   all         66         66      0.466       0.47      0.432      0.197      0.406      0.409      0.367      0.162\n"
     ]
    },
    {
     "name": "stderr",
     "output_type": "stream",
     "text": [
      "\n"
     ]
    },
    {
     "name": "stdout",
     "output_type": "stream",
     "text": [
      "\n",
      "      Epoch    GPU_mem   box_loss   seg_loss   cls_loss   dfl_loss  Instances       Size\n"
     ]
    },
    {
     "name": "stderr",
     "output_type": "stream",
     "text": [
      "     14/200      5.06G      0.934      1.523     0.7625      1.092         15        640: 100%|██████████| 9/9 [00:02<0\n",
      "                 Class     Images  Instances      Box(P          R      mAP50  mAP50-95)     Mask(P          R      mAP"
     ]
    },
    {
     "name": "stdout",
     "output_type": "stream",
     "text": [
      "                   all         66         66      0.294      0.348      0.331      0.173      0.324      0.333      0.298      0.151\n"
     ]
    },
    {
     "name": "stderr",
     "output_type": "stream",
     "text": [
      "\n"
     ]
    },
    {
     "name": "stdout",
     "output_type": "stream",
     "text": [
      "\n",
      "      Epoch    GPU_mem   box_loss   seg_loss   cls_loss   dfl_loss  Instances       Size\n"
     ]
    },
    {
     "name": "stderr",
     "output_type": "stream",
     "text": [
      "     15/200      5.09G     0.8905       1.31     0.7328      1.088         11        640: 100%|██████████| 9/9 [00:02<0\n",
      "                 Class     Images  Instances      Box(P          R      mAP50  mAP50-95)     Mask(P          R      mAP"
     ]
    },
    {
     "name": "stdout",
     "output_type": "stream",
     "text": [
      "                   all         66         66      0.845      0.742      0.834       0.57      0.821      0.727      0.794      0.545\n"
     ]
    },
    {
     "name": "stderr",
     "output_type": "stream",
     "text": [
      "\n"
     ]
    },
    {
     "name": "stdout",
     "output_type": "stream",
     "text": [
      "\n",
      "      Epoch    GPU_mem   box_loss   seg_loss   cls_loss   dfl_loss  Instances       Size\n"
     ]
    },
    {
     "name": "stderr",
     "output_type": "stream",
     "text": [
      "     16/200      5.15G     0.9585      1.391     0.7732       1.11         13        640: 100%|██████████| 9/9 [00:02<0\n",
      "                 Class     Images  Instances      Box(P          R      mAP50  mAP50-95)     Mask(P          R      mAP"
     ]
    },
    {
     "name": "stdout",
     "output_type": "stream",
     "text": [
      "                   all         66         66      0.782      0.485      0.623      0.435      0.782      0.485      0.615      0.454\n"
     ]
    },
    {
     "name": "stderr",
     "output_type": "stream",
     "text": [
      "\n"
     ]
    },
    {
     "name": "stdout",
     "output_type": "stream",
     "text": [
      "\n",
      "      Epoch    GPU_mem   box_loss   seg_loss   cls_loss   dfl_loss  Instances       Size\n"
     ]
    },
    {
     "name": "stderr",
     "output_type": "stream",
     "text": [
      "     17/200      5.09G     0.8947       1.31     0.7363      1.083          8        640: 100%|██████████| 9/9 [00:02<0\n",
      "                 Class     Images  Instances      Box(P          R      mAP50  mAP50-95)     Mask(P          R      mAP"
     ]
    },
    {
     "name": "stdout",
     "output_type": "stream",
     "text": [
      "                   all         66         66      0.666      0.712      0.697      0.411      0.632      0.729      0.686      0.276\n"
     ]
    },
    {
     "name": "stderr",
     "output_type": "stream",
     "text": [
      "\n"
     ]
    },
    {
     "name": "stdout",
     "output_type": "stream",
     "text": [
      "\n",
      "      Epoch    GPU_mem   box_loss   seg_loss   cls_loss   dfl_loss  Instances       Size\n"
     ]
    },
    {
     "name": "stderr",
     "output_type": "stream",
     "text": [
      "     18/200      5.06G     0.8619      1.286     0.6892      1.053         14        640: 100%|██████████| 9/9 [00:02<0\n",
      "                 Class     Images  Instances      Box(P          R      mAP50  mAP50-95)     Mask(P          R      mAP"
     ]
    },
    {
     "name": "stdout",
     "output_type": "stream",
     "text": [
      "                   all         66         66      0.864      0.727      0.877      0.593      0.849      0.803      0.877       0.63\n"
     ]
    },
    {
     "name": "stderr",
     "output_type": "stream",
     "text": [
      "\n"
     ]
    },
    {
     "name": "stdout",
     "output_type": "stream",
     "text": [
      "\n",
      "      Epoch    GPU_mem   box_loss   seg_loss   cls_loss   dfl_loss  Instances       Size\n"
     ]
    },
    {
     "name": "stderr",
     "output_type": "stream",
     "text": [
      "     19/200      5.15G     0.7853      1.146      0.639      1.023          8        640: 100%|██████████| 9/9 [00:02<0\n",
      "                 Class     Images  Instances      Box(P          R      mAP50  mAP50-95)     Mask(P          R      mAP"
     ]
    },
    {
     "name": "stdout",
     "output_type": "stream",
     "text": [
      "                   all         66         66      0.736      0.758      0.777      0.473      0.736      0.758      0.787      0.466\n"
     ]
    },
    {
     "name": "stderr",
     "output_type": "stream",
     "text": [
      "\n"
     ]
    },
    {
     "name": "stdout",
     "output_type": "stream",
     "text": [
      "\n",
      "      Epoch    GPU_mem   box_loss   seg_loss   cls_loss   dfl_loss  Instances       Size\n"
     ]
    },
    {
     "name": "stderr",
     "output_type": "stream",
     "text": [
      "     20/200       5.1G     0.8745      1.257     0.6653      1.076         10        640: 100%|██████████| 9/9 [00:02<0\n",
      "                 Class     Images  Instances      Box(P          R      mAP50  mAP50-95)     Mask(P          R      mAP"
     ]
    },
    {
     "name": "stdout",
     "output_type": "stream",
     "text": [
      "                   all         66         66      0.583      0.667      0.687      0.402      0.691      0.545      0.587      0.296\n"
     ]
    },
    {
     "name": "stderr",
     "output_type": "stream",
     "text": [
      "\n"
     ]
    },
    {
     "name": "stdout",
     "output_type": "stream",
     "text": [
      "\n",
      "      Epoch    GPU_mem   box_loss   seg_loss   cls_loss   dfl_loss  Instances       Size\n"
     ]
    },
    {
     "name": "stderr",
     "output_type": "stream",
     "text": [
      "     21/200      5.09G      0.852      1.276      0.649      1.064         12        640: 100%|██████████| 9/9 [00:02<0\n",
      "                 Class     Images  Instances      Box(P          R      mAP50  mAP50-95)     Mask(P          R      mAP"
     ]
    },
    {
     "name": "stdout",
     "output_type": "stream",
     "text": [
      "                   all         66         66      0.718      0.833      0.824      0.535      0.696      0.803      0.758      0.455\n"
     ]
    },
    {
     "name": "stderr",
     "output_type": "stream",
     "text": [
      "\n"
     ]
    },
    {
     "name": "stdout",
     "output_type": "stream",
     "text": [
      "\n",
      "      Epoch    GPU_mem   box_loss   seg_loss   cls_loss   dfl_loss  Instances       Size\n"
     ]
    },
    {
     "name": "stderr",
     "output_type": "stream",
     "text": [
      "     22/200       5.1G     0.8428      1.198     0.6442      1.047         10        640: 100%|██████████| 9/9 [00:02<0\n",
      "                 Class     Images  Instances      Box(P          R      mAP50  mAP50-95)     Mask(P          R      mAP"
     ]
    },
    {
     "name": "stdout",
     "output_type": "stream",
     "text": [
      "                   all         66         66      0.917      0.834      0.941      0.675      0.933       0.85      0.938      0.655\n"
     ]
    },
    {
     "name": "stderr",
     "output_type": "stream",
     "text": [
      "\n"
     ]
    },
    {
     "name": "stdout",
     "output_type": "stream",
     "text": [
      "\n",
      "      Epoch    GPU_mem   box_loss   seg_loss   cls_loss   dfl_loss  Instances       Size\n"
     ]
    },
    {
     "name": "stderr",
     "output_type": "stream",
     "text": [
      "     23/200      5.04G     0.8213      1.259     0.6164      1.037         14        640: 100%|██████████| 9/9 [00:02<0\n",
      "                 Class     Images  Instances      Box(P          R      mAP50  mAP50-95)     Mask(P          R      mAP"
     ]
    },
    {
     "name": "stdout",
     "output_type": "stream",
     "text": [
      "                   all         66         66      0.853      0.848       0.94      0.676      0.853      0.848       0.94      0.682\n"
     ]
    },
    {
     "name": "stderr",
     "output_type": "stream",
     "text": [
      "\n"
     ]
    },
    {
     "name": "stdout",
     "output_type": "stream",
     "text": [
      "\n",
      "      Epoch    GPU_mem   box_loss   seg_loss   cls_loss   dfl_loss  Instances       Size\n"
     ]
    },
    {
     "name": "stderr",
     "output_type": "stream",
     "text": [
      "     24/200      5.08G     0.8003      1.201     0.5939      1.043          8        640: 100%|██████████| 9/9 [00:02<0\n",
      "                 Class     Images  Instances      Box(P          R      mAP50  mAP50-95)     Mask(P          R      mAP"
     ]
    },
    {
     "name": "stdout",
     "output_type": "stream",
     "text": [
      "                   all         66         66       0.88      0.773      0.884      0.627       0.88      0.773      0.856      0.607\n"
     ]
    },
    {
     "name": "stderr",
     "output_type": "stream",
     "text": [
      "\n"
     ]
    },
    {
     "name": "stdout",
     "output_type": "stream",
     "text": [
      "\n",
      "      Epoch    GPU_mem   box_loss   seg_loss   cls_loss   dfl_loss  Instances       Size\n"
     ]
    },
    {
     "name": "stderr",
     "output_type": "stream",
     "text": [
      "     25/200      5.09G     0.8414      1.158     0.6277      1.056          9        640: 100%|██████████| 9/9 [00:02<0\n",
      "                 Class     Images  Instances      Box(P          R      mAP50  mAP50-95)     Mask(P          R      mAP"
     ]
    },
    {
     "name": "stdout",
     "output_type": "stream",
     "text": [
      "                   all         66         66      0.852      0.652      0.758      0.544      0.852      0.652      0.744      0.471\n"
     ]
    },
    {
     "name": "stderr",
     "output_type": "stream",
     "text": [
      "\n"
     ]
    },
    {
     "name": "stdout",
     "output_type": "stream",
     "text": [
      "\n",
      "      Epoch    GPU_mem   box_loss   seg_loss   cls_loss   dfl_loss  Instances       Size\n"
     ]
    },
    {
     "name": "stderr",
     "output_type": "stream",
     "text": [
      "     26/200      5.17G     0.8112      1.189     0.5798      1.046         13        640: 100%|██████████| 9/9 [00:02<0\n",
      "                 Class     Images  Instances      Box(P          R      mAP50  mAP50-95)     Mask(P          R      mAP"
     ]
    },
    {
     "name": "stdout",
     "output_type": "stream",
     "text": [
      "                   all         66         66      0.724      0.636      0.608      0.421       0.67      0.553       0.55      0.306\n"
     ]
    },
    {
     "name": "stderr",
     "output_type": "stream",
     "text": [
      "\n"
     ]
    },
    {
     "name": "stdout",
     "output_type": "stream",
     "text": [
      "\n",
      "      Epoch    GPU_mem   box_loss   seg_loss   cls_loss   dfl_loss  Instances       Size\n"
     ]
    },
    {
     "name": "stderr",
     "output_type": "stream",
     "text": [
      "     27/200      5.06G     0.8462      1.209     0.6027      1.055         14        640: 100%|██████████| 9/9 [00:02<0\n",
      "                 Class     Images  Instances      Box(P          R      mAP50  mAP50-95)     Mask(P          R      mAP"
     ]
    },
    {
     "name": "stdout",
     "output_type": "stream",
     "text": [
      "                   all         66         66      0.631      0.606      0.647      0.472      0.631      0.606      0.617      0.446\n"
     ]
    },
    {
     "name": "stderr",
     "output_type": "stream",
     "text": [
      "\n"
     ]
    },
    {
     "name": "stdout",
     "output_type": "stream",
     "text": [
      "\n",
      "      Epoch    GPU_mem   box_loss   seg_loss   cls_loss   dfl_loss  Instances       Size\n"
     ]
    },
    {
     "name": "stderr",
     "output_type": "stream",
     "text": [
      "     28/200      5.06G     0.7907      1.146     0.5943      1.038          9        640: 100%|██████████| 9/9 [00:02<0\n",
      "                 Class     Images  Instances      Box(P          R      mAP50  mAP50-95)     Mask(P          R      mAP"
     ]
    },
    {
     "name": "stdout",
     "output_type": "stream",
     "text": [
      "                   all         66         66      0.792      0.894        0.9      0.651      0.799      0.904       0.94      0.689\n"
     ]
    },
    {
     "name": "stderr",
     "output_type": "stream",
     "text": [
      "\n"
     ]
    },
    {
     "name": "stdout",
     "output_type": "stream",
     "text": [
      "\n",
      "      Epoch    GPU_mem   box_loss   seg_loss   cls_loss   dfl_loss  Instances       Size\n"
     ]
    },
    {
     "name": "stderr",
     "output_type": "stream",
     "text": [
      "     29/200      5.06G     0.8473      1.212     0.6171      1.067          9        640: 100%|██████████| 9/9 [00:02<0\n",
      "                 Class     Images  Instances      Box(P          R      mAP50  mAP50-95)     Mask(P          R      mAP"
     ]
    },
    {
     "name": "stdout",
     "output_type": "stream",
     "text": [
      "                   all         66         66      0.931      0.817       0.88      0.688      0.948      0.832      0.897      0.703\n"
     ]
    },
    {
     "name": "stderr",
     "output_type": "stream",
     "text": [
      "\n"
     ]
    },
    {
     "name": "stdout",
     "output_type": "stream",
     "text": [
      "\n",
      "      Epoch    GPU_mem   box_loss   seg_loss   cls_loss   dfl_loss  Instances       Size\n"
     ]
    },
    {
     "name": "stderr",
     "output_type": "stream",
     "text": [
      "     30/200      5.06G     0.8532      1.219     0.6311      1.099          7        640: 100%|██████████| 9/9 [00:02<0\n",
      "                 Class     Images  Instances      Box(P          R      mAP50  mAP50-95)     Mask(P          R      mAP"
     ]
    },
    {
     "name": "stdout",
     "output_type": "stream",
     "text": [
      "                   all         66         66      0.687      0.727      0.737      0.485      0.675      0.667      0.671      0.366\n"
     ]
    },
    {
     "name": "stderr",
     "output_type": "stream",
     "text": [
      "\n"
     ]
    },
    {
     "name": "stdout",
     "output_type": "stream",
     "text": [
      "\n",
      "      Epoch    GPU_mem   box_loss   seg_loss   cls_loss   dfl_loss  Instances       Size\n"
     ]
    },
    {
     "name": "stderr",
     "output_type": "stream",
     "text": [
      "     31/200      5.04G      0.891      1.251     0.6582      1.068          9        640: 100%|██████████| 9/9 [00:02<0\n",
      "                 Class     Images  Instances      Box(P          R      mAP50  mAP50-95)     Mask(P          R      mAP"
     ]
    },
    {
     "name": "stdout",
     "output_type": "stream",
     "text": [
      "                   all         66         66      0.714      0.697      0.756      0.529      0.716      0.697      0.774      0.515\n"
     ]
    },
    {
     "name": "stderr",
     "output_type": "stream",
     "text": [
      "\n"
     ]
    },
    {
     "name": "stdout",
     "output_type": "stream",
     "text": [
      "\n",
      "      Epoch    GPU_mem   box_loss   seg_loss   cls_loss   dfl_loss  Instances       Size\n"
     ]
    },
    {
     "name": "stderr",
     "output_type": "stream",
     "text": [
      "     32/200      5.08G     0.8114      1.212      0.561      1.064          7        640: 100%|██████████| 9/9 [00:02<0\n",
      "                 Class     Images  Instances      Box(P          R      mAP50  mAP50-95)     Mask(P          R      mAP"
     ]
    },
    {
     "name": "stdout",
     "output_type": "stream",
     "text": [
      "                   all         66         66      0.943      0.848      0.905      0.696      0.949      0.839      0.927      0.729\n"
     ]
    },
    {
     "name": "stderr",
     "output_type": "stream",
     "text": [
      "\n"
     ]
    },
    {
     "name": "stdout",
     "output_type": "stream",
     "text": [
      "\n",
      "      Epoch    GPU_mem   box_loss   seg_loss   cls_loss   dfl_loss  Instances       Size\n"
     ]
    },
    {
     "name": "stderr",
     "output_type": "stream",
     "text": [
      "     33/200      5.06G     0.8002      1.232     0.5798      1.043         15        640: 100%|██████████| 9/9 [00:02<0\n",
      "                 Class     Images  Instances      Box(P          R      mAP50  mAP50-95)     Mask(P          R      mAP"
     ]
    },
    {
     "name": "stdout",
     "output_type": "stream",
     "text": [
      "                   all         66         66      0.952      0.905      0.908      0.649      0.952      0.905      0.918      0.547\n"
     ]
    },
    {
     "name": "stderr",
     "output_type": "stream",
     "text": [
      "\n"
     ]
    },
    {
     "name": "stdout",
     "output_type": "stream",
     "text": [
      "\n",
      "      Epoch    GPU_mem   box_loss   seg_loss   cls_loss   dfl_loss  Instances       Size\n"
     ]
    },
    {
     "name": "stderr",
     "output_type": "stream",
     "text": [
      "     34/200      5.09G     0.7654      1.233     0.5643      1.036          8        640: 100%|██████████| 9/9 [00:02<0\n",
      "                 Class     Images  Instances      Box(P          R      mAP50  mAP50-95)     Mask(P          R      mAP"
     ]
    },
    {
     "name": "stdout",
     "output_type": "stream",
     "text": [
      "                   all         66         66      0.931      0.924      0.966      0.771      0.937      0.924      0.946      0.751\n"
     ]
    },
    {
     "name": "stderr",
     "output_type": "stream",
     "text": [
      "\n"
     ]
    },
    {
     "name": "stdout",
     "output_type": "stream",
     "text": [
      "\n",
      "      Epoch    GPU_mem   box_loss   seg_loss   cls_loss   dfl_loss  Instances       Size\n"
     ]
    },
    {
     "name": "stderr",
     "output_type": "stream",
     "text": [
      "     35/200      5.04G      0.771      1.188     0.5293      1.043          9        640: 100%|██████████| 9/9 [00:02<0\n",
      "                 Class     Images  Instances      Box(P          R      mAP50  mAP50-95)     Mask(P          R      mAP"
     ]
    },
    {
     "name": "stdout",
     "output_type": "stream",
     "text": [
      "                   all         66         66      0.941      0.966      0.968      0.799      0.941      0.966      0.968      0.803\n"
     ]
    },
    {
     "name": "stderr",
     "output_type": "stream",
     "text": [
      "\n"
     ]
    },
    {
     "name": "stdout",
     "output_type": "stream",
     "text": [
      "\n",
      "      Epoch    GPU_mem   box_loss   seg_loss   cls_loss   dfl_loss  Instances       Size\n"
     ]
    },
    {
     "name": "stderr",
     "output_type": "stream",
     "text": [
      "     36/200      5.22G     0.7361       1.09     0.5188      1.002         12        640: 100%|██████████| 9/9 [00:02<0\n",
      "                 Class     Images  Instances      Box(P          R      mAP50  mAP50-95)     Mask(P          R      mAP"
     ]
    },
    {
     "name": "stdout",
     "output_type": "stream",
     "text": [
      "                   all         66         66      0.953      0.932      0.975      0.811      0.953      0.932      0.974      0.801\n"
     ]
    },
    {
     "name": "stderr",
     "output_type": "stream",
     "text": [
      "\n"
     ]
    },
    {
     "name": "stdout",
     "output_type": "stream",
     "text": [
      "\n",
      "      Epoch    GPU_mem   box_loss   seg_loss   cls_loss   dfl_loss  Instances       Size\n"
     ]
    },
    {
     "name": "stderr",
     "output_type": "stream",
     "text": [
      "     37/200      5.23G     0.7912       1.28     0.5563       1.01         16        640: 100%|██████████| 9/9 [00:02<0\n",
      "                 Class     Images  Instances      Box(P          R      mAP50  mAP50-95)     Mask(P          R      mAP"
     ]
    },
    {
     "name": "stdout",
     "output_type": "stream",
     "text": [
      "                   all         66         66      0.912      0.924      0.973      0.784      0.912      0.924      0.967      0.798\n"
     ]
    },
    {
     "name": "stderr",
     "output_type": "stream",
     "text": [
      "\n"
     ]
    },
    {
     "name": "stdout",
     "output_type": "stream",
     "text": [
      "\n",
      "      Epoch    GPU_mem   box_loss   seg_loss   cls_loss   dfl_loss  Instances       Size\n"
     ]
    },
    {
     "name": "stderr",
     "output_type": "stream",
     "text": [
      "     38/200      5.08G     0.8305      1.281     0.5776      1.053         10        640: 100%|██████████| 9/9 [00:02<0\n",
      "                 Class     Images  Instances      Box(P          R      mAP50  mAP50-95)     Mask(P          R      mAP"
     ]
    },
    {
     "name": "stdout",
     "output_type": "stream",
     "text": [
      "                   all         66         66      0.995       0.97      0.983      0.771      0.995       0.97      0.983      0.787\n"
     ]
    },
    {
     "name": "stderr",
     "output_type": "stream",
     "text": [
      "\n"
     ]
    },
    {
     "name": "stdout",
     "output_type": "stream",
     "text": [
      "\n",
      "      Epoch    GPU_mem   box_loss   seg_loss   cls_loss   dfl_loss  Instances       Size\n"
     ]
    },
    {
     "name": "stderr",
     "output_type": "stream",
     "text": [
      "     39/200      5.06G     0.7572      1.068     0.5264      1.023         12        640: 100%|██████████| 9/9 [00:02<0\n",
      "                 Class     Images  Instances      Box(P          R      mAP50  mAP50-95)     Mask(P          R      mAP"
     ]
    },
    {
     "name": "stdout",
     "output_type": "stream",
     "text": [
      "                   all         66         66          1      0.962      0.991      0.789          1      0.962      0.985      0.819\n"
     ]
    },
    {
     "name": "stderr",
     "output_type": "stream",
     "text": [
      "\n"
     ]
    },
    {
     "name": "stdout",
     "output_type": "stream",
     "text": [
      "\n",
      "      Epoch    GPU_mem   box_loss   seg_loss   cls_loss   dfl_loss  Instances       Size\n"
     ]
    },
    {
     "name": "stderr",
     "output_type": "stream",
     "text": [
      "     40/200      5.22G     0.7916      1.131     0.5457      1.036         11        640: 100%|██████████| 9/9 [00:02<0\n",
      "                 Class     Images  Instances      Box(P          R      mAP50  mAP50-95)     Mask(P          R      mAP"
     ]
    },
    {
     "name": "stdout",
     "output_type": "stream",
     "text": [
      "                   all         66         66      0.923      0.902      0.946      0.645      0.922      0.901      0.925      0.678\n"
     ]
    },
    {
     "name": "stderr",
     "output_type": "stream",
     "text": [
      "\n"
     ]
    },
    {
     "name": "stdout",
     "output_type": "stream",
     "text": [
      "\n",
      "      Epoch    GPU_mem   box_loss   seg_loss   cls_loss   dfl_loss  Instances       Size\n"
     ]
    },
    {
     "name": "stderr",
     "output_type": "stream",
     "text": [
      "     41/200      5.07G     0.7827      1.021     0.5351      1.016         10        640: 100%|██████████| 9/9 [00:02<0\n",
      "                 Class     Images  Instances      Box(P          R      mAP50  mAP50-95)     Mask(P          R      mAP"
     ]
    },
    {
     "name": "stdout",
     "output_type": "stream",
     "text": [
      "                   all         66         66      0.909       0.97      0.985      0.784      0.909       0.97      0.985      0.796\n"
     ]
    },
    {
     "name": "stderr",
     "output_type": "stream",
     "text": [
      "\n"
     ]
    },
    {
     "name": "stdout",
     "output_type": "stream",
     "text": [
      "\n",
      "      Epoch    GPU_mem   box_loss   seg_loss   cls_loss   dfl_loss  Instances       Size\n"
     ]
    },
    {
     "name": "stderr",
     "output_type": "stream",
     "text": [
      "     42/200      5.49G     0.8002      1.149     0.5531      1.031         11        640: 100%|██████████| 9/9 [00:02<0\n",
      "                 Class     Images  Instances      Box(P          R      mAP50  mAP50-95)     Mask(P          R      mAP"
     ]
    },
    {
     "name": "stdout",
     "output_type": "stream",
     "text": [
      "                   all         66         66      0.956      0.984       0.99        0.8      0.956      0.984       0.99      0.766\n"
     ]
    },
    {
     "name": "stderr",
     "output_type": "stream",
     "text": [
      "\n"
     ]
    },
    {
     "name": "stdout",
     "output_type": "stream",
     "text": [
      "\n",
      "      Epoch    GPU_mem   box_loss   seg_loss   cls_loss   dfl_loss  Instances       Size\n"
     ]
    },
    {
     "name": "stderr",
     "output_type": "stream",
     "text": [
      "     43/200      5.08G     0.7407      1.103     0.4911      1.006         15        640: 100%|██████████| 9/9 [00:02<0\n",
      "                 Class     Images  Instances      Box(P          R      mAP50  mAP50-95)     Mask(P          R      mAP"
     ]
    },
    {
     "name": "stdout",
     "output_type": "stream",
     "text": [
      "                   all         66         66       0.95      0.924      0.975      0.716       0.95      0.924      0.975      0.731\n"
     ]
    },
    {
     "name": "stderr",
     "output_type": "stream",
     "text": [
      "\n"
     ]
    },
    {
     "name": "stdout",
     "output_type": "stream",
     "text": [
      "\n",
      "      Epoch    GPU_mem   box_loss   seg_loss   cls_loss   dfl_loss  Instances       Size\n"
     ]
    },
    {
     "name": "stderr",
     "output_type": "stream",
     "text": [
      "     44/200      5.25G     0.7867      1.188      0.546      1.047          8        640: 100%|██████████| 9/9 [00:02<0\n",
      "                 Class     Images  Instances      Box(P          R      mAP50  mAP50-95)     Mask(P          R      mAP"
     ]
    },
    {
     "name": "stdout",
     "output_type": "stream",
     "text": [
      "                   all         66         66      0.953      0.923       0.96      0.708      0.906      0.878      0.908      0.611\n"
     ]
    },
    {
     "name": "stderr",
     "output_type": "stream",
     "text": [
      "\n"
     ]
    },
    {
     "name": "stdout",
     "output_type": "stream",
     "text": [
      "\n",
      "      Epoch    GPU_mem   box_loss   seg_loss   cls_loss   dfl_loss  Instances       Size\n"
     ]
    },
    {
     "name": "stderr",
     "output_type": "stream",
     "text": [
      "     45/200       5.1G     0.7509      1.114      0.513      1.012         11        640: 100%|██████████| 9/9 [00:02<0\n",
      "                 Class     Images  Instances      Box(P          R      mAP50  mAP50-95)     Mask(P          R      mAP"
     ]
    },
    {
     "name": "stdout",
     "output_type": "stream",
     "text": [
      "                   all         66         66      0.982      0.846       0.94      0.703      0.982      0.846       0.94      0.641\n"
     ]
    },
    {
     "name": "stderr",
     "output_type": "stream",
     "text": [
      "\n"
     ]
    },
    {
     "name": "stdout",
     "output_type": "stream",
     "text": [
      "\n",
      "      Epoch    GPU_mem   box_loss   seg_loss   cls_loss   dfl_loss  Instances       Size\n"
     ]
    },
    {
     "name": "stderr",
     "output_type": "stream",
     "text": [
      "     46/200      5.08G     0.7976      1.166      0.558      1.024         14        640: 100%|██████████| 9/9 [00:02<0\n",
      "                 Class     Images  Instances      Box(P          R      mAP50  mAP50-95)     Mask(P          R      mAP"
     ]
    },
    {
     "name": "stdout",
     "output_type": "stream",
     "text": [
      "                   all         66         66      0.913      0.948      0.968      0.739      0.967      0.909      0.969      0.739\n"
     ]
    },
    {
     "name": "stderr",
     "output_type": "stream",
     "text": [
      "\n"
     ]
    },
    {
     "name": "stdout",
     "output_type": "stream",
     "text": [
      "\n",
      "      Epoch    GPU_mem   box_loss   seg_loss   cls_loss   dfl_loss  Instances       Size\n"
     ]
    },
    {
     "name": "stderr",
     "output_type": "stream",
     "text": [
      "     47/200      5.19G     0.7843      1.061     0.5129      1.007         11        640: 100%|██████████| 9/9 [00:02<0\n",
      "                 Class     Images  Instances      Box(P          R      mAP50  mAP50-95)     Mask(P          R      mAP"
     ]
    },
    {
     "name": "stdout",
     "output_type": "stream",
     "text": [
      "                   all         66         66      0.985      0.969      0.984      0.793      0.985      0.969      0.984      0.788\n"
     ]
    },
    {
     "name": "stderr",
     "output_type": "stream",
     "text": [
      "\n"
     ]
    },
    {
     "name": "stdout",
     "output_type": "stream",
     "text": [
      "\n",
      "      Epoch    GPU_mem   box_loss   seg_loss   cls_loss   dfl_loss  Instances       Size\n"
     ]
    },
    {
     "name": "stderr",
     "output_type": "stream",
     "text": [
      "     48/200      5.18G     0.7655      1.107     0.5212      1.027         12        640: 100%|██████████| 9/9 [00:02<0\n",
      "                 Class     Images  Instances      Box(P          R      mAP50  mAP50-95)     Mask(P          R      mAP"
     ]
    },
    {
     "name": "stdout",
     "output_type": "stream",
     "text": [
      "                   all         66         66      0.996      0.985      0.985      0.804      0.996      0.985      0.985      0.822\n"
     ]
    },
    {
     "name": "stderr",
     "output_type": "stream",
     "text": [
      "\n"
     ]
    },
    {
     "name": "stdout",
     "output_type": "stream",
     "text": [
      "\n",
      "      Epoch    GPU_mem   box_loss   seg_loss   cls_loss   dfl_loss  Instances       Size\n"
     ]
    },
    {
     "name": "stderr",
     "output_type": "stream",
     "text": [
      "     49/200      5.06G     0.7109      0.991     0.4871     0.9921         10        640: 100%|██████████| 9/9 [00:02<0\n",
      "                 Class     Images  Instances      Box(P          R      mAP50  mAP50-95)     Mask(P          R      mAP"
     ]
    },
    {
     "name": "stdout",
     "output_type": "stream",
     "text": [
      "                   all         66         66      0.983      0.867      0.923      0.668      0.983      0.867      0.928      0.649\n"
     ]
    },
    {
     "name": "stderr",
     "output_type": "stream",
     "text": [
      "\n"
     ]
    },
    {
     "name": "stdout",
     "output_type": "stream",
     "text": [
      "\n",
      "      Epoch    GPU_mem   box_loss   seg_loss   cls_loss   dfl_loss  Instances       Size\n"
     ]
    },
    {
     "name": "stderr",
     "output_type": "stream",
     "text": [
      "     50/200      5.06G     0.7426      1.136     0.5359      1.026         10        640: 100%|██████████| 9/9 [00:02<0\n",
      "                 Class     Images  Instances      Box(P          R      mAP50  mAP50-95)     Mask(P          R      mAP"
     ]
    },
    {
     "name": "stdout",
     "output_type": "stream",
     "text": [
      "                   all         66         66      0.985      0.968      0.984      0.816      0.985      0.968       0.97      0.824\n"
     ]
    },
    {
     "name": "stderr",
     "output_type": "stream",
     "text": [
      "\n"
     ]
    },
    {
     "name": "stdout",
     "output_type": "stream",
     "text": [
      "\n",
      "      Epoch    GPU_mem   box_loss   seg_loss   cls_loss   dfl_loss  Instances       Size\n"
     ]
    },
    {
     "name": "stderr",
     "output_type": "stream",
     "text": [
      "     51/200      5.08G     0.7084      1.059     0.4857     0.9711         14        640: 100%|██████████| 9/9 [00:02<0\n",
      "                 Class     Images  Instances      Box(P          R      mAP50  mAP50-95)     Mask(P          R      mAP"
     ]
    },
    {
     "name": "stdout",
     "output_type": "stream",
     "text": [
      "                   all         66         66      0.987      0.939      0.984      0.758      0.987      0.939      0.985      0.739\n"
     ]
    },
    {
     "name": "stderr",
     "output_type": "stream",
     "text": [
      "\n"
     ]
    },
    {
     "name": "stdout",
     "output_type": "stream",
     "text": [
      "\n",
      "      Epoch    GPU_mem   box_loss   seg_loss   cls_loss   dfl_loss  Instances       Size\n"
     ]
    },
    {
     "name": "stderr",
     "output_type": "stream",
     "text": [
      "     52/200       5.1G     0.8098      1.077     0.5517      1.001         11        640: 100%|██████████| 9/9 [00:02<0\n",
      "                 Class     Images  Instances      Box(P          R      mAP50  mAP50-95)     Mask(P          R      mAP"
     ]
    },
    {
     "name": "stdout",
     "output_type": "stream",
     "text": [
      "                   all         66         66      0.964      0.924      0.971      0.773      0.964      0.924      0.961      0.754\n"
     ]
    },
    {
     "name": "stderr",
     "output_type": "stream",
     "text": [
      "\n"
     ]
    },
    {
     "name": "stdout",
     "output_type": "stream",
     "text": [
      "\n",
      "      Epoch    GPU_mem   box_loss   seg_loss   cls_loss   dfl_loss  Instances       Size\n"
     ]
    },
    {
     "name": "stderr",
     "output_type": "stream",
     "text": [
      "     53/200      5.16G     0.8313      1.221     0.5668      1.037         10        640: 100%|██████████| 9/9 [00:02<0\n",
      "                 Class     Images  Instances      Box(P          R      mAP50  mAP50-95)     Mask(P          R      mAP"
     ]
    },
    {
     "name": "stdout",
     "output_type": "stream",
     "text": [
      "                   all         66         66      0.969      0.948      0.978      0.759      0.969      0.948      0.977      0.782\n"
     ]
    },
    {
     "name": "stderr",
     "output_type": "stream",
     "text": [
      "\n"
     ]
    },
    {
     "name": "stdout",
     "output_type": "stream",
     "text": [
      "\n",
      "      Epoch    GPU_mem   box_loss   seg_loss   cls_loss   dfl_loss  Instances       Size\n"
     ]
    },
    {
     "name": "stderr",
     "output_type": "stream",
     "text": [
      "     54/200      5.06G     0.7789      1.094     0.5471      1.035         10        640: 100%|██████████| 9/9 [00:02<0\n",
      "                 Class     Images  Instances      Box(P          R      mAP50  mAP50-95)     Mask(P          R      mAP"
     ]
    },
    {
     "name": "stdout",
     "output_type": "stream",
     "text": [
      "                   all         66         66      0.971      0.939      0.984      0.808      0.956      0.939      0.978       0.78\n"
     ]
    },
    {
     "name": "stderr",
     "output_type": "stream",
     "text": [
      "\n"
     ]
    },
    {
     "name": "stdout",
     "output_type": "stream",
     "text": [
      "\n",
      "      Epoch    GPU_mem   box_loss   seg_loss   cls_loss   dfl_loss  Instances       Size\n"
     ]
    },
    {
     "name": "stderr",
     "output_type": "stream",
     "text": [
      "     55/200      5.05G     0.7269     0.9543     0.5027      1.006          9        640: 100%|██████████| 9/9 [00:02<0\n",
      "                 Class     Images  Instances      Box(P          R      mAP50  mAP50-95)     Mask(P          R      mAP"
     ]
    },
    {
     "name": "stdout",
     "output_type": "stream",
     "text": [
      "                   all         66         66      0.961       0.97      0.968      0.781      0.961       0.97      0.963      0.786\n"
     ]
    },
    {
     "name": "stderr",
     "output_type": "stream",
     "text": [
      "\n"
     ]
    },
    {
     "name": "stdout",
     "output_type": "stream",
     "text": [
      "\n",
      "      Epoch    GPU_mem   box_loss   seg_loss   cls_loss   dfl_loss  Instances       Size\n"
     ]
    },
    {
     "name": "stderr",
     "output_type": "stream",
     "text": [
      "     56/200      5.08G     0.6946     0.9929     0.4798     0.9939         12        640: 100%|██████████| 9/9 [00:02<0\n",
      "                 Class     Images  Instances      Box(P          R      mAP50  mAP50-95)     Mask(P          R      mAP"
     ]
    },
    {
     "name": "stdout",
     "output_type": "stream",
     "text": [
      "                   all         66         66      0.934      0.955       0.98      0.816      0.934      0.955       0.98       0.83\n"
     ]
    },
    {
     "name": "stderr",
     "output_type": "stream",
     "text": [
      "\n"
     ]
    },
    {
     "name": "stdout",
     "output_type": "stream",
     "text": [
      "\n",
      "      Epoch    GPU_mem   box_loss   seg_loss   cls_loss   dfl_loss  Instances       Size\n"
     ]
    },
    {
     "name": "stderr",
     "output_type": "stream",
     "text": [
      "     57/200      5.04G     0.7044     0.9995     0.4797     0.9908         12        640: 100%|██████████| 9/9 [00:02<0\n",
      "                 Class     Images  Instances      Box(P          R      mAP50  mAP50-95)     Mask(P          R      mAP"
     ]
    },
    {
     "name": "stdout",
     "output_type": "stream",
     "text": [
      "                   all         66         66      0.974      0.924      0.969        0.8      0.974      0.924      0.969      0.776\n"
     ]
    },
    {
     "name": "stderr",
     "output_type": "stream",
     "text": [
      "\n"
     ]
    },
    {
     "name": "stdout",
     "output_type": "stream",
     "text": [
      "\n",
      "      Epoch    GPU_mem   box_loss   seg_loss   cls_loss   dfl_loss  Instances       Size\n"
     ]
    },
    {
     "name": "stderr",
     "output_type": "stream",
     "text": [
      "     58/200      5.12G     0.7347      1.064      0.504      1.022          7        640: 100%|██████████| 9/9 [00:02<0\n",
      "                 Class     Images  Instances      Box(P          R      mAP50  mAP50-95)     Mask(P          R      mAP"
     ]
    },
    {
     "name": "stdout",
     "output_type": "stream",
     "text": [
      "                   all         66         66       0.97      0.997      0.992      0.817       0.97      0.997      0.992      0.814\n"
     ]
    },
    {
     "name": "stderr",
     "output_type": "stream",
     "text": [
      "\n"
     ]
    },
    {
     "name": "stdout",
     "output_type": "stream",
     "text": [
      "\n",
      "      Epoch    GPU_mem   box_loss   seg_loss   cls_loss   dfl_loss  Instances       Size\n"
     ]
    },
    {
     "name": "stderr",
     "output_type": "stream",
     "text": [
      "     59/200      5.15G     0.6819      1.038     0.4525     0.9655         10        640: 100%|██████████| 9/9 [00:02<0\n",
      "                 Class     Images  Instances      Box(P          R      mAP50  mAP50-95)     Mask(P          R      mAP"
     ]
    },
    {
     "name": "stdout",
     "output_type": "stream",
     "text": [
      "                   all         66         66      0.951      0.955      0.985      0.766      0.951      0.955      0.985      0.734\n"
     ]
    },
    {
     "name": "stderr",
     "output_type": "stream",
     "text": [
      "\n"
     ]
    },
    {
     "name": "stdout",
     "output_type": "stream",
     "text": [
      "\n",
      "      Epoch    GPU_mem   box_loss   seg_loss   cls_loss   dfl_loss  Instances       Size\n"
     ]
    },
    {
     "name": "stderr",
     "output_type": "stream",
     "text": [
      "     60/200      5.08G     0.7122      1.095      0.493     0.9856         14        640: 100%|██████████| 9/9 [00:02<0\n",
      "                 Class     Images  Instances      Box(P          R      mAP50  mAP50-95)     Mask(P          R      mAP"
     ]
    },
    {
     "name": "stdout",
     "output_type": "stream",
     "text": [
      "                   all         66         66          1      0.997      0.995       0.82          1      0.997      0.995       0.81\n"
     ]
    },
    {
     "name": "stderr",
     "output_type": "stream",
     "text": [
      "\n"
     ]
    },
    {
     "name": "stdout",
     "output_type": "stream",
     "text": [
      "\n",
      "      Epoch    GPU_mem   box_loss   seg_loss   cls_loss   dfl_loss  Instances       Size\n"
     ]
    },
    {
     "name": "stderr",
     "output_type": "stream",
     "text": [
      "     61/200      5.04G     0.6992      1.013     0.4854      0.976         11        640: 100%|██████████| 9/9 [00:02<0\n",
      "                 Class     Images  Instances      Box(P          R      mAP50  mAP50-95)     Mask(P          R      mAP"
     ]
    },
    {
     "name": "stdout",
     "output_type": "stream",
     "text": [
      "                   all         66         66       0.94          1      0.973      0.788       0.94          1      0.976      0.791\n"
     ]
    },
    {
     "name": "stderr",
     "output_type": "stream",
     "text": [
      "\n"
     ]
    },
    {
     "name": "stdout",
     "output_type": "stream",
     "text": [
      "\n",
      "      Epoch    GPU_mem   box_loss   seg_loss   cls_loss   dfl_loss  Instances       Size\n"
     ]
    },
    {
     "name": "stderr",
     "output_type": "stream",
     "text": [
      "     62/200       5.1G     0.7125      1.151     0.5014     0.9991          7        640: 100%|██████████| 9/9 [00:02<0\n",
      "                 Class     Images  Instances      Box(P          R      mAP50  mAP50-95)     Mask(P          R      mAP"
     ]
    },
    {
     "name": "stdout",
     "output_type": "stream",
     "text": [
      "                   all         66         66      0.995      0.924      0.974      0.826      0.989      0.955      0.984      0.802\n"
     ]
    },
    {
     "name": "stderr",
     "output_type": "stream",
     "text": [
      "\n"
     ]
    },
    {
     "name": "stdout",
     "output_type": "stream",
     "text": [
      "\n",
      "      Epoch    GPU_mem   box_loss   seg_loss   cls_loss   dfl_loss  Instances       Size\n"
     ]
    },
    {
     "name": "stderr",
     "output_type": "stream",
     "text": [
      "     63/200      5.04G       0.68     0.9742     0.4478     0.9639         13        640: 100%|██████████| 9/9 [00:02<0\n",
      "                 Class     Images  Instances      Box(P          R      mAP50  mAP50-95)     Mask(P          R      mAP"
     ]
    },
    {
     "name": "stdout",
     "output_type": "stream",
     "text": [
      "                   all         66         66          1      0.952      0.984      0.813          1      0.952      0.984      0.797\n"
     ]
    },
    {
     "name": "stderr",
     "output_type": "stream",
     "text": [
      "\n"
     ]
    },
    {
     "name": "stdout",
     "output_type": "stream",
     "text": [
      "\n",
      "      Epoch    GPU_mem   box_loss   seg_loss   cls_loss   dfl_loss  Instances       Size\n"
     ]
    },
    {
     "name": "stderr",
     "output_type": "stream",
     "text": [
      "     64/200       5.1G     0.7195       1.05     0.4769     0.9884         10        640: 100%|██████████| 9/9 [00:02<0\n",
      "                 Class     Images  Instances      Box(P          R      mAP50  mAP50-95)     Mask(P          R      mAP"
     ]
    },
    {
     "name": "stdout",
     "output_type": "stream",
     "text": [
      "                   all         66         66       0.67      0.258      0.314      0.167       0.67      0.258      0.315      0.132\n"
     ]
    },
    {
     "name": "stderr",
     "output_type": "stream",
     "text": [
      "\n"
     ]
    },
    {
     "name": "stdout",
     "output_type": "stream",
     "text": [
      "\n",
      "      Epoch    GPU_mem   box_loss   seg_loss   cls_loss   dfl_loss  Instances       Size\n"
     ]
    },
    {
     "name": "stderr",
     "output_type": "stream",
     "text": [
      "     65/200      5.06G     0.7344      1.026     0.4955     0.9984         14        640: 100%|██████████| 9/9 [00:02<0\n",
      "                 Class     Images  Instances      Box(P          R      mAP50  mAP50-95)     Mask(P          R      mAP"
     ]
    },
    {
     "name": "stdout",
     "output_type": "stream",
     "text": [
      "                   all         66         66       0.97      0.966      0.987      0.812      0.978       0.97      0.988      0.796\n"
     ]
    },
    {
     "name": "stderr",
     "output_type": "stream",
     "text": [
      "\n"
     ]
    },
    {
     "name": "stdout",
     "output_type": "stream",
     "text": [
      "\n",
      "      Epoch    GPU_mem   box_loss   seg_loss   cls_loss   dfl_loss  Instances       Size\n"
     ]
    },
    {
     "name": "stderr",
     "output_type": "stream",
     "text": [
      "     66/200      5.06G     0.6871      1.001     0.4667     0.9733         17        640: 100%|██████████| 9/9 [00:02<0\n",
      "                 Class     Images  Instances      Box(P          R      mAP50  mAP50-95)     Mask(P          R      mAP"
     ]
    },
    {
     "name": "stdout",
     "output_type": "stream",
     "text": [
      "                   all         66         66      0.951      0.939       0.97      0.824      0.967      0.955      0.985      0.813\n"
     ]
    },
    {
     "name": "stderr",
     "output_type": "stream",
     "text": [
      "\n"
     ]
    },
    {
     "name": "stdout",
     "output_type": "stream",
     "text": [
      "\n",
      "      Epoch    GPU_mem   box_loss   seg_loss   cls_loss   dfl_loss  Instances       Size\n"
     ]
    },
    {
     "name": "stderr",
     "output_type": "stream",
     "text": [
      "     67/200      5.05G     0.6785     0.9976     0.4546      0.992          9        640: 100%|██████████| 9/9 [00:02<0\n",
      "                 Class     Images  Instances      Box(P          R      mAP50  mAP50-95)     Mask(P          R      mAP"
     ]
    },
    {
     "name": "stdout",
     "output_type": "stream",
     "text": [
      "                   all         66         66      0.983       0.97      0.991      0.827      0.983       0.97      0.991      0.827\n"
     ]
    },
    {
     "name": "stderr",
     "output_type": "stream",
     "text": [
      "\n"
     ]
    },
    {
     "name": "stdout",
     "output_type": "stream",
     "text": [
      "\n",
      "      Epoch    GPU_mem   box_loss   seg_loss   cls_loss   dfl_loss  Instances       Size\n"
     ]
    },
    {
     "name": "stderr",
     "output_type": "stream",
     "text": [
      "     68/200      5.08G     0.7206      1.007     0.5022      1.001          8        640: 100%|██████████| 9/9 [00:02<0\n",
      "                 Class     Images  Instances      Box(P          R      mAP50  mAP50-95)     Mask(P          R      mAP"
     ]
    },
    {
     "name": "stdout",
     "output_type": "stream",
     "text": [
      "                   all         66         66      0.998      0.985      0.988      0.805      0.998      0.985      0.988      0.804\n"
     ]
    },
    {
     "name": "stderr",
     "output_type": "stream",
     "text": [
      "\n"
     ]
    },
    {
     "name": "stdout",
     "output_type": "stream",
     "text": [
      "\n",
      "      Epoch    GPU_mem   box_loss   seg_loss   cls_loss   dfl_loss  Instances       Size\n"
     ]
    },
    {
     "name": "stderr",
     "output_type": "stream",
     "text": [
      "     69/200      5.17G     0.6816     0.9879     0.4461      0.988         11        640: 100%|██████████| 9/9 [00:02<0\n",
      "                 Class     Images  Instances      Box(P          R      mAP50  mAP50-95)     Mask(P          R      mAP"
     ]
    },
    {
     "name": "stdout",
     "output_type": "stream",
     "text": [
      "                   all         66         66      0.983       0.97      0.988      0.804      0.983       0.97      0.989      0.814\n"
     ]
    },
    {
     "name": "stderr",
     "output_type": "stream",
     "text": [
      "\n"
     ]
    },
    {
     "name": "stdout",
     "output_type": "stream",
     "text": [
      "\n",
      "      Epoch    GPU_mem   box_loss   seg_loss   cls_loss   dfl_loss  Instances       Size\n"
     ]
    },
    {
     "name": "stderr",
     "output_type": "stream",
     "text": [
      "     70/200      5.15G     0.6432     0.9234     0.4294     0.9696         10        640: 100%|██████████| 9/9 [00:02<0\n",
      "                 Class     Images  Instances      Box(P          R      mAP50  mAP50-95)     Mask(P          R      mAP"
     ]
    },
    {
     "name": "stdout",
     "output_type": "stream",
     "text": [
      "                   all         66         66          1      0.997      0.995      0.829          1      0.997      0.995      0.846\n"
     ]
    },
    {
     "name": "stderr",
     "output_type": "stream",
     "text": [
      "\n"
     ]
    },
    {
     "name": "stdout",
     "output_type": "stream",
     "text": [
      "\n",
      "      Epoch    GPU_mem   box_loss   seg_loss   cls_loss   dfl_loss  Instances       Size\n"
     ]
    },
    {
     "name": "stderr",
     "output_type": "stream",
     "text": [
      "     71/200      5.04G     0.7091     0.9291     0.4437     0.9848          8        640: 100%|██████████| 9/9 [00:02<0\n",
      "                 Class     Images  Instances      Box(P          R      mAP50  mAP50-95)     Mask(P          R      mAP"
     ]
    },
    {
     "name": "stdout",
     "output_type": "stream",
     "text": [
      "                   all         66         66          1      0.983      0.995      0.825          1      0.983      0.995      0.839\n"
     ]
    },
    {
     "name": "stderr",
     "output_type": "stream",
     "text": [
      "\n"
     ]
    },
    {
     "name": "stdout",
     "output_type": "stream",
     "text": [
      "\n",
      "      Epoch    GPU_mem   box_loss   seg_loss   cls_loss   dfl_loss  Instances       Size\n"
     ]
    },
    {
     "name": "stderr",
     "output_type": "stream",
     "text": [
      "     72/200       5.1G      0.633     0.9674     0.4164     0.9621         10        640: 100%|██████████| 9/9 [00:02<0\n",
      "                 Class     Images  Instances      Box(P          R      mAP50  mAP50-95)     Mask(P          R      mAP"
     ]
    },
    {
     "name": "stdout",
     "output_type": "stream",
     "text": [
      "                   all         66         66          1      0.983      0.992      0.816          1      0.983      0.995      0.829\n"
     ]
    },
    {
     "name": "stderr",
     "output_type": "stream",
     "text": [
      "\n"
     ]
    },
    {
     "name": "stdout",
     "output_type": "stream",
     "text": [
      "\n",
      "      Epoch    GPU_mem   box_loss   seg_loss   cls_loss   dfl_loss  Instances       Size\n"
     ]
    },
    {
     "name": "stderr",
     "output_type": "stream",
     "text": [
      "     73/200      5.04G     0.6826      1.003     0.4389     0.9859         13        640: 100%|██████████| 9/9 [00:02<0\n",
      "                 Class     Images  Instances      Box(P          R      mAP50  mAP50-95)     Mask(P          R      mAP"
     ]
    },
    {
     "name": "stdout",
     "output_type": "stream",
     "text": [
      "                   all         66         66          1      0.969      0.991       0.84          1      0.969      0.991      0.843\n"
     ]
    },
    {
     "name": "stderr",
     "output_type": "stream",
     "text": [
      "\n"
     ]
    },
    {
     "name": "stdout",
     "output_type": "stream",
     "text": [
      "\n",
      "      Epoch    GPU_mem   box_loss   seg_loss   cls_loss   dfl_loss  Instances       Size\n"
     ]
    },
    {
     "name": "stderr",
     "output_type": "stream",
     "text": [
      "     74/200       5.1G     0.6395     0.8833     0.4095     0.9579          7        640: 100%|██████████| 9/9 [00:02<0\n",
      "                 Class     Images  Instances      Box(P          R      mAP50  mAP50-95)     Mask(P          R      mAP"
     ]
    },
    {
     "name": "stdout",
     "output_type": "stream",
     "text": [
      "                   all         66         66      0.984      0.954      0.983       0.86      0.984      0.954      0.989      0.832\n"
     ]
    },
    {
     "name": "stderr",
     "output_type": "stream",
     "text": [
      "\n"
     ]
    },
    {
     "name": "stdout",
     "output_type": "stream",
     "text": [
      "\n",
      "      Epoch    GPU_mem   box_loss   seg_loss   cls_loss   dfl_loss  Instances       Size\n"
     ]
    },
    {
     "name": "stderr",
     "output_type": "stream",
     "text": [
      "     75/200      5.08G     0.6268     0.9355     0.4226     0.9525         17        640: 100%|██████████| 9/9 [00:02<0\n",
      "                 Class     Images  Instances      Box(P          R      mAP50  mAP50-95)     Mask(P          R      mAP"
     ]
    },
    {
     "name": "stdout",
     "output_type": "stream",
     "text": [
      "                   all         66         66          1      0.952       0.99      0.834      0.995       0.97      0.991      0.819\n"
     ]
    },
    {
     "name": "stderr",
     "output_type": "stream",
     "text": [
      "\n"
     ]
    },
    {
     "name": "stdout",
     "output_type": "stream",
     "text": [
      "\n",
      "      Epoch    GPU_mem   box_loss   seg_loss   cls_loss   dfl_loss  Instances       Size\n"
     ]
    },
    {
     "name": "stderr",
     "output_type": "stream",
     "text": [
      "     76/200      5.08G     0.6218     0.9639     0.4152     0.9518         12        640: 100%|██████████| 9/9 [00:02<0\n",
      "                 Class     Images  Instances      Box(P          R      mAP50  mAP50-95)     Mask(P          R      mAP"
     ]
    },
    {
     "name": "stdout",
     "output_type": "stream",
     "text": [
      "                   all         66         66      0.981       0.97       0.99      0.835      0.981       0.97       0.99      0.794\n"
     ]
    },
    {
     "name": "stderr",
     "output_type": "stream",
     "text": [
      "\n"
     ]
    },
    {
     "name": "stdout",
     "output_type": "stream",
     "text": [
      "\n",
      "      Epoch    GPU_mem   box_loss   seg_loss   cls_loss   dfl_loss  Instances       Size\n"
     ]
    },
    {
     "name": "stderr",
     "output_type": "stream",
     "text": [
      "     77/200      5.02G     0.6544      1.046      0.446     0.9724          6        640: 100%|██████████| 9/9 [00:02<0\n",
      "                 Class     Images  Instances      Box(P          R      mAP50  mAP50-95)     Mask(P          R      mAP"
     ]
    },
    {
     "name": "stdout",
     "output_type": "stream",
     "text": [
      "                   all         66         66      0.984      0.985      0.993      0.868      0.984      0.985      0.993      0.845\n"
     ]
    },
    {
     "name": "stderr",
     "output_type": "stream",
     "text": [
      "\n"
     ]
    },
    {
     "name": "stdout",
     "output_type": "stream",
     "text": [
      "\n",
      "      Epoch    GPU_mem   box_loss   seg_loss   cls_loss   dfl_loss  Instances       Size\n"
     ]
    },
    {
     "name": "stderr",
     "output_type": "stream",
     "text": [
      "     78/200      5.08G     0.6596     0.9526     0.4164     0.9792         11        640: 100%|██████████| 9/9 [00:02<0\n",
      "                 Class     Images  Instances      Box(P          R      mAP50  mAP50-95)     Mask(P          R      mAP"
     ]
    },
    {
     "name": "stdout",
     "output_type": "stream",
     "text": [
      "                   all         66         66          1      0.983      0.994      0.854          1      0.983      0.994      0.847\n"
     ]
    },
    {
     "name": "stderr",
     "output_type": "stream",
     "text": [
      "\n"
     ]
    },
    {
     "name": "stdout",
     "output_type": "stream",
     "text": [
      "\n",
      "      Epoch    GPU_mem   box_loss   seg_loss   cls_loss   dfl_loss  Instances       Size\n"
     ]
    },
    {
     "name": "stderr",
     "output_type": "stream",
     "text": [
      "     79/200      5.05G     0.6188     0.8827     0.3925     0.9566          9        640: 100%|██████████| 9/9 [00:02<0\n",
      "                 Class     Images  Instances      Box(P          R      mAP50  mAP50-95)     Mask(P          R      mAP"
     ]
    },
    {
     "name": "stdout",
     "output_type": "stream",
     "text": [
      "                   all         66         66      0.984       0.97      0.991      0.828      0.984       0.97      0.991      0.814\n"
     ]
    },
    {
     "name": "stderr",
     "output_type": "stream",
     "text": [
      "\n"
     ]
    },
    {
     "name": "stdout",
     "output_type": "stream",
     "text": [
      "\n",
      "      Epoch    GPU_mem   box_loss   seg_loss   cls_loss   dfl_loss  Instances       Size\n"
     ]
    },
    {
     "name": "stderr",
     "output_type": "stream",
     "text": [
      "     80/200      5.06G     0.6427     0.9339     0.4002     0.9795         13        640: 100%|██████████| 9/9 [00:02<0\n",
      "                 Class     Images  Instances      Box(P          R      mAP50  mAP50-95)     Mask(P          R      mAP"
     ]
    },
    {
     "name": "stdout",
     "output_type": "stream",
     "text": [
      "                   all         66         66      0.984       0.95      0.981      0.799      0.984       0.95      0.981      0.781\n"
     ]
    },
    {
     "name": "stderr",
     "output_type": "stream",
     "text": [
      "\n"
     ]
    },
    {
     "name": "stdout",
     "output_type": "stream",
     "text": [
      "\n",
      "      Epoch    GPU_mem   box_loss   seg_loss   cls_loss   dfl_loss  Instances       Size\n"
     ]
    },
    {
     "name": "stderr",
     "output_type": "stream",
     "text": [
      "     81/200      5.08G     0.6232     0.9164     0.3965     0.9459         13        640: 100%|██████████| 9/9 [00:02<0\n",
      "                 Class     Images  Instances      Box(P          R      mAP50  mAP50-95)     Mask(P          R      mAP"
     ]
    },
    {
     "name": "stdout",
     "output_type": "stream",
     "text": [
      "                   all         66         66      0.985      0.999      0.994      0.839      0.985      0.999      0.994      0.841\n"
     ]
    },
    {
     "name": "stderr",
     "output_type": "stream",
     "text": [
      "\n"
     ]
    },
    {
     "name": "stdout",
     "output_type": "stream",
     "text": [
      "\n",
      "      Epoch    GPU_mem   box_loss   seg_loss   cls_loss   dfl_loss  Instances       Size\n"
     ]
    },
    {
     "name": "stderr",
     "output_type": "stream",
     "text": [
      "     82/200      5.05G     0.6725     0.9574     0.4185     0.9848         11        640: 100%|██████████| 9/9 [00:02<0\n",
      "                 Class     Images  Instances      Box(P          R      mAP50  mAP50-95)     Mask(P          R      mAP"
     ]
    },
    {
     "name": "stdout",
     "output_type": "stream",
     "text": [
      "                   all         66         66      0.983      0.985      0.993      0.877      0.983      0.985      0.993       0.85\n"
     ]
    },
    {
     "name": "stderr",
     "output_type": "stream",
     "text": [
      "\n"
     ]
    },
    {
     "name": "stdout",
     "output_type": "stream",
     "text": [
      "\n",
      "      Epoch    GPU_mem   box_loss   seg_loss   cls_loss   dfl_loss  Instances       Size\n"
     ]
    },
    {
     "name": "stderr",
     "output_type": "stream",
     "text": [
      "     83/200      5.19G     0.6487     0.9895     0.3952     0.9773          7        640: 100%|██████████| 9/9 [00:02<0\n",
      "                 Class     Images  Instances      Box(P          R      mAP50  mAP50-95)     Mask(P          R      mAP"
     ]
    },
    {
     "name": "stdout",
     "output_type": "stream",
     "text": [
      "                   all         66         66       0.94      0.954      0.963      0.793       0.94      0.954      0.963      0.736\n"
     ]
    },
    {
     "name": "stderr",
     "output_type": "stream",
     "text": [
      "\n"
     ]
    },
    {
     "name": "stdout",
     "output_type": "stream",
     "text": [
      "\n",
      "      Epoch    GPU_mem   box_loss   seg_loss   cls_loss   dfl_loss  Instances       Size\n"
     ]
    },
    {
     "name": "stderr",
     "output_type": "stream",
     "text": [
      "     84/200      5.16G     0.6355     0.8892     0.4294     0.9363         12        640: 100%|██████████| 9/9 [00:02<0\n",
      "                 Class     Images  Instances      Box(P          R      mAP50  mAP50-95)     Mask(P          R      mAP"
     ]
    },
    {
     "name": "stdout",
     "output_type": "stream",
     "text": [
      "                   all         66         66      0.949      0.879      0.916      0.753      0.949      0.879      0.918      0.699\n"
     ]
    },
    {
     "name": "stderr",
     "output_type": "stream",
     "text": [
      "\n"
     ]
    },
    {
     "name": "stdout",
     "output_type": "stream",
     "text": [
      "\n",
      "      Epoch    GPU_mem   box_loss   seg_loss   cls_loss   dfl_loss  Instances       Size\n"
     ]
    },
    {
     "name": "stderr",
     "output_type": "stream",
     "text": [
      "     85/200      5.08G     0.6097     0.9179     0.3881     0.9425         12        640: 100%|██████████| 9/9 [00:02<0\n",
      "                 Class     Images  Instances      Box(P          R      mAP50  mAP50-95)     Mask(P          R      mAP"
     ]
    },
    {
     "name": "stdout",
     "output_type": "stream",
     "text": [
      "                   all         66         66      0.983      0.985      0.986      0.852      0.983      0.985      0.986      0.829\n"
     ]
    },
    {
     "name": "stderr",
     "output_type": "stream",
     "text": [
      "\n"
     ]
    },
    {
     "name": "stdout",
     "output_type": "stream",
     "text": [
      "\n",
      "      Epoch    GPU_mem   box_loss   seg_loss   cls_loss   dfl_loss  Instances       Size\n"
     ]
    },
    {
     "name": "stderr",
     "output_type": "stream",
     "text": [
      "     86/200      5.12G     0.6008     0.8726      0.402     0.9633          8        640: 100%|██████████| 9/9 [00:02<0\n",
      "                 Class     Images  Instances      Box(P          R      mAP50  mAP50-95)     Mask(P          R      mAP"
     ]
    },
    {
     "name": "stdout",
     "output_type": "stream",
     "text": [
      "                   all         66         66      0.998       0.97      0.988      0.839      0.998       0.97      0.988       0.81\n"
     ]
    },
    {
     "name": "stderr",
     "output_type": "stream",
     "text": [
      "\n"
     ]
    },
    {
     "name": "stdout",
     "output_type": "stream",
     "text": [
      "\n",
      "      Epoch    GPU_mem   box_loss   seg_loss   cls_loss   dfl_loss  Instances       Size\n"
     ]
    },
    {
     "name": "stderr",
     "output_type": "stream",
     "text": [
      "     87/200      5.23G     0.5724     0.8849     0.3876     0.9586          8        640: 100%|██████████| 9/9 [00:02<0\n",
      "                 Class     Images  Instances      Box(P          R      mAP50  mAP50-95)     Mask(P          R      mAP"
     ]
    },
    {
     "name": "stdout",
     "output_type": "stream",
     "text": [
      "                   all         66         66      0.873       0.83      0.882      0.642      0.873       0.83      0.891      0.592\n"
     ]
    },
    {
     "name": "stderr",
     "output_type": "stream",
     "text": [
      "\n"
     ]
    },
    {
     "name": "stdout",
     "output_type": "stream",
     "text": [
      "\n",
      "      Epoch    GPU_mem   box_loss   seg_loss   cls_loss   dfl_loss  Instances       Size\n"
     ]
    },
    {
     "name": "stderr",
     "output_type": "stream",
     "text": [
      "     88/200      5.06G     0.6152     0.8982     0.3902     0.9685         16        640: 100%|██████████| 9/9 [00:02<0\n",
      "                 Class     Images  Instances      Box(P          R      mAP50  mAP50-95)     Mask(P          R      mAP"
     ]
    },
    {
     "name": "stdout",
     "output_type": "stream",
     "text": [
      "                   all         66         66          1      0.969      0.973      0.817          1      0.969      0.973        0.8\n"
     ]
    },
    {
     "name": "stderr",
     "output_type": "stream",
     "text": [
      "\n"
     ]
    },
    {
     "name": "stdout",
     "output_type": "stream",
     "text": [
      "\n",
      "      Epoch    GPU_mem   box_loss   seg_loss   cls_loss   dfl_loss  Instances       Size\n"
     ]
    },
    {
     "name": "stderr",
     "output_type": "stream",
     "text": [
      "     89/200      5.06G     0.6044      0.911     0.3767     0.9603         11        640: 100%|██████████| 9/9 [00:02<0\n",
      "                 Class     Images  Instances      Box(P          R      mAP50  mAP50-95)     Mask(P          R      mAP"
     ]
    },
    {
     "name": "stdout",
     "output_type": "stream",
     "text": [
      "                   all         66         66      0.998      0.955      0.991      0.829      0.998      0.955      0.991      0.814\n"
     ]
    },
    {
     "name": "stderr",
     "output_type": "stream",
     "text": [
      "\n"
     ]
    },
    {
     "name": "stdout",
     "output_type": "stream",
     "text": [
      "\n",
      "      Epoch    GPU_mem   box_loss   seg_loss   cls_loss   dfl_loss  Instances       Size\n"
     ]
    },
    {
     "name": "stderr",
     "output_type": "stream",
     "text": [
      "     90/200      5.15G     0.5815     0.9608     0.3836     0.9582         12        640: 100%|██████████| 9/9 [00:02<0\n",
      "                 Class     Images  Instances      Box(P          R      mAP50  mAP50-95)     Mask(P          R      mAP"
     ]
    },
    {
     "name": "stdout",
     "output_type": "stream",
     "text": [
      "                   all         66         66          1      0.983      0.992        0.8          1      0.983      0.992      0.817\n"
     ]
    },
    {
     "name": "stderr",
     "output_type": "stream",
     "text": [
      "\n"
     ]
    },
    {
     "name": "stdout",
     "output_type": "stream",
     "text": [
      "\n",
      "      Epoch    GPU_mem   box_loss   seg_loss   cls_loss   dfl_loss  Instances       Size\n"
     ]
    },
    {
     "name": "stderr",
     "output_type": "stream",
     "text": [
      "     91/200      5.11G     0.5653     0.8076     0.3656      0.929         12        640: 100%|██████████| 9/9 [00:02<0\n",
      "                 Class     Images  Instances      Box(P          R      mAP50  mAP50-95)     Mask(P          R      mAP"
     ]
    },
    {
     "name": "stdout",
     "output_type": "stream",
     "text": [
      "                   all         66         66      0.968      0.955      0.981      0.865      0.968      0.955      0.978      0.827\n"
     ]
    },
    {
     "name": "stderr",
     "output_type": "stream",
     "text": [
      "\n"
     ]
    },
    {
     "name": "stdout",
     "output_type": "stream",
     "text": [
      "\n",
      "      Epoch    GPU_mem   box_loss   seg_loss   cls_loss   dfl_loss  Instances       Size\n"
     ]
    },
    {
     "name": "stderr",
     "output_type": "stream",
     "text": [
      "     92/200      5.12G     0.5726     0.8631     0.3741     0.9566         11        640: 100%|██████████| 9/9 [00:02<0\n",
      "                 Class     Images  Instances      Box(P          R      mAP50  mAP50-95)     Mask(P          R      mAP"
     ]
    },
    {
     "name": "stdout",
     "output_type": "stream",
     "text": [
      "                   all         66         66          1      0.985      0.993      0.867          1      0.985      0.993      0.832\n"
     ]
    },
    {
     "name": "stderr",
     "output_type": "stream",
     "text": [
      "\n"
     ]
    },
    {
     "name": "stdout",
     "output_type": "stream",
     "text": [
      "\n",
      "      Epoch    GPU_mem   box_loss   seg_loss   cls_loss   dfl_loss  Instances       Size\n"
     ]
    },
    {
     "name": "stderr",
     "output_type": "stream",
     "text": [
      "     93/200      5.08G     0.6156     0.9277     0.3846     0.9598         11        640: 100%|██████████| 9/9 [00:02<0\n",
      "                 Class     Images  Instances      Box(P          R      mAP50  mAP50-95)     Mask(P          R      mAP"
     ]
    },
    {
     "name": "stdout",
     "output_type": "stream",
     "text": [
      "                   all         66         66      0.998      0.985      0.993      0.853      0.998      0.985      0.993      0.823\n"
     ]
    },
    {
     "name": "stderr",
     "output_type": "stream",
     "text": [
      "\n"
     ]
    },
    {
     "name": "stdout",
     "output_type": "stream",
     "text": [
      "\n",
      "      Epoch    GPU_mem   box_loss   seg_loss   cls_loss   dfl_loss  Instances       Size\n"
     ]
    },
    {
     "name": "stderr",
     "output_type": "stream",
     "text": [
      "     94/200      5.21G     0.5922     0.9163     0.3674     0.9551         13        640: 100%|██████████| 9/9 [00:02<0\n",
      "                 Class     Images  Instances      Box(P          R      mAP50  mAP50-95)     Mask(P          R      mAP"
     ]
    },
    {
     "name": "stdout",
     "output_type": "stream",
     "text": [
      "                   all         66         66      0.985       0.97      0.991      0.836      0.985       0.97      0.984      0.791\n"
     ]
    },
    {
     "name": "stderr",
     "output_type": "stream",
     "text": [
      "\n"
     ]
    },
    {
     "name": "stdout",
     "output_type": "stream",
     "text": [
      "\n",
      "      Epoch    GPU_mem   box_loss   seg_loss   cls_loss   dfl_loss  Instances       Size\n"
     ]
    },
    {
     "name": "stderr",
     "output_type": "stream",
     "text": [
      "     95/200      5.17G     0.5864     0.8472     0.3844     0.9438         13        640: 100%|██████████| 9/9 [00:02<0\n",
      "                 Class     Images  Instances      Box(P          R      mAP50  mAP50-95)     Mask(P          R      mAP"
     ]
    },
    {
     "name": "stdout",
     "output_type": "stream",
     "text": [
      "                   all         66         66          1      0.984      0.994      0.868          1      0.984      0.994      0.808\n"
     ]
    },
    {
     "name": "stderr",
     "output_type": "stream",
     "text": [
      "\n"
     ]
    },
    {
     "name": "stdout",
     "output_type": "stream",
     "text": [
      "\n",
      "      Epoch    GPU_mem   box_loss   seg_loss   cls_loss   dfl_loss  Instances       Size\n"
     ]
    },
    {
     "name": "stderr",
     "output_type": "stream",
     "text": [
      "     96/200      5.09G     0.5918     0.8266     0.3588     0.9428          5        640: 100%|██████████| 9/9 [00:02<0\n",
      "                 Class     Images  Instances      Box(P          R      mAP50  mAP50-95)     Mask(P          R      mAP"
     ]
    },
    {
     "name": "stdout",
     "output_type": "stream",
     "text": [
      "                   all         66         66      0.999          1      0.995      0.889      0.999          1      0.995      0.855\n"
     ]
    },
    {
     "name": "stderr",
     "output_type": "stream",
     "text": [
      "\n"
     ]
    },
    {
     "name": "stdout",
     "output_type": "stream",
     "text": [
      "\n",
      "      Epoch    GPU_mem   box_loss   seg_loss   cls_loss   dfl_loss  Instances       Size\n"
     ]
    },
    {
     "name": "stderr",
     "output_type": "stream",
     "text": [
      "     97/200      5.09G      0.576      0.842     0.3946     0.9448         11        640: 100%|██████████| 9/9 [00:02<0\n",
      "                 Class     Images  Instances      Box(P          R      mAP50  mAP50-95)     Mask(P          R      mAP"
     ]
    },
    {
     "name": "stdout",
     "output_type": "stream",
     "text": [
      "                   all         66         66      0.985      0.969      0.989      0.864      0.985      0.969      0.985      0.852\n"
     ]
    },
    {
     "name": "stderr",
     "output_type": "stream",
     "text": [
      "\n"
     ]
    },
    {
     "name": "stdout",
     "output_type": "stream",
     "text": [
      "\n",
      "      Epoch    GPU_mem   box_loss   seg_loss   cls_loss   dfl_loss  Instances       Size\n"
     ]
    },
    {
     "name": "stderr",
     "output_type": "stream",
     "text": [
      "     98/200      5.14G     0.5899     0.8402     0.3738     0.9531         10        640: 100%|██████████| 9/9 [00:02<0\n",
      "                 Class     Images  Instances      Box(P          R      mAP50  mAP50-95)     Mask(P          R      mAP"
     ]
    },
    {
     "name": "stdout",
     "output_type": "stream",
     "text": [
      "                   all         66         66      0.984      0.953      0.987      0.833      0.984      0.953      0.985      0.818\n"
     ]
    },
    {
     "name": "stderr",
     "output_type": "stream",
     "text": [
      "\n"
     ]
    },
    {
     "name": "stdout",
     "output_type": "stream",
     "text": [
      "\n",
      "      Epoch    GPU_mem   box_loss   seg_loss   cls_loss   dfl_loss  Instances       Size\n"
     ]
    },
    {
     "name": "stderr",
     "output_type": "stream",
     "text": [
      "     99/200      5.09G     0.6076     0.8434     0.3792     0.9589          7        640: 100%|██████████| 9/9 [00:02<0\n",
      "                 Class     Images  Instances      Box(P          R      mAP50  mAP50-95)     Mask(P          R      mAP"
     ]
    },
    {
     "name": "stdout",
     "output_type": "stream",
     "text": [
      "                   all         66         66          1      0.955      0.992      0.842          1      0.955      0.985      0.823\n"
     ]
    },
    {
     "name": "stderr",
     "output_type": "stream",
     "text": [
      "\n"
     ]
    },
    {
     "name": "stdout",
     "output_type": "stream",
     "text": [
      "\n",
      "      Epoch    GPU_mem   box_loss   seg_loss   cls_loss   dfl_loss  Instances       Size\n"
     ]
    },
    {
     "name": "stderr",
     "output_type": "stream",
     "text": [
      "    100/200      5.08G      0.581      0.818     0.3834     0.9264         10        640: 100%|██████████| 9/9 [00:02<0\n",
      "                 Class     Images  Instances      Box(P          R      mAP50  mAP50-95)     Mask(P          R      mAP"
     ]
    },
    {
     "name": "stdout",
     "output_type": "stream",
     "text": [
      "                   all         66         66          1      0.969      0.993      0.868          1      0.969      0.993      0.846\n"
     ]
    },
    {
     "name": "stderr",
     "output_type": "stream",
     "text": [
      "\n"
     ]
    },
    {
     "name": "stdout",
     "output_type": "stream",
     "text": [
      "\n",
      "      Epoch    GPU_mem   box_loss   seg_loss   cls_loss   dfl_loss  Instances       Size\n"
     ]
    },
    {
     "name": "stderr",
     "output_type": "stream",
     "text": [
      "    101/200      5.13G      0.611     0.9435     0.4073     0.9479          7        640: 100%|██████████| 9/9 [00:02<0\n",
      "                 Class     Images  Instances      Box(P          R      mAP50  mAP50-95)     Mask(P          R      mAP"
     ]
    },
    {
     "name": "stdout",
     "output_type": "stream",
     "text": [
      "                   all         66         66          1      0.968      0.994      0.839          1      0.968      0.994      0.832\n"
     ]
    },
    {
     "name": "stderr",
     "output_type": "stream",
     "text": [
      "\n"
     ]
    },
    {
     "name": "stdout",
     "output_type": "stream",
     "text": [
      "\n",
      "      Epoch    GPU_mem   box_loss   seg_loss   cls_loss   dfl_loss  Instances       Size\n"
     ]
    },
    {
     "name": "stderr",
     "output_type": "stream",
     "text": [
      "    102/200      5.06G     0.6135      0.934     0.4098     0.9603         12        640: 100%|██████████| 9/9 [00:02<0\n",
      "                 Class     Images  Instances      Box(P          R      mAP50  mAP50-95)     Mask(P          R      mAP"
     ]
    },
    {
     "name": "stdout",
     "output_type": "stream",
     "text": [
      "                   all         66         66      0.999      0.985      0.995      0.821      0.999      0.985      0.995      0.809\n"
     ]
    },
    {
     "name": "stderr",
     "output_type": "stream",
     "text": [
      "\n"
     ]
    },
    {
     "name": "stdout",
     "output_type": "stream",
     "text": [
      "\n",
      "      Epoch    GPU_mem   box_loss   seg_loss   cls_loss   dfl_loss  Instances       Size\n"
     ]
    },
    {
     "name": "stderr",
     "output_type": "stream",
     "text": [
      "    103/200      5.09G     0.5608      0.855     0.3923      0.919          7        640: 100%|██████████| 9/9 [00:02<0\n",
      "                 Class     Images  Instances      Box(P          R      mAP50  mAP50-95)     Mask(P          R      mAP"
     ]
    },
    {
     "name": "stdout",
     "output_type": "stream",
     "text": [
      "                   all         66         66      0.998       0.97      0.994      0.872      0.998       0.97      0.985      0.843\n"
     ]
    },
    {
     "name": "stderr",
     "output_type": "stream",
     "text": [
      "\n"
     ]
    },
    {
     "name": "stdout",
     "output_type": "stream",
     "text": [
      "\n",
      "      Epoch    GPU_mem   box_loss   seg_loss   cls_loss   dfl_loss  Instances       Size\n"
     ]
    },
    {
     "name": "stderr",
     "output_type": "stream",
     "text": [
      "    104/200      5.04G     0.5787      0.741     0.3702      0.944         12        640: 100%|██████████| 9/9 [00:02<0\n",
      "                 Class     Images  Instances      Box(P          R      mAP50  mAP50-95)     Mask(P          R      mAP"
     ]
    },
    {
     "name": "stdout",
     "output_type": "stream",
     "text": [
      "                   all         66         66          1      0.981      0.993      0.873      0.997       0.97      0.982      0.835\n"
     ]
    },
    {
     "name": "stderr",
     "output_type": "stream",
     "text": [
      "\n"
     ]
    },
    {
     "name": "stdout",
     "output_type": "stream",
     "text": [
      "\n",
      "      Epoch    GPU_mem   box_loss   seg_loss   cls_loss   dfl_loss  Instances       Size\n"
     ]
    },
    {
     "name": "stderr",
     "output_type": "stream",
     "text": [
      "    105/200      5.09G     0.5857     0.8041     0.3649     0.9691          6        640: 100%|██████████| 9/9 [00:02<0\n",
      "                 Class     Images  Instances      Box(P          R      mAP50  mAP50-95)     Mask(P          R      mAP"
     ]
    },
    {
     "name": "stdout",
     "output_type": "stream",
     "text": [
      "                   all         66         66      0.983      0.985      0.993       0.84      0.983      0.985      0.993       0.83\n"
     ]
    },
    {
     "name": "stderr",
     "output_type": "stream",
     "text": [
      "\n"
     ]
    },
    {
     "name": "stdout",
     "output_type": "stream",
     "text": [
      "\n",
      "      Epoch    GPU_mem   box_loss   seg_loss   cls_loss   dfl_loss  Instances       Size\n"
     ]
    },
    {
     "name": "stderr",
     "output_type": "stream",
     "text": [
      "    106/200      5.08G     0.5692     0.8777     0.3656     0.9366         13        640: 100%|██████████| 9/9 [00:02<0\n",
      "                 Class     Images  Instances      Box(P          R      mAP50  mAP50-95)     Mask(P          R      mAP"
     ]
    },
    {
     "name": "stdout",
     "output_type": "stream",
     "text": [
      "                   all         66         66      0.985          1      0.995      0.846      0.985          1      0.995      0.852\n"
     ]
    },
    {
     "name": "stderr",
     "output_type": "stream",
     "text": [
      "\n"
     ]
    },
    {
     "name": "stdout",
     "output_type": "stream",
     "text": [
      "\n",
      "      Epoch    GPU_mem   box_loss   seg_loss   cls_loss   dfl_loss  Instances       Size\n"
     ]
    },
    {
     "name": "stderr",
     "output_type": "stream",
     "text": [
      "    107/200      5.11G     0.5681     0.8181     0.3646     0.9419         12        640: 100%|██████████| 9/9 [00:02<0\n",
      "                 Class     Images  Instances      Box(P          R      mAP50  mAP50-95)     Mask(P          R      mAP"
     ]
    },
    {
     "name": "stdout",
     "output_type": "stream",
     "text": [
      "                   all         66         66      0.949      0.939      0.964       0.72      0.983      0.877       0.93      0.683\n"
     ]
    },
    {
     "name": "stderr",
     "output_type": "stream",
     "text": [
      "\n"
     ]
    },
    {
     "name": "stdout",
     "output_type": "stream",
     "text": [
      "\n",
      "      Epoch    GPU_mem   box_loss   seg_loss   cls_loss   dfl_loss  Instances       Size\n"
     ]
    },
    {
     "name": "stderr",
     "output_type": "stream",
     "text": [
      "    108/200      5.08G     0.5543     0.8791     0.3575     0.9262         10        640: 100%|██████████| 9/9 [00:02<0\n",
      "                 Class     Images  Instances      Box(P          R      mAP50  mAP50-95)     Mask(P          R      mAP"
     ]
    },
    {
     "name": "stdout",
     "output_type": "stream",
     "text": [
      "                   all         66         66          1      0.985      0.994      0.893          1      0.985      0.994      0.867\n"
     ]
    },
    {
     "name": "stderr",
     "output_type": "stream",
     "text": [
      "\n"
     ]
    },
    {
     "name": "stdout",
     "output_type": "stream",
     "text": [
      "\n",
      "      Epoch    GPU_mem   box_loss   seg_loss   cls_loss   dfl_loss  Instances       Size\n"
     ]
    },
    {
     "name": "stderr",
     "output_type": "stream",
     "text": [
      "    109/200       5.1G     0.5449      0.811     0.3568     0.9454          9        640: 100%|██████████| 9/9 [00:02<0\n",
      "                 Class     Images  Instances      Box(P          R      mAP50  mAP50-95)     Mask(P          R      mAP"
     ]
    },
    {
     "name": "stdout",
     "output_type": "stream",
     "text": [
      "                   all         66         66      0.998       0.97      0.991       0.87      0.998       0.97      0.986      0.855\n"
     ]
    },
    {
     "name": "stderr",
     "output_type": "stream",
     "text": [
      "\n"
     ]
    },
    {
     "name": "stdout",
     "output_type": "stream",
     "text": [
      "\n",
      "      Epoch    GPU_mem   box_loss   seg_loss   cls_loss   dfl_loss  Instances       Size\n"
     ]
    },
    {
     "name": "stderr",
     "output_type": "stream",
     "text": [
      "    110/200      5.08G     0.5411     0.8862     0.3536     0.9298         15        640: 100%|██████████| 9/9 [00:02<0\n",
      "                 Class     Images  Instances      Box(P          R      mAP50  mAP50-95)     Mask(P          R      mAP"
     ]
    },
    {
     "name": "stdout",
     "output_type": "stream",
     "text": [
      "                   all         66         66      0.995      0.985      0.994      0.849      0.995      0.985      0.994      0.818\n"
     ]
    },
    {
     "name": "stderr",
     "output_type": "stream",
     "text": [
      "\n"
     ]
    },
    {
     "name": "stdout",
     "output_type": "stream",
     "text": [
      "\n",
      "      Epoch    GPU_mem   box_loss   seg_loss   cls_loss   dfl_loss  Instances       Size\n"
     ]
    },
    {
     "name": "stderr",
     "output_type": "stream",
     "text": [
      "    111/200      5.06G     0.5742     0.8592     0.3563     0.9431         10        640: 100%|██████████| 9/9 [00:02<0\n",
      "                 Class     Images  Instances      Box(P          R      mAP50  mAP50-95)     Mask(P          R      mAP"
     ]
    },
    {
     "name": "stdout",
     "output_type": "stream",
     "text": [
      "                   all         66         66      0.985      0.998      0.995      0.885      0.985      0.998      0.995      0.867\n"
     ]
    },
    {
     "name": "stderr",
     "output_type": "stream",
     "text": [
      "\n"
     ]
    },
    {
     "name": "stdout",
     "output_type": "stream",
     "text": [
      "\n",
      "      Epoch    GPU_mem   box_loss   seg_loss   cls_loss   dfl_loss  Instances       Size\n"
     ]
    },
    {
     "name": "stderr",
     "output_type": "stream",
     "text": [
      "    112/200       5.1G     0.5363     0.8175     0.3575     0.9307          9        640: 100%|██████████| 9/9 [00:02<0\n",
      "                 Class     Images  Instances      Box(P          R      mAP50  mAP50-95)     Mask(P          R      mAP"
     ]
    },
    {
     "name": "stdout",
     "output_type": "stream",
     "text": [
      "                   all         66         66      0.998          1      0.995       0.88      0.998          1      0.995      0.851\n"
     ]
    },
    {
     "name": "stderr",
     "output_type": "stream",
     "text": [
      "\n"
     ]
    },
    {
     "name": "stdout",
     "output_type": "stream",
     "text": [
      "\n",
      "      Epoch    GPU_mem   box_loss   seg_loss   cls_loss   dfl_loss  Instances       Size\n"
     ]
    },
    {
     "name": "stderr",
     "output_type": "stream",
     "text": [
      "    113/200      5.07G     0.5252     0.8145     0.3473     0.9203          8        640: 100%|██████████| 9/9 [00:02<0\n",
      "                 Class     Images  Instances      Box(P          R      mAP50  mAP50-95)     Mask(P          R      mAP"
     ]
    },
    {
     "name": "stdout",
     "output_type": "stream",
     "text": [
      "                   all         66         66      0.999       0.97      0.993      0.841      0.983      0.955      0.984      0.829\n"
     ]
    },
    {
     "name": "stderr",
     "output_type": "stream",
     "text": [
      "\n"
     ]
    },
    {
     "name": "stdout",
     "output_type": "stream",
     "text": [
      "\n",
      "      Epoch    GPU_mem   box_loss   seg_loss   cls_loss   dfl_loss  Instances       Size\n"
     ]
    },
    {
     "name": "stderr",
     "output_type": "stream",
     "text": [
      "    114/200      5.06G      0.556     0.8583      0.359     0.9331         15        640: 100%|██████████| 9/9 [00:02<0\n",
      "                 Class     Images  Instances      Box(P          R      mAP50  mAP50-95)     Mask(P          R      mAP"
     ]
    },
    {
     "name": "stdout",
     "output_type": "stream",
     "text": [
      "                   all         66         66      0.997      0.985      0.991      0.855      0.997      0.985      0.991      0.847\n"
     ]
    },
    {
     "name": "stderr",
     "output_type": "stream",
     "text": [
      "\n"
     ]
    },
    {
     "name": "stdout",
     "output_type": "stream",
     "text": [
      "\n",
      "      Epoch    GPU_mem   box_loss   seg_loss   cls_loss   dfl_loss  Instances       Size\n"
     ]
    },
    {
     "name": "stderr",
     "output_type": "stream",
     "text": [
      "    115/200      5.16G     0.5829     0.8582     0.3576     0.9705         11        640: 100%|██████████| 9/9 [00:02<0\n",
      "                 Class     Images  Instances      Box(P          R      mAP50  mAP50-95)     Mask(P          R      mAP"
     ]
    },
    {
     "name": "stdout",
     "output_type": "stream",
     "text": [
      "                   all         66         66      0.999          1      0.995      0.872      0.999          1      0.995      0.843\n"
     ]
    },
    {
     "name": "stderr",
     "output_type": "stream",
     "text": [
      "\n"
     ]
    },
    {
     "name": "stdout",
     "output_type": "stream",
     "text": [
      "\n",
      "      Epoch    GPU_mem   box_loss   seg_loss   cls_loss   dfl_loss  Instances       Size\n"
     ]
    },
    {
     "name": "stderr",
     "output_type": "stream",
     "text": [
      "    116/200      5.06G     0.5349     0.9065     0.3343     0.9239         12        640: 100%|██████████| 9/9 [00:02<0\n",
      "                 Class     Images  Instances      Box(P          R      mAP50  mAP50-95)     Mask(P          R      mAP"
     ]
    },
    {
     "name": "stdout",
     "output_type": "stream",
     "text": [
      "                   all         66         66      0.999          1      0.995      0.854      0.999          1      0.995      0.821\n"
     ]
    },
    {
     "name": "stderr",
     "output_type": "stream",
     "text": [
      "\n"
     ]
    },
    {
     "name": "stdout",
     "output_type": "stream",
     "text": [
      "\n",
      "      Epoch    GPU_mem   box_loss   seg_loss   cls_loss   dfl_loss  Instances       Size\n"
     ]
    },
    {
     "name": "stderr",
     "output_type": "stream",
     "text": [
      "    117/200      5.16G     0.5451     0.7645     0.3316     0.9238         12        640: 100%|██████████| 9/9 [00:02<0\n",
      "                 Class     Images  Instances      Box(P          R      mAP50  mAP50-95)     Mask(P          R      mAP"
     ]
    },
    {
     "name": "stdout",
     "output_type": "stream",
     "text": [
      "                   all         66         66      0.999          1      0.995      0.884      0.999          1      0.995      0.845\n"
     ]
    },
    {
     "name": "stderr",
     "output_type": "stream",
     "text": [
      "\n"
     ]
    },
    {
     "name": "stdout",
     "output_type": "stream",
     "text": [
      "\n",
      "      Epoch    GPU_mem   box_loss   seg_loss   cls_loss   dfl_loss  Instances       Size\n"
     ]
    },
    {
     "name": "stderr",
     "output_type": "stream",
     "text": [
      "    118/200      5.08G     0.5621     0.8506     0.3473     0.9412          8        640: 100%|██████████| 9/9 [00:02<0\n",
      "                 Class     Images  Instances      Box(P          R      mAP50  mAP50-95)     Mask(P          R      mAP"
     ]
    },
    {
     "name": "stdout",
     "output_type": "stream",
     "text": [
      "                   all         66         66      0.998       0.97      0.993      0.869      0.998       0.97      0.993       0.85\n"
     ]
    },
    {
     "name": "stderr",
     "output_type": "stream",
     "text": [
      "\n"
     ]
    },
    {
     "name": "stdout",
     "output_type": "stream",
     "text": [
      "\n",
      "      Epoch    GPU_mem   box_loss   seg_loss   cls_loss   dfl_loss  Instances       Size\n"
     ]
    },
    {
     "name": "stderr",
     "output_type": "stream",
     "text": [
      "    119/200      5.06G     0.5697     0.8817     0.3501     0.9361         10        640: 100%|██████████| 9/9 [00:02<0\n",
      "                 Class     Images  Instances      Box(P          R      mAP50  mAP50-95)     Mask(P          R      mAP"
     ]
    },
    {
     "name": "stdout",
     "output_type": "stream",
     "text": [
      "                   all         66         66      0.998       0.97      0.984      0.868      0.998       0.97      0.987      0.852\n"
     ]
    },
    {
     "name": "stderr",
     "output_type": "stream",
     "text": [
      "\n"
     ]
    },
    {
     "name": "stdout",
     "output_type": "stream",
     "text": [
      "\n",
      "      Epoch    GPU_mem   box_loss   seg_loss   cls_loss   dfl_loss  Instances       Size\n"
     ]
    },
    {
     "name": "stderr",
     "output_type": "stream",
     "text": [
      "    120/200      5.23G     0.5286     0.7864     0.3225     0.9268         11        640: 100%|██████████| 9/9 [00:02<0\n",
      "                 Class     Images  Instances      Box(P          R      mAP50  mAP50-95)     Mask(P          R      mAP"
     ]
    },
    {
     "name": "stdout",
     "output_type": "stream",
     "text": [
      "                   all         66         66      0.997       0.97      0.992      0.881      0.997       0.97      0.991      0.845\n"
     ]
    },
    {
     "name": "stderr",
     "output_type": "stream",
     "text": [
      "\n"
     ]
    },
    {
     "name": "stdout",
     "output_type": "stream",
     "text": [
      "\n",
      "      Epoch    GPU_mem   box_loss   seg_loss   cls_loss   dfl_loss  Instances       Size\n"
     ]
    },
    {
     "name": "stderr",
     "output_type": "stream",
     "text": [
      "    121/200      5.04G     0.5854     0.8008     0.3624     0.9583         15        640: 100%|██████████| 9/9 [00:02<0\n",
      "                 Class     Images  Instances      Box(P          R      mAP50  mAP50-95)     Mask(P          R      mAP"
     ]
    },
    {
     "name": "stdout",
     "output_type": "stream",
     "text": [
      "                   all         66         66          1      0.983      0.993      0.872          1      0.983      0.993      0.854\n"
     ]
    },
    {
     "name": "stderr",
     "output_type": "stream",
     "text": [
      "\n"
     ]
    },
    {
     "name": "stdout",
     "output_type": "stream",
     "text": [
      "\n",
      "      Epoch    GPU_mem   box_loss   seg_loss   cls_loss   dfl_loss  Instances       Size\n"
     ]
    },
    {
     "name": "stderr",
     "output_type": "stream",
     "text": [
      "    122/200      5.14G     0.5595     0.7788     0.3385     0.9338         13        640: 100%|██████████| 9/9 [00:02<0\n",
      "                 Class     Images  Instances      Box(P          R      mAP50  mAP50-95)     Mask(P          R      mAP"
     ]
    },
    {
     "name": "stdout",
     "output_type": "stream",
     "text": [
      "                   all         66         66      0.999       0.97      0.993      0.881      0.999       0.97      0.993      0.856\n"
     ]
    },
    {
     "name": "stderr",
     "output_type": "stream",
     "text": [
      "\n"
     ]
    },
    {
     "name": "stdout",
     "output_type": "stream",
     "text": [
      "\n",
      "      Epoch    GPU_mem   box_loss   seg_loss   cls_loss   dfl_loss  Instances       Size\n"
     ]
    },
    {
     "name": "stderr",
     "output_type": "stream",
     "text": [
      "    123/200      5.04G     0.5518     0.8038     0.3523     0.9421         11        640: 100%|██████████| 9/9 [00:02<0\n",
      "                 Class     Images  Instances      Box(P          R      mAP50  mAP50-95)     Mask(P          R      mAP"
     ]
    },
    {
     "name": "stdout",
     "output_type": "stream",
     "text": [
      "                   all         66         66      0.999       0.97      0.992      0.867      0.999       0.97      0.992      0.841\n"
     ]
    },
    {
     "name": "stderr",
     "output_type": "stream",
     "text": [
      "\n"
     ]
    },
    {
     "name": "stdout",
     "output_type": "stream",
     "text": [
      "\n",
      "      Epoch    GPU_mem   box_loss   seg_loss   cls_loss   dfl_loss  Instances       Size\n"
     ]
    },
    {
     "name": "stderr",
     "output_type": "stream",
     "text": [
      "    124/200      5.08G     0.5361     0.8122     0.3267     0.9152         12        640: 100%|██████████| 9/9 [00:02<0\n",
      "                 Class     Images  Instances      Box(P          R      mAP50  mAP50-95)     Mask(P          R      mAP"
     ]
    },
    {
     "name": "stdout",
     "output_type": "stream",
     "text": [
      "                   all         66         66      0.999      0.985      0.995      0.901      0.999      0.985      0.995      0.867\n"
     ]
    },
    {
     "name": "stderr",
     "output_type": "stream",
     "text": [
      "\n"
     ]
    },
    {
     "name": "stdout",
     "output_type": "stream",
     "text": [
      "\n",
      "      Epoch    GPU_mem   box_loss   seg_loss   cls_loss   dfl_loss  Instances       Size\n"
     ]
    },
    {
     "name": "stderr",
     "output_type": "stream",
     "text": [
      "    125/200      5.17G     0.5572     0.8151     0.3504     0.9395         16        640: 100%|██████████| 9/9 [00:02<0\n",
      "                 Class     Images  Instances      Box(P          R      mAP50  mAP50-95)     Mask(P          R      mAP"
     ]
    },
    {
     "name": "stdout",
     "output_type": "stream",
     "text": [
      "                   all         66         66      0.999      0.985      0.995      0.883      0.999      0.985      0.995      0.853\n"
     ]
    },
    {
     "name": "stderr",
     "output_type": "stream",
     "text": [
      "\n"
     ]
    },
    {
     "name": "stdout",
     "output_type": "stream",
     "text": [
      "\n",
      "      Epoch    GPU_mem   box_loss   seg_loss   cls_loss   dfl_loss  Instances       Size\n"
     ]
    },
    {
     "name": "stderr",
     "output_type": "stream",
     "text": [
      "    126/200      5.16G     0.5079     0.7424     0.3295     0.9189          6        640: 100%|██████████| 9/9 [00:02<0\n",
      "                 Class     Images  Instances      Box(P          R      mAP50  mAP50-95)     Mask(P          R      mAP"
     ]
    },
    {
     "name": "stdout",
     "output_type": "stream",
     "text": [
      "                   all         66         66      0.985      0.999      0.994      0.873      0.985      0.999      0.994      0.847\n"
     ]
    },
    {
     "name": "stderr",
     "output_type": "stream",
     "text": [
      "\n"
     ]
    },
    {
     "name": "stdout",
     "output_type": "stream",
     "text": [
      "\n",
      "      Epoch    GPU_mem   box_loss   seg_loss   cls_loss   dfl_loss  Instances       Size\n"
     ]
    },
    {
     "name": "stderr",
     "output_type": "stream",
     "text": [
      "    127/200      5.06G     0.5623      0.807     0.3458     0.9322         12        640: 100%|██████████| 9/9 [00:02<0\n",
      "                 Class     Images  Instances      Box(P          R      mAP50  mAP50-95)     Mask(P          R      mAP"
     ]
    },
    {
     "name": "stdout",
     "output_type": "stream",
     "text": [
      "                   all         66         66      0.984          1      0.995       0.87      0.984          1      0.995      0.854\n"
     ]
    },
    {
     "name": "stderr",
     "output_type": "stream",
     "text": [
      "\n"
     ]
    },
    {
     "name": "stdout",
     "output_type": "stream",
     "text": [
      "\n",
      "      Epoch    GPU_mem   box_loss   seg_loss   cls_loss   dfl_loss  Instances       Size\n"
     ]
    },
    {
     "name": "stderr",
     "output_type": "stream",
     "text": [
      "    128/200      5.06G     0.5835     0.9015      0.404     0.9587         10        640: 100%|██████████| 9/9 [00:02<0\n",
      "                 Class     Images  Instances      Box(P          R      mAP50  mAP50-95)     Mask(P          R      mAP"
     ]
    },
    {
     "name": "stdout",
     "output_type": "stream",
     "text": [
      "                   all         66         66          1          1      0.995      0.859      0.997      0.985      0.987      0.831\n"
     ]
    },
    {
     "name": "stderr",
     "output_type": "stream",
     "text": [
      "\n"
     ]
    },
    {
     "name": "stdout",
     "output_type": "stream",
     "text": [
      "\n",
      "      Epoch    GPU_mem   box_loss   seg_loss   cls_loss   dfl_loss  Instances       Size\n"
     ]
    },
    {
     "name": "stderr",
     "output_type": "stream",
     "text": [
      "    129/200      5.15G     0.5555     0.7774     0.3395     0.9468          9        640: 100%|██████████| 9/9 [00:02<0\n",
      "                 Class     Images  Instances      Box(P          R      mAP50  mAP50-95)     Mask(P          R      mAP"
     ]
    },
    {
     "name": "stdout",
     "output_type": "stream",
     "text": [
      "                   all         66         66          1       0.97      0.993      0.856          1       0.97      0.993      0.844\n"
     ]
    },
    {
     "name": "stderr",
     "output_type": "stream",
     "text": [
      "\n"
     ]
    },
    {
     "name": "stdout",
     "output_type": "stream",
     "text": [
      "\n",
      "      Epoch    GPU_mem   box_loss   seg_loss   cls_loss   dfl_loss  Instances       Size\n"
     ]
    },
    {
     "name": "stderr",
     "output_type": "stream",
     "text": [
      "    130/200      5.06G      0.539     0.9115     0.3554     0.9421          8        640: 100%|██████████| 9/9 [00:02<0\n",
      "                 Class     Images  Instances      Box(P          R      mAP50  mAP50-95)     Mask(P          R      mAP"
     ]
    },
    {
     "name": "stdout",
     "output_type": "stream",
     "text": [
      "                   all         66         66      0.985      0.999      0.994      0.894      0.985      0.999      0.994      0.865\n"
     ]
    },
    {
     "name": "stderr",
     "output_type": "stream",
     "text": [
      "\n"
     ]
    },
    {
     "name": "stdout",
     "output_type": "stream",
     "text": [
      "\n",
      "      Epoch    GPU_mem   box_loss   seg_loss   cls_loss   dfl_loss  Instances       Size\n"
     ]
    },
    {
     "name": "stderr",
     "output_type": "stream",
     "text": [
      "    131/200      5.08G      0.568     0.8319     0.3516     0.9241         15        640: 100%|██████████| 9/9 [00:02<0\n",
      "                 Class     Images  Instances      Box(P          R      mAP50  mAP50-95)     Mask(P          R      mAP"
     ]
    },
    {
     "name": "stdout",
     "output_type": "stream",
     "text": [
      "                   all         66         66          1      0.999      0.995      0.893          1      0.999      0.995      0.862\n"
     ]
    },
    {
     "name": "stderr",
     "output_type": "stream",
     "text": [
      "\n"
     ]
    },
    {
     "name": "stdout",
     "output_type": "stream",
     "text": [
      "\n",
      "      Epoch    GPU_mem   box_loss   seg_loss   cls_loss   dfl_loss  Instances       Size\n"
     ]
    },
    {
     "name": "stderr",
     "output_type": "stream",
     "text": [
      "    132/200      5.08G     0.5291     0.7901     0.3436     0.9133         12        640: 100%|██████████| 9/9 [00:02<0\n",
      "                 Class     Images  Instances      Box(P          R      mAP50  mAP50-95)     Mask(P          R      mAP"
     ]
    },
    {
     "name": "stdout",
     "output_type": "stream",
     "text": [
      "                   all         66         66      0.999      0.985      0.995      0.885      0.999      0.985      0.995      0.863\n"
     ]
    },
    {
     "name": "stderr",
     "output_type": "stream",
     "text": [
      "\n"
     ]
    },
    {
     "name": "stdout",
     "output_type": "stream",
     "text": [
      "\n",
      "      Epoch    GPU_mem   box_loss   seg_loss   cls_loss   dfl_loss  Instances       Size\n"
     ]
    },
    {
     "name": "stderr",
     "output_type": "stream",
     "text": [
      "    133/200      5.09G     0.5215     0.7662     0.3316     0.9226         12        640: 100%|██████████| 9/9 [00:02<0\n",
      "                 Class     Images  Instances      Box(P          R      mAP50  mAP50-95)     Mask(P          R      mAP"
     ]
    },
    {
     "name": "stdout",
     "output_type": "stream",
     "text": [
      "                   all         66         66          1      0.984      0.995      0.885          1      0.984      0.995      0.858\n"
     ]
    },
    {
     "name": "stderr",
     "output_type": "stream",
     "text": [
      "\n"
     ]
    },
    {
     "name": "stdout",
     "output_type": "stream",
     "text": [
      "\n",
      "      Epoch    GPU_mem   box_loss   seg_loss   cls_loss   dfl_loss  Instances       Size\n"
     ]
    },
    {
     "name": "stderr",
     "output_type": "stream",
     "text": [
      "    134/200      5.08G     0.5268     0.7515     0.3293     0.9177         12        640: 100%|██████████| 9/9 [00:02<0\n",
      "                 Class     Images  Instances      Box(P          R      mAP50  mAP50-95)     Mask(P          R      mAP"
     ]
    },
    {
     "name": "stdout",
     "output_type": "stream",
     "text": [
      "                   all         66         66          1      0.999      0.995      0.878          1      0.999      0.995      0.859\n"
     ]
    },
    {
     "name": "stderr",
     "output_type": "stream",
     "text": [
      "\n"
     ]
    },
    {
     "name": "stdout",
     "output_type": "stream",
     "text": [
      "\n",
      "      Epoch    GPU_mem   box_loss   seg_loss   cls_loss   dfl_loss  Instances       Size\n"
     ]
    },
    {
     "name": "stderr",
     "output_type": "stream",
     "text": [
      "    135/200       5.1G     0.4789     0.7583     0.3058     0.9071         11        640: 100%|██████████| 9/9 [00:02<0\n",
      "                 Class     Images  Instances      Box(P          R      mAP50  mAP50-95)     Mask(P          R      mAP"
     ]
    },
    {
     "name": "stdout",
     "output_type": "stream",
     "text": [
      "                   all         66         66      0.999          1      0.995      0.894      0.999          1      0.995      0.877\n"
     ]
    },
    {
     "name": "stderr",
     "output_type": "stream",
     "text": [
      "\n"
     ]
    },
    {
     "name": "stdout",
     "output_type": "stream",
     "text": [
      "\n",
      "      Epoch    GPU_mem   box_loss   seg_loss   cls_loss   dfl_loss  Instances       Size\n"
     ]
    },
    {
     "name": "stderr",
     "output_type": "stream",
     "text": [
      "    136/200      5.08G      0.522     0.7336     0.3333     0.9268         11        640: 100%|██████████| 9/9 [00:02<0\n",
      "                 Class     Images  Instances      Box(P          R      mAP50  mAP50-95)     Mask(P          R      mAP"
     ]
    },
    {
     "name": "stdout",
     "output_type": "stream",
     "text": [
      "                   all         66         66      0.998      0.985      0.995      0.893      0.998      0.985      0.995      0.858\n"
     ]
    },
    {
     "name": "stderr",
     "output_type": "stream",
     "text": [
      "\n"
     ]
    },
    {
     "name": "stdout",
     "output_type": "stream",
     "text": [
      "\n",
      "      Epoch    GPU_mem   box_loss   seg_loss   cls_loss   dfl_loss  Instances       Size\n"
     ]
    },
    {
     "name": "stderr",
     "output_type": "stream",
     "text": [
      "    137/200      5.04G     0.5164      0.745     0.3271     0.9109         13        640: 100%|██████████| 9/9 [00:02<0\n",
      "                 Class     Images  Instances      Box(P          R      mAP50  mAP50-95)     Mask(P          R      mAP"
     ]
    },
    {
     "name": "stdout",
     "output_type": "stream",
     "text": [
      "                   all         66         66      0.985          1      0.991      0.903      0.985          1      0.991      0.873\n"
     ]
    },
    {
     "name": "stderr",
     "output_type": "stream",
     "text": [
      "\n"
     ]
    },
    {
     "name": "stdout",
     "output_type": "stream",
     "text": [
      "\n",
      "      Epoch    GPU_mem   box_loss   seg_loss   cls_loss   dfl_loss  Instances       Size\n"
     ]
    },
    {
     "name": "stderr",
     "output_type": "stream",
     "text": [
      "    138/200      5.08G     0.4921     0.7634     0.3272     0.9108         12        640: 100%|██████████| 9/9 [00:02<0\n",
      "                 Class     Images  Instances      Box(P          R      mAP50  mAP50-95)     Mask(P          R      mAP"
     ]
    },
    {
     "name": "stdout",
     "output_type": "stream",
     "text": [
      "                   all         66         66      0.984          1      0.995      0.876      0.984          1      0.995      0.841\n"
     ]
    },
    {
     "name": "stderr",
     "output_type": "stream",
     "text": [
      "\n"
     ]
    },
    {
     "name": "stdout",
     "output_type": "stream",
     "text": [
      "\n",
      "      Epoch    GPU_mem   box_loss   seg_loss   cls_loss   dfl_loss  Instances       Size\n"
     ]
    },
    {
     "name": "stderr",
     "output_type": "stream",
     "text": [
      "    139/200      5.04G     0.5151     0.7869     0.3393     0.9247          9        640: 100%|██████████| 9/9 [00:02<0\n",
      "                 Class     Images  Instances      Box(P          R      mAP50  mAP50-95)     Mask(P          R      mAP"
     ]
    },
    {
     "name": "stdout",
     "output_type": "stream",
     "text": [
      "                   all         66         66      0.999          1      0.995      0.884      0.984      0.985      0.986      0.841\n"
     ]
    },
    {
     "name": "stderr",
     "output_type": "stream",
     "text": [
      "\n"
     ]
    },
    {
     "name": "stdout",
     "output_type": "stream",
     "text": [
      "\n",
      "      Epoch    GPU_mem   box_loss   seg_loss   cls_loss   dfl_loss  Instances       Size\n"
     ]
    },
    {
     "name": "stderr",
     "output_type": "stream",
     "text": [
      "    140/200      5.08G     0.5162     0.7789     0.3281     0.9207         13        640: 100%|██████████| 9/9 [00:02<0\n",
      "                 Class     Images  Instances      Box(P          R      mAP50  mAP50-95)     Mask(P          R      mAP"
     ]
    },
    {
     "name": "stdout",
     "output_type": "stream",
     "text": [
      "                   all         66         66      0.985          1      0.995      0.895      0.955       0.97      0.971      0.829\n"
     ]
    },
    {
     "name": "stderr",
     "output_type": "stream",
     "text": [
      "\n"
     ]
    },
    {
     "name": "stdout",
     "output_type": "stream",
     "text": [
      "\n",
      "      Epoch    GPU_mem   box_loss   seg_loss   cls_loss   dfl_loss  Instances       Size\n"
     ]
    },
    {
     "name": "stderr",
     "output_type": "stream",
     "text": [
      "    141/200      5.06G     0.4759     0.7171     0.3006     0.9076          9        640: 100%|██████████| 9/9 [00:02<0\n",
      "                 Class     Images  Instances      Box(P          R      mAP50  mAP50-95)     Mask(P          R      mAP"
     ]
    },
    {
     "name": "stdout",
     "output_type": "stream",
     "text": [
      "                   all         66         66      0.997          1      0.995      0.887      0.997          1      0.995      0.867\n"
     ]
    },
    {
     "name": "stderr",
     "output_type": "stream",
     "text": [
      "\n"
     ]
    },
    {
     "name": "stdout",
     "output_type": "stream",
     "text": [
      "\n",
      "      Epoch    GPU_mem   box_loss   seg_loss   cls_loss   dfl_loss  Instances       Size\n"
     ]
    },
    {
     "name": "stderr",
     "output_type": "stream",
     "text": [
      "    142/200       5.1G     0.4742     0.7064     0.3081     0.9072         10        640: 100%|██████████| 9/9 [00:02<0\n",
      "                 Class     Images  Instances      Box(P          R      mAP50  mAP50-95)     Mask(P          R      mAP"
     ]
    },
    {
     "name": "stdout",
     "output_type": "stream",
     "text": [
      "                   all         66         66          1          1      0.995      0.906          1          1      0.995       0.87\n"
     ]
    },
    {
     "name": "stderr",
     "output_type": "stream",
     "text": [
      "\n"
     ]
    },
    {
     "name": "stdout",
     "output_type": "stream",
     "text": [
      "\n",
      "      Epoch    GPU_mem   box_loss   seg_loss   cls_loss   dfl_loss  Instances       Size\n"
     ]
    },
    {
     "name": "stderr",
     "output_type": "stream",
     "text": [
      "    143/200      5.08G     0.5282     0.7661     0.3314     0.9252         10        640: 100%|██████████| 9/9 [00:02<0\n",
      "                 Class     Images  Instances      Box(P          R      mAP50  mAP50-95)     Mask(P          R      mAP"
     ]
    },
    {
     "name": "stdout",
     "output_type": "stream",
     "text": [
      "                   all         66         66          1      0.984      0.995      0.903          1      0.984      0.995      0.871\n"
     ]
    },
    {
     "name": "stderr",
     "output_type": "stream",
     "text": [
      "\n"
     ]
    },
    {
     "name": "stdout",
     "output_type": "stream",
     "text": [
      "\n",
      "      Epoch    GPU_mem   box_loss   seg_loss   cls_loss   dfl_loss  Instances       Size\n"
     ]
    },
    {
     "name": "stderr",
     "output_type": "stream",
     "text": [
      "    144/200      5.08G     0.5242     0.8233     0.3364     0.9361         12        640: 100%|██████████| 9/9 [00:02<0\n",
      "                 Class     Images  Instances      Box(P          R      mAP50  mAP50-95)     Mask(P          R      mAP"
     ]
    },
    {
     "name": "stdout",
     "output_type": "stream",
     "text": [
      "                   all         66         66      0.998          1      0.995      0.895      0.998          1      0.995      0.862\n"
     ]
    },
    {
     "name": "stderr",
     "output_type": "stream",
     "text": [
      "\n"
     ]
    },
    {
     "name": "stdout",
     "output_type": "stream",
     "text": [
      "\n",
      "      Epoch    GPU_mem   box_loss   seg_loss   cls_loss   dfl_loss  Instances       Size\n"
     ]
    },
    {
     "name": "stderr",
     "output_type": "stream",
     "text": [
      "    145/200      5.02G     0.4534     0.7336     0.2968     0.8957         10        640: 100%|██████████| 9/9 [00:02<0\n",
      "                 Class     Images  Instances      Box(P          R      mAP50  mAP50-95)     Mask(P          R      mAP"
     ]
    },
    {
     "name": "stdout",
     "output_type": "stream",
     "text": [
      "                   all         66         66      0.999          1      0.995      0.896      0.999          1      0.995      0.873\n"
     ]
    },
    {
     "name": "stderr",
     "output_type": "stream",
     "text": [
      "\n"
     ]
    },
    {
     "name": "stdout",
     "output_type": "stream",
     "text": [
      "\n",
      "      Epoch    GPU_mem   box_loss   seg_loss   cls_loss   dfl_loss  Instances       Size\n"
     ]
    },
    {
     "name": "stderr",
     "output_type": "stream",
     "text": [
      "    146/200      5.06G     0.4893     0.7018     0.3233     0.9191          7        640: 100%|██████████| 9/9 [00:02<0\n",
      "                 Class     Images  Instances      Box(P          R      mAP50  mAP50-95)     Mask(P          R      mAP"
     ]
    },
    {
     "name": "stdout",
     "output_type": "stream",
     "text": [
      "                   all         66         66      0.999          1      0.995      0.888      0.999          1      0.995      0.855\n"
     ]
    },
    {
     "name": "stderr",
     "output_type": "stream",
     "text": [
      "\n"
     ]
    },
    {
     "name": "stdout",
     "output_type": "stream",
     "text": [
      "\n",
      "      Epoch    GPU_mem   box_loss   seg_loss   cls_loss   dfl_loss  Instances       Size\n"
     ]
    },
    {
     "name": "stderr",
     "output_type": "stream",
     "text": [
      "    147/200      5.04G     0.4792     0.7419     0.3072     0.9115         13        640: 100%|██████████| 9/9 [00:02<0\n",
      "                 Class     Images  Instances      Box(P          R      mAP50  mAP50-95)     Mask(P          R      mAP"
     ]
    },
    {
     "name": "stdout",
     "output_type": "stream",
     "text": [
      "                   all         66         66      0.984      0.985      0.988      0.906      0.984      0.985      0.988      0.872\n"
     ]
    },
    {
     "name": "stderr",
     "output_type": "stream",
     "text": [
      "\n"
     ]
    },
    {
     "name": "stdout",
     "output_type": "stream",
     "text": [
      "\n",
      "      Epoch    GPU_mem   box_loss   seg_loss   cls_loss   dfl_loss  Instances       Size\n"
     ]
    },
    {
     "name": "stderr",
     "output_type": "stream",
     "text": [
      "    148/200      5.06G     0.5067     0.7006     0.3118     0.9135         11        640: 100%|██████████| 9/9 [00:02<0\n",
      "                 Class     Images  Instances      Box(P          R      mAP50  mAP50-95)     Mask(P          R      mAP"
     ]
    },
    {
     "name": "stdout",
     "output_type": "stream",
     "text": [
      "                   all         66         66      0.999          1      0.995      0.889      0.999          1      0.995      0.874\n"
     ]
    },
    {
     "name": "stderr",
     "output_type": "stream",
     "text": [
      "\n"
     ]
    },
    {
     "name": "stdout",
     "output_type": "stream",
     "text": [
      "\n",
      "      Epoch    GPU_mem   box_loss   seg_loss   cls_loss   dfl_loss  Instances       Size\n"
     ]
    },
    {
     "name": "stderr",
     "output_type": "stream",
     "text": [
      "    149/200      5.09G     0.4966     0.7239     0.3441     0.9006          5        640: 100%|██████████| 9/9 [00:02<0\n",
      "                 Class     Images  Instances      Box(P          R      mAP50  mAP50-95)     Mask(P          R      mAP"
     ]
    },
    {
     "name": "stdout",
     "output_type": "stream",
     "text": [
      "                   all         66         66      0.999          1      0.995      0.899      0.999          1      0.995      0.862\n"
     ]
    },
    {
     "name": "stderr",
     "output_type": "stream",
     "text": [
      "\n"
     ]
    },
    {
     "name": "stdout",
     "output_type": "stream",
     "text": [
      "\n",
      "      Epoch    GPU_mem   box_loss   seg_loss   cls_loss   dfl_loss  Instances       Size\n"
     ]
    },
    {
     "name": "stderr",
     "output_type": "stream",
     "text": [
      "    150/200      5.08G     0.5099     0.7285     0.3241     0.9281         13        640: 100%|██████████| 9/9 [00:02<0\n",
      "                 Class     Images  Instances      Box(P          R      mAP50  mAP50-95)     Mask(P          R      mAP"
     ]
    },
    {
     "name": "stdout",
     "output_type": "stream",
     "text": [
      "                   all         66         66          1          1      0.995      0.894          1          1      0.995      0.863\n"
     ]
    },
    {
     "name": "stderr",
     "output_type": "stream",
     "text": [
      "\n"
     ]
    },
    {
     "name": "stdout",
     "output_type": "stream",
     "text": [
      "\n",
      "      Epoch    GPU_mem   box_loss   seg_loss   cls_loss   dfl_loss  Instances       Size\n"
     ]
    },
    {
     "name": "stderr",
     "output_type": "stream",
     "text": [
      "    151/200       5.1G     0.4686     0.7438     0.2981     0.9094          7        640: 100%|██████████| 9/9 [00:02<0\n",
      "                 Class     Images  Instances      Box(P          R      mAP50  mAP50-95)     Mask(P          R      mAP"
     ]
    },
    {
     "name": "stdout",
     "output_type": "stream",
     "text": [
      "                   all         66         66          1          1      0.995      0.916          1          1      0.995      0.874\n"
     ]
    },
    {
     "name": "stderr",
     "output_type": "stream",
     "text": [
      "\n"
     ]
    },
    {
     "name": "stdout",
     "output_type": "stream",
     "text": [
      "\n",
      "      Epoch    GPU_mem   box_loss   seg_loss   cls_loss   dfl_loss  Instances       Size\n"
     ]
    },
    {
     "name": "stderr",
     "output_type": "stream",
     "text": [
      "    152/200      5.08G      0.457     0.7128     0.2919      0.907         15        640: 100%|██████████| 9/9 [00:02<0\n",
      "                 Class     Images  Instances      Box(P          R      mAP50  mAP50-95)     Mask(P          R      mAP"
     ]
    },
    {
     "name": "stdout",
     "output_type": "stream",
     "text": [
      "                   all         66         66          1          1      0.995      0.895          1          1      0.995      0.873\n"
     ]
    },
    {
     "name": "stderr",
     "output_type": "stream",
     "text": [
      "\n"
     ]
    },
    {
     "name": "stdout",
     "output_type": "stream",
     "text": [
      "\n",
      "      Epoch    GPU_mem   box_loss   seg_loss   cls_loss   dfl_loss  Instances       Size\n"
     ]
    },
    {
     "name": "stderr",
     "output_type": "stream",
     "text": [
      "    153/200      5.08G     0.4611     0.7342     0.3038     0.8933         13        640: 100%|██████████| 9/9 [00:02<0\n",
      "                 Class     Images  Instances      Box(P          R      mAP50  mAP50-95)     Mask(P          R      mAP"
     ]
    },
    {
     "name": "stdout",
     "output_type": "stream",
     "text": [
      "                   all         66         66      0.999          1      0.995      0.909      0.999          1      0.995      0.873\n"
     ]
    },
    {
     "name": "stderr",
     "output_type": "stream",
     "text": [
      "\n"
     ]
    },
    {
     "name": "stdout",
     "output_type": "stream",
     "text": [
      "\n",
      "      Epoch    GPU_mem   box_loss   seg_loss   cls_loss   dfl_loss  Instances       Size\n"
     ]
    },
    {
     "name": "stderr",
     "output_type": "stream",
     "text": [
      "    154/200      5.06G     0.4577     0.7282     0.3053     0.9122         12        640: 100%|██████████| 9/9 [00:02<0\n",
      "                 Class     Images  Instances      Box(P          R      mAP50  mAP50-95)     Mask(P          R      mAP"
     ]
    },
    {
     "name": "stdout",
     "output_type": "stream",
     "text": [
      "                   all         66         66      0.999          1      0.995        0.9      0.999          1      0.995      0.865\n"
     ]
    },
    {
     "name": "stderr",
     "output_type": "stream",
     "text": [
      "\n"
     ]
    },
    {
     "name": "stdout",
     "output_type": "stream",
     "text": [
      "\n",
      "      Epoch    GPU_mem   box_loss   seg_loss   cls_loss   dfl_loss  Instances       Size\n"
     ]
    },
    {
     "name": "stderr",
     "output_type": "stream",
     "text": [
      "    155/200      5.06G     0.4674     0.6876     0.2903     0.9175          7        640: 100%|██████████| 9/9 [00:02<0\n",
      "                 Class     Images  Instances      Box(P          R      mAP50  mAP50-95)     Mask(P          R      mAP"
     ]
    },
    {
     "name": "stdout",
     "output_type": "stream",
     "text": [
      "                   all         66         66          1          1      0.995      0.886          1          1      0.995      0.869\n"
     ]
    },
    {
     "name": "stderr",
     "output_type": "stream",
     "text": [
      "\n"
     ]
    },
    {
     "name": "stdout",
     "output_type": "stream",
     "text": [
      "\n",
      "      Epoch    GPU_mem   box_loss   seg_loss   cls_loss   dfl_loss  Instances       Size\n"
     ]
    },
    {
     "name": "stderr",
     "output_type": "stream",
     "text": [
      "    156/200      5.06G      0.495     0.7798     0.3124     0.9282         11        640: 100%|██████████| 9/9 [00:02<0\n",
      "                 Class     Images  Instances      Box(P          R      mAP50  mAP50-95)     Mask(P          R      mAP"
     ]
    },
    {
     "name": "stdout",
     "output_type": "stream",
     "text": [
      "                   all         66         66      0.999          1      0.995      0.906      0.999          1      0.995      0.874\n"
     ]
    },
    {
     "name": "stderr",
     "output_type": "stream",
     "text": [
      "\n"
     ]
    },
    {
     "name": "stdout",
     "output_type": "stream",
     "text": [
      "\n",
      "      Epoch    GPU_mem   box_loss   seg_loss   cls_loss   dfl_loss  Instances       Size\n"
     ]
    },
    {
     "name": "stderr",
     "output_type": "stream",
     "text": [
      "    157/200      5.04G     0.5067     0.6974     0.3118     0.9146         12        640: 100%|██████████| 9/9 [00:02<0\n",
      "                 Class     Images  Instances      Box(P          R      mAP50  mAP50-95)     Mask(P          R      mAP"
     ]
    },
    {
     "name": "stdout",
     "output_type": "stream",
     "text": [
      "                   all         66         66          1          1      0.995      0.915          1          1      0.995      0.866\n"
     ]
    },
    {
     "name": "stderr",
     "output_type": "stream",
     "text": [
      "\n"
     ]
    },
    {
     "name": "stdout",
     "output_type": "stream",
     "text": [
      "\n",
      "      Epoch    GPU_mem   box_loss   seg_loss   cls_loss   dfl_loss  Instances       Size\n"
     ]
    },
    {
     "name": "stderr",
     "output_type": "stream",
     "text": [
      "    158/200      5.08G     0.4851     0.6939     0.3042     0.9037         11        640: 100%|██████████| 9/9 [00:02<0\n",
      "                 Class     Images  Instances      Box(P          R      mAP50  mAP50-95)     Mask(P          R      mAP"
     ]
    },
    {
     "name": "stdout",
     "output_type": "stream",
     "text": [
      "                   all         66         66          1      0.999      0.995      0.897          1      0.999      0.995      0.864\n"
     ]
    },
    {
     "name": "stderr",
     "output_type": "stream",
     "text": [
      "\n"
     ]
    },
    {
     "name": "stdout",
     "output_type": "stream",
     "text": [
      "\n",
      "      Epoch    GPU_mem   box_loss   seg_loss   cls_loss   dfl_loss  Instances       Size\n"
     ]
    },
    {
     "name": "stderr",
     "output_type": "stream",
     "text": [
      "    159/200      5.04G     0.4942     0.7413     0.3191     0.9316         10        640: 100%|██████████| 9/9 [00:02<0\n",
      "                 Class     Images  Instances      Box(P          R      mAP50  mAP50-95)     Mask(P          R      mAP"
     ]
    },
    {
     "name": "stdout",
     "output_type": "stream",
     "text": [
      "                   all         66         66      0.999          1      0.995      0.911      0.999          1      0.995      0.882\n"
     ]
    },
    {
     "name": "stderr",
     "output_type": "stream",
     "text": [
      "\n"
     ]
    },
    {
     "name": "stdout",
     "output_type": "stream",
     "text": [
      "\n",
      "      Epoch    GPU_mem   box_loss   seg_loss   cls_loss   dfl_loss  Instances       Size\n"
     ]
    },
    {
     "name": "stderr",
     "output_type": "stream",
     "text": [
      "    160/200       5.1G     0.4651     0.7586     0.2949     0.8935         12        640: 100%|██████████| 9/9 [00:02<0\n",
      "                 Class     Images  Instances      Box(P          R      mAP50  mAP50-95)     Mask(P          R      mAP"
     ]
    },
    {
     "name": "stdout",
     "output_type": "stream",
     "text": [
      "                   all         66         66      0.999          1      0.995      0.909      0.999          1      0.995      0.874\n"
     ]
    },
    {
     "name": "stderr",
     "output_type": "stream",
     "text": [
      "\n"
     ]
    },
    {
     "name": "stdout",
     "output_type": "stream",
     "text": [
      "\n",
      "      Epoch    GPU_mem   box_loss   seg_loss   cls_loss   dfl_loss  Instances       Size\n"
     ]
    },
    {
     "name": "stderr",
     "output_type": "stream",
     "text": [
      "    161/200      5.05G     0.4704     0.6768     0.2964     0.8982          9        640: 100%|██████████| 9/9 [00:02<0\n",
      "                 Class     Images  Instances      Box(P          R      mAP50  mAP50-95)     Mask(P          R      mAP"
     ]
    },
    {
     "name": "stdout",
     "output_type": "stream",
     "text": [
      "                   all         66         66          1      0.999      0.995      0.908          1      0.999      0.995      0.865\n"
     ]
    },
    {
     "name": "stderr",
     "output_type": "stream",
     "text": [
      "\n"
     ]
    },
    {
     "name": "stdout",
     "output_type": "stream",
     "text": [
      "\n",
      "      Epoch    GPU_mem   box_loss   seg_loss   cls_loss   dfl_loss  Instances       Size\n"
     ]
    },
    {
     "name": "stderr",
     "output_type": "stream",
     "text": [
      "    162/200      5.04G     0.4876     0.7475     0.3068     0.9093         13        640: 100%|██████████| 9/9 [00:02<0\n",
      "                 Class     Images  Instances      Box(P          R      mAP50  mAP50-95)     Mask(P          R      mAP"
     ]
    },
    {
     "name": "stdout",
     "output_type": "stream",
     "text": [
      "                   all         66         66          1          1      0.995      0.921          1          1      0.995      0.886\n"
     ]
    },
    {
     "name": "stderr",
     "output_type": "stream",
     "text": [
      "\n"
     ]
    },
    {
     "name": "stdout",
     "output_type": "stream",
     "text": [
      "\n",
      "      Epoch    GPU_mem   box_loss   seg_loss   cls_loss   dfl_loss  Instances       Size\n"
     ]
    },
    {
     "name": "stderr",
     "output_type": "stream",
     "text": [
      "    163/200      5.04G     0.4661     0.6759     0.2999     0.9115          8        640: 100%|██████████| 9/9 [00:02<0\n",
      "                 Class     Images  Instances      Box(P          R      mAP50  mAP50-95)     Mask(P          R      mAP"
     ]
    },
    {
     "name": "stdout",
     "output_type": "stream",
     "text": [
      "                   all         66         66      0.999          1      0.995      0.916      0.999          1      0.995      0.886\n"
     ]
    },
    {
     "name": "stderr",
     "output_type": "stream",
     "text": [
      "\n"
     ]
    },
    {
     "name": "stdout",
     "output_type": "stream",
     "text": [
      "\n",
      "      Epoch    GPU_mem   box_loss   seg_loss   cls_loss   dfl_loss  Instances       Size\n"
     ]
    },
    {
     "name": "stderr",
     "output_type": "stream",
     "text": [
      "    164/200      5.06G     0.4385     0.6589      0.273     0.9029         10        640: 100%|██████████| 9/9 [00:02<0\n",
      "                 Class     Images  Instances      Box(P          R      mAP50  mAP50-95)     Mask(P          R      mAP"
     ]
    },
    {
     "name": "stdout",
     "output_type": "stream",
     "text": [
      "                   all         66         66      0.985      0.998      0.995      0.917      0.985      0.998      0.995      0.895\n"
     ]
    },
    {
     "name": "stderr",
     "output_type": "stream",
     "text": [
      "\n"
     ]
    },
    {
     "name": "stdout",
     "output_type": "stream",
     "text": [
      "\n",
      "      Epoch    GPU_mem   box_loss   seg_loss   cls_loss   dfl_loss  Instances       Size\n"
     ]
    },
    {
     "name": "stderr",
     "output_type": "stream",
     "text": [
      "    165/200      5.24G     0.4551     0.7023     0.2863     0.9077          8        640: 100%|██████████| 9/9 [00:02<0\n",
      "                 Class     Images  Instances      Box(P          R      mAP50  mAP50-95)     Mask(P          R      mAP"
     ]
    },
    {
     "name": "stdout",
     "output_type": "stream",
     "text": [
      "                   all         66         66          1      0.984      0.995      0.912          1      0.995      0.995      0.894\n"
     ]
    },
    {
     "name": "stderr",
     "output_type": "stream",
     "text": [
      "\n"
     ]
    },
    {
     "name": "stdout",
     "output_type": "stream",
     "text": [
      "\n",
      "      Epoch    GPU_mem   box_loss   seg_loss   cls_loss   dfl_loss  Instances       Size\n"
     ]
    },
    {
     "name": "stderr",
     "output_type": "stream",
     "text": [
      "    166/200      5.06G     0.4878     0.7044     0.3013     0.8988         12        640: 100%|██████████| 9/9 [00:02<0\n",
      "                 Class     Images  Instances      Box(P          R      mAP50  mAP50-95)     Mask(P          R      mAP"
     ]
    },
    {
     "name": "stdout",
     "output_type": "stream",
     "text": [
      "                   all         66         66          1      0.999      0.995      0.914          1      0.999      0.995      0.888\n"
     ]
    },
    {
     "name": "stderr",
     "output_type": "stream",
     "text": [
      "\n"
     ]
    },
    {
     "name": "stdout",
     "output_type": "stream",
     "text": [
      "\n",
      "      Epoch    GPU_mem   box_loss   seg_loss   cls_loss   dfl_loss  Instances       Size\n"
     ]
    },
    {
     "name": "stderr",
     "output_type": "stream",
     "text": [
      "    167/200      5.04G     0.4706     0.7359     0.3012     0.9146         15        640: 100%|██████████| 9/9 [00:02<0\n",
      "                 Class     Images  Instances      Box(P          R      mAP50  mAP50-95)     Mask(P          R      mAP"
     ]
    },
    {
     "name": "stdout",
     "output_type": "stream",
     "text": [
      "                   all         66         66          1          1      0.995      0.921          1          1      0.995        0.9\n"
     ]
    },
    {
     "name": "stderr",
     "output_type": "stream",
     "text": [
      "\n"
     ]
    },
    {
     "name": "stdout",
     "output_type": "stream",
     "text": [
      "\n",
      "      Epoch    GPU_mem   box_loss   seg_loss   cls_loss   dfl_loss  Instances       Size\n"
     ]
    },
    {
     "name": "stderr",
     "output_type": "stream",
     "text": [
      "    168/200       5.1G     0.4644     0.7214     0.2864      0.898         12        640: 100%|██████████| 9/9 [00:02<0\n",
      "                 Class     Images  Instances      Box(P          R      mAP50  mAP50-95)     Mask(P          R      mAP"
     ]
    },
    {
     "name": "stdout",
     "output_type": "stream",
     "text": [
      "                   all         66         66          1      0.999      0.995       0.92          1      0.999      0.995      0.881\n"
     ]
    },
    {
     "name": "stderr",
     "output_type": "stream",
     "text": [
      "\n"
     ]
    },
    {
     "name": "stdout",
     "output_type": "stream",
     "text": [
      "\n",
      "      Epoch    GPU_mem   box_loss   seg_loss   cls_loss   dfl_loss  Instances       Size\n"
     ]
    },
    {
     "name": "stderr",
     "output_type": "stream",
     "text": [
      "    169/200      5.06G     0.4759     0.7347     0.3103     0.8932         12        640: 100%|██████████| 9/9 [00:02<0\n",
      "                 Class     Images  Instances      Box(P          R      mAP50  mAP50-95)     Mask(P          R      mAP"
     ]
    },
    {
     "name": "stdout",
     "output_type": "stream",
     "text": [
      "                   all         66         66          1          1      0.995      0.927          1          1      0.995       0.89\n"
     ]
    },
    {
     "name": "stderr",
     "output_type": "stream",
     "text": [
      "\n"
     ]
    },
    {
     "name": "stdout",
     "output_type": "stream",
     "text": [
      "\n",
      "      Epoch    GPU_mem   box_loss   seg_loss   cls_loss   dfl_loss  Instances       Size\n"
     ]
    },
    {
     "name": "stderr",
     "output_type": "stream",
     "text": [
      "    170/200      5.08G     0.4317     0.6807     0.2895     0.9012         10        640: 100%|██████████| 9/9 [00:02<0\n",
      "                 Class     Images  Instances      Box(P          R      mAP50  mAP50-95)     Mask(P          R      mAP"
     ]
    },
    {
     "name": "stdout",
     "output_type": "stream",
     "text": [
      "                   all         66         66          1      0.999      0.995      0.915          1      0.999      0.995       0.88\n"
     ]
    },
    {
     "name": "stderr",
     "output_type": "stream",
     "text": [
      "\n"
     ]
    },
    {
     "name": "stdout",
     "output_type": "stream",
     "text": [
      "\n",
      "      Epoch    GPU_mem   box_loss   seg_loss   cls_loss   dfl_loss  Instances       Size\n"
     ]
    },
    {
     "name": "stderr",
     "output_type": "stream",
     "text": [
      "    171/200      5.15G     0.4624     0.7019     0.2967     0.8975         15        640: 100%|██████████| 9/9 [00:02<0\n",
      "                 Class     Images  Instances      Box(P          R      mAP50  mAP50-95)     Mask(P          R      mAP"
     ]
    },
    {
     "name": "stdout",
     "output_type": "stream",
     "text": [
      "                   all         66         66      0.999      0.985      0.995      0.925      0.999      0.985      0.995      0.883\n"
     ]
    },
    {
     "name": "stderr",
     "output_type": "stream",
     "text": [
      "\n"
     ]
    },
    {
     "name": "stdout",
     "output_type": "stream",
     "text": [
      "\n",
      "      Epoch    GPU_mem   box_loss   seg_loss   cls_loss   dfl_loss  Instances       Size\n"
     ]
    },
    {
     "name": "stderr",
     "output_type": "stream",
     "text": [
      "    172/200      5.17G       0.49     0.7718     0.3061     0.9307          9        640: 100%|██████████| 9/9 [00:02<0\n",
      "                 Class     Images  Instances      Box(P          R      mAP50  mAP50-95)     Mask(P          R      mAP"
     ]
    },
    {
     "name": "stdout",
     "output_type": "stream",
     "text": [
      "                   all         66         66      0.999      0.985      0.994      0.912      0.999      0.985      0.994      0.891\n"
     ]
    },
    {
     "name": "stderr",
     "output_type": "stream",
     "text": [
      "\n"
     ]
    },
    {
     "name": "stdout",
     "output_type": "stream",
     "text": [
      "\n",
      "      Epoch    GPU_mem   box_loss   seg_loss   cls_loss   dfl_loss  Instances       Size\n"
     ]
    },
    {
     "name": "stderr",
     "output_type": "stream",
     "text": [
      "    173/200      5.06G     0.4297     0.7415     0.2871     0.8926         14        640: 100%|██████████| 9/9 [00:02<0\n",
      "                 Class     Images  Instances      Box(P          R      mAP50  mAP50-95)     Mask(P          R      mAP"
     ]
    },
    {
     "name": "stdout",
     "output_type": "stream",
     "text": [
      "                   all         66         66      0.999      0.985      0.994      0.911      0.999      0.985      0.994      0.884\n"
     ]
    },
    {
     "name": "stderr",
     "output_type": "stream",
     "text": [
      "\n"
     ]
    },
    {
     "name": "stdout",
     "output_type": "stream",
     "text": [
      "\n",
      "      Epoch    GPU_mem   box_loss   seg_loss   cls_loss   dfl_loss  Instances       Size\n"
     ]
    },
    {
     "name": "stderr",
     "output_type": "stream",
     "text": [
      "    174/200      5.17G     0.4581     0.6511     0.2794     0.9036         13        640: 100%|██████████| 9/9 [00:02<0\n",
      "                 Class     Images  Instances      Box(P          R      mAP50  mAP50-95)     Mask(P          R      mAP"
     ]
    },
    {
     "name": "stdout",
     "output_type": "stream",
     "text": [
      "                   all         66         66          1      0.999      0.995      0.907          1      0.999      0.995      0.889\n"
     ]
    },
    {
     "name": "stderr",
     "output_type": "stream",
     "text": [
      "\n"
     ]
    },
    {
     "name": "stdout",
     "output_type": "stream",
     "text": [
      "\n",
      "      Epoch    GPU_mem   box_loss   seg_loss   cls_loss   dfl_loss  Instances       Size\n"
     ]
    },
    {
     "name": "stderr",
     "output_type": "stream",
     "text": [
      "    175/200      5.06G     0.4541     0.6408     0.2824     0.8838         14        640: 100%|██████████| 9/9 [00:02<0\n",
      "                 Class     Images  Instances      Box(P          R      mAP50  mAP50-95)     Mask(P          R      mAP"
     ]
    },
    {
     "name": "stdout",
     "output_type": "stream",
     "text": [
      "                   all         66         66          1          1      0.995       0.91          1          1      0.995      0.885\n"
     ]
    },
    {
     "name": "stderr",
     "output_type": "stream",
     "text": [
      "\n"
     ]
    },
    {
     "name": "stdout",
     "output_type": "stream",
     "text": [
      "\n",
      "      Epoch    GPU_mem   box_loss   seg_loss   cls_loss   dfl_loss  Instances       Size\n"
     ]
    },
    {
     "name": "stderr",
     "output_type": "stream",
     "text": [
      "    176/200      5.06G     0.4233     0.5993     0.2634     0.8906         12        640: 100%|██████████| 9/9 [00:02<0\n",
      "                 Class     Images  Instances      Box(P          R      mAP50  mAP50-95)     Mask(P          R      mAP"
     ]
    },
    {
     "name": "stdout",
     "output_type": "stream",
     "text": [
      "                   all         66         66          1      0.999      0.995      0.907          1      0.999      0.995      0.883\n"
     ]
    },
    {
     "name": "stderr",
     "output_type": "stream",
     "text": [
      "\n"
     ]
    },
    {
     "name": "stdout",
     "output_type": "stream",
     "text": [
      "\n",
      "      Epoch    GPU_mem   box_loss   seg_loss   cls_loss   dfl_loss  Instances       Size\n"
     ]
    },
    {
     "name": "stderr",
     "output_type": "stream",
     "text": [
      "    177/200      5.02G     0.4306     0.6951     0.2792     0.8951         10        640: 100%|██████████| 9/9 [00:02<0\n",
      "                 Class     Images  Instances      Box(P          R      mAP50  mAP50-95)     Mask(P          R      mAP"
     ]
    },
    {
     "name": "stdout",
     "output_type": "stream",
     "text": [
      "                   all         66         66      0.999          1      0.995      0.912      0.999          1      0.995       0.88\n"
     ]
    },
    {
     "name": "stderr",
     "output_type": "stream",
     "text": [
      "\n"
     ]
    },
    {
     "name": "stdout",
     "output_type": "stream",
     "text": [
      "\n",
      "      Epoch    GPU_mem   box_loss   seg_loss   cls_loss   dfl_loss  Instances       Size\n"
     ]
    },
    {
     "name": "stderr",
     "output_type": "stream",
     "text": [
      "    178/200       5.1G     0.4388     0.6966     0.2828     0.9067         10        640: 100%|██████████| 9/9 [00:02<0\n",
      "                 Class     Images  Instances      Box(P          R      mAP50  mAP50-95)     Mask(P          R      mAP"
     ]
    },
    {
     "name": "stdout",
     "output_type": "stream",
     "text": [
      "                   all         66         66          1      0.999      0.995      0.913          1      0.999      0.995      0.892\n"
     ]
    },
    {
     "name": "stderr",
     "output_type": "stream",
     "text": [
      "\n"
     ]
    },
    {
     "name": "stdout",
     "output_type": "stream",
     "text": [
      "\n",
      "      Epoch    GPU_mem   box_loss   seg_loss   cls_loss   dfl_loss  Instances       Size\n"
     ]
    },
    {
     "name": "stderr",
     "output_type": "stream",
     "text": [
      "    179/200      5.04G     0.4257     0.7065      0.283     0.8972          8        640: 100%|██████████| 9/9 [00:02<0\n",
      "                 Class     Images  Instances      Box(P          R      mAP50  mAP50-95)     Mask(P          R      mAP"
     ]
    },
    {
     "name": "stdout",
     "output_type": "stream",
     "text": [
      "                   all         66         66      0.999          1      0.995      0.927      0.999          1      0.995      0.883\n"
     ]
    },
    {
     "name": "stderr",
     "output_type": "stream",
     "text": [
      "\n"
     ]
    },
    {
     "name": "stdout",
     "output_type": "stream",
     "text": [
      "\n",
      "      Epoch    GPU_mem   box_loss   seg_loss   cls_loss   dfl_loss  Instances       Size\n"
     ]
    },
    {
     "name": "stderr",
     "output_type": "stream",
     "text": [
      "    180/200      5.08G     0.4205     0.6445       0.27     0.8885          8        640: 100%|██████████| 9/9 [00:02<0\n",
      "                 Class     Images  Instances      Box(P          R      mAP50  mAP50-95)     Mask(P          R      mAP"
     ]
    },
    {
     "name": "stdout",
     "output_type": "stream",
     "text": [
      "                   all         66         66      0.999          1      0.995      0.927      0.999          1      0.995      0.881\n"
     ]
    },
    {
     "name": "stderr",
     "output_type": "stream",
     "text": [
      "\n"
     ]
    },
    {
     "name": "stdout",
     "output_type": "stream",
     "text": [
      "\n",
      "      Epoch    GPU_mem   box_loss   seg_loss   cls_loss   dfl_loss  Instances       Size\n"
     ]
    },
    {
     "name": "stderr",
     "output_type": "stream",
     "text": [
      "    181/200      5.06G     0.4485     0.6711     0.2832     0.8948          9        640: 100%|██████████| 9/9 [00:02<0\n",
      "                 Class     Images  Instances      Box(P          R      mAP50  mAP50-95)     Mask(P          R      mAP"
     ]
    },
    {
     "name": "stdout",
     "output_type": "stream",
     "text": [
      "                   all         66         66      0.999          1      0.995      0.925      0.999          1      0.995      0.891\n"
     ]
    },
    {
     "name": "stderr",
     "output_type": "stream",
     "text": [
      "\n"
     ]
    },
    {
     "name": "stdout",
     "output_type": "stream",
     "text": [
      "\n",
      "      Epoch    GPU_mem   box_loss   seg_loss   cls_loss   dfl_loss  Instances       Size\n"
     ]
    },
    {
     "name": "stderr",
     "output_type": "stream",
     "text": [
      "    182/200      5.08G     0.4225     0.6378     0.2708     0.9128          7        640: 100%|██████████| 9/9 [00:02<0\n",
      "                 Class     Images  Instances      Box(P          R      mAP50  mAP50-95)     Mask(P          R      mAP"
     ]
    },
    {
     "name": "stdout",
     "output_type": "stream",
     "text": [
      "                   all         66         66          1          1      0.995      0.921          1          1      0.995      0.885\n"
     ]
    },
    {
     "name": "stderr",
     "output_type": "stream",
     "text": [
      "\n"
     ]
    },
    {
     "name": "stdout",
     "output_type": "stream",
     "text": [
      "\n",
      "      Epoch    GPU_mem   box_loss   seg_loss   cls_loss   dfl_loss  Instances       Size\n"
     ]
    },
    {
     "name": "stderr",
     "output_type": "stream",
     "text": [
      "    183/200      5.11G     0.4338     0.7122     0.2785     0.9091          9        640: 100%|██████████| 9/9 [00:02<0\n",
      "                 Class     Images  Instances      Box(P          R      mAP50  mAP50-95)     Mask(P          R      mAP"
     ]
    },
    {
     "name": "stdout",
     "output_type": "stream",
     "text": [
      "                   all         66         66          1      0.999      0.995      0.906          1      0.999      0.995      0.883\n"
     ]
    },
    {
     "name": "stderr",
     "output_type": "stream",
     "text": [
      "\n"
     ]
    },
    {
     "name": "stdout",
     "output_type": "stream",
     "text": [
      "\n",
      "      Epoch    GPU_mem   box_loss   seg_loss   cls_loss   dfl_loss  Instances       Size\n"
     ]
    },
    {
     "name": "stderr",
     "output_type": "stream",
     "text": [
      "    184/200      5.06G     0.4235     0.6692     0.2695     0.8919          8        640: 100%|██████████| 9/9 [00:02<0\n",
      "                 Class     Images  Instances      Box(P          R      mAP50  mAP50-95)     Mask(P          R      mAP"
     ]
    },
    {
     "name": "stdout",
     "output_type": "stream",
     "text": [
      "                   all         66         66      0.999      0.985      0.993      0.919      0.999      0.985      0.993      0.887\n"
     ]
    },
    {
     "name": "stderr",
     "output_type": "stream",
     "text": [
      "\n"
     ]
    },
    {
     "name": "stdout",
     "output_type": "stream",
     "text": [
      "\n",
      "      Epoch    GPU_mem   box_loss   seg_loss   cls_loss   dfl_loss  Instances       Size\n"
     ]
    },
    {
     "name": "stderr",
     "output_type": "stream",
     "text": [
      "    185/200      5.05G     0.4506     0.6753     0.2812     0.8963          9        640: 100%|██████████| 9/9 [00:02<0\n",
      "                 Class     Images  Instances      Box(P          R      mAP50  mAP50-95)     Mask(P          R      mAP"
     ]
    },
    {
     "name": "stdout",
     "output_type": "stream",
     "text": [
      "                   all         66         66          1      0.999      0.995      0.926          1      0.999      0.995      0.884\n"
     ]
    },
    {
     "name": "stderr",
     "output_type": "stream",
     "text": [
      "\n"
     ]
    },
    {
     "name": "stdout",
     "output_type": "stream",
     "text": [
      "\n",
      "      Epoch    GPU_mem   box_loss   seg_loss   cls_loss   dfl_loss  Instances       Size\n"
     ]
    },
    {
     "name": "stderr",
     "output_type": "stream",
     "text": [
      "    186/200      5.05G     0.4267     0.6434     0.2582     0.8909         13        640: 100%|██████████| 9/9 [00:02<0\n",
      "                 Class     Images  Instances      Box(P          R      mAP50  mAP50-95)     Mask(P          R      mAP"
     ]
    },
    {
     "name": "stdout",
     "output_type": "stream",
     "text": [
      "                   all         66         66          1      0.999      0.995      0.922          1      0.999      0.995      0.885\n"
     ]
    },
    {
     "name": "stderr",
     "output_type": "stream",
     "text": [
      "\n"
     ]
    },
    {
     "name": "stdout",
     "output_type": "stream",
     "text": [
      "\n",
      "      Epoch    GPU_mem   box_loss   seg_loss   cls_loss   dfl_loss  Instances       Size\n"
     ]
    },
    {
     "name": "stderr",
     "output_type": "stream",
     "text": [
      "    187/200      5.11G     0.4251     0.6693     0.2629     0.8967         11        640: 100%|██████████| 9/9 [00:02<0\n",
      "                 Class     Images  Instances      Box(P          R      mAP50  mAP50-95)     Mask(P          R      mAP"
     ]
    },
    {
     "name": "stdout",
     "output_type": "stream",
     "text": [
      "                   all         66         66          1          1      0.995      0.924          1          1      0.995      0.887\n"
     ]
    },
    {
     "name": "stderr",
     "output_type": "stream",
     "text": [
      "\n"
     ]
    },
    {
     "name": "stdout",
     "output_type": "stream",
     "text": [
      "\n",
      "      Epoch    GPU_mem   box_loss   seg_loss   cls_loss   dfl_loss  Instances       Size\n"
     ]
    },
    {
     "name": "stderr",
     "output_type": "stream",
     "text": [
      "    188/200      5.12G     0.4206     0.6637     0.2758     0.9088          8        640: 100%|██████████| 9/9 [00:02<0\n",
      "                 Class     Images  Instances      Box(P          R      mAP50  mAP50-95)     Mask(P          R      mAP"
     ]
    },
    {
     "name": "stdout",
     "output_type": "stream",
     "text": [
      "                   all         66         66      0.999          1      0.995      0.922      0.999          1      0.995      0.882\n"
     ]
    },
    {
     "name": "stderr",
     "output_type": "stream",
     "text": [
      "\n"
     ]
    },
    {
     "name": "stdout",
     "output_type": "stream",
     "text": [
      "\n",
      "      Epoch    GPU_mem   box_loss   seg_loss   cls_loss   dfl_loss  Instances       Size\n"
     ]
    },
    {
     "name": "stderr",
     "output_type": "stream",
     "text": [
      "    189/200      5.08G     0.4537        0.7     0.2957     0.8992         12        640: 100%|██████████| 9/9 [00:02<0\n",
      "                 Class     Images  Instances      Box(P          R      mAP50  mAP50-95)     Mask(P          R      mAP"
     ]
    },
    {
     "name": "stdout",
     "output_type": "stream",
     "text": [
      "                   all         66         66      0.999          1      0.995       0.93      0.999          1      0.995      0.883\n"
     ]
    },
    {
     "name": "stderr",
     "output_type": "stream",
     "text": [
      "\n"
     ]
    },
    {
     "name": "stdout",
     "output_type": "stream",
     "text": [
      "\n",
      "      Epoch    GPU_mem   box_loss   seg_loss   cls_loss   dfl_loss  Instances       Size\n"
     ]
    },
    {
     "name": "stderr",
     "output_type": "stream",
     "text": [
      "    190/200      5.14G     0.4046      0.712     0.2778     0.9038         10        640: 100%|██████████| 9/9 [00:02<0\n",
      "                 Class     Images  Instances      Box(P          R      mAP50  mAP50-95)     Mask(P          R      mAP"
     ]
    },
    {
     "name": "stdout",
     "output_type": "stream",
     "text": [
      "                   all         66         66      0.999          1      0.995       0.93      0.999          1      0.995      0.893\n"
     ]
    },
    {
     "name": "stderr",
     "output_type": "stream",
     "text": [
      "\n"
     ]
    },
    {
     "name": "stdout",
     "output_type": "stream",
     "text": [
      "Closing dataloader mosaic\n",
      "\n",
      "      Epoch    GPU_mem   box_loss   seg_loss   cls_loss   dfl_loss  Instances       Size\n"
     ]
    },
    {
     "name": "stderr",
     "output_type": "stream",
     "text": [
      "    191/200      4.97G       0.32     0.5658     0.2272     0.8502          5        640: 100%|██████████| 9/9 [00:03<0\n",
      "                 Class     Images  Instances      Box(P          R      mAP50  mAP50-95)     Mask(P          R      mAP"
     ]
    },
    {
     "name": "stdout",
     "output_type": "stream",
     "text": [
      "                   all         66         66      0.999          1      0.995       0.92      0.999          1      0.995      0.885\n"
     ]
    },
    {
     "name": "stderr",
     "output_type": "stream",
     "text": [
      "\n"
     ]
    },
    {
     "name": "stdout",
     "output_type": "stream",
     "text": [
      "\n",
      "      Epoch    GPU_mem   box_loss   seg_loss   cls_loss   dfl_loss  Instances       Size\n"
     ]
    },
    {
     "name": "stderr",
     "output_type": "stream",
     "text": [
      "    192/200         5G      0.313     0.5281     0.2077     0.8308          5        640: 100%|██████████| 9/9 [00:02<0\n",
      "                 Class     Images  Instances      Box(P          R      mAP50  mAP50-95)     Mask(P          R      mAP"
     ]
    },
    {
     "name": "stdout",
     "output_type": "stream",
     "text": [
      "                   all         66         66      0.999          1      0.995      0.916      0.999          1      0.995      0.873\n"
     ]
    },
    {
     "name": "stderr",
     "output_type": "stream",
     "text": [
      "\n"
     ]
    },
    {
     "name": "stdout",
     "output_type": "stream",
     "text": [
      "\n",
      "      Epoch    GPU_mem   box_loss   seg_loss   cls_loss   dfl_loss  Instances       Size\n"
     ]
    },
    {
     "name": "stderr",
     "output_type": "stream",
     "text": [
      "    193/200      4.97G     0.3005     0.5143     0.2103     0.8255          5        640: 100%|██████████| 9/9 [00:02<0\n",
      "                 Class     Images  Instances      Box(P          R      mAP50  mAP50-95)     Mask(P          R      mAP"
     ]
    },
    {
     "name": "stdout",
     "output_type": "stream",
     "text": [
      "                   all         66         66      0.999          1      0.995      0.926      0.999          1      0.995      0.889\n"
     ]
    },
    {
     "name": "stderr",
     "output_type": "stream",
     "text": [
      "\n"
     ]
    },
    {
     "name": "stdout",
     "output_type": "stream",
     "text": [
      "\n",
      "      Epoch    GPU_mem   box_loss   seg_loss   cls_loss   dfl_loss  Instances       Size\n"
     ]
    },
    {
     "name": "stderr",
     "output_type": "stream",
     "text": [
      "    194/200         5G     0.3086     0.5026     0.2132     0.8422          5        640: 100%|██████████| 9/9 [00:02<0\n",
      "                 Class     Images  Instances      Box(P          R      mAP50  mAP50-95)     Mask(P          R      mAP"
     ]
    },
    {
     "name": "stdout",
     "output_type": "stream",
     "text": [
      "                   all         66         66      0.999          1      0.995      0.923      0.999          1      0.995      0.887\n"
     ]
    },
    {
     "name": "stderr",
     "output_type": "stream",
     "text": [
      "\n"
     ]
    },
    {
     "name": "stdout",
     "output_type": "stream",
     "text": [
      "\n",
      "      Epoch    GPU_mem   box_loss   seg_loss   cls_loss   dfl_loss  Instances       Size\n"
     ]
    },
    {
     "name": "stderr",
     "output_type": "stream",
     "text": [
      "    195/200      4.97G     0.2962     0.5037     0.2008     0.8352          5        640: 100%|██████████| 9/9 [00:02<0\n",
      "                 Class     Images  Instances      Box(P          R      mAP50  mAP50-95)     Mask(P          R      mAP"
     ]
    },
    {
     "name": "stdout",
     "output_type": "stream",
     "text": [
      "                   all         66         66      0.999          1      0.995      0.927      0.999          1      0.995      0.888\n"
     ]
    },
    {
     "name": "stderr",
     "output_type": "stream",
     "text": [
      "\n"
     ]
    },
    {
     "name": "stdout",
     "output_type": "stream",
     "text": [
      "\n",
      "      Epoch    GPU_mem   box_loss   seg_loss   cls_loss   dfl_loss  Instances       Size\n"
     ]
    },
    {
     "name": "stderr",
     "output_type": "stream",
     "text": [
      "    196/200         5G     0.2925     0.5032     0.2043       0.86          5        640: 100%|██████████| 9/9 [00:02<0\n",
      "                 Class     Images  Instances      Box(P          R      mAP50  mAP50-95)     Mask(P          R      mAP"
     ]
    },
    {
     "name": "stdout",
     "output_type": "stream",
     "text": [
      "                   all         66         66          1          1      0.995      0.922          1          1      0.995      0.887\n"
     ]
    },
    {
     "name": "stderr",
     "output_type": "stream",
     "text": [
      "\n"
     ]
    },
    {
     "name": "stdout",
     "output_type": "stream",
     "text": [
      "\n",
      "      Epoch    GPU_mem   box_loss   seg_loss   cls_loss   dfl_loss  Instances       Size\n"
     ]
    },
    {
     "name": "stderr",
     "output_type": "stream",
     "text": [
      "    197/200      4.97G     0.2899     0.5143     0.1966     0.8402          5        640: 100%|██████████| 9/9 [00:02<0\n",
      "                 Class     Images  Instances      Box(P          R      mAP50  mAP50-95)     Mask(P          R      mAP"
     ]
    },
    {
     "name": "stdout",
     "output_type": "stream",
     "text": [
      "                   all         66         66          1          1      0.995      0.922          1          1      0.995      0.886\n"
     ]
    },
    {
     "name": "stderr",
     "output_type": "stream",
     "text": [
      "\n"
     ]
    },
    {
     "name": "stdout",
     "output_type": "stream",
     "text": [
      "\n",
      "      Epoch    GPU_mem   box_loss   seg_loss   cls_loss   dfl_loss  Instances       Size\n"
     ]
    },
    {
     "name": "stderr",
     "output_type": "stream",
     "text": [
      "    198/200         5G     0.2879     0.4986     0.1959     0.8122          5        640: 100%|██████████| 9/9 [00:02<0\n",
      "                 Class     Images  Instances      Box(P          R      mAP50  mAP50-95)     Mask(P          R      mAP"
     ]
    },
    {
     "name": "stdout",
     "output_type": "stream",
     "text": [
      "                   all         66         66          1          1      0.995      0.923          1          1      0.995      0.887\n"
     ]
    },
    {
     "name": "stderr",
     "output_type": "stream",
     "text": [
      "\n"
     ]
    },
    {
     "name": "stdout",
     "output_type": "stream",
     "text": [
      "\n",
      "      Epoch    GPU_mem   box_loss   seg_loss   cls_loss   dfl_loss  Instances       Size\n"
     ]
    },
    {
     "name": "stderr",
     "output_type": "stream",
     "text": [
      "    199/200      4.97G     0.3083     0.5094      0.206     0.8469          5        640: 100%|██████████| 9/9 [00:02<0\n",
      "                 Class     Images  Instances      Box(P          R      mAP50  mAP50-95)     Mask(P          R      mAP"
     ]
    },
    {
     "name": "stdout",
     "output_type": "stream",
     "text": [
      "                   all         66         66          1          1      0.995      0.926          1          1      0.995      0.886\n"
     ]
    },
    {
     "name": "stderr",
     "output_type": "stream",
     "text": [
      "\n"
     ]
    },
    {
     "name": "stdout",
     "output_type": "stream",
     "text": [
      "\n",
      "      Epoch    GPU_mem   box_loss   seg_loss   cls_loss   dfl_loss  Instances       Size\n"
     ]
    },
    {
     "name": "stderr",
     "output_type": "stream",
     "text": [
      "    200/200         5G     0.2849     0.5126     0.1923     0.8269          5        640: 100%|██████████| 9/9 [00:02<0\n",
      "                 Class     Images  Instances      Box(P          R      mAP50  mAP50-95)     Mask(P          R      mAP"
     ]
    },
    {
     "name": "stdout",
     "output_type": "stream",
     "text": [
      "                   all         66         66          1          1      0.995      0.929          1          1      0.995      0.886\n"
     ]
    },
    {
     "name": "stderr",
     "output_type": "stream",
     "text": [
      "\n"
     ]
    },
    {
     "name": "stdout",
     "output_type": "stream",
     "text": [
      "\n",
      "200 epochs completed in 0.194 hours.\n",
      "Optimizer stripped from runs\\segment\\train32\\weights\\last.pt, 6.8MB\n",
      "Optimizer stripped from runs\\segment\\train32\\weights\\best.pt, 6.8MB\n",
      "\n",
      "Validating runs\\segment\\train32\\weights\\best.pt...\n",
      "Ultralytics 8.3.69  Python-3.9.21 torch-2.5.1+cu121 CUDA:0 (NVIDIA GeForce RTX 4060 Ti, 8188MiB)\n",
      "YOLOv8n-seg summary (fused): 195 layers, 3,258,259 parameters, 0 gradients, 12.0 GFLOPs\n"
     ]
    },
    {
     "name": "stderr",
     "output_type": "stream",
     "text": [
      "                 Class     Images  Instances      Box(P          R      mAP50  mAP50-95)     Mask(P          R      mAP"
     ]
    },
    {
     "name": "stdout",
     "output_type": "stream",
     "text": [
      "WARNING  Model does not support 'augment=True', reverting to single-scale prediction.\n"
     ]
    },
    {
     "name": "stderr",
     "output_type": "stream",
     "text": [
      "                 Class     Images  Instances      Box(P          R      mAP50  mAP50-95)     Mask(P          R      mAP"
     ]
    },
    {
     "name": "stdout",
     "output_type": "stream",
     "text": [
      "WARNING  Model does not support 'augment=True', reverting to single-scale prediction.\n"
     ]
    },
    {
     "name": "stderr",
     "output_type": "stream",
     "text": [
      "                 Class     Images  Instances      Box(P          R      mAP50  mAP50-95)     Mask(P          R      mAP\n"
     ]
    },
    {
     "name": "stdout",
     "output_type": "stream",
     "text": [
      "                   all         66         66      0.999          1      0.995      0.931      0.999          1      0.995      0.893\n",
      "Speed: 0.2ms preprocess, 2.0ms inference, 0.0ms loss, 0.6ms postprocess per image\n",
      "Results saved to \u001b[1mruns\\segment\\train32\u001b[0m\n"
     ]
    },
    {
     "data": {
      "text/plain": [
       "ultralytics.utils.metrics.SegmentMetrics object with attributes:\n",
       "\n",
       "ap_class_index: array([0])\n",
       "box: ultralytics.utils.metrics.Metric object\n",
       "confusion_matrix: <ultralytics.utils.metrics.ConfusionMatrix object at 0x000001A747937280>\n",
       "curves: ['Precision-Recall(B)', 'F1-Confidence(B)', 'Precision-Confidence(B)', 'Recall-Confidence(B)', 'Precision-Recall(M)', 'F1-Confidence(M)', 'Precision-Confidence(M)', 'Recall-Confidence(M)']\n",
       "curves_results: [[array([          0,    0.001001,    0.002002,    0.003003,    0.004004,    0.005005,    0.006006,    0.007007,    0.008008,    0.009009,     0.01001,    0.011011,    0.012012,    0.013013,    0.014014,    0.015015,    0.016016,    0.017017,    0.018018,    0.019019,     0.02002,    0.021021,    0.022022,    0.023023,\n",
       "          0.024024,    0.025025,    0.026026,    0.027027,    0.028028,    0.029029,     0.03003,    0.031031,    0.032032,    0.033033,    0.034034,    0.035035,    0.036036,    0.037037,    0.038038,    0.039039,     0.04004,    0.041041,    0.042042,    0.043043,    0.044044,    0.045045,    0.046046,    0.047047,\n",
       "          0.048048,    0.049049,     0.05005,    0.051051,    0.052052,    0.053053,    0.054054,    0.055055,    0.056056,    0.057057,    0.058058,    0.059059,     0.06006,    0.061061,    0.062062,    0.063063,    0.064064,    0.065065,    0.066066,    0.067067,    0.068068,    0.069069,     0.07007,    0.071071,\n",
       "          0.072072,    0.073073,    0.074074,    0.075075,    0.076076,    0.077077,    0.078078,    0.079079,     0.08008,    0.081081,    0.082082,    0.083083,    0.084084,    0.085085,    0.086086,    0.087087,    0.088088,    0.089089,     0.09009,    0.091091,    0.092092,    0.093093,    0.094094,    0.095095,\n",
       "          0.096096,    0.097097,    0.098098,    0.099099,      0.1001,      0.1011,      0.1021,      0.1031,      0.1041,     0.10511,     0.10611,     0.10711,     0.10811,     0.10911,     0.11011,     0.11111,     0.11211,     0.11311,     0.11411,     0.11512,     0.11612,     0.11712,     0.11812,     0.11912,\n",
       "           0.12012,     0.12112,     0.12212,     0.12312,     0.12412,     0.12513,     0.12613,     0.12713,     0.12813,     0.12913,     0.13013,     0.13113,     0.13213,     0.13313,     0.13413,     0.13514,     0.13614,     0.13714,     0.13814,     0.13914,     0.14014,     0.14114,     0.14214,     0.14314,\n",
       "           0.14414,     0.14515,     0.14615,     0.14715,     0.14815,     0.14915,     0.15015,     0.15115,     0.15215,     0.15315,     0.15415,     0.15516,     0.15616,     0.15716,     0.15816,     0.15916,     0.16016,     0.16116,     0.16216,     0.16316,     0.16416,     0.16517,     0.16617,     0.16717,\n",
       "           0.16817,     0.16917,     0.17017,     0.17117,     0.17217,     0.17317,     0.17417,     0.17518,     0.17618,     0.17718,     0.17818,     0.17918,     0.18018,     0.18118,     0.18218,     0.18318,     0.18418,     0.18519,     0.18619,     0.18719,     0.18819,     0.18919,     0.19019,     0.19119,\n",
       "           0.19219,     0.19319,     0.19419,      0.1952,      0.1962,      0.1972,      0.1982,      0.1992,      0.2002,      0.2012,      0.2022,      0.2032,      0.2042,     0.20521,     0.20621,     0.20721,     0.20821,     0.20921,     0.21021,     0.21121,     0.21221,     0.21321,     0.21421,     0.21522,\n",
       "           0.21622,     0.21722,     0.21822,     0.21922,     0.22022,     0.22122,     0.22222,     0.22322,     0.22422,     0.22523,     0.22623,     0.22723,     0.22823,     0.22923,     0.23023,     0.23123,     0.23223,     0.23323,     0.23423,     0.23524,     0.23624,     0.23724,     0.23824,     0.23924,\n",
       "           0.24024,     0.24124,     0.24224,     0.24324,     0.24424,     0.24525,     0.24625,     0.24725,     0.24825,     0.24925,     0.25025,     0.25125,     0.25225,     0.25325,     0.25425,     0.25526,     0.25626,     0.25726,     0.25826,     0.25926,     0.26026,     0.26126,     0.26226,     0.26326,\n",
       "           0.26426,     0.26527,     0.26627,     0.26727,     0.26827,     0.26927,     0.27027,     0.27127,     0.27227,     0.27327,     0.27427,     0.27528,     0.27628,     0.27728,     0.27828,     0.27928,     0.28028,     0.28128,     0.28228,     0.28328,     0.28428,     0.28529,     0.28629,     0.28729,\n",
       "           0.28829,     0.28929,     0.29029,     0.29129,     0.29229,     0.29329,     0.29429,      0.2953,      0.2963,      0.2973,      0.2983,      0.2993,      0.3003,      0.3013,      0.3023,      0.3033,      0.3043,     0.30531,     0.30631,     0.30731,     0.30831,     0.30931,     0.31031,     0.31131,\n",
       "           0.31231,     0.31331,     0.31431,     0.31532,     0.31632,     0.31732,     0.31832,     0.31932,     0.32032,     0.32132,     0.32232,     0.32332,     0.32432,     0.32533,     0.32633,     0.32733,     0.32833,     0.32933,     0.33033,     0.33133,     0.33233,     0.33333,     0.33433,     0.33534,\n",
       "           0.33634,     0.33734,     0.33834,     0.33934,     0.34034,     0.34134,     0.34234,     0.34334,     0.34434,     0.34535,     0.34635,     0.34735,     0.34835,     0.34935,     0.35035,     0.35135,     0.35235,     0.35335,     0.35435,     0.35536,     0.35636,     0.35736,     0.35836,     0.35936,\n",
       "           0.36036,     0.36136,     0.36236,     0.36336,     0.36436,     0.36537,     0.36637,     0.36737,     0.36837,     0.36937,     0.37037,     0.37137,     0.37237,     0.37337,     0.37437,     0.37538,     0.37638,     0.37738,     0.37838,     0.37938,     0.38038,     0.38138,     0.38238,     0.38338,\n",
       "           0.38438,     0.38539,     0.38639,     0.38739,     0.38839,     0.38939,     0.39039,     0.39139,     0.39239,     0.39339,     0.39439,      0.3954,      0.3964,      0.3974,      0.3984,      0.3994,      0.4004,      0.4014,      0.4024,      0.4034,      0.4044,     0.40541,     0.40641,     0.40741,\n",
       "           0.40841,     0.40941,     0.41041,     0.41141,     0.41241,     0.41341,     0.41441,     0.41542,     0.41642,     0.41742,     0.41842,     0.41942,     0.42042,     0.42142,     0.42242,     0.42342,     0.42442,     0.42543,     0.42643,     0.42743,     0.42843,     0.42943,     0.43043,     0.43143,\n",
       "           0.43243,     0.43343,     0.43443,     0.43544,     0.43644,     0.43744,     0.43844,     0.43944,     0.44044,     0.44144,     0.44244,     0.44344,     0.44444,     0.44545,     0.44645,     0.44745,     0.44845,     0.44945,     0.45045,     0.45145,     0.45245,     0.45345,     0.45445,     0.45546,\n",
       "           0.45646,     0.45746,     0.45846,     0.45946,     0.46046,     0.46146,     0.46246,     0.46346,     0.46446,     0.46547,     0.46647,     0.46747,     0.46847,     0.46947,     0.47047,     0.47147,     0.47247,     0.47347,     0.47447,     0.47548,     0.47648,     0.47748,     0.47848,     0.47948,\n",
       "           0.48048,     0.48148,     0.48248,     0.48348,     0.48448,     0.48549,     0.48649,     0.48749,     0.48849,     0.48949,     0.49049,     0.49149,     0.49249,     0.49349,     0.49449,      0.4955,      0.4965,      0.4975,      0.4985,      0.4995,      0.5005,      0.5015,      0.5025,      0.5035,\n",
       "            0.5045,     0.50551,     0.50651,     0.50751,     0.50851,     0.50951,     0.51051,     0.51151,     0.51251,     0.51351,     0.51451,     0.51552,     0.51652,     0.51752,     0.51852,     0.51952,     0.52052,     0.52152,     0.52252,     0.52352,     0.52452,     0.52553,     0.52653,     0.52753,\n",
       "           0.52853,     0.52953,     0.53053,     0.53153,     0.53253,     0.53353,     0.53453,     0.53554,     0.53654,     0.53754,     0.53854,     0.53954,     0.54054,     0.54154,     0.54254,     0.54354,     0.54454,     0.54555,     0.54655,     0.54755,     0.54855,     0.54955,     0.55055,     0.55155,\n",
       "           0.55255,     0.55355,     0.55455,     0.55556,     0.55656,     0.55756,     0.55856,     0.55956,     0.56056,     0.56156,     0.56256,     0.56356,     0.56456,     0.56557,     0.56657,     0.56757,     0.56857,     0.56957,     0.57057,     0.57157,     0.57257,     0.57357,     0.57457,     0.57558,\n",
       "           0.57658,     0.57758,     0.57858,     0.57958,     0.58058,     0.58158,     0.58258,     0.58358,     0.58458,     0.58559,     0.58659,     0.58759,     0.58859,     0.58959,     0.59059,     0.59159,     0.59259,     0.59359,     0.59459,      0.5956,      0.5966,      0.5976,      0.5986,      0.5996,\n",
       "            0.6006,      0.6016,      0.6026,      0.6036,      0.6046,     0.60561,     0.60661,     0.60761,     0.60861,     0.60961,     0.61061,     0.61161,     0.61261,     0.61361,     0.61461,     0.61562,     0.61662,     0.61762,     0.61862,     0.61962,     0.62062,     0.62162,     0.62262,     0.62362,\n",
       "           0.62462,     0.62563,     0.62663,     0.62763,     0.62863,     0.62963,     0.63063,     0.63163,     0.63263,     0.63363,     0.63463,     0.63564,     0.63664,     0.63764,     0.63864,     0.63964,     0.64064,     0.64164,     0.64264,     0.64364,     0.64464,     0.64565,     0.64665,     0.64765,\n",
       "           0.64865,     0.64965,     0.65065,     0.65165,     0.65265,     0.65365,     0.65465,     0.65566,     0.65666,     0.65766,     0.65866,     0.65966,     0.66066,     0.66166,     0.66266,     0.66366,     0.66466,     0.66567,     0.66667,     0.66767,     0.66867,     0.66967,     0.67067,     0.67167,\n",
       "           0.67267,     0.67367,     0.67467,     0.67568,     0.67668,     0.67768,     0.67868,     0.67968,     0.68068,     0.68168,     0.68268,     0.68368,     0.68468,     0.68569,     0.68669,     0.68769,     0.68869,     0.68969,     0.69069,     0.69169,     0.69269,     0.69369,     0.69469,      0.6957,\n",
       "            0.6967,      0.6977,      0.6987,      0.6997,      0.7007,      0.7017,      0.7027,      0.7037,      0.7047,     0.70571,     0.70671,     0.70771,     0.70871,     0.70971,     0.71071,     0.71171,     0.71271,     0.71371,     0.71471,     0.71572,     0.71672,     0.71772,     0.71872,     0.71972,\n",
       "           0.72072,     0.72172,     0.72272,     0.72372,     0.72472,     0.72573,     0.72673,     0.72773,     0.72873,     0.72973,     0.73073,     0.73173,     0.73273,     0.73373,     0.73473,     0.73574,     0.73674,     0.73774,     0.73874,     0.73974,     0.74074,     0.74174,     0.74274,     0.74374,\n",
       "           0.74474,     0.74575,     0.74675,     0.74775,     0.74875,     0.74975,     0.75075,     0.75175,     0.75275,     0.75375,     0.75475,     0.75576,     0.75676,     0.75776,     0.75876,     0.75976,     0.76076,     0.76176,     0.76276,     0.76376,     0.76476,     0.76577,     0.76677,     0.76777,\n",
       "           0.76877,     0.76977,     0.77077,     0.77177,     0.77277,     0.77377,     0.77477,     0.77578,     0.77678,     0.77778,     0.77878,     0.77978,     0.78078,     0.78178,     0.78278,     0.78378,     0.78478,     0.78579,     0.78679,     0.78779,     0.78879,     0.78979,     0.79079,     0.79179,\n",
       "           0.79279,     0.79379,     0.79479,      0.7958,      0.7968,      0.7978,      0.7988,      0.7998,      0.8008,      0.8018,      0.8028,      0.8038,      0.8048,     0.80581,     0.80681,     0.80781,     0.80881,     0.80981,     0.81081,     0.81181,     0.81281,     0.81381,     0.81481,     0.81582,\n",
       "           0.81682,     0.81782,     0.81882,     0.81982,     0.82082,     0.82182,     0.82282,     0.82382,     0.82482,     0.82583,     0.82683,     0.82783,     0.82883,     0.82983,     0.83083,     0.83183,     0.83283,     0.83383,     0.83483,     0.83584,     0.83684,     0.83784,     0.83884,     0.83984,\n",
       "           0.84084,     0.84184,     0.84284,     0.84384,     0.84484,     0.84585,     0.84685,     0.84785,     0.84885,     0.84985,     0.85085,     0.85185,     0.85285,     0.85385,     0.85485,     0.85586,     0.85686,     0.85786,     0.85886,     0.85986,     0.86086,     0.86186,     0.86286,     0.86386,\n",
       "           0.86486,     0.86587,     0.86687,     0.86787,     0.86887,     0.86987,     0.87087,     0.87187,     0.87287,     0.87387,     0.87487,     0.87588,     0.87688,     0.87788,     0.87888,     0.87988,     0.88088,     0.88188,     0.88288,     0.88388,     0.88488,     0.88589,     0.88689,     0.88789,\n",
       "           0.88889,     0.88989,     0.89089,     0.89189,     0.89289,     0.89389,     0.89489,      0.8959,      0.8969,      0.8979,      0.8989,      0.8999,      0.9009,      0.9019,      0.9029,      0.9039,      0.9049,     0.90591,     0.90691,     0.90791,     0.90891,     0.90991,     0.91091,     0.91191,\n",
       "           0.91291,     0.91391,     0.91491,     0.91592,     0.91692,     0.91792,     0.91892,     0.91992,     0.92092,     0.92192,     0.92292,     0.92392,     0.92492,     0.92593,     0.92693,     0.92793,     0.92893,     0.92993,     0.93093,     0.93193,     0.93293,     0.93393,     0.93493,     0.93594,\n",
       "           0.93694,     0.93794,     0.93894,     0.93994,     0.94094,     0.94194,     0.94294,     0.94394,     0.94494,     0.94595,     0.94695,     0.94795,     0.94895,     0.94995,     0.95095,     0.95195,     0.95295,     0.95395,     0.95495,     0.95596,     0.95696,     0.95796,     0.95896,     0.95996,\n",
       "           0.96096,     0.96196,     0.96296,     0.96396,     0.96496,     0.96597,     0.96697,     0.96797,     0.96897,     0.96997,     0.97097,     0.97197,     0.97297,     0.97397,     0.97497,     0.97598,     0.97698,     0.97798,     0.97898,     0.97998,     0.98098,     0.98198,     0.98298,     0.98398,\n",
       "           0.98498,     0.98599,     0.98699,     0.98799,     0.98899,     0.98999,     0.99099,     0.99199,     0.99299,     0.99399,     0.99499,       0.996,       0.997,       0.998,       0.999,           1]), array([[          1,           1,           1,           1,           1,           1,           1,           1,           1,           1,           1,           1,           1,           1,           1,           1,           1,           1,           1,           1,           1,           1,           1,\n",
       "                  1,           1,           1,           1,           1,           1,           1,           1,           1,           1,           1,           1,           1,           1,           1,           1,           1,           1,           1,           1,           1,           1,           1,\n",
       "                  1,           1,           1,           1,           1,           1,           1,           1,           1,           1,           1,           1,           1,           1,           1,           1,           1,           1,           1,           1,           1,           1,           1,\n",
       "                  1,           1,           1,           1,           1,           1,           1,           1,           1,           1,           1,           1,           1,           1,           1,           1,           1,           1,           1,           1,           1,           1,           1,\n",
       "                  1,           1,           1,           1,           1,           1,           1,           1,           1,           1,           1,           1,           1,           1,           1,           1,           1,           1,           1,           1,           1,           1,           1,\n",
       "                  1,           1,           1,           1,           1,           1,           1,           1,           1,           1,           1,           1,           1,           1,           1,           1,           1,           1,           1,           1,           1,           1,           1,\n",
       "                  1,           1,           1,           1,           1,           1,           1,           1,           1,           1,           1,           1,           1,           1,           1,           1,           1,           1,           1,           1,           1,           1,           1,\n",
       "                  1,           1,           1,           1,           1,           1,           1,           1,           1,           1,           1,           1,           1,           1,           1,           1,           1,           1,           1,           1,           1,           1,           1,\n",
       "                  1,           1,           1,           1,           1,           1,           1,           1,           1,           1,           1,           1,           1,           1,           1,           1,           1,           1,           1,           1,           1,           1,           1,\n",
       "                  1,           1,           1,           1,           1,           1,           1,           1,           1,           1,           1,           1,           1,           1,           1,           1,           1,           1,           1,           1,           1,           1,           1,\n",
       "                  1,           1,           1,           1,           1,           1,           1,           1,           1,           1,           1,           1,           1,           1,           1,           1,           1,           1,           1,           1,           1,           1,           1,\n",
       "                  1,           1,           1,           1,           1,           1,           1,           1,           1,           1,           1,           1,           1,           1,           1,           1,           1,           1,           1,           1,           1,           1,           1,\n",
       "                  1,           1,           1,           1,           1,           1,           1,           1,           1,           1,           1,           1,           1,           1,           1,           1,           1,           1,           1,           1,           1,           1,           1,\n",
       "                  1,           1,           1,           1,           1,           1,           1,           1,           1,           1,           1,           1,           1,           1,           1,           1,           1,           1,           1,           1,           1,           1,           1,\n",
       "                  1,           1,           1,           1,           1,           1,           1,           1,           1,           1,           1,           1,           1,           1,           1,           1,           1,           1,           1,           1,           1,           1,           1,\n",
       "                  1,           1,           1,           1,           1,           1,           1,           1,           1,           1,           1,           1,           1,           1,           1,           1,           1,           1,           1,           1,           1,           1,           1,\n",
       "                  1,           1,           1,           1,           1,           1,           1,           1,           1,           1,           1,           1,           1,           1,           1,           1,           1,           1,           1,           1,           1,           1,           1,\n",
       "                  1,           1,           1,           1,           1,           1,           1,           1,           1,           1,           1,           1,           1,           1,           1,           1,           1,           1,           1,           1,           1,           1,           1,\n",
       "                  1,           1,           1,           1,           1,           1,           1,           1,           1,           1,           1,           1,           1,           1,           1,           1,           1,           1,           1,           1,           1,           1,           1,\n",
       "                  1,           1,           1,           1,           1,           1,           1,           1,           1,           1,           1,           1,           1,           1,           1,           1,           1,           1,           1,           1,           1,           1,           1,\n",
       "                  1,           1,           1,           1,           1,           1,           1,           1,           1,           1,           1,           1,           1,           1,           1,           1,           1,           1,           1,           1,           1,           1,           1,\n",
       "                  1,           1,           1,           1,           1,           1,           1,           1,           1,           1,           1,           1,           1,           1,           1,           1,           1,           1,           1,           1,           1,           1,           1,\n",
       "                  1,           1,           1,           1,           1,           1,           1,           1,           1,           1,           1,           1,           1,           1,           1,           1,           1,           1,           1,           1,           1,           1,           1,\n",
       "                  1,           1,           1,           1,           1,           1,           1,           1,           1,           1,           1,           1,           1,           1,           1,           1,           1,           1,           1,           1,           1,           1,           1,\n",
       "                  1,           1,           1,           1,           1,           1,           1,           1,           1,           1,           1,           1,           1,           1,           1,           1,           1,           1,           1,           1,           1,           1,           1,\n",
       "                  1,           1,           1,           1,           1,           1,           1,           1,           1,           1,           1,           1,           1,           1,           1,           1,           1,           1,           1,           1,           1,           1,           1,\n",
       "                  1,           1,           1,           1,           1,           1,           1,           1,           1,           1,           1,           1,           1,           1,           1,           1,           1,           1,           1,           1,           1,           1,           1,\n",
       "                  1,           1,           1,           1,           1,           1,           1,           1,           1,           1,           1,           1,           1,           1,           1,           1,           1,           1,           1,           1,           1,           1,           1,\n",
       "                  1,           1,           1,           1,           1,           1,           1,           1,           1,           1,           1,           1,           1,           1,           1,           1,           1,           1,           1,           1,           1,           1,           1,\n",
       "                  1,           1,           1,           1,           1,           1,           1,           1,           1,           1,           1,           1,           1,           1,           1,           1,           1,           1,           1,           1,           1,           1,           1,\n",
       "                  1,           1,           1,           1,           1,           1,           1,           1,           1,           1,           1,           1,           1,           1,           1,           1,           1,           1,           1,           1,           1,           1,           1,\n",
       "                  1,           1,           1,           1,           1,           1,           1,           1,           1,           1,           1,           1,           1,           1,           1,           1,           1,           1,           1,           1,           1,           1,           1,\n",
       "                  1,           1,           1,           1,           1,           1,           1,           1,           1,           1,           1,           1,           1,           1,           1,           1,           1,           1,           1,           1,           1,           1,           1,\n",
       "                  1,           1,           1,           1,           1,           1,           1,           1,           1,           1,           1,           1,           1,           1,           1,           1,           1,           1,           1,           1,           1,           1,           1,\n",
       "                  1,           1,           1,           1,           1,           1,           1,           1,           1,           1,           1,           1,           1,           1,           1,           1,           1,           1,           1,           1,           1,           1,           1,\n",
       "                  1,           1,           1,           1,           1,           1,           1,           1,           1,           1,           1,           1,           1,           1,           1,           1,           1,           1,           1,           1,           1,           1,           1,\n",
       "                  1,           1,           1,           1,           1,           1,           1,           1,           1,           1,           1,           1,           1,           1,           1,           1,           1,           1,           1,           1,           1,           1,           1,\n",
       "                  1,           1,           1,           1,           1,           1,           1,           1,           1,           1,           1,           1,           1,           1,           1,           1,           1,           1,           1,           1,           1,           1,           1,\n",
       "                  1,           1,           1,           1,           1,           1,           1,           1,           1,           1,           1,           1,           1,           1,           1,           1,           1,           1,           1,           1,           1,           1,           1,\n",
       "                  1,           1,           1,           1,           1,           1,           1,           1,           1,           1,           1,           1,           1,           1,           1,           1,           1,           1,           1,           1,           1,           1,           1,\n",
       "                  1,           1,           1,           1,           1,           1,           1,           1,           1,           1,           1,           1,           1,           1,           1,           1,           1,           1,           1,           1,           1,           1,           1,\n",
       "                  1,           1,           1,           1,           1,           1,           1,           1,           1,           1,           1,           1,           1,           1,           1,           1,           1,           1,           1,           1,           1,           1,           1,\n",
       "                  1,           1,           1,           1,           1,           1,           1,           1,           1,           1,           1,           1,           1,           1,           1,           1,           1,           1,           1,           1,           1,           1,           1,\n",
       "                  1,           1,           1,           1,           1,           1,           1,           1,           1,           1,           0]]), 'Recall', 'Precision'], [array([          0,    0.001001,    0.002002,    0.003003,    0.004004,    0.005005,    0.006006,    0.007007,    0.008008,    0.009009,     0.01001,    0.011011,    0.012012,    0.013013,    0.014014,    0.015015,    0.016016,    0.017017,    0.018018,    0.019019,     0.02002,    0.021021,    0.022022,    0.023023,\n",
       "          0.024024,    0.025025,    0.026026,    0.027027,    0.028028,    0.029029,     0.03003,    0.031031,    0.032032,    0.033033,    0.034034,    0.035035,    0.036036,    0.037037,    0.038038,    0.039039,     0.04004,    0.041041,    0.042042,    0.043043,    0.044044,    0.045045,    0.046046,    0.047047,\n",
       "          0.048048,    0.049049,     0.05005,    0.051051,    0.052052,    0.053053,    0.054054,    0.055055,    0.056056,    0.057057,    0.058058,    0.059059,     0.06006,    0.061061,    0.062062,    0.063063,    0.064064,    0.065065,    0.066066,    0.067067,    0.068068,    0.069069,     0.07007,    0.071071,\n",
       "          0.072072,    0.073073,    0.074074,    0.075075,    0.076076,    0.077077,    0.078078,    0.079079,     0.08008,    0.081081,    0.082082,    0.083083,    0.084084,    0.085085,    0.086086,    0.087087,    0.088088,    0.089089,     0.09009,    0.091091,    0.092092,    0.093093,    0.094094,    0.095095,\n",
       "          0.096096,    0.097097,    0.098098,    0.099099,      0.1001,      0.1011,      0.1021,      0.1031,      0.1041,     0.10511,     0.10611,     0.10711,     0.10811,     0.10911,     0.11011,     0.11111,     0.11211,     0.11311,     0.11411,     0.11512,     0.11612,     0.11712,     0.11812,     0.11912,\n",
       "           0.12012,     0.12112,     0.12212,     0.12312,     0.12412,     0.12513,     0.12613,     0.12713,     0.12813,     0.12913,     0.13013,     0.13113,     0.13213,     0.13313,     0.13413,     0.13514,     0.13614,     0.13714,     0.13814,     0.13914,     0.14014,     0.14114,     0.14214,     0.14314,\n",
       "           0.14414,     0.14515,     0.14615,     0.14715,     0.14815,     0.14915,     0.15015,     0.15115,     0.15215,     0.15315,     0.15415,     0.15516,     0.15616,     0.15716,     0.15816,     0.15916,     0.16016,     0.16116,     0.16216,     0.16316,     0.16416,     0.16517,     0.16617,     0.16717,\n",
       "           0.16817,     0.16917,     0.17017,     0.17117,     0.17217,     0.17317,     0.17417,     0.17518,     0.17618,     0.17718,     0.17818,     0.17918,     0.18018,     0.18118,     0.18218,     0.18318,     0.18418,     0.18519,     0.18619,     0.18719,     0.18819,     0.18919,     0.19019,     0.19119,\n",
       "           0.19219,     0.19319,     0.19419,      0.1952,      0.1962,      0.1972,      0.1982,      0.1992,      0.2002,      0.2012,      0.2022,      0.2032,      0.2042,     0.20521,     0.20621,     0.20721,     0.20821,     0.20921,     0.21021,     0.21121,     0.21221,     0.21321,     0.21421,     0.21522,\n",
       "           0.21622,     0.21722,     0.21822,     0.21922,     0.22022,     0.22122,     0.22222,     0.22322,     0.22422,     0.22523,     0.22623,     0.22723,     0.22823,     0.22923,     0.23023,     0.23123,     0.23223,     0.23323,     0.23423,     0.23524,     0.23624,     0.23724,     0.23824,     0.23924,\n",
       "           0.24024,     0.24124,     0.24224,     0.24324,     0.24424,     0.24525,     0.24625,     0.24725,     0.24825,     0.24925,     0.25025,     0.25125,     0.25225,     0.25325,     0.25425,     0.25526,     0.25626,     0.25726,     0.25826,     0.25926,     0.26026,     0.26126,     0.26226,     0.26326,\n",
       "           0.26426,     0.26527,     0.26627,     0.26727,     0.26827,     0.26927,     0.27027,     0.27127,     0.27227,     0.27327,     0.27427,     0.27528,     0.27628,     0.27728,     0.27828,     0.27928,     0.28028,     0.28128,     0.28228,     0.28328,     0.28428,     0.28529,     0.28629,     0.28729,\n",
       "           0.28829,     0.28929,     0.29029,     0.29129,     0.29229,     0.29329,     0.29429,      0.2953,      0.2963,      0.2973,      0.2983,      0.2993,      0.3003,      0.3013,      0.3023,      0.3033,      0.3043,     0.30531,     0.30631,     0.30731,     0.30831,     0.30931,     0.31031,     0.31131,\n",
       "           0.31231,     0.31331,     0.31431,     0.31532,     0.31632,     0.31732,     0.31832,     0.31932,     0.32032,     0.32132,     0.32232,     0.32332,     0.32432,     0.32533,     0.32633,     0.32733,     0.32833,     0.32933,     0.33033,     0.33133,     0.33233,     0.33333,     0.33433,     0.33534,\n",
       "           0.33634,     0.33734,     0.33834,     0.33934,     0.34034,     0.34134,     0.34234,     0.34334,     0.34434,     0.34535,     0.34635,     0.34735,     0.34835,     0.34935,     0.35035,     0.35135,     0.35235,     0.35335,     0.35435,     0.35536,     0.35636,     0.35736,     0.35836,     0.35936,\n",
       "           0.36036,     0.36136,     0.36236,     0.36336,     0.36436,     0.36537,     0.36637,     0.36737,     0.36837,     0.36937,     0.37037,     0.37137,     0.37237,     0.37337,     0.37437,     0.37538,     0.37638,     0.37738,     0.37838,     0.37938,     0.38038,     0.38138,     0.38238,     0.38338,\n",
       "           0.38438,     0.38539,     0.38639,     0.38739,     0.38839,     0.38939,     0.39039,     0.39139,     0.39239,     0.39339,     0.39439,      0.3954,      0.3964,      0.3974,      0.3984,      0.3994,      0.4004,      0.4014,      0.4024,      0.4034,      0.4044,     0.40541,     0.40641,     0.40741,\n",
       "           0.40841,     0.40941,     0.41041,     0.41141,     0.41241,     0.41341,     0.41441,     0.41542,     0.41642,     0.41742,     0.41842,     0.41942,     0.42042,     0.42142,     0.42242,     0.42342,     0.42442,     0.42543,     0.42643,     0.42743,     0.42843,     0.42943,     0.43043,     0.43143,\n",
       "           0.43243,     0.43343,     0.43443,     0.43544,     0.43644,     0.43744,     0.43844,     0.43944,     0.44044,     0.44144,     0.44244,     0.44344,     0.44444,     0.44545,     0.44645,     0.44745,     0.44845,     0.44945,     0.45045,     0.45145,     0.45245,     0.45345,     0.45445,     0.45546,\n",
       "           0.45646,     0.45746,     0.45846,     0.45946,     0.46046,     0.46146,     0.46246,     0.46346,     0.46446,     0.46547,     0.46647,     0.46747,     0.46847,     0.46947,     0.47047,     0.47147,     0.47247,     0.47347,     0.47447,     0.47548,     0.47648,     0.47748,     0.47848,     0.47948,\n",
       "           0.48048,     0.48148,     0.48248,     0.48348,     0.48448,     0.48549,     0.48649,     0.48749,     0.48849,     0.48949,     0.49049,     0.49149,     0.49249,     0.49349,     0.49449,      0.4955,      0.4965,      0.4975,      0.4985,      0.4995,      0.5005,      0.5015,      0.5025,      0.5035,\n",
       "            0.5045,     0.50551,     0.50651,     0.50751,     0.50851,     0.50951,     0.51051,     0.51151,     0.51251,     0.51351,     0.51451,     0.51552,     0.51652,     0.51752,     0.51852,     0.51952,     0.52052,     0.52152,     0.52252,     0.52352,     0.52452,     0.52553,     0.52653,     0.52753,\n",
       "           0.52853,     0.52953,     0.53053,     0.53153,     0.53253,     0.53353,     0.53453,     0.53554,     0.53654,     0.53754,     0.53854,     0.53954,     0.54054,     0.54154,     0.54254,     0.54354,     0.54454,     0.54555,     0.54655,     0.54755,     0.54855,     0.54955,     0.55055,     0.55155,\n",
       "           0.55255,     0.55355,     0.55455,     0.55556,     0.55656,     0.55756,     0.55856,     0.55956,     0.56056,     0.56156,     0.56256,     0.56356,     0.56456,     0.56557,     0.56657,     0.56757,     0.56857,     0.56957,     0.57057,     0.57157,     0.57257,     0.57357,     0.57457,     0.57558,\n",
       "           0.57658,     0.57758,     0.57858,     0.57958,     0.58058,     0.58158,     0.58258,     0.58358,     0.58458,     0.58559,     0.58659,     0.58759,     0.58859,     0.58959,     0.59059,     0.59159,     0.59259,     0.59359,     0.59459,      0.5956,      0.5966,      0.5976,      0.5986,      0.5996,\n",
       "            0.6006,      0.6016,      0.6026,      0.6036,      0.6046,     0.60561,     0.60661,     0.60761,     0.60861,     0.60961,     0.61061,     0.61161,     0.61261,     0.61361,     0.61461,     0.61562,     0.61662,     0.61762,     0.61862,     0.61962,     0.62062,     0.62162,     0.62262,     0.62362,\n",
       "           0.62462,     0.62563,     0.62663,     0.62763,     0.62863,     0.62963,     0.63063,     0.63163,     0.63263,     0.63363,     0.63463,     0.63564,     0.63664,     0.63764,     0.63864,     0.63964,     0.64064,     0.64164,     0.64264,     0.64364,     0.64464,     0.64565,     0.64665,     0.64765,\n",
       "           0.64865,     0.64965,     0.65065,     0.65165,     0.65265,     0.65365,     0.65465,     0.65566,     0.65666,     0.65766,     0.65866,     0.65966,     0.66066,     0.66166,     0.66266,     0.66366,     0.66466,     0.66567,     0.66667,     0.66767,     0.66867,     0.66967,     0.67067,     0.67167,\n",
       "           0.67267,     0.67367,     0.67467,     0.67568,     0.67668,     0.67768,     0.67868,     0.67968,     0.68068,     0.68168,     0.68268,     0.68368,     0.68468,     0.68569,     0.68669,     0.68769,     0.68869,     0.68969,     0.69069,     0.69169,     0.69269,     0.69369,     0.69469,      0.6957,\n",
       "            0.6967,      0.6977,      0.6987,      0.6997,      0.7007,      0.7017,      0.7027,      0.7037,      0.7047,     0.70571,     0.70671,     0.70771,     0.70871,     0.70971,     0.71071,     0.71171,     0.71271,     0.71371,     0.71471,     0.71572,     0.71672,     0.71772,     0.71872,     0.71972,\n",
       "           0.72072,     0.72172,     0.72272,     0.72372,     0.72472,     0.72573,     0.72673,     0.72773,     0.72873,     0.72973,     0.73073,     0.73173,     0.73273,     0.73373,     0.73473,     0.73574,     0.73674,     0.73774,     0.73874,     0.73974,     0.74074,     0.74174,     0.74274,     0.74374,\n",
       "           0.74474,     0.74575,     0.74675,     0.74775,     0.74875,     0.74975,     0.75075,     0.75175,     0.75275,     0.75375,     0.75475,     0.75576,     0.75676,     0.75776,     0.75876,     0.75976,     0.76076,     0.76176,     0.76276,     0.76376,     0.76476,     0.76577,     0.76677,     0.76777,\n",
       "           0.76877,     0.76977,     0.77077,     0.77177,     0.77277,     0.77377,     0.77477,     0.77578,     0.77678,     0.77778,     0.77878,     0.77978,     0.78078,     0.78178,     0.78278,     0.78378,     0.78478,     0.78579,     0.78679,     0.78779,     0.78879,     0.78979,     0.79079,     0.79179,\n",
       "           0.79279,     0.79379,     0.79479,      0.7958,      0.7968,      0.7978,      0.7988,      0.7998,      0.8008,      0.8018,      0.8028,      0.8038,      0.8048,     0.80581,     0.80681,     0.80781,     0.80881,     0.80981,     0.81081,     0.81181,     0.81281,     0.81381,     0.81481,     0.81582,\n",
       "           0.81682,     0.81782,     0.81882,     0.81982,     0.82082,     0.82182,     0.82282,     0.82382,     0.82482,     0.82583,     0.82683,     0.82783,     0.82883,     0.82983,     0.83083,     0.83183,     0.83283,     0.83383,     0.83483,     0.83584,     0.83684,     0.83784,     0.83884,     0.83984,\n",
       "           0.84084,     0.84184,     0.84284,     0.84384,     0.84484,     0.84585,     0.84685,     0.84785,     0.84885,     0.84985,     0.85085,     0.85185,     0.85285,     0.85385,     0.85485,     0.85586,     0.85686,     0.85786,     0.85886,     0.85986,     0.86086,     0.86186,     0.86286,     0.86386,\n",
       "           0.86486,     0.86587,     0.86687,     0.86787,     0.86887,     0.86987,     0.87087,     0.87187,     0.87287,     0.87387,     0.87487,     0.87588,     0.87688,     0.87788,     0.87888,     0.87988,     0.88088,     0.88188,     0.88288,     0.88388,     0.88488,     0.88589,     0.88689,     0.88789,\n",
       "           0.88889,     0.88989,     0.89089,     0.89189,     0.89289,     0.89389,     0.89489,      0.8959,      0.8969,      0.8979,      0.8989,      0.8999,      0.9009,      0.9019,      0.9029,      0.9039,      0.9049,     0.90591,     0.90691,     0.90791,     0.90891,     0.90991,     0.91091,     0.91191,\n",
       "           0.91291,     0.91391,     0.91491,     0.91592,     0.91692,     0.91792,     0.91892,     0.91992,     0.92092,     0.92192,     0.92292,     0.92392,     0.92492,     0.92593,     0.92693,     0.92793,     0.92893,     0.92993,     0.93093,     0.93193,     0.93293,     0.93393,     0.93493,     0.93594,\n",
       "           0.93694,     0.93794,     0.93894,     0.93994,     0.94094,     0.94194,     0.94294,     0.94394,     0.94494,     0.94595,     0.94695,     0.94795,     0.94895,     0.94995,     0.95095,     0.95195,     0.95295,     0.95395,     0.95495,     0.95596,     0.95696,     0.95796,     0.95896,     0.95996,\n",
       "           0.96096,     0.96196,     0.96296,     0.96396,     0.96496,     0.96597,     0.96697,     0.96797,     0.96897,     0.96997,     0.97097,     0.97197,     0.97297,     0.97397,     0.97497,     0.97598,     0.97698,     0.97798,     0.97898,     0.97998,     0.98098,     0.98198,     0.98298,     0.98398,\n",
       "           0.98498,     0.98599,     0.98699,     0.98799,     0.98899,     0.98999,     0.99099,     0.99199,     0.99299,     0.99399,     0.99499,       0.996,       0.997,       0.998,       0.999,           1]), array([[    0.78571,     0.78571,     0.87115,     0.89465,     0.90901,     0.92501,     0.92715,     0.92928,     0.94046,     0.95004,     0.95689,     0.96422,     0.96647,     0.96872,     0.97064,     0.97097,     0.97129,     0.97162,     0.97195,     0.97227,      0.9726,     0.97292,     0.97324,\n",
       "            0.97357,     0.97389,     0.97422,     0.97454,     0.97486,     0.97519,     0.97551,     0.97583,     0.97616,     0.97648,      0.9768,     0.97712,     0.97744,     0.97777,     0.97887,        0.98,     0.98112,     0.98224,     0.98337,     0.98448,     0.98528,     0.98571,     0.98614,\n",
       "            0.98657,       0.987,     0.98743,     0.98786,     0.98829,     0.98872,     0.98915,     0.98957,        0.99,     0.99043,     0.99086,     0.99128,     0.99171,     0.99213,     0.99248,     0.99249,     0.99251,     0.99252,     0.99253,     0.99254,     0.99255,     0.99256,     0.99258,\n",
       "            0.99259,      0.9926,     0.99261,     0.99262,     0.99263,     0.99264,     0.99266,     0.99267,     0.99268,     0.99269,      0.9927,     0.99271,     0.99272,     0.99274,     0.99275,     0.99276,     0.99277,     0.99278,     0.99279,      0.9928,     0.99282,     0.99283,     0.99284,\n",
       "            0.99285,     0.99286,     0.99287,     0.99289,      0.9929,     0.99291,     0.99292,     0.99293,     0.99294,     0.99295,     0.99297,     0.99298,     0.99299,       0.993,     0.99301,     0.99302,     0.99303,     0.99305,     0.99306,     0.99307,     0.99308,     0.99309,      0.9931,\n",
       "            0.99311,     0.99313,     0.99314,     0.99315,     0.99316,     0.99317,     0.99318,     0.99319,     0.99321,     0.99322,     0.99323,     0.99324,     0.99325,     0.99326,     0.99328,     0.99329,      0.9933,     0.99331,     0.99332,     0.99333,     0.99334,     0.99336,     0.99337,\n",
       "            0.99338,     0.99339,      0.9934,     0.99341,     0.99342,     0.99344,     0.99345,     0.99346,     0.99347,     0.99348,     0.99349,      0.9935,     0.99352,     0.99353,     0.99354,     0.99355,     0.99356,     0.99357,     0.99358,      0.9936,     0.99361,     0.99362,     0.99363,\n",
       "            0.99364,     0.99365,     0.99366,     0.99368,     0.99369,      0.9937,     0.99371,     0.99372,     0.99373,     0.99374,     0.99376,     0.99377,     0.99378,     0.99379,      0.9938,     0.99381,     0.99383,     0.99384,     0.99385,     0.99386,     0.99387,     0.99388,     0.99389,\n",
       "            0.99391,     0.99392,     0.99393,     0.99394,     0.99395,     0.99396,     0.99397,     0.99399,       0.994,     0.99401,     0.99402,     0.99403,     0.99404,     0.99405,     0.99407,     0.99408,     0.99409,      0.9941,     0.99411,     0.99412,     0.99413,     0.99415,     0.99416,\n",
       "            0.99417,     0.99418,     0.99419,      0.9942,     0.99421,     0.99423,     0.99424,     0.99425,     0.99426,     0.99427,     0.99428,     0.99429,     0.99431,     0.99432,     0.99433,     0.99434,     0.99435,     0.99436,     0.99437,     0.99439,      0.9944,     0.99441,     0.99442,\n",
       "            0.99443,     0.99444,     0.99445,     0.99447,     0.99448,     0.99449,      0.9945,     0.99451,     0.99452,     0.99453,     0.99455,     0.99456,     0.99457,     0.99458,     0.99459,      0.9946,     0.99461,     0.99463,     0.99464,     0.99465,     0.99466,     0.99467,     0.99468,\n",
       "            0.99469,     0.99471,     0.99472,     0.99473,     0.99474,     0.99475,     0.99476,     0.99477,     0.99479,      0.9948,     0.99481,     0.99482,     0.99483,     0.99484,     0.99485,     0.99487,     0.99488,     0.99489,      0.9949,     0.99491,     0.99492,     0.99493,     0.99495,\n",
       "            0.99496,     0.99497,     0.99498,     0.99499,       0.995,     0.99501,     0.99503,     0.99504,     0.99505,     0.99506,     0.99507,     0.99508,     0.99509,     0.99511,     0.99512,     0.99513,     0.99514,     0.99515,     0.99516,     0.99517,     0.99519,      0.9952,     0.99521,\n",
       "            0.99522,     0.99523,     0.99524,     0.99525,     0.99527,     0.99528,     0.99529,      0.9953,     0.99531,     0.99532,     0.99533,     0.99535,     0.99536,     0.99537,     0.99538,     0.99539,      0.9954,     0.99541,     0.99543,     0.99544,     0.99545,     0.99546,     0.99547,\n",
       "            0.99548,     0.99549,     0.99551,     0.99552,     0.99553,     0.99554,     0.99555,     0.99556,     0.99557,     0.99559,      0.9956,     0.99561,     0.99562,     0.99563,     0.99564,     0.99565,     0.99567,     0.99568,     0.99569,      0.9957,     0.99571,     0.99572,     0.99573,\n",
       "            0.99575,     0.99576,     0.99577,     0.99578,     0.99579,      0.9958,     0.99581,     0.99583,     0.99584,     0.99585,     0.99586,     0.99587,     0.99588,     0.99589,     0.99591,     0.99592,     0.99593,     0.99594,     0.99595,     0.99596,     0.99597,     0.99598,       0.996,\n",
       "            0.99601,     0.99602,     0.99603,     0.99604,     0.99605,     0.99606,     0.99608,     0.99609,      0.9961,     0.99611,     0.99612,     0.99613,     0.99614,     0.99616,     0.99617,     0.99618,     0.99619,      0.9962,     0.99621,     0.99622,     0.99624,     0.99625,     0.99626,\n",
       "            0.99627,     0.99628,     0.99629,      0.9963,     0.99632,     0.99633,     0.99634,     0.99635,     0.99636,     0.99637,     0.99638,      0.9964,     0.99641,     0.99642,     0.99643,     0.99644,     0.99645,     0.99646,     0.99648,     0.99649,      0.9965,     0.99651,     0.99652,\n",
       "            0.99653,     0.99654,     0.99655,     0.99657,     0.99658,     0.99659,      0.9966,     0.99661,     0.99662,     0.99663,     0.99665,     0.99666,     0.99667,     0.99668,     0.99669,      0.9967,     0.99671,     0.99673,     0.99674,     0.99675,     0.99676,     0.99677,     0.99678,\n",
       "            0.99679,     0.99681,     0.99682,     0.99683,     0.99684,     0.99685,     0.99686,     0.99687,     0.99689,      0.9969,     0.99691,     0.99692,     0.99693,     0.99694,     0.99695,     0.99696,     0.99698,     0.99699,       0.997,     0.99701,     0.99702,     0.99703,     0.99704,\n",
       "            0.99706,     0.99707,     0.99708,     0.99709,      0.9971,     0.99711,     0.99712,     0.99714,     0.99715,     0.99716,     0.99717,     0.99718,     0.99719,      0.9972,     0.99722,     0.99723,     0.99724,     0.99725,     0.99726,     0.99727,     0.99728,     0.99729,     0.99731,\n",
       "            0.99732,     0.99733,     0.99734,     0.99735,     0.99736,     0.99737,     0.99739,      0.9974,     0.99741,     0.99742,     0.99743,     0.99744,     0.99745,     0.99747,     0.99748,     0.99749,      0.9975,     0.99751,     0.99752,     0.99753,     0.99754,     0.99756,     0.99757,\n",
       "            0.99758,     0.99759,      0.9976,     0.99761,     0.99762,     0.99764,     0.99765,     0.99766,     0.99767,     0.99768,     0.99769,      0.9977,     0.99772,     0.99773,     0.99774,     0.99775,     0.99776,     0.99777,     0.99778,     0.99779,     0.99781,     0.99782,     0.99783,\n",
       "            0.99784,     0.99785,     0.99786,     0.99787,     0.99789,      0.9979,     0.99791,     0.99792,     0.99793,     0.99794,     0.99795,     0.99797,     0.99798,     0.99799,       0.998,     0.99801,     0.99802,     0.99803,     0.99804,     0.99806,     0.99807,     0.99808,     0.99809,\n",
       "             0.9981,     0.99811,     0.99812,     0.99814,     0.99815,     0.99816,     0.99817,     0.99818,     0.99819,      0.9982,     0.99822,     0.99823,     0.99824,     0.99825,     0.99826,     0.99827,     0.99828,     0.99829,     0.99831,     0.99832,     0.99833,     0.99834,     0.99835,\n",
       "            0.99836,     0.99837,     0.99839,      0.9984,     0.99841,     0.99842,     0.99843,     0.99844,     0.99845,     0.99846,     0.99848,     0.99849,      0.9985,     0.99851,     0.99852,     0.99853,     0.99854,     0.99856,     0.99857,     0.99858,     0.99859,      0.9986,     0.99861,\n",
       "            0.99862,     0.99864,     0.99865,     0.99866,     0.99867,     0.99868,     0.99869,      0.9987,     0.99871,     0.99873,     0.99874,     0.99875,     0.99876,     0.99877,     0.99878,     0.99879,     0.99881,     0.99882,     0.99883,     0.99884,     0.99885,     0.99886,     0.99887,\n",
       "            0.99888,      0.9989,     0.99891,     0.99892,     0.99893,     0.99894,     0.99895,     0.99896,     0.99898,     0.99899,       0.999,     0.99901,     0.99902,     0.99903,     0.99904,     0.99905,     0.99907,     0.99908,     0.99909,      0.9991,     0.99911,     0.99912,     0.99913,\n",
       "            0.99915,     0.99916,     0.99917,     0.99918,     0.99919,      0.9992,     0.99921,     0.99922,     0.99924,     0.99925,     0.99926,     0.99927,     0.99928,     0.99929,      0.9993,     0.99932,     0.99933,     0.99934,     0.99935,     0.99936,     0.99937,     0.99938,     0.99939,\n",
       "            0.99941,     0.99942,     0.99943,     0.99944,     0.99945,     0.99946,     0.99947,     0.99949,      0.9995,     0.99951,     0.99952,     0.99953,     0.99954,     0.99955,     0.99956,     0.99958,     0.99959,      0.9996,     0.99961,     0.99962,     0.99963,     0.99964,     0.99965,\n",
       "            0.99967,     0.99968,     0.99969,      0.9997,     0.99971,     0.99972,     0.99973,     0.99975,     0.99976,     0.99977,     0.99978,     0.99979,      0.9998,     0.99981,     0.99982,     0.99984,     0.99985,     0.99986,     0.99987,     0.99988,     0.99989,      0.9999,     0.99992,\n",
       "            0.99993,     0.99994,     0.99995,     0.99996,     0.99997,     0.99998,     0.99999,     0.99997,     0.99991,     0.99986,      0.9998,     0.99975,     0.99969,     0.99963,     0.99958,     0.99952,     0.99946,     0.99941,     0.99935,     0.99929,     0.99924,     0.99918,     0.99912,\n",
       "            0.99907,     0.99901,     0.99895,      0.9989,     0.99884,     0.99878,     0.99873,     0.99867,     0.99861,     0.99856,      0.9985,     0.99844,     0.99839,     0.99833,     0.99827,     0.99822,     0.99816,      0.9981,     0.99805,     0.99799,     0.99793,     0.99788,     0.99782,\n",
       "            0.99776,     0.99771,     0.99765,     0.99759,     0.99754,     0.99748,     0.99742,     0.99737,     0.99731,     0.99725,      0.9972,     0.99714,     0.99708,     0.99703,     0.99697,     0.99691,     0.99686,      0.9968,     0.99674,     0.99668,     0.99663,     0.99657,     0.99651,\n",
       "            0.99646,      0.9964,     0.99634,     0.99629,     0.99623,     0.99617,     0.99612,     0.99606,       0.996,     0.99595,     0.99589,     0.99583,     0.99577,     0.99572,     0.99566,      0.9956,     0.99555,     0.99549,     0.99543,     0.99538,     0.99532,     0.99526,      0.9952,\n",
       "            0.99515,     0.99509,     0.99503,     0.99498,     0.99492,     0.99486,     0.99481,     0.99475,     0.99469,     0.99463,     0.99458,     0.99452,     0.99446,     0.99441,     0.99435,     0.99429,     0.99423,     0.99418,     0.99412,     0.99406,     0.99401,     0.99395,     0.99389,\n",
       "            0.99383,     0.99378,     0.99372,     0.99366,     0.99361,     0.99355,     0.99349,     0.99343,     0.99338,     0.99332,     0.99326,     0.99321,     0.99315,     0.99309,     0.99303,     0.99298,     0.99292,     0.99286,      0.9928,     0.99275,     0.99269,     0.99263,     0.99257,\n",
       "            0.99252,     0.99246,      0.9924,     0.99225,     0.99192,     0.99159,     0.99126,     0.99093,      0.9906,     0.99027,     0.98994,     0.98961,     0.98928,     0.98895,     0.98862,     0.98829,     0.98796,     0.98763,     0.98729,     0.98696,     0.98663,      0.9863,     0.98597,\n",
       "            0.98563,      0.9853,     0.98497,     0.98463,     0.98435,     0.98407,     0.98379,     0.98351,     0.98322,     0.98294,     0.98266,     0.98238,      0.9821,     0.98181,     0.98153,     0.98125,     0.98096,     0.98068,      0.9804,     0.98012,     0.97983,     0.97955,     0.97926,\n",
       "            0.97898,      0.9787,     0.97841,     0.97813,     0.97784,     0.97756,     0.97727,     0.97699,     0.97641,     0.97408,     0.97174,     0.96939,     0.96674,     0.96397,     0.96118,     0.95838,     0.95556,     0.95273,     0.94863,     0.94433,     0.93394,      0.9304,     0.92684,\n",
       "             0.9179,      0.9118,     0.89472,     0.87949,     0.86878,     0.86379,     0.85765,      0.8482,     0.80601,     0.79178,     0.77339,     0.76752,     0.75281,     0.74675,     0.73385,     0.72342,     0.71581,     0.70937,     0.69985,     0.65992,     0.64583,     0.62472,     0.61882,\n",
       "            0.61287,     0.57686,     0.55844,     0.54668,     0.47929,     0.46245,     0.45011,     0.37942,     0.33758,     0.31151,     0.24707,     0.14414,     0.10998,    0.098816,    0.087523,    0.076094,    0.064527,    0.043748,           0,           0,           0,           0,           0,\n",
       "                  0,           0,           0,           0,           0,           0,           0,           0,           0,           0,           0,           0,           0,           0,           0,           0,           0,           0,           0,           0,           0,           0,           0,\n",
       "                  0,           0,           0,           0,           0,           0,           0,           0,           0,           0,           0]]), 'Confidence', 'F1'], [array([          0,    0.001001,    0.002002,    0.003003,    0.004004,    0.005005,    0.006006,    0.007007,    0.008008,    0.009009,     0.01001,    0.011011,    0.012012,    0.013013,    0.014014,    0.015015,    0.016016,    0.017017,    0.018018,    0.019019,     0.02002,    0.021021,    0.022022,    0.023023,\n",
       "          0.024024,    0.025025,    0.026026,    0.027027,    0.028028,    0.029029,     0.03003,    0.031031,    0.032032,    0.033033,    0.034034,    0.035035,    0.036036,    0.037037,    0.038038,    0.039039,     0.04004,    0.041041,    0.042042,    0.043043,    0.044044,    0.045045,    0.046046,    0.047047,\n",
       "          0.048048,    0.049049,     0.05005,    0.051051,    0.052052,    0.053053,    0.054054,    0.055055,    0.056056,    0.057057,    0.058058,    0.059059,     0.06006,    0.061061,    0.062062,    0.063063,    0.064064,    0.065065,    0.066066,    0.067067,    0.068068,    0.069069,     0.07007,    0.071071,\n",
       "          0.072072,    0.073073,    0.074074,    0.075075,    0.076076,    0.077077,    0.078078,    0.079079,     0.08008,    0.081081,    0.082082,    0.083083,    0.084084,    0.085085,    0.086086,    0.087087,    0.088088,    0.089089,     0.09009,    0.091091,    0.092092,    0.093093,    0.094094,    0.095095,\n",
       "          0.096096,    0.097097,    0.098098,    0.099099,      0.1001,      0.1011,      0.1021,      0.1031,      0.1041,     0.10511,     0.10611,     0.10711,     0.10811,     0.10911,     0.11011,     0.11111,     0.11211,     0.11311,     0.11411,     0.11512,     0.11612,     0.11712,     0.11812,     0.11912,\n",
       "           0.12012,     0.12112,     0.12212,     0.12312,     0.12412,     0.12513,     0.12613,     0.12713,     0.12813,     0.12913,     0.13013,     0.13113,     0.13213,     0.13313,     0.13413,     0.13514,     0.13614,     0.13714,     0.13814,     0.13914,     0.14014,     0.14114,     0.14214,     0.14314,\n",
       "           0.14414,     0.14515,     0.14615,     0.14715,     0.14815,     0.14915,     0.15015,     0.15115,     0.15215,     0.15315,     0.15415,     0.15516,     0.15616,     0.15716,     0.15816,     0.15916,     0.16016,     0.16116,     0.16216,     0.16316,     0.16416,     0.16517,     0.16617,     0.16717,\n",
       "           0.16817,     0.16917,     0.17017,     0.17117,     0.17217,     0.17317,     0.17417,     0.17518,     0.17618,     0.17718,     0.17818,     0.17918,     0.18018,     0.18118,     0.18218,     0.18318,     0.18418,     0.18519,     0.18619,     0.18719,     0.18819,     0.18919,     0.19019,     0.19119,\n",
       "           0.19219,     0.19319,     0.19419,      0.1952,      0.1962,      0.1972,      0.1982,      0.1992,      0.2002,      0.2012,      0.2022,      0.2032,      0.2042,     0.20521,     0.20621,     0.20721,     0.20821,     0.20921,     0.21021,     0.21121,     0.21221,     0.21321,     0.21421,     0.21522,\n",
       "           0.21622,     0.21722,     0.21822,     0.21922,     0.22022,     0.22122,     0.22222,     0.22322,     0.22422,     0.22523,     0.22623,     0.22723,     0.22823,     0.22923,     0.23023,     0.23123,     0.23223,     0.23323,     0.23423,     0.23524,     0.23624,     0.23724,     0.23824,     0.23924,\n",
       "           0.24024,     0.24124,     0.24224,     0.24324,     0.24424,     0.24525,     0.24625,     0.24725,     0.24825,     0.24925,     0.25025,     0.25125,     0.25225,     0.25325,     0.25425,     0.25526,     0.25626,     0.25726,     0.25826,     0.25926,     0.26026,     0.26126,     0.26226,     0.26326,\n",
       "           0.26426,     0.26527,     0.26627,     0.26727,     0.26827,     0.26927,     0.27027,     0.27127,     0.27227,     0.27327,     0.27427,     0.27528,     0.27628,     0.27728,     0.27828,     0.27928,     0.28028,     0.28128,     0.28228,     0.28328,     0.28428,     0.28529,     0.28629,     0.28729,\n",
       "           0.28829,     0.28929,     0.29029,     0.29129,     0.29229,     0.29329,     0.29429,      0.2953,      0.2963,      0.2973,      0.2983,      0.2993,      0.3003,      0.3013,      0.3023,      0.3033,      0.3043,     0.30531,     0.30631,     0.30731,     0.30831,     0.30931,     0.31031,     0.31131,\n",
       "           0.31231,     0.31331,     0.31431,     0.31532,     0.31632,     0.31732,     0.31832,     0.31932,     0.32032,     0.32132,     0.32232,     0.32332,     0.32432,     0.32533,     0.32633,     0.32733,     0.32833,     0.32933,     0.33033,     0.33133,     0.33233,     0.33333,     0.33433,     0.33534,\n",
       "           0.33634,     0.33734,     0.33834,     0.33934,     0.34034,     0.34134,     0.34234,     0.34334,     0.34434,     0.34535,     0.34635,     0.34735,     0.34835,     0.34935,     0.35035,     0.35135,     0.35235,     0.35335,     0.35435,     0.35536,     0.35636,     0.35736,     0.35836,     0.35936,\n",
       "           0.36036,     0.36136,     0.36236,     0.36336,     0.36436,     0.36537,     0.36637,     0.36737,     0.36837,     0.36937,     0.37037,     0.37137,     0.37237,     0.37337,     0.37437,     0.37538,     0.37638,     0.37738,     0.37838,     0.37938,     0.38038,     0.38138,     0.38238,     0.38338,\n",
       "           0.38438,     0.38539,     0.38639,     0.38739,     0.38839,     0.38939,     0.39039,     0.39139,     0.39239,     0.39339,     0.39439,      0.3954,      0.3964,      0.3974,      0.3984,      0.3994,      0.4004,      0.4014,      0.4024,      0.4034,      0.4044,     0.40541,     0.40641,     0.40741,\n",
       "           0.40841,     0.40941,     0.41041,     0.41141,     0.41241,     0.41341,     0.41441,     0.41542,     0.41642,     0.41742,     0.41842,     0.41942,     0.42042,     0.42142,     0.42242,     0.42342,     0.42442,     0.42543,     0.42643,     0.42743,     0.42843,     0.42943,     0.43043,     0.43143,\n",
       "           0.43243,     0.43343,     0.43443,     0.43544,     0.43644,     0.43744,     0.43844,     0.43944,     0.44044,     0.44144,     0.44244,     0.44344,     0.44444,     0.44545,     0.44645,     0.44745,     0.44845,     0.44945,     0.45045,     0.45145,     0.45245,     0.45345,     0.45445,     0.45546,\n",
       "           0.45646,     0.45746,     0.45846,     0.45946,     0.46046,     0.46146,     0.46246,     0.46346,     0.46446,     0.46547,     0.46647,     0.46747,     0.46847,     0.46947,     0.47047,     0.47147,     0.47247,     0.47347,     0.47447,     0.47548,     0.47648,     0.47748,     0.47848,     0.47948,\n",
       "           0.48048,     0.48148,     0.48248,     0.48348,     0.48448,     0.48549,     0.48649,     0.48749,     0.48849,     0.48949,     0.49049,     0.49149,     0.49249,     0.49349,     0.49449,      0.4955,      0.4965,      0.4975,      0.4985,      0.4995,      0.5005,      0.5015,      0.5025,      0.5035,\n",
       "            0.5045,     0.50551,     0.50651,     0.50751,     0.50851,     0.50951,     0.51051,     0.51151,     0.51251,     0.51351,     0.51451,     0.51552,     0.51652,     0.51752,     0.51852,     0.51952,     0.52052,     0.52152,     0.52252,     0.52352,     0.52452,     0.52553,     0.52653,     0.52753,\n",
       "           0.52853,     0.52953,     0.53053,     0.53153,     0.53253,     0.53353,     0.53453,     0.53554,     0.53654,     0.53754,     0.53854,     0.53954,     0.54054,     0.54154,     0.54254,     0.54354,     0.54454,     0.54555,     0.54655,     0.54755,     0.54855,     0.54955,     0.55055,     0.55155,\n",
       "           0.55255,     0.55355,     0.55455,     0.55556,     0.55656,     0.55756,     0.55856,     0.55956,     0.56056,     0.56156,     0.56256,     0.56356,     0.56456,     0.56557,     0.56657,     0.56757,     0.56857,     0.56957,     0.57057,     0.57157,     0.57257,     0.57357,     0.57457,     0.57558,\n",
       "           0.57658,     0.57758,     0.57858,     0.57958,     0.58058,     0.58158,     0.58258,     0.58358,     0.58458,     0.58559,     0.58659,     0.58759,     0.58859,     0.58959,     0.59059,     0.59159,     0.59259,     0.59359,     0.59459,      0.5956,      0.5966,      0.5976,      0.5986,      0.5996,\n",
       "            0.6006,      0.6016,      0.6026,      0.6036,      0.6046,     0.60561,     0.60661,     0.60761,     0.60861,     0.60961,     0.61061,     0.61161,     0.61261,     0.61361,     0.61461,     0.61562,     0.61662,     0.61762,     0.61862,     0.61962,     0.62062,     0.62162,     0.62262,     0.62362,\n",
       "           0.62462,     0.62563,     0.62663,     0.62763,     0.62863,     0.62963,     0.63063,     0.63163,     0.63263,     0.63363,     0.63463,     0.63564,     0.63664,     0.63764,     0.63864,     0.63964,     0.64064,     0.64164,     0.64264,     0.64364,     0.64464,     0.64565,     0.64665,     0.64765,\n",
       "           0.64865,     0.64965,     0.65065,     0.65165,     0.65265,     0.65365,     0.65465,     0.65566,     0.65666,     0.65766,     0.65866,     0.65966,     0.66066,     0.66166,     0.66266,     0.66366,     0.66466,     0.66567,     0.66667,     0.66767,     0.66867,     0.66967,     0.67067,     0.67167,\n",
       "           0.67267,     0.67367,     0.67467,     0.67568,     0.67668,     0.67768,     0.67868,     0.67968,     0.68068,     0.68168,     0.68268,     0.68368,     0.68468,     0.68569,     0.68669,     0.68769,     0.68869,     0.68969,     0.69069,     0.69169,     0.69269,     0.69369,     0.69469,      0.6957,\n",
       "            0.6967,      0.6977,      0.6987,      0.6997,      0.7007,      0.7017,      0.7027,      0.7037,      0.7047,     0.70571,     0.70671,     0.70771,     0.70871,     0.70971,     0.71071,     0.71171,     0.71271,     0.71371,     0.71471,     0.71572,     0.71672,     0.71772,     0.71872,     0.71972,\n",
       "           0.72072,     0.72172,     0.72272,     0.72372,     0.72472,     0.72573,     0.72673,     0.72773,     0.72873,     0.72973,     0.73073,     0.73173,     0.73273,     0.73373,     0.73473,     0.73574,     0.73674,     0.73774,     0.73874,     0.73974,     0.74074,     0.74174,     0.74274,     0.74374,\n",
       "           0.74474,     0.74575,     0.74675,     0.74775,     0.74875,     0.74975,     0.75075,     0.75175,     0.75275,     0.75375,     0.75475,     0.75576,     0.75676,     0.75776,     0.75876,     0.75976,     0.76076,     0.76176,     0.76276,     0.76376,     0.76476,     0.76577,     0.76677,     0.76777,\n",
       "           0.76877,     0.76977,     0.77077,     0.77177,     0.77277,     0.77377,     0.77477,     0.77578,     0.77678,     0.77778,     0.77878,     0.77978,     0.78078,     0.78178,     0.78278,     0.78378,     0.78478,     0.78579,     0.78679,     0.78779,     0.78879,     0.78979,     0.79079,     0.79179,\n",
       "           0.79279,     0.79379,     0.79479,      0.7958,      0.7968,      0.7978,      0.7988,      0.7998,      0.8008,      0.8018,      0.8028,      0.8038,      0.8048,     0.80581,     0.80681,     0.80781,     0.80881,     0.80981,     0.81081,     0.81181,     0.81281,     0.81381,     0.81481,     0.81582,\n",
       "           0.81682,     0.81782,     0.81882,     0.81982,     0.82082,     0.82182,     0.82282,     0.82382,     0.82482,     0.82583,     0.82683,     0.82783,     0.82883,     0.82983,     0.83083,     0.83183,     0.83283,     0.83383,     0.83483,     0.83584,     0.83684,     0.83784,     0.83884,     0.83984,\n",
       "           0.84084,     0.84184,     0.84284,     0.84384,     0.84484,     0.84585,     0.84685,     0.84785,     0.84885,     0.84985,     0.85085,     0.85185,     0.85285,     0.85385,     0.85485,     0.85586,     0.85686,     0.85786,     0.85886,     0.85986,     0.86086,     0.86186,     0.86286,     0.86386,\n",
       "           0.86486,     0.86587,     0.86687,     0.86787,     0.86887,     0.86987,     0.87087,     0.87187,     0.87287,     0.87387,     0.87487,     0.87588,     0.87688,     0.87788,     0.87888,     0.87988,     0.88088,     0.88188,     0.88288,     0.88388,     0.88488,     0.88589,     0.88689,     0.88789,\n",
       "           0.88889,     0.88989,     0.89089,     0.89189,     0.89289,     0.89389,     0.89489,      0.8959,      0.8969,      0.8979,      0.8989,      0.8999,      0.9009,      0.9019,      0.9029,      0.9039,      0.9049,     0.90591,     0.90691,     0.90791,     0.90891,     0.90991,     0.91091,     0.91191,\n",
       "           0.91291,     0.91391,     0.91491,     0.91592,     0.91692,     0.91792,     0.91892,     0.91992,     0.92092,     0.92192,     0.92292,     0.92392,     0.92492,     0.92593,     0.92693,     0.92793,     0.92893,     0.92993,     0.93093,     0.93193,     0.93293,     0.93393,     0.93493,     0.93594,\n",
       "           0.93694,     0.93794,     0.93894,     0.93994,     0.94094,     0.94194,     0.94294,     0.94394,     0.94494,     0.94595,     0.94695,     0.94795,     0.94895,     0.94995,     0.95095,     0.95195,     0.95295,     0.95395,     0.95495,     0.95596,     0.95696,     0.95796,     0.95896,     0.95996,\n",
       "           0.96096,     0.96196,     0.96296,     0.96396,     0.96496,     0.96597,     0.96697,     0.96797,     0.96897,     0.96997,     0.97097,     0.97197,     0.97297,     0.97397,     0.97497,     0.97598,     0.97698,     0.97798,     0.97898,     0.97998,     0.98098,     0.98198,     0.98298,     0.98398,\n",
       "           0.98498,     0.98599,     0.98699,     0.98799,     0.98899,     0.98999,     0.99099,     0.99199,     0.99299,     0.99399,     0.99499,       0.996,       0.997,       0.998,       0.999,           1]), array([[    0.64706,     0.64706,     0.77172,     0.80938,      0.8332,     0.86049,     0.86419,      0.8679,     0.88761,     0.90484,     0.91735,      0.9309,     0.93512,     0.93934,     0.94296,     0.94358,     0.94419,     0.94481,     0.94542,     0.94604,     0.94665,     0.94727,     0.94788,\n",
       "             0.9485,     0.94911,     0.94973,     0.95035,     0.95096,     0.95158,     0.95219,     0.95281,     0.95342,     0.95404,     0.95465,     0.95527,     0.95588,      0.9565,     0.95861,     0.96078,     0.96294,     0.96511,     0.96728,     0.96944,     0.97098,     0.97182,     0.97266,\n",
       "             0.9735,     0.97433,     0.97517,     0.97601,     0.97685,     0.97769,     0.97852,     0.97936,      0.9802,     0.98104,     0.98188,     0.98272,     0.98355,     0.98439,     0.98508,      0.9851,     0.98512,     0.98515,     0.98517,     0.98519,     0.98521,     0.98524,     0.98526,\n",
       "            0.98528,     0.98531,     0.98533,     0.98535,     0.98537,      0.9854,     0.98542,     0.98544,     0.98546,     0.98549,     0.98551,     0.98553,     0.98555,     0.98558,      0.9856,     0.98562,     0.98564,     0.98567,     0.98569,     0.98571,     0.98573,     0.98576,     0.98578,\n",
       "             0.9858,     0.98583,     0.98585,     0.98587,     0.98589,     0.98592,     0.98594,     0.98596,     0.98598,     0.98601,     0.98603,     0.98605,     0.98607,      0.9861,     0.98612,     0.98614,     0.98616,     0.98619,     0.98621,     0.98623,     0.98626,     0.98628,      0.9863,\n",
       "            0.98632,     0.98635,     0.98637,     0.98639,     0.98641,     0.98644,     0.98646,     0.98648,      0.9865,     0.98653,     0.98655,     0.98657,     0.98659,     0.98662,     0.98664,     0.98666,     0.98669,     0.98671,     0.98673,     0.98675,     0.98678,      0.9868,     0.98682,\n",
       "            0.98684,     0.98687,     0.98689,     0.98691,     0.98693,     0.98696,     0.98698,       0.987,     0.98702,     0.98705,     0.98707,     0.98709,     0.98712,     0.98714,     0.98716,     0.98718,     0.98721,     0.98723,     0.98725,     0.98727,      0.9873,     0.98732,     0.98734,\n",
       "            0.98736,     0.98739,     0.98741,     0.98743,     0.98745,     0.98748,      0.9875,     0.98752,     0.98754,     0.98757,     0.98759,     0.98761,     0.98764,     0.98766,     0.98768,      0.9877,     0.98773,     0.98775,     0.98777,     0.98779,     0.98782,     0.98784,     0.98786,\n",
       "            0.98788,     0.98791,     0.98793,     0.98795,     0.98797,       0.988,     0.98802,     0.98804,     0.98807,     0.98809,     0.98811,     0.98813,     0.98816,     0.98818,      0.9882,     0.98822,     0.98825,     0.98827,     0.98829,     0.98831,     0.98834,     0.98836,     0.98838,\n",
       "             0.9884,     0.98843,     0.98845,     0.98847,      0.9885,     0.98852,     0.98854,     0.98856,     0.98859,     0.98861,     0.98863,     0.98865,     0.98868,      0.9887,     0.98872,     0.98874,     0.98877,     0.98879,     0.98881,     0.98883,     0.98886,     0.98888,      0.9889,\n",
       "            0.98893,     0.98895,     0.98897,     0.98899,     0.98902,     0.98904,     0.98906,     0.98908,     0.98911,     0.98913,     0.98915,     0.98917,      0.9892,     0.98922,     0.98924,     0.98926,     0.98929,     0.98931,     0.98933,     0.98935,     0.98938,      0.9894,     0.98942,\n",
       "            0.98945,     0.98947,     0.98949,     0.98951,     0.98954,     0.98956,     0.98958,      0.9896,     0.98963,     0.98965,     0.98967,     0.98969,     0.98972,     0.98974,     0.98976,     0.98978,     0.98981,     0.98983,     0.98985,     0.98988,      0.9899,     0.98992,     0.98994,\n",
       "            0.98997,     0.98999,     0.99001,     0.99003,     0.99006,     0.99008,      0.9901,     0.99012,     0.99015,     0.99017,     0.99019,     0.99021,     0.99024,     0.99026,     0.99028,     0.99031,     0.99033,     0.99035,     0.99037,      0.9904,     0.99042,     0.99044,     0.99046,\n",
       "            0.99049,     0.99051,     0.99053,     0.99055,     0.99058,      0.9906,     0.99062,     0.99064,     0.99067,     0.99069,     0.99071,     0.99074,     0.99076,     0.99078,      0.9908,     0.99083,     0.99085,     0.99087,     0.99089,     0.99092,     0.99094,     0.99096,     0.99098,\n",
       "            0.99101,     0.99103,     0.99105,     0.99107,      0.9911,     0.99112,     0.99114,     0.99116,     0.99119,     0.99121,     0.99123,     0.99126,     0.99128,      0.9913,     0.99132,     0.99135,     0.99137,     0.99139,     0.99141,     0.99144,     0.99146,     0.99148,      0.9915,\n",
       "            0.99153,     0.99155,     0.99157,     0.99159,     0.99162,     0.99164,     0.99166,     0.99169,     0.99171,     0.99173,     0.99175,     0.99178,      0.9918,     0.99182,     0.99184,     0.99187,     0.99189,     0.99191,     0.99193,     0.99196,     0.99198,       0.992,     0.99202,\n",
       "            0.99205,     0.99207,     0.99209,     0.99212,     0.99214,     0.99216,     0.99218,     0.99221,     0.99223,     0.99225,     0.99227,      0.9923,     0.99232,     0.99234,     0.99236,     0.99239,     0.99241,     0.99243,     0.99245,     0.99248,      0.9925,     0.99252,     0.99255,\n",
       "            0.99257,     0.99259,     0.99261,     0.99264,     0.99266,     0.99268,      0.9927,     0.99273,     0.99275,     0.99277,     0.99279,     0.99282,     0.99284,     0.99286,     0.99288,     0.99291,     0.99293,     0.99295,     0.99297,       0.993,     0.99302,     0.99304,     0.99307,\n",
       "            0.99309,     0.99311,     0.99313,     0.99316,     0.99318,      0.9932,     0.99322,     0.99325,     0.99327,     0.99329,     0.99331,     0.99334,     0.99336,     0.99338,      0.9934,     0.99343,     0.99345,     0.99347,      0.9935,     0.99352,     0.99354,     0.99356,     0.99359,\n",
       "            0.99361,     0.99363,     0.99365,     0.99368,      0.9937,     0.99372,     0.99374,     0.99377,     0.99379,     0.99381,     0.99383,     0.99386,     0.99388,      0.9939,     0.99393,     0.99395,     0.99397,     0.99399,     0.99402,     0.99404,     0.99406,     0.99408,     0.99411,\n",
       "            0.99413,     0.99415,     0.99417,      0.9942,     0.99422,     0.99424,     0.99426,     0.99429,     0.99431,     0.99433,     0.99436,     0.99438,      0.9944,     0.99442,     0.99445,     0.99447,     0.99449,     0.99451,     0.99454,     0.99456,     0.99458,      0.9946,     0.99463,\n",
       "            0.99465,     0.99467,     0.99469,     0.99472,     0.99474,     0.99476,     0.99479,     0.99481,     0.99483,     0.99485,     0.99488,      0.9949,     0.99492,     0.99494,     0.99497,     0.99499,     0.99501,     0.99503,     0.99506,     0.99508,      0.9951,     0.99512,     0.99515,\n",
       "            0.99517,     0.99519,     0.99521,     0.99524,     0.99526,     0.99528,     0.99531,     0.99533,     0.99535,     0.99537,      0.9954,     0.99542,     0.99544,     0.99546,     0.99549,     0.99551,     0.99553,     0.99555,     0.99558,      0.9956,     0.99562,     0.99564,     0.99567,\n",
       "            0.99569,     0.99571,     0.99574,     0.99576,     0.99578,      0.9958,     0.99583,     0.99585,     0.99587,     0.99589,     0.99592,     0.99594,     0.99596,     0.99598,     0.99601,     0.99603,     0.99605,     0.99607,      0.9961,     0.99612,     0.99614,     0.99617,     0.99619,\n",
       "            0.99621,     0.99623,     0.99626,     0.99628,      0.9963,     0.99632,     0.99635,     0.99637,     0.99639,     0.99641,     0.99644,     0.99646,     0.99648,      0.9965,     0.99653,     0.99655,     0.99657,      0.9966,     0.99662,     0.99664,     0.99666,     0.99669,     0.99671,\n",
       "            0.99673,     0.99675,     0.99678,      0.9968,     0.99682,     0.99684,     0.99687,     0.99689,     0.99691,     0.99693,     0.99696,     0.99698,       0.997,     0.99702,     0.99705,     0.99707,     0.99709,     0.99712,     0.99714,     0.99716,     0.99718,     0.99721,     0.99723,\n",
       "            0.99725,     0.99727,      0.9973,     0.99732,     0.99734,     0.99736,     0.99739,     0.99741,     0.99743,     0.99745,     0.99748,      0.9975,     0.99752,     0.99755,     0.99757,     0.99759,     0.99761,     0.99764,     0.99766,     0.99768,      0.9977,     0.99773,     0.99775,\n",
       "            0.99777,     0.99779,     0.99782,     0.99784,     0.99786,     0.99788,     0.99791,     0.99793,     0.99795,     0.99798,       0.998,     0.99802,     0.99804,     0.99807,     0.99809,     0.99811,     0.99813,     0.99816,     0.99818,      0.9982,     0.99822,     0.99825,     0.99827,\n",
       "            0.99829,     0.99831,     0.99834,     0.99836,     0.99838,     0.99841,     0.99843,     0.99845,     0.99847,      0.9985,     0.99852,     0.99854,     0.99856,     0.99859,     0.99861,     0.99863,     0.99865,     0.99868,      0.9987,     0.99872,     0.99874,     0.99877,     0.99879,\n",
       "            0.99881,     0.99883,     0.99886,     0.99888,      0.9989,     0.99893,     0.99895,     0.99897,     0.99899,     0.99902,     0.99904,     0.99906,     0.99908,     0.99911,     0.99913,     0.99915,     0.99917,      0.9992,     0.99922,     0.99924,     0.99926,     0.99929,     0.99931,\n",
       "            0.99933,     0.99936,     0.99938,      0.9994,     0.99942,     0.99945,     0.99947,     0.99949,     0.99951,     0.99954,     0.99956,     0.99958,      0.9996,     0.99963,     0.99965,     0.99967,     0.99969,     0.99972,     0.99974,     0.99976,     0.99979,     0.99981,     0.99983,\n",
       "            0.99985,     0.99988,      0.9999,     0.99992,     0.99994,     0.99997,     0.99999,           1,           1,           1,           1,           1,           1,           1,           1,           1,           1,           1,           1,           1,           1,           1,           1,\n",
       "                  1,           1,           1,           1,           1,           1,           1,           1,           1,           1,           1,           1,           1,           1,           1,           1,           1,           1,           1,           1,           1,           1,           1,\n",
       "                  1,           1,           1,           1,           1,           1,           1,           1,           1,           1,           1,           1,           1,           1,           1,           1,           1,           1,           1,           1,           1,           1,           1,\n",
       "                  1,           1,           1,           1,           1,           1,           1,           1,           1,           1,           1,           1,           1,           1,           1,           1,           1,           1,           1,           1,           1,           1,           1,\n",
       "                  1,           1,           1,           1,           1,           1,           1,           1,           1,           1,           1,           1,           1,           1,           1,           1,           1,           1,           1,           1,           1,           1,           1,\n",
       "                  1,           1,           1,           1,           1,           1,           1,           1,           1,           1,           1,           1,           1,           1,           1,           1,           1,           1,           1,           1,           1,           1,           1,\n",
       "                  1,           1,           1,           1,           1,           1,           1,           1,           1,           1,           1,           1,           1,           1,           1,           1,           1,           1,           1,           1,           1,           1,           1,\n",
       "                  1,           1,           1,           1,           1,           1,           1,           1,           1,           1,           1,           1,           1,           1,           1,           1,           1,           1,           1,           1,           1,           1,           1,\n",
       "                  1,           1,           1,           1,           1,           1,           1,           1,           1,           1,           1,           1,           1,           1,           1,           1,           1,           1,           1,           1,           1,           1,           1,\n",
       "                  1,           1,           1,           1,           1,           1,           1,           1,           1,           1,           1,           1,           1,           1,           1,           1,           1,           1,           1,           1,           1,           1,           1,\n",
       "                  1,           1,           1,           1,           1,           1,           1,           1,           1,           1,           1,           1,           1,           1,           1,           1,           1,           1,           1,           1,           1,           1,           1,\n",
       "                  1,           1,           1,           1,           1,           1,           1,           1,           1,           1,           1,           1,           1,           1,           1,           1,           1,           1,           1,           1,           1,           1,           1,\n",
       "                  1,           1,           1,           1,           1,           1,           1,           1,           1,           1,           1]]), 'Confidence', 'Precision'], [array([          0,    0.001001,    0.002002,    0.003003,    0.004004,    0.005005,    0.006006,    0.007007,    0.008008,    0.009009,     0.01001,    0.011011,    0.012012,    0.013013,    0.014014,    0.015015,    0.016016,    0.017017,    0.018018,    0.019019,     0.02002,    0.021021,    0.022022,    0.023023,\n",
       "          0.024024,    0.025025,    0.026026,    0.027027,    0.028028,    0.029029,     0.03003,    0.031031,    0.032032,    0.033033,    0.034034,    0.035035,    0.036036,    0.037037,    0.038038,    0.039039,     0.04004,    0.041041,    0.042042,    0.043043,    0.044044,    0.045045,    0.046046,    0.047047,\n",
       "          0.048048,    0.049049,     0.05005,    0.051051,    0.052052,    0.053053,    0.054054,    0.055055,    0.056056,    0.057057,    0.058058,    0.059059,     0.06006,    0.061061,    0.062062,    0.063063,    0.064064,    0.065065,    0.066066,    0.067067,    0.068068,    0.069069,     0.07007,    0.071071,\n",
       "          0.072072,    0.073073,    0.074074,    0.075075,    0.076076,    0.077077,    0.078078,    0.079079,     0.08008,    0.081081,    0.082082,    0.083083,    0.084084,    0.085085,    0.086086,    0.087087,    0.088088,    0.089089,     0.09009,    0.091091,    0.092092,    0.093093,    0.094094,    0.095095,\n",
       "          0.096096,    0.097097,    0.098098,    0.099099,      0.1001,      0.1011,      0.1021,      0.1031,      0.1041,     0.10511,     0.10611,     0.10711,     0.10811,     0.10911,     0.11011,     0.11111,     0.11211,     0.11311,     0.11411,     0.11512,     0.11612,     0.11712,     0.11812,     0.11912,\n",
       "           0.12012,     0.12112,     0.12212,     0.12312,     0.12412,     0.12513,     0.12613,     0.12713,     0.12813,     0.12913,     0.13013,     0.13113,     0.13213,     0.13313,     0.13413,     0.13514,     0.13614,     0.13714,     0.13814,     0.13914,     0.14014,     0.14114,     0.14214,     0.14314,\n",
       "           0.14414,     0.14515,     0.14615,     0.14715,     0.14815,     0.14915,     0.15015,     0.15115,     0.15215,     0.15315,     0.15415,     0.15516,     0.15616,     0.15716,     0.15816,     0.15916,     0.16016,     0.16116,     0.16216,     0.16316,     0.16416,     0.16517,     0.16617,     0.16717,\n",
       "           0.16817,     0.16917,     0.17017,     0.17117,     0.17217,     0.17317,     0.17417,     0.17518,     0.17618,     0.17718,     0.17818,     0.17918,     0.18018,     0.18118,     0.18218,     0.18318,     0.18418,     0.18519,     0.18619,     0.18719,     0.18819,     0.18919,     0.19019,     0.19119,\n",
       "           0.19219,     0.19319,     0.19419,      0.1952,      0.1962,      0.1972,      0.1982,      0.1992,      0.2002,      0.2012,      0.2022,      0.2032,      0.2042,     0.20521,     0.20621,     0.20721,     0.20821,     0.20921,     0.21021,     0.21121,     0.21221,     0.21321,     0.21421,     0.21522,\n",
       "           0.21622,     0.21722,     0.21822,     0.21922,     0.22022,     0.22122,     0.22222,     0.22322,     0.22422,     0.22523,     0.22623,     0.22723,     0.22823,     0.22923,     0.23023,     0.23123,     0.23223,     0.23323,     0.23423,     0.23524,     0.23624,     0.23724,     0.23824,     0.23924,\n",
       "           0.24024,     0.24124,     0.24224,     0.24324,     0.24424,     0.24525,     0.24625,     0.24725,     0.24825,     0.24925,     0.25025,     0.25125,     0.25225,     0.25325,     0.25425,     0.25526,     0.25626,     0.25726,     0.25826,     0.25926,     0.26026,     0.26126,     0.26226,     0.26326,\n",
       "           0.26426,     0.26527,     0.26627,     0.26727,     0.26827,     0.26927,     0.27027,     0.27127,     0.27227,     0.27327,     0.27427,     0.27528,     0.27628,     0.27728,     0.27828,     0.27928,     0.28028,     0.28128,     0.28228,     0.28328,     0.28428,     0.28529,     0.28629,     0.28729,\n",
       "           0.28829,     0.28929,     0.29029,     0.29129,     0.29229,     0.29329,     0.29429,      0.2953,      0.2963,      0.2973,      0.2983,      0.2993,      0.3003,      0.3013,      0.3023,      0.3033,      0.3043,     0.30531,     0.30631,     0.30731,     0.30831,     0.30931,     0.31031,     0.31131,\n",
       "           0.31231,     0.31331,     0.31431,     0.31532,     0.31632,     0.31732,     0.31832,     0.31932,     0.32032,     0.32132,     0.32232,     0.32332,     0.32432,     0.32533,     0.32633,     0.32733,     0.32833,     0.32933,     0.33033,     0.33133,     0.33233,     0.33333,     0.33433,     0.33534,\n",
       "           0.33634,     0.33734,     0.33834,     0.33934,     0.34034,     0.34134,     0.34234,     0.34334,     0.34434,     0.34535,     0.34635,     0.34735,     0.34835,     0.34935,     0.35035,     0.35135,     0.35235,     0.35335,     0.35435,     0.35536,     0.35636,     0.35736,     0.35836,     0.35936,\n",
       "           0.36036,     0.36136,     0.36236,     0.36336,     0.36436,     0.36537,     0.36637,     0.36737,     0.36837,     0.36937,     0.37037,     0.37137,     0.37237,     0.37337,     0.37437,     0.37538,     0.37638,     0.37738,     0.37838,     0.37938,     0.38038,     0.38138,     0.38238,     0.38338,\n",
       "           0.38438,     0.38539,     0.38639,     0.38739,     0.38839,     0.38939,     0.39039,     0.39139,     0.39239,     0.39339,     0.39439,      0.3954,      0.3964,      0.3974,      0.3984,      0.3994,      0.4004,      0.4014,      0.4024,      0.4034,      0.4044,     0.40541,     0.40641,     0.40741,\n",
       "           0.40841,     0.40941,     0.41041,     0.41141,     0.41241,     0.41341,     0.41441,     0.41542,     0.41642,     0.41742,     0.41842,     0.41942,     0.42042,     0.42142,     0.42242,     0.42342,     0.42442,     0.42543,     0.42643,     0.42743,     0.42843,     0.42943,     0.43043,     0.43143,\n",
       "           0.43243,     0.43343,     0.43443,     0.43544,     0.43644,     0.43744,     0.43844,     0.43944,     0.44044,     0.44144,     0.44244,     0.44344,     0.44444,     0.44545,     0.44645,     0.44745,     0.44845,     0.44945,     0.45045,     0.45145,     0.45245,     0.45345,     0.45445,     0.45546,\n",
       "           0.45646,     0.45746,     0.45846,     0.45946,     0.46046,     0.46146,     0.46246,     0.46346,     0.46446,     0.46547,     0.46647,     0.46747,     0.46847,     0.46947,     0.47047,     0.47147,     0.47247,     0.47347,     0.47447,     0.47548,     0.47648,     0.47748,     0.47848,     0.47948,\n",
       "           0.48048,     0.48148,     0.48248,     0.48348,     0.48448,     0.48549,     0.48649,     0.48749,     0.48849,     0.48949,     0.49049,     0.49149,     0.49249,     0.49349,     0.49449,      0.4955,      0.4965,      0.4975,      0.4985,      0.4995,      0.5005,      0.5015,      0.5025,      0.5035,\n",
       "            0.5045,     0.50551,     0.50651,     0.50751,     0.50851,     0.50951,     0.51051,     0.51151,     0.51251,     0.51351,     0.51451,     0.51552,     0.51652,     0.51752,     0.51852,     0.51952,     0.52052,     0.52152,     0.52252,     0.52352,     0.52452,     0.52553,     0.52653,     0.52753,\n",
       "           0.52853,     0.52953,     0.53053,     0.53153,     0.53253,     0.53353,     0.53453,     0.53554,     0.53654,     0.53754,     0.53854,     0.53954,     0.54054,     0.54154,     0.54254,     0.54354,     0.54454,     0.54555,     0.54655,     0.54755,     0.54855,     0.54955,     0.55055,     0.55155,\n",
       "           0.55255,     0.55355,     0.55455,     0.55556,     0.55656,     0.55756,     0.55856,     0.55956,     0.56056,     0.56156,     0.56256,     0.56356,     0.56456,     0.56557,     0.56657,     0.56757,     0.56857,     0.56957,     0.57057,     0.57157,     0.57257,     0.57357,     0.57457,     0.57558,\n",
       "           0.57658,     0.57758,     0.57858,     0.57958,     0.58058,     0.58158,     0.58258,     0.58358,     0.58458,     0.58559,     0.58659,     0.58759,     0.58859,     0.58959,     0.59059,     0.59159,     0.59259,     0.59359,     0.59459,      0.5956,      0.5966,      0.5976,      0.5986,      0.5996,\n",
       "            0.6006,      0.6016,      0.6026,      0.6036,      0.6046,     0.60561,     0.60661,     0.60761,     0.60861,     0.60961,     0.61061,     0.61161,     0.61261,     0.61361,     0.61461,     0.61562,     0.61662,     0.61762,     0.61862,     0.61962,     0.62062,     0.62162,     0.62262,     0.62362,\n",
       "           0.62462,     0.62563,     0.62663,     0.62763,     0.62863,     0.62963,     0.63063,     0.63163,     0.63263,     0.63363,     0.63463,     0.63564,     0.63664,     0.63764,     0.63864,     0.63964,     0.64064,     0.64164,     0.64264,     0.64364,     0.64464,     0.64565,     0.64665,     0.64765,\n",
       "           0.64865,     0.64965,     0.65065,     0.65165,     0.65265,     0.65365,     0.65465,     0.65566,     0.65666,     0.65766,     0.65866,     0.65966,     0.66066,     0.66166,     0.66266,     0.66366,     0.66466,     0.66567,     0.66667,     0.66767,     0.66867,     0.66967,     0.67067,     0.67167,\n",
       "           0.67267,     0.67367,     0.67467,     0.67568,     0.67668,     0.67768,     0.67868,     0.67968,     0.68068,     0.68168,     0.68268,     0.68368,     0.68468,     0.68569,     0.68669,     0.68769,     0.68869,     0.68969,     0.69069,     0.69169,     0.69269,     0.69369,     0.69469,      0.6957,\n",
       "            0.6967,      0.6977,      0.6987,      0.6997,      0.7007,      0.7017,      0.7027,      0.7037,      0.7047,     0.70571,     0.70671,     0.70771,     0.70871,     0.70971,     0.71071,     0.71171,     0.71271,     0.71371,     0.71471,     0.71572,     0.71672,     0.71772,     0.71872,     0.71972,\n",
       "           0.72072,     0.72172,     0.72272,     0.72372,     0.72472,     0.72573,     0.72673,     0.72773,     0.72873,     0.72973,     0.73073,     0.73173,     0.73273,     0.73373,     0.73473,     0.73574,     0.73674,     0.73774,     0.73874,     0.73974,     0.74074,     0.74174,     0.74274,     0.74374,\n",
       "           0.74474,     0.74575,     0.74675,     0.74775,     0.74875,     0.74975,     0.75075,     0.75175,     0.75275,     0.75375,     0.75475,     0.75576,     0.75676,     0.75776,     0.75876,     0.75976,     0.76076,     0.76176,     0.76276,     0.76376,     0.76476,     0.76577,     0.76677,     0.76777,\n",
       "           0.76877,     0.76977,     0.77077,     0.77177,     0.77277,     0.77377,     0.77477,     0.77578,     0.77678,     0.77778,     0.77878,     0.77978,     0.78078,     0.78178,     0.78278,     0.78378,     0.78478,     0.78579,     0.78679,     0.78779,     0.78879,     0.78979,     0.79079,     0.79179,\n",
       "           0.79279,     0.79379,     0.79479,      0.7958,      0.7968,      0.7978,      0.7988,      0.7998,      0.8008,      0.8018,      0.8028,      0.8038,      0.8048,     0.80581,     0.80681,     0.80781,     0.80881,     0.80981,     0.81081,     0.81181,     0.81281,     0.81381,     0.81481,     0.81582,\n",
       "           0.81682,     0.81782,     0.81882,     0.81982,     0.82082,     0.82182,     0.82282,     0.82382,     0.82482,     0.82583,     0.82683,     0.82783,     0.82883,     0.82983,     0.83083,     0.83183,     0.83283,     0.83383,     0.83483,     0.83584,     0.83684,     0.83784,     0.83884,     0.83984,\n",
       "           0.84084,     0.84184,     0.84284,     0.84384,     0.84484,     0.84585,     0.84685,     0.84785,     0.84885,     0.84985,     0.85085,     0.85185,     0.85285,     0.85385,     0.85485,     0.85586,     0.85686,     0.85786,     0.85886,     0.85986,     0.86086,     0.86186,     0.86286,     0.86386,\n",
       "           0.86486,     0.86587,     0.86687,     0.86787,     0.86887,     0.86987,     0.87087,     0.87187,     0.87287,     0.87387,     0.87487,     0.87588,     0.87688,     0.87788,     0.87888,     0.87988,     0.88088,     0.88188,     0.88288,     0.88388,     0.88488,     0.88589,     0.88689,     0.88789,\n",
       "           0.88889,     0.88989,     0.89089,     0.89189,     0.89289,     0.89389,     0.89489,      0.8959,      0.8969,      0.8979,      0.8989,      0.8999,      0.9009,      0.9019,      0.9029,      0.9039,      0.9049,     0.90591,     0.90691,     0.90791,     0.90891,     0.90991,     0.91091,     0.91191,\n",
       "           0.91291,     0.91391,     0.91491,     0.91592,     0.91692,     0.91792,     0.91892,     0.91992,     0.92092,     0.92192,     0.92292,     0.92392,     0.92492,     0.92593,     0.92693,     0.92793,     0.92893,     0.92993,     0.93093,     0.93193,     0.93293,     0.93393,     0.93493,     0.93594,\n",
       "           0.93694,     0.93794,     0.93894,     0.93994,     0.94094,     0.94194,     0.94294,     0.94394,     0.94494,     0.94595,     0.94695,     0.94795,     0.94895,     0.94995,     0.95095,     0.95195,     0.95295,     0.95395,     0.95495,     0.95596,     0.95696,     0.95796,     0.95896,     0.95996,\n",
       "           0.96096,     0.96196,     0.96296,     0.96396,     0.96496,     0.96597,     0.96697,     0.96797,     0.96897,     0.96997,     0.97097,     0.97197,     0.97297,     0.97397,     0.97497,     0.97598,     0.97698,     0.97798,     0.97898,     0.97998,     0.98098,     0.98198,     0.98298,     0.98398,\n",
       "           0.98498,     0.98599,     0.98699,     0.98799,     0.98899,     0.98999,     0.99099,     0.99199,     0.99299,     0.99399,     0.99499,       0.996,       0.997,       0.998,       0.999,           1]), array([[          1,           1,           1,           1,           1,           1,           1,           1,           1,           1,           1,           1,           1,           1,           1,           1,           1,           1,           1,           1,           1,           1,           1,\n",
       "                  1,           1,           1,           1,           1,           1,           1,           1,           1,           1,           1,           1,           1,           1,           1,           1,           1,           1,           1,           1,           1,           1,           1,\n",
       "                  1,           1,           1,           1,           1,           1,           1,           1,           1,           1,           1,           1,           1,           1,           1,           1,           1,           1,           1,           1,           1,           1,           1,\n",
       "                  1,           1,           1,           1,           1,           1,           1,           1,           1,           1,           1,           1,           1,           1,           1,           1,           1,           1,           1,           1,           1,           1,           1,\n",
       "                  1,           1,           1,           1,           1,           1,           1,           1,           1,           1,           1,           1,           1,           1,           1,           1,           1,           1,           1,           1,           1,           1,           1,\n",
       "                  1,           1,           1,           1,           1,           1,           1,           1,           1,           1,           1,           1,           1,           1,           1,           1,           1,           1,           1,           1,           1,           1,           1,\n",
       "                  1,           1,           1,           1,           1,           1,           1,           1,           1,           1,           1,           1,           1,           1,           1,           1,           1,           1,           1,           1,           1,           1,           1,\n",
       "                  1,           1,           1,           1,           1,           1,           1,           1,           1,           1,           1,           1,           1,           1,           1,           1,           1,           1,           1,           1,           1,           1,           1,\n",
       "                  1,           1,           1,           1,           1,           1,           1,           1,           1,           1,           1,           1,           1,           1,           1,           1,           1,           1,           1,           1,           1,           1,           1,\n",
       "                  1,           1,           1,           1,           1,           1,           1,           1,           1,           1,           1,           1,           1,           1,           1,           1,           1,           1,           1,           1,           1,           1,           1,\n",
       "                  1,           1,           1,           1,           1,           1,           1,           1,           1,           1,           1,           1,           1,           1,           1,           1,           1,           1,           1,           1,           1,           1,           1,\n",
       "                  1,           1,           1,           1,           1,           1,           1,           1,           1,           1,           1,           1,           1,           1,           1,           1,           1,           1,           1,           1,           1,           1,           1,\n",
       "                  1,           1,           1,           1,           1,           1,           1,           1,           1,           1,           1,           1,           1,           1,           1,           1,           1,           1,           1,           1,           1,           1,           1,\n",
       "                  1,           1,           1,           1,           1,           1,           1,           1,           1,           1,           1,           1,           1,           1,           1,           1,           1,           1,           1,           1,           1,           1,           1,\n",
       "                  1,           1,           1,           1,           1,           1,           1,           1,           1,           1,           1,           1,           1,           1,           1,           1,           1,           1,           1,           1,           1,           1,           1,\n",
       "                  1,           1,           1,           1,           1,           1,           1,           1,           1,           1,           1,           1,           1,           1,           1,           1,           1,           1,           1,           1,           1,           1,           1,\n",
       "                  1,           1,           1,           1,           1,           1,           1,           1,           1,           1,           1,           1,           1,           1,           1,           1,           1,           1,           1,           1,           1,           1,           1,\n",
       "                  1,           1,           1,           1,           1,           1,           1,           1,           1,           1,           1,           1,           1,           1,           1,           1,           1,           1,           1,           1,           1,           1,           1,\n",
       "                  1,           1,           1,           1,           1,           1,           1,           1,           1,           1,           1,           1,           1,           1,           1,           1,           1,           1,           1,           1,           1,           1,           1,\n",
       "                  1,           1,           1,           1,           1,           1,           1,           1,           1,           1,           1,           1,           1,           1,           1,           1,           1,           1,           1,           1,           1,           1,           1,\n",
       "                  1,           1,           1,           1,           1,           1,           1,           1,           1,           1,           1,           1,           1,           1,           1,           1,           1,           1,           1,           1,           1,           1,           1,\n",
       "                  1,           1,           1,           1,           1,           1,           1,           1,           1,           1,           1,           1,           1,           1,           1,           1,           1,           1,           1,           1,           1,           1,           1,\n",
       "                  1,           1,           1,           1,           1,           1,           1,           1,           1,           1,           1,           1,           1,           1,           1,           1,           1,           1,           1,           1,           1,           1,           1,\n",
       "                  1,           1,           1,           1,           1,           1,           1,           1,           1,           1,           1,           1,           1,           1,           1,           1,           1,           1,           1,           1,           1,           1,           1,\n",
       "                  1,           1,           1,           1,           1,           1,           1,           1,           1,           1,           1,           1,           1,           1,           1,           1,           1,           1,           1,           1,           1,           1,           1,\n",
       "                  1,           1,           1,           1,           1,           1,           1,           1,           1,           1,           1,           1,           1,           1,           1,           1,           1,           1,           1,           1,           1,           1,           1,\n",
       "                  1,           1,           1,           1,           1,           1,           1,           1,           1,           1,           1,           1,           1,           1,           1,           1,           1,           1,           1,           1,           1,           1,           1,\n",
       "                  1,           1,           1,           1,           1,           1,           1,           1,           1,           1,           1,           1,           1,           1,           1,           1,           1,           1,           1,           1,           1,           1,           1,\n",
       "                  1,           1,           1,           1,           1,           1,           1,           1,           1,           1,           1,           1,           1,           1,           1,           1,           1,           1,           1,           1,           1,           1,           1,\n",
       "                  1,           1,           1,           1,           1,           1,           1,           1,           1,           1,           1,           1,           1,           1,           1,           1,           1,           1,           1,           1,           1,           1,           1,\n",
       "                  1,           1,           1,           1,           1,           1,           1,           1,           1,           1,           1,           1,           1,           1,           1,           1,           1,           1,           1,           1,           1,           1,           1,\n",
       "                  1,           1,           1,           1,           1,           1,           1,     0.99994,     0.99983,     0.99972,      0.9996,     0.99949,     0.99938,     0.99927,     0.99915,     0.99904,     0.99893,     0.99881,      0.9987,     0.99859,     0.99847,     0.99836,     0.99825,\n",
       "            0.99814,     0.99802,     0.99791,      0.9978,     0.99768,     0.99757,     0.99746,     0.99735,     0.99723,     0.99712,     0.99701,     0.99689,     0.99678,     0.99667,     0.99655,     0.99644,     0.99633,     0.99622,      0.9961,     0.99599,     0.99588,     0.99576,     0.99565,\n",
       "            0.99554,     0.99542,     0.99531,      0.9952,     0.99509,     0.99497,     0.99486,     0.99475,     0.99463,     0.99452,     0.99441,      0.9943,     0.99418,     0.99407,     0.99396,     0.99384,     0.99373,     0.99362,      0.9935,     0.99339,     0.99328,     0.99317,     0.99305,\n",
       "            0.99294,     0.99283,     0.99271,      0.9926,     0.99249,     0.99238,     0.99226,     0.99215,     0.99204,     0.99192,     0.99181,      0.9917,     0.99158,     0.99147,     0.99136,     0.99125,     0.99113,     0.99102,     0.99091,     0.99079,     0.99068,     0.99057,     0.99046,\n",
       "            0.99034,     0.99023,     0.99012,        0.99,     0.98989,     0.98978,     0.98966,     0.98955,     0.98944,     0.98933,     0.98921,      0.9891,     0.98899,     0.98887,     0.98876,     0.98865,     0.98853,     0.98842,     0.98831,      0.9882,     0.98808,     0.98797,     0.98786,\n",
       "            0.98774,     0.98763,     0.98752,     0.98741,     0.98729,     0.98718,     0.98707,     0.98695,     0.98684,     0.98673,     0.98661,      0.9865,     0.98639,     0.98628,     0.98616,     0.98605,     0.98594,     0.98582,     0.98571,      0.9856,     0.98549,     0.98537,     0.98526,\n",
       "            0.98515,     0.98503,     0.98492,     0.98461,     0.98397,     0.98332,     0.98267,     0.98203,     0.98138,     0.98073,     0.98008,     0.97944,     0.97879,     0.97814,      0.9775,     0.97685,      0.9762,     0.97555,     0.97491,     0.97426,     0.97361,     0.97297,     0.97232,\n",
       "            0.97167,     0.97102,     0.97038,     0.96973,     0.96918,     0.96864,     0.96809,     0.96755,       0.967,     0.96646,     0.96591,     0.96537,     0.96482,     0.96428,     0.96373,     0.96319,     0.96264,      0.9621,     0.96155,     0.96101,     0.96046,     0.95992,     0.95937,\n",
       "            0.95883,     0.95828,     0.95774,     0.95719,     0.95665,      0.9561,     0.95556,     0.95501,     0.95391,     0.94947,     0.94503,     0.94059,     0.93562,     0.93044,     0.92526,     0.92009,     0.91491,     0.90973,     0.90229,     0.89452,     0.87607,     0.86986,     0.86365,\n",
       "            0.84825,      0.8379,      0.8095,     0.78491,     0.76801,     0.76024,     0.75078,     0.73642,     0.67505,     0.65533,     0.63051,     0.62274,     0.60361,     0.59585,     0.57959,     0.56668,      0.5574,     0.54963,     0.53828,     0.49245,     0.47692,     0.45425,     0.44804,\n",
       "            0.44183,     0.40534,     0.38739,     0.37616,     0.31517,     0.30077,     0.29042,     0.23413,     0.20307,     0.18449,     0.14094,    0.077669,    0.058188,    0.051976,    0.045764,    0.039552,    0.033339,    0.022363,           0,           0,           0,           0,           0,\n",
       "                  0,           0,           0,           0,           0,           0,           0,           0,           0,           0,           0,           0,           0,           0,           0,           0,           0,           0,           0,           0,           0,           0,           0,\n",
       "                  0,           0,           0,           0,           0,           0,           0,           0,           0,           0,           0]]), 'Confidence', 'Recall'], [array([          0,    0.001001,    0.002002,    0.003003,    0.004004,    0.005005,    0.006006,    0.007007,    0.008008,    0.009009,     0.01001,    0.011011,    0.012012,    0.013013,    0.014014,    0.015015,    0.016016,    0.017017,    0.018018,    0.019019,     0.02002,    0.021021,    0.022022,    0.023023,\n",
       "          0.024024,    0.025025,    0.026026,    0.027027,    0.028028,    0.029029,     0.03003,    0.031031,    0.032032,    0.033033,    0.034034,    0.035035,    0.036036,    0.037037,    0.038038,    0.039039,     0.04004,    0.041041,    0.042042,    0.043043,    0.044044,    0.045045,    0.046046,    0.047047,\n",
       "          0.048048,    0.049049,     0.05005,    0.051051,    0.052052,    0.053053,    0.054054,    0.055055,    0.056056,    0.057057,    0.058058,    0.059059,     0.06006,    0.061061,    0.062062,    0.063063,    0.064064,    0.065065,    0.066066,    0.067067,    0.068068,    0.069069,     0.07007,    0.071071,\n",
       "          0.072072,    0.073073,    0.074074,    0.075075,    0.076076,    0.077077,    0.078078,    0.079079,     0.08008,    0.081081,    0.082082,    0.083083,    0.084084,    0.085085,    0.086086,    0.087087,    0.088088,    0.089089,     0.09009,    0.091091,    0.092092,    0.093093,    0.094094,    0.095095,\n",
       "          0.096096,    0.097097,    0.098098,    0.099099,      0.1001,      0.1011,      0.1021,      0.1031,      0.1041,     0.10511,     0.10611,     0.10711,     0.10811,     0.10911,     0.11011,     0.11111,     0.11211,     0.11311,     0.11411,     0.11512,     0.11612,     0.11712,     0.11812,     0.11912,\n",
       "           0.12012,     0.12112,     0.12212,     0.12312,     0.12412,     0.12513,     0.12613,     0.12713,     0.12813,     0.12913,     0.13013,     0.13113,     0.13213,     0.13313,     0.13413,     0.13514,     0.13614,     0.13714,     0.13814,     0.13914,     0.14014,     0.14114,     0.14214,     0.14314,\n",
       "           0.14414,     0.14515,     0.14615,     0.14715,     0.14815,     0.14915,     0.15015,     0.15115,     0.15215,     0.15315,     0.15415,     0.15516,     0.15616,     0.15716,     0.15816,     0.15916,     0.16016,     0.16116,     0.16216,     0.16316,     0.16416,     0.16517,     0.16617,     0.16717,\n",
       "           0.16817,     0.16917,     0.17017,     0.17117,     0.17217,     0.17317,     0.17417,     0.17518,     0.17618,     0.17718,     0.17818,     0.17918,     0.18018,     0.18118,     0.18218,     0.18318,     0.18418,     0.18519,     0.18619,     0.18719,     0.18819,     0.18919,     0.19019,     0.19119,\n",
       "           0.19219,     0.19319,     0.19419,      0.1952,      0.1962,      0.1972,      0.1982,      0.1992,      0.2002,      0.2012,      0.2022,      0.2032,      0.2042,     0.20521,     0.20621,     0.20721,     0.20821,     0.20921,     0.21021,     0.21121,     0.21221,     0.21321,     0.21421,     0.21522,\n",
       "           0.21622,     0.21722,     0.21822,     0.21922,     0.22022,     0.22122,     0.22222,     0.22322,     0.22422,     0.22523,     0.22623,     0.22723,     0.22823,     0.22923,     0.23023,     0.23123,     0.23223,     0.23323,     0.23423,     0.23524,     0.23624,     0.23724,     0.23824,     0.23924,\n",
       "           0.24024,     0.24124,     0.24224,     0.24324,     0.24424,     0.24525,     0.24625,     0.24725,     0.24825,     0.24925,     0.25025,     0.25125,     0.25225,     0.25325,     0.25425,     0.25526,     0.25626,     0.25726,     0.25826,     0.25926,     0.26026,     0.26126,     0.26226,     0.26326,\n",
       "           0.26426,     0.26527,     0.26627,     0.26727,     0.26827,     0.26927,     0.27027,     0.27127,     0.27227,     0.27327,     0.27427,     0.27528,     0.27628,     0.27728,     0.27828,     0.27928,     0.28028,     0.28128,     0.28228,     0.28328,     0.28428,     0.28529,     0.28629,     0.28729,\n",
       "           0.28829,     0.28929,     0.29029,     0.29129,     0.29229,     0.29329,     0.29429,      0.2953,      0.2963,      0.2973,      0.2983,      0.2993,      0.3003,      0.3013,      0.3023,      0.3033,      0.3043,     0.30531,     0.30631,     0.30731,     0.30831,     0.30931,     0.31031,     0.31131,\n",
       "           0.31231,     0.31331,     0.31431,     0.31532,     0.31632,     0.31732,     0.31832,     0.31932,     0.32032,     0.32132,     0.32232,     0.32332,     0.32432,     0.32533,     0.32633,     0.32733,     0.32833,     0.32933,     0.33033,     0.33133,     0.33233,     0.33333,     0.33433,     0.33534,\n",
       "           0.33634,     0.33734,     0.33834,     0.33934,     0.34034,     0.34134,     0.34234,     0.34334,     0.34434,     0.34535,     0.34635,     0.34735,     0.34835,     0.34935,     0.35035,     0.35135,     0.35235,     0.35335,     0.35435,     0.35536,     0.35636,     0.35736,     0.35836,     0.35936,\n",
       "           0.36036,     0.36136,     0.36236,     0.36336,     0.36436,     0.36537,     0.36637,     0.36737,     0.36837,     0.36937,     0.37037,     0.37137,     0.37237,     0.37337,     0.37437,     0.37538,     0.37638,     0.37738,     0.37838,     0.37938,     0.38038,     0.38138,     0.38238,     0.38338,\n",
       "           0.38438,     0.38539,     0.38639,     0.38739,     0.38839,     0.38939,     0.39039,     0.39139,     0.39239,     0.39339,     0.39439,      0.3954,      0.3964,      0.3974,      0.3984,      0.3994,      0.4004,      0.4014,      0.4024,      0.4034,      0.4044,     0.40541,     0.40641,     0.40741,\n",
       "           0.40841,     0.40941,     0.41041,     0.41141,     0.41241,     0.41341,     0.41441,     0.41542,     0.41642,     0.41742,     0.41842,     0.41942,     0.42042,     0.42142,     0.42242,     0.42342,     0.42442,     0.42543,     0.42643,     0.42743,     0.42843,     0.42943,     0.43043,     0.43143,\n",
       "           0.43243,     0.43343,     0.43443,     0.43544,     0.43644,     0.43744,     0.43844,     0.43944,     0.44044,     0.44144,     0.44244,     0.44344,     0.44444,     0.44545,     0.44645,     0.44745,     0.44845,     0.44945,     0.45045,     0.45145,     0.45245,     0.45345,     0.45445,     0.45546,\n",
       "           0.45646,     0.45746,     0.45846,     0.45946,     0.46046,     0.46146,     0.46246,     0.46346,     0.46446,     0.46547,     0.46647,     0.46747,     0.46847,     0.46947,     0.47047,     0.47147,     0.47247,     0.47347,     0.47447,     0.47548,     0.47648,     0.47748,     0.47848,     0.47948,\n",
       "           0.48048,     0.48148,     0.48248,     0.48348,     0.48448,     0.48549,     0.48649,     0.48749,     0.48849,     0.48949,     0.49049,     0.49149,     0.49249,     0.49349,     0.49449,      0.4955,      0.4965,      0.4975,      0.4985,      0.4995,      0.5005,      0.5015,      0.5025,      0.5035,\n",
       "            0.5045,     0.50551,     0.50651,     0.50751,     0.50851,     0.50951,     0.51051,     0.51151,     0.51251,     0.51351,     0.51451,     0.51552,     0.51652,     0.51752,     0.51852,     0.51952,     0.52052,     0.52152,     0.52252,     0.52352,     0.52452,     0.52553,     0.52653,     0.52753,\n",
       "           0.52853,     0.52953,     0.53053,     0.53153,     0.53253,     0.53353,     0.53453,     0.53554,     0.53654,     0.53754,     0.53854,     0.53954,     0.54054,     0.54154,     0.54254,     0.54354,     0.54454,     0.54555,     0.54655,     0.54755,     0.54855,     0.54955,     0.55055,     0.55155,\n",
       "           0.55255,     0.55355,     0.55455,     0.55556,     0.55656,     0.55756,     0.55856,     0.55956,     0.56056,     0.56156,     0.56256,     0.56356,     0.56456,     0.56557,     0.56657,     0.56757,     0.56857,     0.56957,     0.57057,     0.57157,     0.57257,     0.57357,     0.57457,     0.57558,\n",
       "           0.57658,     0.57758,     0.57858,     0.57958,     0.58058,     0.58158,     0.58258,     0.58358,     0.58458,     0.58559,     0.58659,     0.58759,     0.58859,     0.58959,     0.59059,     0.59159,     0.59259,     0.59359,     0.59459,      0.5956,      0.5966,      0.5976,      0.5986,      0.5996,\n",
       "            0.6006,      0.6016,      0.6026,      0.6036,      0.6046,     0.60561,     0.60661,     0.60761,     0.60861,     0.60961,     0.61061,     0.61161,     0.61261,     0.61361,     0.61461,     0.61562,     0.61662,     0.61762,     0.61862,     0.61962,     0.62062,     0.62162,     0.62262,     0.62362,\n",
       "           0.62462,     0.62563,     0.62663,     0.62763,     0.62863,     0.62963,     0.63063,     0.63163,     0.63263,     0.63363,     0.63463,     0.63564,     0.63664,     0.63764,     0.63864,     0.63964,     0.64064,     0.64164,     0.64264,     0.64364,     0.64464,     0.64565,     0.64665,     0.64765,\n",
       "           0.64865,     0.64965,     0.65065,     0.65165,     0.65265,     0.65365,     0.65465,     0.65566,     0.65666,     0.65766,     0.65866,     0.65966,     0.66066,     0.66166,     0.66266,     0.66366,     0.66466,     0.66567,     0.66667,     0.66767,     0.66867,     0.66967,     0.67067,     0.67167,\n",
       "           0.67267,     0.67367,     0.67467,     0.67568,     0.67668,     0.67768,     0.67868,     0.67968,     0.68068,     0.68168,     0.68268,     0.68368,     0.68468,     0.68569,     0.68669,     0.68769,     0.68869,     0.68969,     0.69069,     0.69169,     0.69269,     0.69369,     0.69469,      0.6957,\n",
       "            0.6967,      0.6977,      0.6987,      0.6997,      0.7007,      0.7017,      0.7027,      0.7037,      0.7047,     0.70571,     0.70671,     0.70771,     0.70871,     0.70971,     0.71071,     0.71171,     0.71271,     0.71371,     0.71471,     0.71572,     0.71672,     0.71772,     0.71872,     0.71972,\n",
       "           0.72072,     0.72172,     0.72272,     0.72372,     0.72472,     0.72573,     0.72673,     0.72773,     0.72873,     0.72973,     0.73073,     0.73173,     0.73273,     0.73373,     0.73473,     0.73574,     0.73674,     0.73774,     0.73874,     0.73974,     0.74074,     0.74174,     0.74274,     0.74374,\n",
       "           0.74474,     0.74575,     0.74675,     0.74775,     0.74875,     0.74975,     0.75075,     0.75175,     0.75275,     0.75375,     0.75475,     0.75576,     0.75676,     0.75776,     0.75876,     0.75976,     0.76076,     0.76176,     0.76276,     0.76376,     0.76476,     0.76577,     0.76677,     0.76777,\n",
       "           0.76877,     0.76977,     0.77077,     0.77177,     0.77277,     0.77377,     0.77477,     0.77578,     0.77678,     0.77778,     0.77878,     0.77978,     0.78078,     0.78178,     0.78278,     0.78378,     0.78478,     0.78579,     0.78679,     0.78779,     0.78879,     0.78979,     0.79079,     0.79179,\n",
       "           0.79279,     0.79379,     0.79479,      0.7958,      0.7968,      0.7978,      0.7988,      0.7998,      0.8008,      0.8018,      0.8028,      0.8038,      0.8048,     0.80581,     0.80681,     0.80781,     0.80881,     0.80981,     0.81081,     0.81181,     0.81281,     0.81381,     0.81481,     0.81582,\n",
       "           0.81682,     0.81782,     0.81882,     0.81982,     0.82082,     0.82182,     0.82282,     0.82382,     0.82482,     0.82583,     0.82683,     0.82783,     0.82883,     0.82983,     0.83083,     0.83183,     0.83283,     0.83383,     0.83483,     0.83584,     0.83684,     0.83784,     0.83884,     0.83984,\n",
       "           0.84084,     0.84184,     0.84284,     0.84384,     0.84484,     0.84585,     0.84685,     0.84785,     0.84885,     0.84985,     0.85085,     0.85185,     0.85285,     0.85385,     0.85485,     0.85586,     0.85686,     0.85786,     0.85886,     0.85986,     0.86086,     0.86186,     0.86286,     0.86386,\n",
       "           0.86486,     0.86587,     0.86687,     0.86787,     0.86887,     0.86987,     0.87087,     0.87187,     0.87287,     0.87387,     0.87487,     0.87588,     0.87688,     0.87788,     0.87888,     0.87988,     0.88088,     0.88188,     0.88288,     0.88388,     0.88488,     0.88589,     0.88689,     0.88789,\n",
       "           0.88889,     0.88989,     0.89089,     0.89189,     0.89289,     0.89389,     0.89489,      0.8959,      0.8969,      0.8979,      0.8989,      0.8999,      0.9009,      0.9019,      0.9029,      0.9039,      0.9049,     0.90591,     0.90691,     0.90791,     0.90891,     0.90991,     0.91091,     0.91191,\n",
       "           0.91291,     0.91391,     0.91491,     0.91592,     0.91692,     0.91792,     0.91892,     0.91992,     0.92092,     0.92192,     0.92292,     0.92392,     0.92492,     0.92593,     0.92693,     0.92793,     0.92893,     0.92993,     0.93093,     0.93193,     0.93293,     0.93393,     0.93493,     0.93594,\n",
       "           0.93694,     0.93794,     0.93894,     0.93994,     0.94094,     0.94194,     0.94294,     0.94394,     0.94494,     0.94595,     0.94695,     0.94795,     0.94895,     0.94995,     0.95095,     0.95195,     0.95295,     0.95395,     0.95495,     0.95596,     0.95696,     0.95796,     0.95896,     0.95996,\n",
       "           0.96096,     0.96196,     0.96296,     0.96396,     0.96496,     0.96597,     0.96697,     0.96797,     0.96897,     0.96997,     0.97097,     0.97197,     0.97297,     0.97397,     0.97497,     0.97598,     0.97698,     0.97798,     0.97898,     0.97998,     0.98098,     0.98198,     0.98298,     0.98398,\n",
       "           0.98498,     0.98599,     0.98699,     0.98799,     0.98899,     0.98999,     0.99099,     0.99199,     0.99299,     0.99399,     0.99499,       0.996,       0.997,       0.998,       0.999,           1]), array([[          1,           1,           1,           1,           1,           1,           1,           1,           1,           1,           1,           1,           1,           1,           1,           1,           1,           1,           1,           1,           1,           1,           1,\n",
       "                  1,           1,           1,           1,           1,           1,           1,           1,           1,           1,           1,           1,           1,           1,           1,           1,           1,           1,           1,           1,           1,           1,           1,\n",
       "                  1,           1,           1,           1,           1,           1,           1,           1,           1,           1,           1,           1,           1,           1,           1,           1,           1,           1,           1,           1,           1,           1,           1,\n",
       "                  1,           1,           1,           1,           1,           1,           1,           1,           1,           1,           1,           1,           1,           1,           1,           1,           1,           1,           1,           1,           1,           1,           1,\n",
       "                  1,           1,           1,           1,           1,           1,           1,           1,           1,           1,           1,           1,           1,           1,           1,           1,           1,           1,           1,           1,           1,           1,           1,\n",
       "                  1,           1,           1,           1,           1,           1,           1,           1,           1,           1,           1,           1,           1,           1,           1,           1,           1,           1,           1,           1,           1,           1,           1,\n",
       "                  1,           1,           1,           1,           1,           1,           1,           1,           1,           1,           1,           1,           1,           1,           1,           1,           1,           1,           1,           1,           1,           1,           1,\n",
       "                  1,           1,           1,           1,           1,           1,           1,           1,           1,           1,           1,           1,           1,           1,           1,           1,           1,           1,           1,           1,           1,           1,           1,\n",
       "                  1,           1,           1,           1,           1,           1,           1,           1,           1,           1,           1,           1,           1,           1,           1,           1,           1,           1,           1,           1,           1,           1,           1,\n",
       "                  1,           1,           1,           1,           1,           1,           1,           1,           1,           1,           1,           1,           1,           1,           1,           1,           1,           1,           1,           1,           1,           1,           1,\n",
       "                  1,           1,           1,           1,           1,           1,           1,           1,           1,           1,           1,           1,           1,           1,           1,           1,           1,           1,           1,           1,           1,           1,           1,\n",
       "                  1,           1,           1,           1,           1,           1,           1,           1,           1,           1,           1,           1,           1,           1,           1,           1,           1,           1,           1,           1,           1,           1,           1,\n",
       "                  1,           1,           1,           1,           1,           1,           1,           1,           1,           1,           1,           1,           1,           1,           1,           1,           1,           1,           1,           1,           1,           1,           1,\n",
       "                  1,           1,           1,           1,           1,           1,           1,           1,           1,           1,           1,           1,           1,           1,           1,           1,           1,           1,           1,           1,           1,           1,           1,\n",
       "                  1,           1,           1,           1,           1,           1,           1,           1,           1,           1,           1,           1,           1,           1,           1,           1,           1,           1,           1,           1,           1,           1,           1,\n",
       "                  1,           1,           1,           1,           1,           1,           1,           1,           1,           1,           1,           1,           1,           1,           1,           1,           1,           1,           1,           1,           1,           1,           1,\n",
       "                  1,           1,           1,           1,           1,           1,           1,           1,           1,           1,           1,           1,           1,           1,           1,           1,           1,           1,           1,           1,           1,           1,           1,\n",
       "                  1,           1,           1,           1,           1,           1,           1,           1,           1,           1,           1,           1,           1,           1,           1,           1,           1,           1,           1,           1,           1,           1,           1,\n",
       "                  1,           1,           1,           1,           1,           1,           1,           1,           1,           1,           1,           1,           1,           1,           1,           1,           1,           1,           1,           1,           1,           1,           1,\n",
       "                  1,           1,           1,           1,           1,           1,           1,           1,           1,           1,           1,           1,           1,           1,           1,           1,           1,           1,           1,           1,           1,           1,           1,\n",
       "                  1,           1,           1,           1,           1,           1,           1,           1,           1,           1,           1,           1,           1,           1,           1,           1,           1,           1,           1,           1,           1,           1,           1,\n",
       "                  1,           1,           1,           1,           1,           1,           1,           1,           1,           1,           1,           1,           1,           1,           1,           1,           1,           1,           1,           1,           1,           1,           1,\n",
       "                  1,           1,           1,           1,           1,           1,           1,           1,           1,           1,           1,           1,           1,           1,           1,           1,           1,           1,           1,           1,           1,           1,           1,\n",
       "                  1,           1,           1,           1,           1,           1,           1,           1,           1,           1,           1,           1,           1,           1,           1,           1,           1,           1,           1,           1,           1,           1,           1,\n",
       "                  1,           1,           1,           1,           1,           1,           1,           1,           1,           1,           1,           1,           1,           1,           1,           1,           1,           1,           1,           1,           1,           1,           1,\n",
       "                  1,           1,           1,           1,           1,           1,           1,           1,           1,           1,           1,           1,           1,           1,           1,           1,           1,           1,           1,           1,           1,           1,           1,\n",
       "                  1,           1,           1,           1,           1,           1,           1,           1,           1,           1,           1,           1,           1,           1,           1,           1,           1,           1,           1,           1,           1,           1,           1,\n",
       "                  1,           1,           1,           1,           1,           1,           1,           1,           1,           1,           1,           1,           1,           1,           1,           1,           1,           1,           1,           1,           1,           1,           1,\n",
       "                  1,           1,           1,           1,           1,           1,           1,           1,           1,           1,           1,           1,           1,           1,           1,           1,           1,           1,           1,           1,           1,           1,           1,\n",
       "                  1,           1,           1,           1,           1,           1,           1,           1,           1,           1,           1,           1,           1,           1,           1,           1,           1,           1,           1,           1,           1,           1,           1,\n",
       "                  1,           1,           1,           1,           1,           1,           1,           1,           1,           1,           1,           1,           1,           1,           1,           1,           1,           1,           1,           1,           1,           1,           1,\n",
       "                  1,           1,           1,           1,           1,           1,           1,           1,           1,           1,           1,           1,           1,           1,           1,           1,           1,           1,           1,           1,           1,           1,           1,\n",
       "                  1,           1,           1,           1,           1,           1,           1,           1,           1,           1,           1,           1,           1,           1,           1,           1,           1,           1,           1,           1,           1,           1,           1,\n",
       "                  1,           1,           1,           1,           1,           1,           1,           1,           1,           1,           1,           1,           1,           1,           1,           1,           1,           1,           1,           1,           1,           1,           1,\n",
       "                  1,           1,           1,           1,           1,           1,           1,           1,           1,           1,           1,           1,           1,           1,           1,           1,           1,           1,           1,           1,           1,           1,           1,\n",
       "                  1,           1,           1,           1,           1,           1,           1,           1,           1,           1,           1,           1,           1,           1,           1,           1,           1,           1,           1,           1,           1,           1,           1,\n",
       "                  1,           1,           1,           1,           1,           1,           1,           1,           1,           1,           1,           1,           1,           1,           1,           1,           1,           1,           1,           1,           1,           1,           1,\n",
       "                  1,           1,           1,           1,           1,           1,           1,           1,           1,           1,           1,           1,           1,           1,           1,           1,           1,           1,           1,           1,           1,           1,           1,\n",
       "                  1,           1,           1,           1,           1,           1,           1,           1,           1,           1,           1,           1,           1,           1,           1,           1,           1,           1,           1,           1,           1,           1,           1,\n",
       "                  1,           1,           1,           1,           1,           1,           1,           1,           1,           1,           1,           1,           1,           1,           1,           1,           1,           1,           1,           1,           1,           1,           1,\n",
       "                  1,           1,           1,           1,           1,           1,           1,           1,           1,           1,           1,           1,           1,           1,           1,           1,           1,           1,           1,           1,           1,           1,           1,\n",
       "                  1,           1,           1,           1,           1,           1,           1,           1,           1,           1,           1,           1,           1,           1,           1,           1,           1,           1,           1,           1,           1,           1,           1,\n",
       "                  1,           1,           1,           1,           1,           1,           1,           1,           1,           1,           1,           1,           1,           1,           1,           1,           1,           1,           1,           1,           1,           1,           1,\n",
       "                  1,           1,           1,           1,           1,           1,           1,           1,           1,           1,           0]]), 'Recall', 'Precision'], [array([          0,    0.001001,    0.002002,    0.003003,    0.004004,    0.005005,    0.006006,    0.007007,    0.008008,    0.009009,     0.01001,    0.011011,    0.012012,    0.013013,    0.014014,    0.015015,    0.016016,    0.017017,    0.018018,    0.019019,     0.02002,    0.021021,    0.022022,    0.023023,\n",
       "          0.024024,    0.025025,    0.026026,    0.027027,    0.028028,    0.029029,     0.03003,    0.031031,    0.032032,    0.033033,    0.034034,    0.035035,    0.036036,    0.037037,    0.038038,    0.039039,     0.04004,    0.041041,    0.042042,    0.043043,    0.044044,    0.045045,    0.046046,    0.047047,\n",
       "          0.048048,    0.049049,     0.05005,    0.051051,    0.052052,    0.053053,    0.054054,    0.055055,    0.056056,    0.057057,    0.058058,    0.059059,     0.06006,    0.061061,    0.062062,    0.063063,    0.064064,    0.065065,    0.066066,    0.067067,    0.068068,    0.069069,     0.07007,    0.071071,\n",
       "          0.072072,    0.073073,    0.074074,    0.075075,    0.076076,    0.077077,    0.078078,    0.079079,     0.08008,    0.081081,    0.082082,    0.083083,    0.084084,    0.085085,    0.086086,    0.087087,    0.088088,    0.089089,     0.09009,    0.091091,    0.092092,    0.093093,    0.094094,    0.095095,\n",
       "          0.096096,    0.097097,    0.098098,    0.099099,      0.1001,      0.1011,      0.1021,      0.1031,      0.1041,     0.10511,     0.10611,     0.10711,     0.10811,     0.10911,     0.11011,     0.11111,     0.11211,     0.11311,     0.11411,     0.11512,     0.11612,     0.11712,     0.11812,     0.11912,\n",
       "           0.12012,     0.12112,     0.12212,     0.12312,     0.12412,     0.12513,     0.12613,     0.12713,     0.12813,     0.12913,     0.13013,     0.13113,     0.13213,     0.13313,     0.13413,     0.13514,     0.13614,     0.13714,     0.13814,     0.13914,     0.14014,     0.14114,     0.14214,     0.14314,\n",
       "           0.14414,     0.14515,     0.14615,     0.14715,     0.14815,     0.14915,     0.15015,     0.15115,     0.15215,     0.15315,     0.15415,     0.15516,     0.15616,     0.15716,     0.15816,     0.15916,     0.16016,     0.16116,     0.16216,     0.16316,     0.16416,     0.16517,     0.16617,     0.16717,\n",
       "           0.16817,     0.16917,     0.17017,     0.17117,     0.17217,     0.17317,     0.17417,     0.17518,     0.17618,     0.17718,     0.17818,     0.17918,     0.18018,     0.18118,     0.18218,     0.18318,     0.18418,     0.18519,     0.18619,     0.18719,     0.18819,     0.18919,     0.19019,     0.19119,\n",
       "           0.19219,     0.19319,     0.19419,      0.1952,      0.1962,      0.1972,      0.1982,      0.1992,      0.2002,      0.2012,      0.2022,      0.2032,      0.2042,     0.20521,     0.20621,     0.20721,     0.20821,     0.20921,     0.21021,     0.21121,     0.21221,     0.21321,     0.21421,     0.21522,\n",
       "           0.21622,     0.21722,     0.21822,     0.21922,     0.22022,     0.22122,     0.22222,     0.22322,     0.22422,     0.22523,     0.22623,     0.22723,     0.22823,     0.22923,     0.23023,     0.23123,     0.23223,     0.23323,     0.23423,     0.23524,     0.23624,     0.23724,     0.23824,     0.23924,\n",
       "           0.24024,     0.24124,     0.24224,     0.24324,     0.24424,     0.24525,     0.24625,     0.24725,     0.24825,     0.24925,     0.25025,     0.25125,     0.25225,     0.25325,     0.25425,     0.25526,     0.25626,     0.25726,     0.25826,     0.25926,     0.26026,     0.26126,     0.26226,     0.26326,\n",
       "           0.26426,     0.26527,     0.26627,     0.26727,     0.26827,     0.26927,     0.27027,     0.27127,     0.27227,     0.27327,     0.27427,     0.27528,     0.27628,     0.27728,     0.27828,     0.27928,     0.28028,     0.28128,     0.28228,     0.28328,     0.28428,     0.28529,     0.28629,     0.28729,\n",
       "           0.28829,     0.28929,     0.29029,     0.29129,     0.29229,     0.29329,     0.29429,      0.2953,      0.2963,      0.2973,      0.2983,      0.2993,      0.3003,      0.3013,      0.3023,      0.3033,      0.3043,     0.30531,     0.30631,     0.30731,     0.30831,     0.30931,     0.31031,     0.31131,\n",
       "           0.31231,     0.31331,     0.31431,     0.31532,     0.31632,     0.31732,     0.31832,     0.31932,     0.32032,     0.32132,     0.32232,     0.32332,     0.32432,     0.32533,     0.32633,     0.32733,     0.32833,     0.32933,     0.33033,     0.33133,     0.33233,     0.33333,     0.33433,     0.33534,\n",
       "           0.33634,     0.33734,     0.33834,     0.33934,     0.34034,     0.34134,     0.34234,     0.34334,     0.34434,     0.34535,     0.34635,     0.34735,     0.34835,     0.34935,     0.35035,     0.35135,     0.35235,     0.35335,     0.35435,     0.35536,     0.35636,     0.35736,     0.35836,     0.35936,\n",
       "           0.36036,     0.36136,     0.36236,     0.36336,     0.36436,     0.36537,     0.36637,     0.36737,     0.36837,     0.36937,     0.37037,     0.37137,     0.37237,     0.37337,     0.37437,     0.37538,     0.37638,     0.37738,     0.37838,     0.37938,     0.38038,     0.38138,     0.38238,     0.38338,\n",
       "           0.38438,     0.38539,     0.38639,     0.38739,     0.38839,     0.38939,     0.39039,     0.39139,     0.39239,     0.39339,     0.39439,      0.3954,      0.3964,      0.3974,      0.3984,      0.3994,      0.4004,      0.4014,      0.4024,      0.4034,      0.4044,     0.40541,     0.40641,     0.40741,\n",
       "           0.40841,     0.40941,     0.41041,     0.41141,     0.41241,     0.41341,     0.41441,     0.41542,     0.41642,     0.41742,     0.41842,     0.41942,     0.42042,     0.42142,     0.42242,     0.42342,     0.42442,     0.42543,     0.42643,     0.42743,     0.42843,     0.42943,     0.43043,     0.43143,\n",
       "           0.43243,     0.43343,     0.43443,     0.43544,     0.43644,     0.43744,     0.43844,     0.43944,     0.44044,     0.44144,     0.44244,     0.44344,     0.44444,     0.44545,     0.44645,     0.44745,     0.44845,     0.44945,     0.45045,     0.45145,     0.45245,     0.45345,     0.45445,     0.45546,\n",
       "           0.45646,     0.45746,     0.45846,     0.45946,     0.46046,     0.46146,     0.46246,     0.46346,     0.46446,     0.46547,     0.46647,     0.46747,     0.46847,     0.46947,     0.47047,     0.47147,     0.47247,     0.47347,     0.47447,     0.47548,     0.47648,     0.47748,     0.47848,     0.47948,\n",
       "           0.48048,     0.48148,     0.48248,     0.48348,     0.48448,     0.48549,     0.48649,     0.48749,     0.48849,     0.48949,     0.49049,     0.49149,     0.49249,     0.49349,     0.49449,      0.4955,      0.4965,      0.4975,      0.4985,      0.4995,      0.5005,      0.5015,      0.5025,      0.5035,\n",
       "            0.5045,     0.50551,     0.50651,     0.50751,     0.50851,     0.50951,     0.51051,     0.51151,     0.51251,     0.51351,     0.51451,     0.51552,     0.51652,     0.51752,     0.51852,     0.51952,     0.52052,     0.52152,     0.52252,     0.52352,     0.52452,     0.52553,     0.52653,     0.52753,\n",
       "           0.52853,     0.52953,     0.53053,     0.53153,     0.53253,     0.53353,     0.53453,     0.53554,     0.53654,     0.53754,     0.53854,     0.53954,     0.54054,     0.54154,     0.54254,     0.54354,     0.54454,     0.54555,     0.54655,     0.54755,     0.54855,     0.54955,     0.55055,     0.55155,\n",
       "           0.55255,     0.55355,     0.55455,     0.55556,     0.55656,     0.55756,     0.55856,     0.55956,     0.56056,     0.56156,     0.56256,     0.56356,     0.56456,     0.56557,     0.56657,     0.56757,     0.56857,     0.56957,     0.57057,     0.57157,     0.57257,     0.57357,     0.57457,     0.57558,\n",
       "           0.57658,     0.57758,     0.57858,     0.57958,     0.58058,     0.58158,     0.58258,     0.58358,     0.58458,     0.58559,     0.58659,     0.58759,     0.58859,     0.58959,     0.59059,     0.59159,     0.59259,     0.59359,     0.59459,      0.5956,      0.5966,      0.5976,      0.5986,      0.5996,\n",
       "            0.6006,      0.6016,      0.6026,      0.6036,      0.6046,     0.60561,     0.60661,     0.60761,     0.60861,     0.60961,     0.61061,     0.61161,     0.61261,     0.61361,     0.61461,     0.61562,     0.61662,     0.61762,     0.61862,     0.61962,     0.62062,     0.62162,     0.62262,     0.62362,\n",
       "           0.62462,     0.62563,     0.62663,     0.62763,     0.62863,     0.62963,     0.63063,     0.63163,     0.63263,     0.63363,     0.63463,     0.63564,     0.63664,     0.63764,     0.63864,     0.63964,     0.64064,     0.64164,     0.64264,     0.64364,     0.64464,     0.64565,     0.64665,     0.64765,\n",
       "           0.64865,     0.64965,     0.65065,     0.65165,     0.65265,     0.65365,     0.65465,     0.65566,     0.65666,     0.65766,     0.65866,     0.65966,     0.66066,     0.66166,     0.66266,     0.66366,     0.66466,     0.66567,     0.66667,     0.66767,     0.66867,     0.66967,     0.67067,     0.67167,\n",
       "           0.67267,     0.67367,     0.67467,     0.67568,     0.67668,     0.67768,     0.67868,     0.67968,     0.68068,     0.68168,     0.68268,     0.68368,     0.68468,     0.68569,     0.68669,     0.68769,     0.68869,     0.68969,     0.69069,     0.69169,     0.69269,     0.69369,     0.69469,      0.6957,\n",
       "            0.6967,      0.6977,      0.6987,      0.6997,      0.7007,      0.7017,      0.7027,      0.7037,      0.7047,     0.70571,     0.70671,     0.70771,     0.70871,     0.70971,     0.71071,     0.71171,     0.71271,     0.71371,     0.71471,     0.71572,     0.71672,     0.71772,     0.71872,     0.71972,\n",
       "           0.72072,     0.72172,     0.72272,     0.72372,     0.72472,     0.72573,     0.72673,     0.72773,     0.72873,     0.72973,     0.73073,     0.73173,     0.73273,     0.73373,     0.73473,     0.73574,     0.73674,     0.73774,     0.73874,     0.73974,     0.74074,     0.74174,     0.74274,     0.74374,\n",
       "           0.74474,     0.74575,     0.74675,     0.74775,     0.74875,     0.74975,     0.75075,     0.75175,     0.75275,     0.75375,     0.75475,     0.75576,     0.75676,     0.75776,     0.75876,     0.75976,     0.76076,     0.76176,     0.76276,     0.76376,     0.76476,     0.76577,     0.76677,     0.76777,\n",
       "           0.76877,     0.76977,     0.77077,     0.77177,     0.77277,     0.77377,     0.77477,     0.77578,     0.77678,     0.77778,     0.77878,     0.77978,     0.78078,     0.78178,     0.78278,     0.78378,     0.78478,     0.78579,     0.78679,     0.78779,     0.78879,     0.78979,     0.79079,     0.79179,\n",
       "           0.79279,     0.79379,     0.79479,      0.7958,      0.7968,      0.7978,      0.7988,      0.7998,      0.8008,      0.8018,      0.8028,      0.8038,      0.8048,     0.80581,     0.80681,     0.80781,     0.80881,     0.80981,     0.81081,     0.81181,     0.81281,     0.81381,     0.81481,     0.81582,\n",
       "           0.81682,     0.81782,     0.81882,     0.81982,     0.82082,     0.82182,     0.82282,     0.82382,     0.82482,     0.82583,     0.82683,     0.82783,     0.82883,     0.82983,     0.83083,     0.83183,     0.83283,     0.83383,     0.83483,     0.83584,     0.83684,     0.83784,     0.83884,     0.83984,\n",
       "           0.84084,     0.84184,     0.84284,     0.84384,     0.84484,     0.84585,     0.84685,     0.84785,     0.84885,     0.84985,     0.85085,     0.85185,     0.85285,     0.85385,     0.85485,     0.85586,     0.85686,     0.85786,     0.85886,     0.85986,     0.86086,     0.86186,     0.86286,     0.86386,\n",
       "           0.86486,     0.86587,     0.86687,     0.86787,     0.86887,     0.86987,     0.87087,     0.87187,     0.87287,     0.87387,     0.87487,     0.87588,     0.87688,     0.87788,     0.87888,     0.87988,     0.88088,     0.88188,     0.88288,     0.88388,     0.88488,     0.88589,     0.88689,     0.88789,\n",
       "           0.88889,     0.88989,     0.89089,     0.89189,     0.89289,     0.89389,     0.89489,      0.8959,      0.8969,      0.8979,      0.8989,      0.8999,      0.9009,      0.9019,      0.9029,      0.9039,      0.9049,     0.90591,     0.90691,     0.90791,     0.90891,     0.90991,     0.91091,     0.91191,\n",
       "           0.91291,     0.91391,     0.91491,     0.91592,     0.91692,     0.91792,     0.91892,     0.91992,     0.92092,     0.92192,     0.92292,     0.92392,     0.92492,     0.92593,     0.92693,     0.92793,     0.92893,     0.92993,     0.93093,     0.93193,     0.93293,     0.93393,     0.93493,     0.93594,\n",
       "           0.93694,     0.93794,     0.93894,     0.93994,     0.94094,     0.94194,     0.94294,     0.94394,     0.94494,     0.94595,     0.94695,     0.94795,     0.94895,     0.94995,     0.95095,     0.95195,     0.95295,     0.95395,     0.95495,     0.95596,     0.95696,     0.95796,     0.95896,     0.95996,\n",
       "           0.96096,     0.96196,     0.96296,     0.96396,     0.96496,     0.96597,     0.96697,     0.96797,     0.96897,     0.96997,     0.97097,     0.97197,     0.97297,     0.97397,     0.97497,     0.97598,     0.97698,     0.97798,     0.97898,     0.97998,     0.98098,     0.98198,     0.98298,     0.98398,\n",
       "           0.98498,     0.98599,     0.98699,     0.98799,     0.98899,     0.98999,     0.99099,     0.99199,     0.99299,     0.99399,     0.99499,       0.996,       0.997,       0.998,       0.999,           1]), array([[    0.78571,     0.78571,     0.87115,     0.89465,     0.90901,     0.92501,     0.92715,     0.92928,     0.94046,     0.95004,     0.95689,     0.96422,     0.96647,     0.96872,     0.97064,     0.97097,     0.97129,     0.97162,     0.97195,     0.97227,      0.9726,     0.97292,     0.97324,\n",
       "            0.97357,     0.97389,     0.97422,     0.97454,     0.97486,     0.97519,     0.97551,     0.97583,     0.97616,     0.97648,      0.9768,     0.97712,     0.97744,     0.97777,     0.97887,        0.98,     0.98112,     0.98224,     0.98337,     0.98448,     0.98528,     0.98571,     0.98614,\n",
       "            0.98657,       0.987,     0.98743,     0.98786,     0.98829,     0.98872,     0.98915,     0.98957,        0.99,     0.99043,     0.99086,     0.99128,     0.99171,     0.99213,     0.99248,     0.99249,     0.99251,     0.99252,     0.99253,     0.99254,     0.99255,     0.99256,     0.99258,\n",
       "            0.99259,      0.9926,     0.99261,     0.99262,     0.99263,     0.99264,     0.99266,     0.99267,     0.99268,     0.99269,      0.9927,     0.99271,     0.99272,     0.99274,     0.99275,     0.99276,     0.99277,     0.99278,     0.99279,      0.9928,     0.99282,     0.99283,     0.99284,\n",
       "            0.99285,     0.99286,     0.99287,     0.99289,      0.9929,     0.99291,     0.99292,     0.99293,     0.99294,     0.99295,     0.99297,     0.99298,     0.99299,       0.993,     0.99301,     0.99302,     0.99303,     0.99305,     0.99306,     0.99307,     0.99308,     0.99309,      0.9931,\n",
       "            0.99311,     0.99313,     0.99314,     0.99315,     0.99316,     0.99317,     0.99318,     0.99319,     0.99321,     0.99322,     0.99323,     0.99324,     0.99325,     0.99326,     0.99328,     0.99329,      0.9933,     0.99331,     0.99332,     0.99333,     0.99334,     0.99336,     0.99337,\n",
       "            0.99338,     0.99339,      0.9934,     0.99341,     0.99342,     0.99344,     0.99345,     0.99346,     0.99347,     0.99348,     0.99349,      0.9935,     0.99352,     0.99353,     0.99354,     0.99355,     0.99356,     0.99357,     0.99358,      0.9936,     0.99361,     0.99362,     0.99363,\n",
       "            0.99364,     0.99365,     0.99366,     0.99368,     0.99369,      0.9937,     0.99371,     0.99372,     0.99373,     0.99374,     0.99376,     0.99377,     0.99378,     0.99379,      0.9938,     0.99381,     0.99383,     0.99384,     0.99385,     0.99386,     0.99387,     0.99388,     0.99389,\n",
       "            0.99391,     0.99392,     0.99393,     0.99394,     0.99395,     0.99396,     0.99397,     0.99399,       0.994,     0.99401,     0.99402,     0.99403,     0.99404,     0.99405,     0.99407,     0.99408,     0.99409,      0.9941,     0.99411,     0.99412,     0.99413,     0.99415,     0.99416,\n",
       "            0.99417,     0.99418,     0.99419,      0.9942,     0.99421,     0.99423,     0.99424,     0.99425,     0.99426,     0.99427,     0.99428,     0.99429,     0.99431,     0.99432,     0.99433,     0.99434,     0.99435,     0.99436,     0.99437,     0.99439,      0.9944,     0.99441,     0.99442,\n",
       "            0.99443,     0.99444,     0.99445,     0.99447,     0.99448,     0.99449,      0.9945,     0.99451,     0.99452,     0.99453,     0.99455,     0.99456,     0.99457,     0.99458,     0.99459,      0.9946,     0.99461,     0.99463,     0.99464,     0.99465,     0.99466,     0.99467,     0.99468,\n",
       "            0.99469,     0.99471,     0.99472,     0.99473,     0.99474,     0.99475,     0.99476,     0.99477,     0.99479,      0.9948,     0.99481,     0.99482,     0.99483,     0.99484,     0.99485,     0.99487,     0.99488,     0.99489,      0.9949,     0.99491,     0.99492,     0.99493,     0.99495,\n",
       "            0.99496,     0.99497,     0.99498,     0.99499,       0.995,     0.99501,     0.99503,     0.99504,     0.99505,     0.99506,     0.99507,     0.99508,     0.99509,     0.99511,     0.99512,     0.99513,     0.99514,     0.99515,     0.99516,     0.99517,     0.99519,      0.9952,     0.99521,\n",
       "            0.99522,     0.99523,     0.99524,     0.99525,     0.99527,     0.99528,     0.99529,      0.9953,     0.99531,     0.99532,     0.99533,     0.99535,     0.99536,     0.99537,     0.99538,     0.99539,      0.9954,     0.99541,     0.99543,     0.99544,     0.99545,     0.99546,     0.99547,\n",
       "            0.99548,     0.99549,     0.99551,     0.99552,     0.99553,     0.99554,     0.99555,     0.99556,     0.99557,     0.99559,      0.9956,     0.99561,     0.99562,     0.99563,     0.99564,     0.99565,     0.99567,     0.99568,     0.99569,      0.9957,     0.99571,     0.99572,     0.99573,\n",
       "            0.99575,     0.99576,     0.99577,     0.99578,     0.99579,      0.9958,     0.99581,     0.99583,     0.99584,     0.99585,     0.99586,     0.99587,     0.99588,     0.99589,     0.99591,     0.99592,     0.99593,     0.99594,     0.99595,     0.99596,     0.99597,     0.99598,       0.996,\n",
       "            0.99601,     0.99602,     0.99603,     0.99604,     0.99605,     0.99606,     0.99608,     0.99609,      0.9961,     0.99611,     0.99612,     0.99613,     0.99614,     0.99616,     0.99617,     0.99618,     0.99619,      0.9962,     0.99621,     0.99622,     0.99624,     0.99625,     0.99626,\n",
       "            0.99627,     0.99628,     0.99629,      0.9963,     0.99632,     0.99633,     0.99634,     0.99635,     0.99636,     0.99637,     0.99638,      0.9964,     0.99641,     0.99642,     0.99643,     0.99644,     0.99645,     0.99646,     0.99648,     0.99649,      0.9965,     0.99651,     0.99652,\n",
       "            0.99653,     0.99654,     0.99655,     0.99657,     0.99658,     0.99659,      0.9966,     0.99661,     0.99662,     0.99663,     0.99665,     0.99666,     0.99667,     0.99668,     0.99669,      0.9967,     0.99671,     0.99673,     0.99674,     0.99675,     0.99676,     0.99677,     0.99678,\n",
       "            0.99679,     0.99681,     0.99682,     0.99683,     0.99684,     0.99685,     0.99686,     0.99687,     0.99689,      0.9969,     0.99691,     0.99692,     0.99693,     0.99694,     0.99695,     0.99696,     0.99698,     0.99699,       0.997,     0.99701,     0.99702,     0.99703,     0.99704,\n",
       "            0.99706,     0.99707,     0.99708,     0.99709,      0.9971,     0.99711,     0.99712,     0.99714,     0.99715,     0.99716,     0.99717,     0.99718,     0.99719,      0.9972,     0.99722,     0.99723,     0.99724,     0.99725,     0.99726,     0.99727,     0.99728,     0.99729,     0.99731,\n",
       "            0.99732,     0.99733,     0.99734,     0.99735,     0.99736,     0.99737,     0.99739,      0.9974,     0.99741,     0.99742,     0.99743,     0.99744,     0.99745,     0.99747,     0.99748,     0.99749,      0.9975,     0.99751,     0.99752,     0.99753,     0.99754,     0.99756,     0.99757,\n",
       "            0.99758,     0.99759,      0.9976,     0.99761,     0.99762,     0.99764,     0.99765,     0.99766,     0.99767,     0.99768,     0.99769,      0.9977,     0.99772,     0.99773,     0.99774,     0.99775,     0.99776,     0.99777,     0.99778,     0.99779,     0.99781,     0.99782,     0.99783,\n",
       "            0.99784,     0.99785,     0.99786,     0.99787,     0.99789,      0.9979,     0.99791,     0.99792,     0.99793,     0.99794,     0.99795,     0.99797,     0.99798,     0.99799,       0.998,     0.99801,     0.99802,     0.99803,     0.99804,     0.99806,     0.99807,     0.99808,     0.99809,\n",
       "             0.9981,     0.99811,     0.99812,     0.99814,     0.99815,     0.99816,     0.99817,     0.99818,     0.99819,      0.9982,     0.99822,     0.99823,     0.99824,     0.99825,     0.99826,     0.99827,     0.99828,     0.99829,     0.99831,     0.99832,     0.99833,     0.99834,     0.99835,\n",
       "            0.99836,     0.99837,     0.99839,      0.9984,     0.99841,     0.99842,     0.99843,     0.99844,     0.99845,     0.99846,     0.99848,     0.99849,      0.9985,     0.99851,     0.99852,     0.99853,     0.99854,     0.99856,     0.99857,     0.99858,     0.99859,      0.9986,     0.99861,\n",
       "            0.99862,     0.99864,     0.99865,     0.99866,     0.99867,     0.99868,     0.99869,      0.9987,     0.99871,     0.99873,     0.99874,     0.99875,     0.99876,     0.99877,     0.99878,     0.99879,     0.99881,     0.99882,     0.99883,     0.99884,     0.99885,     0.99886,     0.99887,\n",
       "            0.99888,      0.9989,     0.99891,     0.99892,     0.99893,     0.99894,     0.99895,     0.99896,     0.99898,     0.99899,       0.999,     0.99901,     0.99902,     0.99903,     0.99904,     0.99905,     0.99907,     0.99908,     0.99909,      0.9991,     0.99911,     0.99912,     0.99913,\n",
       "            0.99915,     0.99916,     0.99917,     0.99918,     0.99919,      0.9992,     0.99921,     0.99922,     0.99924,     0.99925,     0.99926,     0.99927,     0.99928,     0.99929,      0.9993,     0.99932,     0.99933,     0.99934,     0.99935,     0.99936,     0.99937,     0.99938,     0.99939,\n",
       "            0.99941,     0.99942,     0.99943,     0.99944,     0.99945,     0.99946,     0.99947,     0.99949,      0.9995,     0.99951,     0.99952,     0.99953,     0.99954,     0.99955,     0.99956,     0.99958,     0.99959,      0.9996,     0.99961,     0.99962,     0.99963,     0.99964,     0.99965,\n",
       "            0.99967,     0.99968,     0.99969,      0.9997,     0.99971,     0.99972,     0.99973,     0.99975,     0.99976,     0.99977,     0.99978,     0.99979,      0.9998,     0.99981,     0.99982,     0.99984,     0.99985,     0.99986,     0.99987,     0.99988,     0.99989,      0.9999,     0.99992,\n",
       "            0.99993,     0.99994,     0.99995,     0.99996,     0.99997,     0.99998,     0.99999,     0.99997,     0.99991,     0.99986,      0.9998,     0.99975,     0.99969,     0.99963,     0.99958,     0.99952,     0.99946,     0.99941,     0.99935,     0.99929,     0.99924,     0.99918,     0.99912,\n",
       "            0.99907,     0.99901,     0.99895,      0.9989,     0.99884,     0.99878,     0.99873,     0.99867,     0.99861,     0.99856,      0.9985,     0.99844,     0.99839,     0.99833,     0.99827,     0.99822,     0.99816,      0.9981,     0.99805,     0.99799,     0.99793,     0.99788,     0.99782,\n",
       "            0.99776,     0.99771,     0.99765,     0.99759,     0.99754,     0.99748,     0.99742,     0.99737,     0.99731,     0.99725,      0.9972,     0.99714,     0.99708,     0.99703,     0.99697,     0.99691,     0.99686,      0.9968,     0.99674,     0.99668,     0.99663,     0.99657,     0.99651,\n",
       "            0.99646,      0.9964,     0.99634,     0.99629,     0.99623,     0.99617,     0.99612,     0.99606,       0.996,     0.99595,     0.99589,     0.99583,     0.99577,     0.99572,     0.99566,      0.9956,     0.99555,     0.99549,     0.99543,     0.99538,     0.99532,     0.99526,      0.9952,\n",
       "            0.99515,     0.99509,     0.99503,     0.99498,     0.99492,     0.99486,     0.99481,     0.99475,     0.99469,     0.99463,     0.99458,     0.99452,     0.99446,     0.99441,     0.99435,     0.99429,     0.99423,     0.99418,     0.99412,     0.99406,     0.99401,     0.99395,     0.99389,\n",
       "            0.99383,     0.99378,     0.99372,     0.99366,     0.99361,     0.99355,     0.99349,     0.99343,     0.99338,     0.99332,     0.99326,     0.99321,     0.99315,     0.99309,     0.99303,     0.99298,     0.99292,     0.99286,      0.9928,     0.99275,     0.99269,     0.99263,     0.99257,\n",
       "            0.99252,     0.99246,      0.9924,     0.99225,     0.99192,     0.99159,     0.99126,     0.99093,      0.9906,     0.99027,     0.98994,     0.98961,     0.98928,     0.98895,     0.98862,     0.98829,     0.98796,     0.98763,     0.98729,     0.98696,     0.98663,      0.9863,     0.98597,\n",
       "            0.98563,      0.9853,     0.98497,     0.98463,     0.98435,     0.98407,     0.98379,     0.98351,     0.98322,     0.98294,     0.98266,     0.98238,      0.9821,     0.98181,     0.98153,     0.98125,     0.98096,     0.98068,      0.9804,     0.98012,     0.97983,     0.97955,     0.97926,\n",
       "            0.97898,      0.9787,     0.97841,     0.97813,     0.97784,     0.97756,     0.97727,     0.97699,     0.97641,     0.97408,     0.97174,     0.96939,     0.96674,     0.96397,     0.96118,     0.95838,     0.95556,     0.95273,     0.94863,     0.94433,     0.93394,      0.9304,     0.92684,\n",
       "             0.9179,      0.9118,     0.89472,     0.87949,     0.86878,     0.86379,     0.85765,      0.8482,     0.80601,     0.79178,     0.77339,     0.76752,     0.75281,     0.74675,     0.73385,     0.72342,     0.71581,     0.70937,     0.69985,     0.65992,     0.64583,     0.62472,     0.61882,\n",
       "            0.61287,     0.57686,     0.55844,     0.54668,     0.47929,     0.46245,     0.45011,     0.37942,     0.33758,     0.31151,     0.24707,     0.14414,     0.10998,    0.098816,    0.087523,    0.076094,    0.064527,    0.043748,           0,           0,           0,           0,           0,\n",
       "                  0,           0,           0,           0,           0,           0,           0,           0,           0,           0,           0,           0,           0,           0,           0,           0,           0,           0,           0,           0,           0,           0,           0,\n",
       "                  0,           0,           0,           0,           0,           0,           0,           0,           0,           0,           0]]), 'Confidence', 'F1'], [array([          0,    0.001001,    0.002002,    0.003003,    0.004004,    0.005005,    0.006006,    0.007007,    0.008008,    0.009009,     0.01001,    0.011011,    0.012012,    0.013013,    0.014014,    0.015015,    0.016016,    0.017017,    0.018018,    0.019019,     0.02002,    0.021021,    0.022022,    0.023023,\n",
       "          0.024024,    0.025025,    0.026026,    0.027027,    0.028028,    0.029029,     0.03003,    0.031031,    0.032032,    0.033033,    0.034034,    0.035035,    0.036036,    0.037037,    0.038038,    0.039039,     0.04004,    0.041041,    0.042042,    0.043043,    0.044044,    0.045045,    0.046046,    0.047047,\n",
       "          0.048048,    0.049049,     0.05005,    0.051051,    0.052052,    0.053053,    0.054054,    0.055055,    0.056056,    0.057057,    0.058058,    0.059059,     0.06006,    0.061061,    0.062062,    0.063063,    0.064064,    0.065065,    0.066066,    0.067067,    0.068068,    0.069069,     0.07007,    0.071071,\n",
       "          0.072072,    0.073073,    0.074074,    0.075075,    0.076076,    0.077077,    0.078078,    0.079079,     0.08008,    0.081081,    0.082082,    0.083083,    0.084084,    0.085085,    0.086086,    0.087087,    0.088088,    0.089089,     0.09009,    0.091091,    0.092092,    0.093093,    0.094094,    0.095095,\n",
       "          0.096096,    0.097097,    0.098098,    0.099099,      0.1001,      0.1011,      0.1021,      0.1031,      0.1041,     0.10511,     0.10611,     0.10711,     0.10811,     0.10911,     0.11011,     0.11111,     0.11211,     0.11311,     0.11411,     0.11512,     0.11612,     0.11712,     0.11812,     0.11912,\n",
       "           0.12012,     0.12112,     0.12212,     0.12312,     0.12412,     0.12513,     0.12613,     0.12713,     0.12813,     0.12913,     0.13013,     0.13113,     0.13213,     0.13313,     0.13413,     0.13514,     0.13614,     0.13714,     0.13814,     0.13914,     0.14014,     0.14114,     0.14214,     0.14314,\n",
       "           0.14414,     0.14515,     0.14615,     0.14715,     0.14815,     0.14915,     0.15015,     0.15115,     0.15215,     0.15315,     0.15415,     0.15516,     0.15616,     0.15716,     0.15816,     0.15916,     0.16016,     0.16116,     0.16216,     0.16316,     0.16416,     0.16517,     0.16617,     0.16717,\n",
       "           0.16817,     0.16917,     0.17017,     0.17117,     0.17217,     0.17317,     0.17417,     0.17518,     0.17618,     0.17718,     0.17818,     0.17918,     0.18018,     0.18118,     0.18218,     0.18318,     0.18418,     0.18519,     0.18619,     0.18719,     0.18819,     0.18919,     0.19019,     0.19119,\n",
       "           0.19219,     0.19319,     0.19419,      0.1952,      0.1962,      0.1972,      0.1982,      0.1992,      0.2002,      0.2012,      0.2022,      0.2032,      0.2042,     0.20521,     0.20621,     0.20721,     0.20821,     0.20921,     0.21021,     0.21121,     0.21221,     0.21321,     0.21421,     0.21522,\n",
       "           0.21622,     0.21722,     0.21822,     0.21922,     0.22022,     0.22122,     0.22222,     0.22322,     0.22422,     0.22523,     0.22623,     0.22723,     0.22823,     0.22923,     0.23023,     0.23123,     0.23223,     0.23323,     0.23423,     0.23524,     0.23624,     0.23724,     0.23824,     0.23924,\n",
       "           0.24024,     0.24124,     0.24224,     0.24324,     0.24424,     0.24525,     0.24625,     0.24725,     0.24825,     0.24925,     0.25025,     0.25125,     0.25225,     0.25325,     0.25425,     0.25526,     0.25626,     0.25726,     0.25826,     0.25926,     0.26026,     0.26126,     0.26226,     0.26326,\n",
       "           0.26426,     0.26527,     0.26627,     0.26727,     0.26827,     0.26927,     0.27027,     0.27127,     0.27227,     0.27327,     0.27427,     0.27528,     0.27628,     0.27728,     0.27828,     0.27928,     0.28028,     0.28128,     0.28228,     0.28328,     0.28428,     0.28529,     0.28629,     0.28729,\n",
       "           0.28829,     0.28929,     0.29029,     0.29129,     0.29229,     0.29329,     0.29429,      0.2953,      0.2963,      0.2973,      0.2983,      0.2993,      0.3003,      0.3013,      0.3023,      0.3033,      0.3043,     0.30531,     0.30631,     0.30731,     0.30831,     0.30931,     0.31031,     0.31131,\n",
       "           0.31231,     0.31331,     0.31431,     0.31532,     0.31632,     0.31732,     0.31832,     0.31932,     0.32032,     0.32132,     0.32232,     0.32332,     0.32432,     0.32533,     0.32633,     0.32733,     0.32833,     0.32933,     0.33033,     0.33133,     0.33233,     0.33333,     0.33433,     0.33534,\n",
       "           0.33634,     0.33734,     0.33834,     0.33934,     0.34034,     0.34134,     0.34234,     0.34334,     0.34434,     0.34535,     0.34635,     0.34735,     0.34835,     0.34935,     0.35035,     0.35135,     0.35235,     0.35335,     0.35435,     0.35536,     0.35636,     0.35736,     0.35836,     0.35936,\n",
       "           0.36036,     0.36136,     0.36236,     0.36336,     0.36436,     0.36537,     0.36637,     0.36737,     0.36837,     0.36937,     0.37037,     0.37137,     0.37237,     0.37337,     0.37437,     0.37538,     0.37638,     0.37738,     0.37838,     0.37938,     0.38038,     0.38138,     0.38238,     0.38338,\n",
       "           0.38438,     0.38539,     0.38639,     0.38739,     0.38839,     0.38939,     0.39039,     0.39139,     0.39239,     0.39339,     0.39439,      0.3954,      0.3964,      0.3974,      0.3984,      0.3994,      0.4004,      0.4014,      0.4024,      0.4034,      0.4044,     0.40541,     0.40641,     0.40741,\n",
       "           0.40841,     0.40941,     0.41041,     0.41141,     0.41241,     0.41341,     0.41441,     0.41542,     0.41642,     0.41742,     0.41842,     0.41942,     0.42042,     0.42142,     0.42242,     0.42342,     0.42442,     0.42543,     0.42643,     0.42743,     0.42843,     0.42943,     0.43043,     0.43143,\n",
       "           0.43243,     0.43343,     0.43443,     0.43544,     0.43644,     0.43744,     0.43844,     0.43944,     0.44044,     0.44144,     0.44244,     0.44344,     0.44444,     0.44545,     0.44645,     0.44745,     0.44845,     0.44945,     0.45045,     0.45145,     0.45245,     0.45345,     0.45445,     0.45546,\n",
       "           0.45646,     0.45746,     0.45846,     0.45946,     0.46046,     0.46146,     0.46246,     0.46346,     0.46446,     0.46547,     0.46647,     0.46747,     0.46847,     0.46947,     0.47047,     0.47147,     0.47247,     0.47347,     0.47447,     0.47548,     0.47648,     0.47748,     0.47848,     0.47948,\n",
       "           0.48048,     0.48148,     0.48248,     0.48348,     0.48448,     0.48549,     0.48649,     0.48749,     0.48849,     0.48949,     0.49049,     0.49149,     0.49249,     0.49349,     0.49449,      0.4955,      0.4965,      0.4975,      0.4985,      0.4995,      0.5005,      0.5015,      0.5025,      0.5035,\n",
       "            0.5045,     0.50551,     0.50651,     0.50751,     0.50851,     0.50951,     0.51051,     0.51151,     0.51251,     0.51351,     0.51451,     0.51552,     0.51652,     0.51752,     0.51852,     0.51952,     0.52052,     0.52152,     0.52252,     0.52352,     0.52452,     0.52553,     0.52653,     0.52753,\n",
       "           0.52853,     0.52953,     0.53053,     0.53153,     0.53253,     0.53353,     0.53453,     0.53554,     0.53654,     0.53754,     0.53854,     0.53954,     0.54054,     0.54154,     0.54254,     0.54354,     0.54454,     0.54555,     0.54655,     0.54755,     0.54855,     0.54955,     0.55055,     0.55155,\n",
       "           0.55255,     0.55355,     0.55455,     0.55556,     0.55656,     0.55756,     0.55856,     0.55956,     0.56056,     0.56156,     0.56256,     0.56356,     0.56456,     0.56557,     0.56657,     0.56757,     0.56857,     0.56957,     0.57057,     0.57157,     0.57257,     0.57357,     0.57457,     0.57558,\n",
       "           0.57658,     0.57758,     0.57858,     0.57958,     0.58058,     0.58158,     0.58258,     0.58358,     0.58458,     0.58559,     0.58659,     0.58759,     0.58859,     0.58959,     0.59059,     0.59159,     0.59259,     0.59359,     0.59459,      0.5956,      0.5966,      0.5976,      0.5986,      0.5996,\n",
       "            0.6006,      0.6016,      0.6026,      0.6036,      0.6046,     0.60561,     0.60661,     0.60761,     0.60861,     0.60961,     0.61061,     0.61161,     0.61261,     0.61361,     0.61461,     0.61562,     0.61662,     0.61762,     0.61862,     0.61962,     0.62062,     0.62162,     0.62262,     0.62362,\n",
       "           0.62462,     0.62563,     0.62663,     0.62763,     0.62863,     0.62963,     0.63063,     0.63163,     0.63263,     0.63363,     0.63463,     0.63564,     0.63664,     0.63764,     0.63864,     0.63964,     0.64064,     0.64164,     0.64264,     0.64364,     0.64464,     0.64565,     0.64665,     0.64765,\n",
       "           0.64865,     0.64965,     0.65065,     0.65165,     0.65265,     0.65365,     0.65465,     0.65566,     0.65666,     0.65766,     0.65866,     0.65966,     0.66066,     0.66166,     0.66266,     0.66366,     0.66466,     0.66567,     0.66667,     0.66767,     0.66867,     0.66967,     0.67067,     0.67167,\n",
       "           0.67267,     0.67367,     0.67467,     0.67568,     0.67668,     0.67768,     0.67868,     0.67968,     0.68068,     0.68168,     0.68268,     0.68368,     0.68468,     0.68569,     0.68669,     0.68769,     0.68869,     0.68969,     0.69069,     0.69169,     0.69269,     0.69369,     0.69469,      0.6957,\n",
       "            0.6967,      0.6977,      0.6987,      0.6997,      0.7007,      0.7017,      0.7027,      0.7037,      0.7047,     0.70571,     0.70671,     0.70771,     0.70871,     0.70971,     0.71071,     0.71171,     0.71271,     0.71371,     0.71471,     0.71572,     0.71672,     0.71772,     0.71872,     0.71972,\n",
       "           0.72072,     0.72172,     0.72272,     0.72372,     0.72472,     0.72573,     0.72673,     0.72773,     0.72873,     0.72973,     0.73073,     0.73173,     0.73273,     0.73373,     0.73473,     0.73574,     0.73674,     0.73774,     0.73874,     0.73974,     0.74074,     0.74174,     0.74274,     0.74374,\n",
       "           0.74474,     0.74575,     0.74675,     0.74775,     0.74875,     0.74975,     0.75075,     0.75175,     0.75275,     0.75375,     0.75475,     0.75576,     0.75676,     0.75776,     0.75876,     0.75976,     0.76076,     0.76176,     0.76276,     0.76376,     0.76476,     0.76577,     0.76677,     0.76777,\n",
       "           0.76877,     0.76977,     0.77077,     0.77177,     0.77277,     0.77377,     0.77477,     0.77578,     0.77678,     0.77778,     0.77878,     0.77978,     0.78078,     0.78178,     0.78278,     0.78378,     0.78478,     0.78579,     0.78679,     0.78779,     0.78879,     0.78979,     0.79079,     0.79179,\n",
       "           0.79279,     0.79379,     0.79479,      0.7958,      0.7968,      0.7978,      0.7988,      0.7998,      0.8008,      0.8018,      0.8028,      0.8038,      0.8048,     0.80581,     0.80681,     0.80781,     0.80881,     0.80981,     0.81081,     0.81181,     0.81281,     0.81381,     0.81481,     0.81582,\n",
       "           0.81682,     0.81782,     0.81882,     0.81982,     0.82082,     0.82182,     0.82282,     0.82382,     0.82482,     0.82583,     0.82683,     0.82783,     0.82883,     0.82983,     0.83083,     0.83183,     0.83283,     0.83383,     0.83483,     0.83584,     0.83684,     0.83784,     0.83884,     0.83984,\n",
       "           0.84084,     0.84184,     0.84284,     0.84384,     0.84484,     0.84585,     0.84685,     0.84785,     0.84885,     0.84985,     0.85085,     0.85185,     0.85285,     0.85385,     0.85485,     0.85586,     0.85686,     0.85786,     0.85886,     0.85986,     0.86086,     0.86186,     0.86286,     0.86386,\n",
       "           0.86486,     0.86587,     0.86687,     0.86787,     0.86887,     0.86987,     0.87087,     0.87187,     0.87287,     0.87387,     0.87487,     0.87588,     0.87688,     0.87788,     0.87888,     0.87988,     0.88088,     0.88188,     0.88288,     0.88388,     0.88488,     0.88589,     0.88689,     0.88789,\n",
       "           0.88889,     0.88989,     0.89089,     0.89189,     0.89289,     0.89389,     0.89489,      0.8959,      0.8969,      0.8979,      0.8989,      0.8999,      0.9009,      0.9019,      0.9029,      0.9039,      0.9049,     0.90591,     0.90691,     0.90791,     0.90891,     0.90991,     0.91091,     0.91191,\n",
       "           0.91291,     0.91391,     0.91491,     0.91592,     0.91692,     0.91792,     0.91892,     0.91992,     0.92092,     0.92192,     0.92292,     0.92392,     0.92492,     0.92593,     0.92693,     0.92793,     0.92893,     0.92993,     0.93093,     0.93193,     0.93293,     0.93393,     0.93493,     0.93594,\n",
       "           0.93694,     0.93794,     0.93894,     0.93994,     0.94094,     0.94194,     0.94294,     0.94394,     0.94494,     0.94595,     0.94695,     0.94795,     0.94895,     0.94995,     0.95095,     0.95195,     0.95295,     0.95395,     0.95495,     0.95596,     0.95696,     0.95796,     0.95896,     0.95996,\n",
       "           0.96096,     0.96196,     0.96296,     0.96396,     0.96496,     0.96597,     0.96697,     0.96797,     0.96897,     0.96997,     0.97097,     0.97197,     0.97297,     0.97397,     0.97497,     0.97598,     0.97698,     0.97798,     0.97898,     0.97998,     0.98098,     0.98198,     0.98298,     0.98398,\n",
       "           0.98498,     0.98599,     0.98699,     0.98799,     0.98899,     0.98999,     0.99099,     0.99199,     0.99299,     0.99399,     0.99499,       0.996,       0.997,       0.998,       0.999,           1]), array([[    0.64706,     0.64706,     0.77172,     0.80938,      0.8332,     0.86049,     0.86419,      0.8679,     0.88761,     0.90484,     0.91735,      0.9309,     0.93512,     0.93934,     0.94296,     0.94358,     0.94419,     0.94481,     0.94542,     0.94604,     0.94665,     0.94727,     0.94788,\n",
       "             0.9485,     0.94911,     0.94973,     0.95035,     0.95096,     0.95158,     0.95219,     0.95281,     0.95342,     0.95404,     0.95465,     0.95527,     0.95588,      0.9565,     0.95861,     0.96078,     0.96294,     0.96511,     0.96728,     0.96944,     0.97098,     0.97182,     0.97266,\n",
       "             0.9735,     0.97433,     0.97517,     0.97601,     0.97685,     0.97769,     0.97852,     0.97936,      0.9802,     0.98104,     0.98188,     0.98272,     0.98355,     0.98439,     0.98508,      0.9851,     0.98512,     0.98515,     0.98517,     0.98519,     0.98521,     0.98524,     0.98526,\n",
       "            0.98528,     0.98531,     0.98533,     0.98535,     0.98537,      0.9854,     0.98542,     0.98544,     0.98546,     0.98549,     0.98551,     0.98553,     0.98555,     0.98558,      0.9856,     0.98562,     0.98564,     0.98567,     0.98569,     0.98571,     0.98573,     0.98576,     0.98578,\n",
       "             0.9858,     0.98583,     0.98585,     0.98587,     0.98589,     0.98592,     0.98594,     0.98596,     0.98598,     0.98601,     0.98603,     0.98605,     0.98607,      0.9861,     0.98612,     0.98614,     0.98616,     0.98619,     0.98621,     0.98623,     0.98626,     0.98628,      0.9863,\n",
       "            0.98632,     0.98635,     0.98637,     0.98639,     0.98641,     0.98644,     0.98646,     0.98648,      0.9865,     0.98653,     0.98655,     0.98657,     0.98659,     0.98662,     0.98664,     0.98666,     0.98669,     0.98671,     0.98673,     0.98675,     0.98678,      0.9868,     0.98682,\n",
       "            0.98684,     0.98687,     0.98689,     0.98691,     0.98693,     0.98696,     0.98698,       0.987,     0.98702,     0.98705,     0.98707,     0.98709,     0.98712,     0.98714,     0.98716,     0.98718,     0.98721,     0.98723,     0.98725,     0.98727,      0.9873,     0.98732,     0.98734,\n",
       "            0.98736,     0.98739,     0.98741,     0.98743,     0.98745,     0.98748,      0.9875,     0.98752,     0.98754,     0.98757,     0.98759,     0.98761,     0.98764,     0.98766,     0.98768,      0.9877,     0.98773,     0.98775,     0.98777,     0.98779,     0.98782,     0.98784,     0.98786,\n",
       "            0.98788,     0.98791,     0.98793,     0.98795,     0.98797,       0.988,     0.98802,     0.98804,     0.98807,     0.98809,     0.98811,     0.98813,     0.98816,     0.98818,      0.9882,     0.98822,     0.98825,     0.98827,     0.98829,     0.98831,     0.98834,     0.98836,     0.98838,\n",
       "             0.9884,     0.98843,     0.98845,     0.98847,      0.9885,     0.98852,     0.98854,     0.98856,     0.98859,     0.98861,     0.98863,     0.98865,     0.98868,      0.9887,     0.98872,     0.98874,     0.98877,     0.98879,     0.98881,     0.98883,     0.98886,     0.98888,      0.9889,\n",
       "            0.98893,     0.98895,     0.98897,     0.98899,     0.98902,     0.98904,     0.98906,     0.98908,     0.98911,     0.98913,     0.98915,     0.98917,      0.9892,     0.98922,     0.98924,     0.98926,     0.98929,     0.98931,     0.98933,     0.98935,     0.98938,      0.9894,     0.98942,\n",
       "            0.98945,     0.98947,     0.98949,     0.98951,     0.98954,     0.98956,     0.98958,      0.9896,     0.98963,     0.98965,     0.98967,     0.98969,     0.98972,     0.98974,     0.98976,     0.98978,     0.98981,     0.98983,     0.98985,     0.98988,      0.9899,     0.98992,     0.98994,\n",
       "            0.98997,     0.98999,     0.99001,     0.99003,     0.99006,     0.99008,      0.9901,     0.99012,     0.99015,     0.99017,     0.99019,     0.99021,     0.99024,     0.99026,     0.99028,     0.99031,     0.99033,     0.99035,     0.99037,      0.9904,     0.99042,     0.99044,     0.99046,\n",
       "            0.99049,     0.99051,     0.99053,     0.99055,     0.99058,      0.9906,     0.99062,     0.99064,     0.99067,     0.99069,     0.99071,     0.99074,     0.99076,     0.99078,      0.9908,     0.99083,     0.99085,     0.99087,     0.99089,     0.99092,     0.99094,     0.99096,     0.99098,\n",
       "            0.99101,     0.99103,     0.99105,     0.99107,      0.9911,     0.99112,     0.99114,     0.99116,     0.99119,     0.99121,     0.99123,     0.99126,     0.99128,      0.9913,     0.99132,     0.99135,     0.99137,     0.99139,     0.99141,     0.99144,     0.99146,     0.99148,      0.9915,\n",
       "            0.99153,     0.99155,     0.99157,     0.99159,     0.99162,     0.99164,     0.99166,     0.99169,     0.99171,     0.99173,     0.99175,     0.99178,      0.9918,     0.99182,     0.99184,     0.99187,     0.99189,     0.99191,     0.99193,     0.99196,     0.99198,       0.992,     0.99202,\n",
       "            0.99205,     0.99207,     0.99209,     0.99212,     0.99214,     0.99216,     0.99218,     0.99221,     0.99223,     0.99225,     0.99227,      0.9923,     0.99232,     0.99234,     0.99236,     0.99239,     0.99241,     0.99243,     0.99245,     0.99248,      0.9925,     0.99252,     0.99255,\n",
       "            0.99257,     0.99259,     0.99261,     0.99264,     0.99266,     0.99268,      0.9927,     0.99273,     0.99275,     0.99277,     0.99279,     0.99282,     0.99284,     0.99286,     0.99288,     0.99291,     0.99293,     0.99295,     0.99297,       0.993,     0.99302,     0.99304,     0.99307,\n",
       "            0.99309,     0.99311,     0.99313,     0.99316,     0.99318,      0.9932,     0.99322,     0.99325,     0.99327,     0.99329,     0.99331,     0.99334,     0.99336,     0.99338,      0.9934,     0.99343,     0.99345,     0.99347,      0.9935,     0.99352,     0.99354,     0.99356,     0.99359,\n",
       "            0.99361,     0.99363,     0.99365,     0.99368,      0.9937,     0.99372,     0.99374,     0.99377,     0.99379,     0.99381,     0.99383,     0.99386,     0.99388,      0.9939,     0.99393,     0.99395,     0.99397,     0.99399,     0.99402,     0.99404,     0.99406,     0.99408,     0.99411,\n",
       "            0.99413,     0.99415,     0.99417,      0.9942,     0.99422,     0.99424,     0.99426,     0.99429,     0.99431,     0.99433,     0.99436,     0.99438,      0.9944,     0.99442,     0.99445,     0.99447,     0.99449,     0.99451,     0.99454,     0.99456,     0.99458,      0.9946,     0.99463,\n",
       "            0.99465,     0.99467,     0.99469,     0.99472,     0.99474,     0.99476,     0.99479,     0.99481,     0.99483,     0.99485,     0.99488,      0.9949,     0.99492,     0.99494,     0.99497,     0.99499,     0.99501,     0.99503,     0.99506,     0.99508,      0.9951,     0.99512,     0.99515,\n",
       "            0.99517,     0.99519,     0.99521,     0.99524,     0.99526,     0.99528,     0.99531,     0.99533,     0.99535,     0.99537,      0.9954,     0.99542,     0.99544,     0.99546,     0.99549,     0.99551,     0.99553,     0.99555,     0.99558,      0.9956,     0.99562,     0.99564,     0.99567,\n",
       "            0.99569,     0.99571,     0.99574,     0.99576,     0.99578,      0.9958,     0.99583,     0.99585,     0.99587,     0.99589,     0.99592,     0.99594,     0.99596,     0.99598,     0.99601,     0.99603,     0.99605,     0.99607,      0.9961,     0.99612,     0.99614,     0.99617,     0.99619,\n",
       "            0.99621,     0.99623,     0.99626,     0.99628,      0.9963,     0.99632,     0.99635,     0.99637,     0.99639,     0.99641,     0.99644,     0.99646,     0.99648,      0.9965,     0.99653,     0.99655,     0.99657,      0.9966,     0.99662,     0.99664,     0.99666,     0.99669,     0.99671,\n",
       "            0.99673,     0.99675,     0.99678,      0.9968,     0.99682,     0.99684,     0.99687,     0.99689,     0.99691,     0.99693,     0.99696,     0.99698,       0.997,     0.99702,     0.99705,     0.99707,     0.99709,     0.99712,     0.99714,     0.99716,     0.99718,     0.99721,     0.99723,\n",
       "            0.99725,     0.99727,      0.9973,     0.99732,     0.99734,     0.99736,     0.99739,     0.99741,     0.99743,     0.99745,     0.99748,      0.9975,     0.99752,     0.99755,     0.99757,     0.99759,     0.99761,     0.99764,     0.99766,     0.99768,      0.9977,     0.99773,     0.99775,\n",
       "            0.99777,     0.99779,     0.99782,     0.99784,     0.99786,     0.99788,     0.99791,     0.99793,     0.99795,     0.99798,       0.998,     0.99802,     0.99804,     0.99807,     0.99809,     0.99811,     0.99813,     0.99816,     0.99818,      0.9982,     0.99822,     0.99825,     0.99827,\n",
       "            0.99829,     0.99831,     0.99834,     0.99836,     0.99838,     0.99841,     0.99843,     0.99845,     0.99847,      0.9985,     0.99852,     0.99854,     0.99856,     0.99859,     0.99861,     0.99863,     0.99865,     0.99868,      0.9987,     0.99872,     0.99874,     0.99877,     0.99879,\n",
       "            0.99881,     0.99883,     0.99886,     0.99888,      0.9989,     0.99893,     0.99895,     0.99897,     0.99899,     0.99902,     0.99904,     0.99906,     0.99908,     0.99911,     0.99913,     0.99915,     0.99917,      0.9992,     0.99922,     0.99924,     0.99926,     0.99929,     0.99931,\n",
       "            0.99933,     0.99936,     0.99938,      0.9994,     0.99942,     0.99945,     0.99947,     0.99949,     0.99951,     0.99954,     0.99956,     0.99958,      0.9996,     0.99963,     0.99965,     0.99967,     0.99969,     0.99972,     0.99974,     0.99976,     0.99979,     0.99981,     0.99983,\n",
       "            0.99985,     0.99988,      0.9999,     0.99992,     0.99994,     0.99997,     0.99999,           1,           1,           1,           1,           1,           1,           1,           1,           1,           1,           1,           1,           1,           1,           1,           1,\n",
       "                  1,           1,           1,           1,           1,           1,           1,           1,           1,           1,           1,           1,           1,           1,           1,           1,           1,           1,           1,           1,           1,           1,           1,\n",
       "                  1,           1,           1,           1,           1,           1,           1,           1,           1,           1,           1,           1,           1,           1,           1,           1,           1,           1,           1,           1,           1,           1,           1,\n",
       "                  1,           1,           1,           1,           1,           1,           1,           1,           1,           1,           1,           1,           1,           1,           1,           1,           1,           1,           1,           1,           1,           1,           1,\n",
       "                  1,           1,           1,           1,           1,           1,           1,           1,           1,           1,           1,           1,           1,           1,           1,           1,           1,           1,           1,           1,           1,           1,           1,\n",
       "                  1,           1,           1,           1,           1,           1,           1,           1,           1,           1,           1,           1,           1,           1,           1,           1,           1,           1,           1,           1,           1,           1,           1,\n",
       "                  1,           1,           1,           1,           1,           1,           1,           1,           1,           1,           1,           1,           1,           1,           1,           1,           1,           1,           1,           1,           1,           1,           1,\n",
       "                  1,           1,           1,           1,           1,           1,           1,           1,           1,           1,           1,           1,           1,           1,           1,           1,           1,           1,           1,           1,           1,           1,           1,\n",
       "                  1,           1,           1,           1,           1,           1,           1,           1,           1,           1,           1,           1,           1,           1,           1,           1,           1,           1,           1,           1,           1,           1,           1,\n",
       "                  1,           1,           1,           1,           1,           1,           1,           1,           1,           1,           1,           1,           1,           1,           1,           1,           1,           1,           1,           1,           1,           1,           1,\n",
       "                  1,           1,           1,           1,           1,           1,           1,           1,           1,           1,           1,           1,           1,           1,           1,           1,           1,           1,           1,           1,           1,           1,           1,\n",
       "                  1,           1,           1,           1,           1,           1,           1,           1,           1,           1,           1,           1,           1,           1,           1,           1,           1,           1,           1,           1,           1,           1,           1,\n",
       "                  1,           1,           1,           1,           1,           1,           1,           1,           1,           1,           1]]), 'Confidence', 'Precision'], [array([          0,    0.001001,    0.002002,    0.003003,    0.004004,    0.005005,    0.006006,    0.007007,    0.008008,    0.009009,     0.01001,    0.011011,    0.012012,    0.013013,    0.014014,    0.015015,    0.016016,    0.017017,    0.018018,    0.019019,     0.02002,    0.021021,    0.022022,    0.023023,\n",
       "          0.024024,    0.025025,    0.026026,    0.027027,    0.028028,    0.029029,     0.03003,    0.031031,    0.032032,    0.033033,    0.034034,    0.035035,    0.036036,    0.037037,    0.038038,    0.039039,     0.04004,    0.041041,    0.042042,    0.043043,    0.044044,    0.045045,    0.046046,    0.047047,\n",
       "          0.048048,    0.049049,     0.05005,    0.051051,    0.052052,    0.053053,    0.054054,    0.055055,    0.056056,    0.057057,    0.058058,    0.059059,     0.06006,    0.061061,    0.062062,    0.063063,    0.064064,    0.065065,    0.066066,    0.067067,    0.068068,    0.069069,     0.07007,    0.071071,\n",
       "          0.072072,    0.073073,    0.074074,    0.075075,    0.076076,    0.077077,    0.078078,    0.079079,     0.08008,    0.081081,    0.082082,    0.083083,    0.084084,    0.085085,    0.086086,    0.087087,    0.088088,    0.089089,     0.09009,    0.091091,    0.092092,    0.093093,    0.094094,    0.095095,\n",
       "          0.096096,    0.097097,    0.098098,    0.099099,      0.1001,      0.1011,      0.1021,      0.1031,      0.1041,     0.10511,     0.10611,     0.10711,     0.10811,     0.10911,     0.11011,     0.11111,     0.11211,     0.11311,     0.11411,     0.11512,     0.11612,     0.11712,     0.11812,     0.11912,\n",
       "           0.12012,     0.12112,     0.12212,     0.12312,     0.12412,     0.12513,     0.12613,     0.12713,     0.12813,     0.12913,     0.13013,     0.13113,     0.13213,     0.13313,     0.13413,     0.13514,     0.13614,     0.13714,     0.13814,     0.13914,     0.14014,     0.14114,     0.14214,     0.14314,\n",
       "           0.14414,     0.14515,     0.14615,     0.14715,     0.14815,     0.14915,     0.15015,     0.15115,     0.15215,     0.15315,     0.15415,     0.15516,     0.15616,     0.15716,     0.15816,     0.15916,     0.16016,     0.16116,     0.16216,     0.16316,     0.16416,     0.16517,     0.16617,     0.16717,\n",
       "           0.16817,     0.16917,     0.17017,     0.17117,     0.17217,     0.17317,     0.17417,     0.17518,     0.17618,     0.17718,     0.17818,     0.17918,     0.18018,     0.18118,     0.18218,     0.18318,     0.18418,     0.18519,     0.18619,     0.18719,     0.18819,     0.18919,     0.19019,     0.19119,\n",
       "           0.19219,     0.19319,     0.19419,      0.1952,      0.1962,      0.1972,      0.1982,      0.1992,      0.2002,      0.2012,      0.2022,      0.2032,      0.2042,     0.20521,     0.20621,     0.20721,     0.20821,     0.20921,     0.21021,     0.21121,     0.21221,     0.21321,     0.21421,     0.21522,\n",
       "           0.21622,     0.21722,     0.21822,     0.21922,     0.22022,     0.22122,     0.22222,     0.22322,     0.22422,     0.22523,     0.22623,     0.22723,     0.22823,     0.22923,     0.23023,     0.23123,     0.23223,     0.23323,     0.23423,     0.23524,     0.23624,     0.23724,     0.23824,     0.23924,\n",
       "           0.24024,     0.24124,     0.24224,     0.24324,     0.24424,     0.24525,     0.24625,     0.24725,     0.24825,     0.24925,     0.25025,     0.25125,     0.25225,     0.25325,     0.25425,     0.25526,     0.25626,     0.25726,     0.25826,     0.25926,     0.26026,     0.26126,     0.26226,     0.26326,\n",
       "           0.26426,     0.26527,     0.26627,     0.26727,     0.26827,     0.26927,     0.27027,     0.27127,     0.27227,     0.27327,     0.27427,     0.27528,     0.27628,     0.27728,     0.27828,     0.27928,     0.28028,     0.28128,     0.28228,     0.28328,     0.28428,     0.28529,     0.28629,     0.28729,\n",
       "           0.28829,     0.28929,     0.29029,     0.29129,     0.29229,     0.29329,     0.29429,      0.2953,      0.2963,      0.2973,      0.2983,      0.2993,      0.3003,      0.3013,      0.3023,      0.3033,      0.3043,     0.30531,     0.30631,     0.30731,     0.30831,     0.30931,     0.31031,     0.31131,\n",
       "           0.31231,     0.31331,     0.31431,     0.31532,     0.31632,     0.31732,     0.31832,     0.31932,     0.32032,     0.32132,     0.32232,     0.32332,     0.32432,     0.32533,     0.32633,     0.32733,     0.32833,     0.32933,     0.33033,     0.33133,     0.33233,     0.33333,     0.33433,     0.33534,\n",
       "           0.33634,     0.33734,     0.33834,     0.33934,     0.34034,     0.34134,     0.34234,     0.34334,     0.34434,     0.34535,     0.34635,     0.34735,     0.34835,     0.34935,     0.35035,     0.35135,     0.35235,     0.35335,     0.35435,     0.35536,     0.35636,     0.35736,     0.35836,     0.35936,\n",
       "           0.36036,     0.36136,     0.36236,     0.36336,     0.36436,     0.36537,     0.36637,     0.36737,     0.36837,     0.36937,     0.37037,     0.37137,     0.37237,     0.37337,     0.37437,     0.37538,     0.37638,     0.37738,     0.37838,     0.37938,     0.38038,     0.38138,     0.38238,     0.38338,\n",
       "           0.38438,     0.38539,     0.38639,     0.38739,     0.38839,     0.38939,     0.39039,     0.39139,     0.39239,     0.39339,     0.39439,      0.3954,      0.3964,      0.3974,      0.3984,      0.3994,      0.4004,      0.4014,      0.4024,      0.4034,      0.4044,     0.40541,     0.40641,     0.40741,\n",
       "           0.40841,     0.40941,     0.41041,     0.41141,     0.41241,     0.41341,     0.41441,     0.41542,     0.41642,     0.41742,     0.41842,     0.41942,     0.42042,     0.42142,     0.42242,     0.42342,     0.42442,     0.42543,     0.42643,     0.42743,     0.42843,     0.42943,     0.43043,     0.43143,\n",
       "           0.43243,     0.43343,     0.43443,     0.43544,     0.43644,     0.43744,     0.43844,     0.43944,     0.44044,     0.44144,     0.44244,     0.44344,     0.44444,     0.44545,     0.44645,     0.44745,     0.44845,     0.44945,     0.45045,     0.45145,     0.45245,     0.45345,     0.45445,     0.45546,\n",
       "           0.45646,     0.45746,     0.45846,     0.45946,     0.46046,     0.46146,     0.46246,     0.46346,     0.46446,     0.46547,     0.46647,     0.46747,     0.46847,     0.46947,     0.47047,     0.47147,     0.47247,     0.47347,     0.47447,     0.47548,     0.47648,     0.47748,     0.47848,     0.47948,\n",
       "           0.48048,     0.48148,     0.48248,     0.48348,     0.48448,     0.48549,     0.48649,     0.48749,     0.48849,     0.48949,     0.49049,     0.49149,     0.49249,     0.49349,     0.49449,      0.4955,      0.4965,      0.4975,      0.4985,      0.4995,      0.5005,      0.5015,      0.5025,      0.5035,\n",
       "            0.5045,     0.50551,     0.50651,     0.50751,     0.50851,     0.50951,     0.51051,     0.51151,     0.51251,     0.51351,     0.51451,     0.51552,     0.51652,     0.51752,     0.51852,     0.51952,     0.52052,     0.52152,     0.52252,     0.52352,     0.52452,     0.52553,     0.52653,     0.52753,\n",
       "           0.52853,     0.52953,     0.53053,     0.53153,     0.53253,     0.53353,     0.53453,     0.53554,     0.53654,     0.53754,     0.53854,     0.53954,     0.54054,     0.54154,     0.54254,     0.54354,     0.54454,     0.54555,     0.54655,     0.54755,     0.54855,     0.54955,     0.55055,     0.55155,\n",
       "           0.55255,     0.55355,     0.55455,     0.55556,     0.55656,     0.55756,     0.55856,     0.55956,     0.56056,     0.56156,     0.56256,     0.56356,     0.56456,     0.56557,     0.56657,     0.56757,     0.56857,     0.56957,     0.57057,     0.57157,     0.57257,     0.57357,     0.57457,     0.57558,\n",
       "           0.57658,     0.57758,     0.57858,     0.57958,     0.58058,     0.58158,     0.58258,     0.58358,     0.58458,     0.58559,     0.58659,     0.58759,     0.58859,     0.58959,     0.59059,     0.59159,     0.59259,     0.59359,     0.59459,      0.5956,      0.5966,      0.5976,      0.5986,      0.5996,\n",
       "            0.6006,      0.6016,      0.6026,      0.6036,      0.6046,     0.60561,     0.60661,     0.60761,     0.60861,     0.60961,     0.61061,     0.61161,     0.61261,     0.61361,     0.61461,     0.61562,     0.61662,     0.61762,     0.61862,     0.61962,     0.62062,     0.62162,     0.62262,     0.62362,\n",
       "           0.62462,     0.62563,     0.62663,     0.62763,     0.62863,     0.62963,     0.63063,     0.63163,     0.63263,     0.63363,     0.63463,     0.63564,     0.63664,     0.63764,     0.63864,     0.63964,     0.64064,     0.64164,     0.64264,     0.64364,     0.64464,     0.64565,     0.64665,     0.64765,\n",
       "           0.64865,     0.64965,     0.65065,     0.65165,     0.65265,     0.65365,     0.65465,     0.65566,     0.65666,     0.65766,     0.65866,     0.65966,     0.66066,     0.66166,     0.66266,     0.66366,     0.66466,     0.66567,     0.66667,     0.66767,     0.66867,     0.66967,     0.67067,     0.67167,\n",
       "           0.67267,     0.67367,     0.67467,     0.67568,     0.67668,     0.67768,     0.67868,     0.67968,     0.68068,     0.68168,     0.68268,     0.68368,     0.68468,     0.68569,     0.68669,     0.68769,     0.68869,     0.68969,     0.69069,     0.69169,     0.69269,     0.69369,     0.69469,      0.6957,\n",
       "            0.6967,      0.6977,      0.6987,      0.6997,      0.7007,      0.7017,      0.7027,      0.7037,      0.7047,     0.70571,     0.70671,     0.70771,     0.70871,     0.70971,     0.71071,     0.71171,     0.71271,     0.71371,     0.71471,     0.71572,     0.71672,     0.71772,     0.71872,     0.71972,\n",
       "           0.72072,     0.72172,     0.72272,     0.72372,     0.72472,     0.72573,     0.72673,     0.72773,     0.72873,     0.72973,     0.73073,     0.73173,     0.73273,     0.73373,     0.73473,     0.73574,     0.73674,     0.73774,     0.73874,     0.73974,     0.74074,     0.74174,     0.74274,     0.74374,\n",
       "           0.74474,     0.74575,     0.74675,     0.74775,     0.74875,     0.74975,     0.75075,     0.75175,     0.75275,     0.75375,     0.75475,     0.75576,     0.75676,     0.75776,     0.75876,     0.75976,     0.76076,     0.76176,     0.76276,     0.76376,     0.76476,     0.76577,     0.76677,     0.76777,\n",
       "           0.76877,     0.76977,     0.77077,     0.77177,     0.77277,     0.77377,     0.77477,     0.77578,     0.77678,     0.77778,     0.77878,     0.77978,     0.78078,     0.78178,     0.78278,     0.78378,     0.78478,     0.78579,     0.78679,     0.78779,     0.78879,     0.78979,     0.79079,     0.79179,\n",
       "           0.79279,     0.79379,     0.79479,      0.7958,      0.7968,      0.7978,      0.7988,      0.7998,      0.8008,      0.8018,      0.8028,      0.8038,      0.8048,     0.80581,     0.80681,     0.80781,     0.80881,     0.80981,     0.81081,     0.81181,     0.81281,     0.81381,     0.81481,     0.81582,\n",
       "           0.81682,     0.81782,     0.81882,     0.81982,     0.82082,     0.82182,     0.82282,     0.82382,     0.82482,     0.82583,     0.82683,     0.82783,     0.82883,     0.82983,     0.83083,     0.83183,     0.83283,     0.83383,     0.83483,     0.83584,     0.83684,     0.83784,     0.83884,     0.83984,\n",
       "           0.84084,     0.84184,     0.84284,     0.84384,     0.84484,     0.84585,     0.84685,     0.84785,     0.84885,     0.84985,     0.85085,     0.85185,     0.85285,     0.85385,     0.85485,     0.85586,     0.85686,     0.85786,     0.85886,     0.85986,     0.86086,     0.86186,     0.86286,     0.86386,\n",
       "           0.86486,     0.86587,     0.86687,     0.86787,     0.86887,     0.86987,     0.87087,     0.87187,     0.87287,     0.87387,     0.87487,     0.87588,     0.87688,     0.87788,     0.87888,     0.87988,     0.88088,     0.88188,     0.88288,     0.88388,     0.88488,     0.88589,     0.88689,     0.88789,\n",
       "           0.88889,     0.88989,     0.89089,     0.89189,     0.89289,     0.89389,     0.89489,      0.8959,      0.8969,      0.8979,      0.8989,      0.8999,      0.9009,      0.9019,      0.9029,      0.9039,      0.9049,     0.90591,     0.90691,     0.90791,     0.90891,     0.90991,     0.91091,     0.91191,\n",
       "           0.91291,     0.91391,     0.91491,     0.91592,     0.91692,     0.91792,     0.91892,     0.91992,     0.92092,     0.92192,     0.92292,     0.92392,     0.92492,     0.92593,     0.92693,     0.92793,     0.92893,     0.92993,     0.93093,     0.93193,     0.93293,     0.93393,     0.93493,     0.93594,\n",
       "           0.93694,     0.93794,     0.93894,     0.93994,     0.94094,     0.94194,     0.94294,     0.94394,     0.94494,     0.94595,     0.94695,     0.94795,     0.94895,     0.94995,     0.95095,     0.95195,     0.95295,     0.95395,     0.95495,     0.95596,     0.95696,     0.95796,     0.95896,     0.95996,\n",
       "           0.96096,     0.96196,     0.96296,     0.96396,     0.96496,     0.96597,     0.96697,     0.96797,     0.96897,     0.96997,     0.97097,     0.97197,     0.97297,     0.97397,     0.97497,     0.97598,     0.97698,     0.97798,     0.97898,     0.97998,     0.98098,     0.98198,     0.98298,     0.98398,\n",
       "           0.98498,     0.98599,     0.98699,     0.98799,     0.98899,     0.98999,     0.99099,     0.99199,     0.99299,     0.99399,     0.99499,       0.996,       0.997,       0.998,       0.999,           1]), array([[          1,           1,           1,           1,           1,           1,           1,           1,           1,           1,           1,           1,           1,           1,           1,           1,           1,           1,           1,           1,           1,           1,           1,\n",
       "                  1,           1,           1,           1,           1,           1,           1,           1,           1,           1,           1,           1,           1,           1,           1,           1,           1,           1,           1,           1,           1,           1,           1,\n",
       "                  1,           1,           1,           1,           1,           1,           1,           1,           1,           1,           1,           1,           1,           1,           1,           1,           1,           1,           1,           1,           1,           1,           1,\n",
       "                  1,           1,           1,           1,           1,           1,           1,           1,           1,           1,           1,           1,           1,           1,           1,           1,           1,           1,           1,           1,           1,           1,           1,\n",
       "                  1,           1,           1,           1,           1,           1,           1,           1,           1,           1,           1,           1,           1,           1,           1,           1,           1,           1,           1,           1,           1,           1,           1,\n",
       "                  1,           1,           1,           1,           1,           1,           1,           1,           1,           1,           1,           1,           1,           1,           1,           1,           1,           1,           1,           1,           1,           1,           1,\n",
       "                  1,           1,           1,           1,           1,           1,           1,           1,           1,           1,           1,           1,           1,           1,           1,           1,           1,           1,           1,           1,           1,           1,           1,\n",
       "                  1,           1,           1,           1,           1,           1,           1,           1,           1,           1,           1,           1,           1,           1,           1,           1,           1,           1,           1,           1,           1,           1,           1,\n",
       "                  1,           1,           1,           1,           1,           1,           1,           1,           1,           1,           1,           1,           1,           1,           1,           1,           1,           1,           1,           1,           1,           1,           1,\n",
       "                  1,           1,           1,           1,           1,           1,           1,           1,           1,           1,           1,           1,           1,           1,           1,           1,           1,           1,           1,           1,           1,           1,           1,\n",
       "                  1,           1,           1,           1,           1,           1,           1,           1,           1,           1,           1,           1,           1,           1,           1,           1,           1,           1,           1,           1,           1,           1,           1,\n",
       "                  1,           1,           1,           1,           1,           1,           1,           1,           1,           1,           1,           1,           1,           1,           1,           1,           1,           1,           1,           1,           1,           1,           1,\n",
       "                  1,           1,           1,           1,           1,           1,           1,           1,           1,           1,           1,           1,           1,           1,           1,           1,           1,           1,           1,           1,           1,           1,           1,\n",
       "                  1,           1,           1,           1,           1,           1,           1,           1,           1,           1,           1,           1,           1,           1,           1,           1,           1,           1,           1,           1,           1,           1,           1,\n",
       "                  1,           1,           1,           1,           1,           1,           1,           1,           1,           1,           1,           1,           1,           1,           1,           1,           1,           1,           1,           1,           1,           1,           1,\n",
       "                  1,           1,           1,           1,           1,           1,           1,           1,           1,           1,           1,           1,           1,           1,           1,           1,           1,           1,           1,           1,           1,           1,           1,\n",
       "                  1,           1,           1,           1,           1,           1,           1,           1,           1,           1,           1,           1,           1,           1,           1,           1,           1,           1,           1,           1,           1,           1,           1,\n",
       "                  1,           1,           1,           1,           1,           1,           1,           1,           1,           1,           1,           1,           1,           1,           1,           1,           1,           1,           1,           1,           1,           1,           1,\n",
       "                  1,           1,           1,           1,           1,           1,           1,           1,           1,           1,           1,           1,           1,           1,           1,           1,           1,           1,           1,           1,           1,           1,           1,\n",
       "                  1,           1,           1,           1,           1,           1,           1,           1,           1,           1,           1,           1,           1,           1,           1,           1,           1,           1,           1,           1,           1,           1,           1,\n",
       "                  1,           1,           1,           1,           1,           1,           1,           1,           1,           1,           1,           1,           1,           1,           1,           1,           1,           1,           1,           1,           1,           1,           1,\n",
       "                  1,           1,           1,           1,           1,           1,           1,           1,           1,           1,           1,           1,           1,           1,           1,           1,           1,           1,           1,           1,           1,           1,           1,\n",
       "                  1,           1,           1,           1,           1,           1,           1,           1,           1,           1,           1,           1,           1,           1,           1,           1,           1,           1,           1,           1,           1,           1,           1,\n",
       "                  1,           1,           1,           1,           1,           1,           1,           1,           1,           1,           1,           1,           1,           1,           1,           1,           1,           1,           1,           1,           1,           1,           1,\n",
       "                  1,           1,           1,           1,           1,           1,           1,           1,           1,           1,           1,           1,           1,           1,           1,           1,           1,           1,           1,           1,           1,           1,           1,\n",
       "                  1,           1,           1,           1,           1,           1,           1,           1,           1,           1,           1,           1,           1,           1,           1,           1,           1,           1,           1,           1,           1,           1,           1,\n",
       "                  1,           1,           1,           1,           1,           1,           1,           1,           1,           1,           1,           1,           1,           1,           1,           1,           1,           1,           1,           1,           1,           1,           1,\n",
       "                  1,           1,           1,           1,           1,           1,           1,           1,           1,           1,           1,           1,           1,           1,           1,           1,           1,           1,           1,           1,           1,           1,           1,\n",
       "                  1,           1,           1,           1,           1,           1,           1,           1,           1,           1,           1,           1,           1,           1,           1,           1,           1,           1,           1,           1,           1,           1,           1,\n",
       "                  1,           1,           1,           1,           1,           1,           1,           1,           1,           1,           1,           1,           1,           1,           1,           1,           1,           1,           1,           1,           1,           1,           1,\n",
       "                  1,           1,           1,           1,           1,           1,           1,           1,           1,           1,           1,           1,           1,           1,           1,           1,           1,           1,           1,           1,           1,           1,           1,\n",
       "                  1,           1,           1,           1,           1,           1,           1,     0.99994,     0.99983,     0.99972,      0.9996,     0.99949,     0.99938,     0.99927,     0.99915,     0.99904,     0.99893,     0.99881,      0.9987,     0.99859,     0.99847,     0.99836,     0.99825,\n",
       "            0.99814,     0.99802,     0.99791,      0.9978,     0.99768,     0.99757,     0.99746,     0.99735,     0.99723,     0.99712,     0.99701,     0.99689,     0.99678,     0.99667,     0.99655,     0.99644,     0.99633,     0.99622,      0.9961,     0.99599,     0.99588,     0.99576,     0.99565,\n",
       "            0.99554,     0.99542,     0.99531,      0.9952,     0.99509,     0.99497,     0.99486,     0.99475,     0.99463,     0.99452,     0.99441,      0.9943,     0.99418,     0.99407,     0.99396,     0.99384,     0.99373,     0.99362,      0.9935,     0.99339,     0.99328,     0.99317,     0.99305,\n",
       "            0.99294,     0.99283,     0.99271,      0.9926,     0.99249,     0.99238,     0.99226,     0.99215,     0.99204,     0.99192,     0.99181,      0.9917,     0.99158,     0.99147,     0.99136,     0.99125,     0.99113,     0.99102,     0.99091,     0.99079,     0.99068,     0.99057,     0.99046,\n",
       "            0.99034,     0.99023,     0.99012,        0.99,     0.98989,     0.98978,     0.98966,     0.98955,     0.98944,     0.98933,     0.98921,      0.9891,     0.98899,     0.98887,     0.98876,     0.98865,     0.98853,     0.98842,     0.98831,      0.9882,     0.98808,     0.98797,     0.98786,\n",
       "            0.98774,     0.98763,     0.98752,     0.98741,     0.98729,     0.98718,     0.98707,     0.98695,     0.98684,     0.98673,     0.98661,      0.9865,     0.98639,     0.98628,     0.98616,     0.98605,     0.98594,     0.98582,     0.98571,      0.9856,     0.98549,     0.98537,     0.98526,\n",
       "            0.98515,     0.98503,     0.98492,     0.98461,     0.98397,     0.98332,     0.98267,     0.98203,     0.98138,     0.98073,     0.98008,     0.97944,     0.97879,     0.97814,      0.9775,     0.97685,      0.9762,     0.97555,     0.97491,     0.97426,     0.97361,     0.97297,     0.97232,\n",
       "            0.97167,     0.97102,     0.97038,     0.96973,     0.96918,     0.96864,     0.96809,     0.96755,       0.967,     0.96646,     0.96591,     0.96537,     0.96482,     0.96428,     0.96373,     0.96319,     0.96264,      0.9621,     0.96155,     0.96101,     0.96046,     0.95992,     0.95937,\n",
       "            0.95883,     0.95828,     0.95774,     0.95719,     0.95665,      0.9561,     0.95556,     0.95501,     0.95391,     0.94947,     0.94503,     0.94059,     0.93562,     0.93044,     0.92526,     0.92009,     0.91491,     0.90973,     0.90229,     0.89452,     0.87607,     0.86986,     0.86365,\n",
       "            0.84825,      0.8379,      0.8095,     0.78491,     0.76801,     0.76024,     0.75078,     0.73642,     0.67505,     0.65533,     0.63051,     0.62274,     0.60361,     0.59585,     0.57959,     0.56668,      0.5574,     0.54963,     0.53828,     0.49245,     0.47692,     0.45425,     0.44804,\n",
       "            0.44183,     0.40534,     0.38739,     0.37616,     0.31517,     0.30077,     0.29042,     0.23413,     0.20307,     0.18449,     0.14094,    0.077669,    0.058188,    0.051976,    0.045764,    0.039552,    0.033339,    0.022363,           0,           0,           0,           0,           0,\n",
       "                  0,           0,           0,           0,           0,           0,           0,           0,           0,           0,           0,           0,           0,           0,           0,           0,           0,           0,           0,           0,           0,           0,           0,\n",
       "                  0,           0,           0,           0,           0,           0,           0,           0,           0,           0,           0]]), 'Confidence', 'Recall']]\n",
       "fitness: 1.8406209303934942\n",
       "keys: ['metrics/precision(B)', 'metrics/recall(B)', 'metrics/mAP50(B)', 'metrics/mAP50-95(B)', 'metrics/precision(M)', 'metrics/recall(M)', 'metrics/mAP50(M)', 'metrics/mAP50-95(M)']\n",
       "maps: array([      1.824])\n",
       "names: {0: 'weld'}\n",
       "plot: True\n",
       "results_dict: {'metrics/precision(B)': 0.9992421771464445, 'metrics/recall(B)': 1.0, 'metrics/mAP50(B)': 0.995, 'metrics/mAP50-95(B)': 0.9308260253175746, 'metrics/precision(M)': 0.9992421771464445, 'metrics/recall(M)': 1.0, 'metrics/mAP50(M)': 0.995, 'metrics/mAP50-95(M)': 0.8931972306751966, 'fitness': 1.8406209303934942}\n",
       "save_dir: WindowsPath('runs/segment/train32')\n",
       "seg: ultralytics.utils.metrics.Metric object\n",
       "speed: {'preprocess': 0.2212813406279593, 'inference': 2.044446540601326, 'loss': 0.0, 'postprocess': 0.5566459713560161}\n",
       "task: 'segment'"
      ]
     },
     "execution_count": 4,
     "metadata": {},
     "output_type": "execute_result"
    }
   ],
   "source": [
    "from ultralytics import YOLO\n",
    "\n",
    "model = YOLO('runs/segment/train20/weights/best.pt')  # в случае добучения - указать путь до предобученной модели. базовая скачается автоматически\n",
    "model.train(data='yolo.yaml', epochs=200, device=[0], imgsz=640, augment=True, lr0=0.0001,mask_ratio=2, batch=32)"
   ]
  },
  {
   "cell_type": "code",
   "execution_count": 3,
   "id": "1d862cff-46da-4722-8c3a-563690242fac",
   "metadata": {},
   "outputs": [
    {
     "data": {
      "text/plain": [
       "1"
      ]
     },
     "execution_count": 3,
     "metadata": {},
     "output_type": "execute_result"
    }
   ],
   "source": [
    "torch.cuda.device_count()"
   ]
  },
  {
   "cell_type": "code",
   "execution_count": 6,
   "id": "afbbaa64-1012-46fe-8fb4-ee0d53c7d242",
   "metadata": {},
   "outputs": [
    {
     "ename": "SyntaxError",
     "evalue": "illegal target for annotation (442746295.py, line 1)",
     "output_type": "error",
     "traceback": [
      "\u001b[1;36m  Cell \u001b[1;32mIn[6], line 1\u001b[1;36m\u001b[0m\n\u001b[1;33m    torch.cuda.is_available(): True\u001b[0m\n\u001b[1;37m    ^\u001b[0m\n\u001b[1;31mSyntaxError\u001b[0m\u001b[1;31m:\u001b[0m illegal target for annotation\n"
     ]
    }
   ],
   "source": [
    "torch.cuda.is_available(): True\n",
    "torch.cuda.device_count(): 1\n",
    "os.environ['CUDA_VISIBLE_DEVICES']: 1,2,3"
   ]
  },
  {
   "cell_type": "markdown",
   "id": "a0fee41b-0f86-4d78-944a-8212f2b695fa",
   "metadata": {},
   "source": [
    "### by this stage you should have a model somewhere in the folder (runs/segment/train%d)\n",
    "### move the images that you want to annotate to the folder \"predicted_masks/images\"\n",
    "### Folder Structure Explanation\r\n",
    "\r\n",
    "To run this notebook successfully, ensure that there is a folder named `predicted_masks` in the same directory as the notebook. Inside the `predicted_masks` folder, there should be three subfolders:\r\n",
    "\r\n",
    "1. **images**: This folder contains the images for predictions.\r\n",
    "2. **masks**: This folder contains the mask predictions corresponding to the images.\r\n",
    "3. **overlay**: This folder contains overlay images (a combination of the original images and their predicted masks).\r\n",
    "\r\n",
    "The structure should look li\n",
    "\n",
    "    ./predicted_masks \n",
    "                    ├── images (put your images here)\n",
    "                    ├── masks\n",
    "                    └── overlay\n",
    "                 this:\r\n",
    "\r\n"
   ]
  },
  {
   "cell_type": "markdown",
   "id": "656618bc-b455-498e-b832-11110917791c",
   "metadata": {},
   "source": [
    "### the following code is only responsible for overlaying the mask on top of the image, it has two versions one for png images and the other for jpg, but be aware that you have to call the right version depending on what you need in the function \"*save_prediction_masks\""
   ]
  },
  {
   "cell_type": "code",
   "execution_count": 5,
   "id": "1f48a500-31f1-41f4-b854-b5fad50cf475",
   "metadata": {},
   "outputs": [],
   "source": [
    "import torch\n",
    "torch.cuda.empty_cache()"
   ]
  },
  {
   "cell_type": "code",
   "execution_count": 6,
   "id": "42ee5d99-c56e-435c-93f6-e8de13c78e03",
   "metadata": {},
   "outputs": [],
   "source": [
    "from PIL import Image\n",
    "import numpy as np\n",
    "import cv2\n",
    "\n",
    "def overlay_mask(image_path, mask, alpha=0.8):\n",
    "    # Load the image\n",
    "    # image = Image.open(image_path).convert(\"RGB\")\n",
    "    image = Image.open(image_path).convert(\"RGBA\")\n",
    "    # resized_image = image.resize(384,480)\n",
    "\n",
    "    # Load the mask and convert it to an array\n",
    "    mask = Image.open(mask_path).convert(\"L\")  # Convert to grayscale\n",
    "    mask = np.array(mask)\n",
    "\n",
    "    # Create a colored version of the mask\n",
    "    colored_mask = np.zeros((*mask.shape, 4), dtype=np.uint8)  # RGBA\n",
    "    colored_mask[:, :, 0] = 255  # Red channel (color of the mask)\n",
    "    colored_mask[:, :, 3] = mask * 255  # Alpha channel based on the mask\n",
    "\n",
    "    # Convert the colored mask to an image\n",
    "    colored_mask_image = Image.fromarray(colored_mask, 'RGBA')\n",
    "\n",
    "    # Overlay the mask on the image with specified transparency\n",
    "    overlay = Image.alpha_composite(image, colored_mask_image)\n",
    "\n",
    "    # Save the result to the specified path\n",
    "    overlay_path = \"./predicted_masks/overlay/\" + image_path.split('/')[3]\n",
    "    overlay.save(overlay_path)\n",
    "    \n",
    "    # Convert overlay to format compatible with OpenCV (BGR) for further processing (if necessary)\n",
    "    overlay_cv = cv2.cvtColor(np.array(overlay), cv2.COLOR_RGBA2BGR)\n",
    "    cv2.imwrite(overlay_path, overlay_cv)\n",
    "\n",
    "# Example usage:\n",
    "# overlay_mask('./predicted_masks/images/00435-4194690285.png', './predicted_masks/masks/00435-4194690285.png')"
   ]
  },
  {
   "cell_type": "code",
   "execution_count": 8,
   "id": "6bcd29ea-e116-420a-b304-c975fa5ba039",
   "metadata": {},
   "outputs": [],
   "source": [
    "from PIL import Image, ImageDraw\n",
    "import cv2\n",
    "import numpy as np\n",
    "from shapely.geometry import Polygon, MultiPolygon\n",
    "\n",
    "def overlay_mask_jpg(image_path, masks, alpha=0.1):\n",
    "    \"\"\"\n",
    "    Overlays a YOLO segmentation mask onto an image, ensuring only one connected polygon is drawn.\n",
    "    \n",
    "    Args:\n",
    "        image_path (str): Path to the input image.\n",
    "        masks (list): List of YOLO masks (polygon coordinates).\n",
    "        alpha (float): Transparency level for the overlay.\n",
    "    \n",
    "    Saves:\n",
    "        Processed image with overlay mask.\n",
    "    \"\"\"\n",
    "    overlay_path = \"./predicted_masks/overlay/\" + image_path.split('/')[-1]  # Use last part of path\n",
    "    \n",
    "    # Open image in PIL\n",
    "    img_pil = Image.open(image_path).convert(\"RGBA\")\n",
    "    overlay = Image.new('RGBA', img_pil.size, (255, 255, 255, 0))\n",
    "    overlay_draw = ImageDraw.Draw(overlay)\n",
    "\n",
    "    all_polygons = []\n",
    "\n",
    "    # Collect all polygons from masks\n",
    "    for mask in masks:\n",
    "        polygon = mask.xy[0]  # Get polygon coordinates\n",
    "        if len(polygon) >= 3:\n",
    "            all_polygons.append(Polygon(polygon))  # Convert to Shapely polygon\n",
    "\n",
    "    if not all_polygons:\n",
    "        print(\"No valid polygons detected.\")\n",
    "        return  # Exit if no valid polygons\n",
    "\n",
    "    # Merge polygons and keep only the largest one\n",
    "    merged = MultiPolygon(all_polygons).buffer(0)  # Merge overlapping polygons\n",
    "    if isinstance(merged, MultiPolygon):\n",
    "        largest_polygon = max(merged.geoms, key=lambda p: p.area)  # Keep the largest polygon\n",
    "    else:\n",
    "        largest_polygon = merged\n",
    "\n",
    "    # Convert the largest polygon back to a format usable by ImageDraw\n",
    "    polygon_coords = list(largest_polygon.exterior.coords)\n",
    "\n",
    "    # Draw the largest polygon\n",
    "    overlay_draw.polygon(polygon_coords, outline=(0, 255, 0), fill=(0, 255, 0, 127))\n",
    "\n",
    "    # Draw a centroid marker\n",
    "    centroid = largest_polygon.centroid\n",
    "    circle_radius = 5\n",
    "    left_up_point = (centroid.x - circle_radius, centroid.y - circle_radius)\n",
    "    right_down_point = (centroid.x + circle_radius, centroid.y + circle_radius)\n",
    "    overlay_draw.ellipse([left_up_point, right_down_point], fill=(255, 0, 0))\n",
    "\n",
    "    # Merge overlay with original image\n",
    "    img_pil = Image.alpha_composite(img_pil, overlay)\n",
    "\n",
    "    # Convert PIL image to OpenCV format and save\n",
    "    frame = cv2.cvtColor(np.array(img_pil), cv2.COLOR_RGB2BGR)\n",
    "    cv2.imwrite(overlay_path, frame)\n",
    "\n",
    "    print(f\"Overlay saved: {overlay_path}\")\n"
   ]
  },
  {
   "cell_type": "code",
   "execution_count": 9,
   "id": "9ad4690c-e9f9-454e-8cd4-0f5bf75b8819",
   "metadata": {},
   "outputs": [],
   "source": [
    "import cv2\n",
    "import numpy as np\n",
    "import matplotlib.pyplot as plt\n",
    "from ultralytics import YOLO\n",
    "from tqdm import tqdm\n",
    "def process_yolo_masks(masks):\n",
    "    \"\"\"\n",
    "    Takes YOLO segmentation masks and returns a single connected binary mask.\n",
    "    \n",
    "    Args:\n",
    "        masks (tensor): YOLOv8 segmentation mask tensor.\n",
    "        \n",
    "    Returns:\n",
    "        final_mask (numpy.ndarray): Processed binary mask with only one connected component.\n",
    "    \"\"\"\n",
    "    if masks is None or len(masks) == 0:\n",
    "        return None  # No mask detected\n",
    "\n",
    "    # Convert YOLO mask tensor to NumPy\n",
    "    masks = masks.data.cpu().numpy()  # Shape: (num_masks, H, W)\n",
    "\n",
    "    # Merge all masks into a single binary mask\n",
    "    merged_mask = np.max(masks, axis=0)  # Combine multiple masks into one\n",
    "\n",
    "    # Convert to uint8 format for OpenCV\n",
    "    merged_mask = (merged_mask * 255).astype(np.uint8)\n",
    "\n",
    "    # Apply morphological closing to fill small gaps\n",
    "    kernel = np.ones((5, 5), np.uint8)\n",
    "    merged_mask = cv2.morphologyEx(merged_mask, cv2.MORPH_CLOSE, kernel)\n",
    "\n",
    "    # Find the largest connected component\n",
    "    contours, _ = cv2.findContours(merged_mask, cv2.RETR_EXTERNAL, cv2.CHAIN_APPROX_SIMPLE)\n",
    "    if contours:\n",
    "        final_mask = np.zeros_like(merged_mask)\n",
    "        cv2.drawContours(final_mask, [max(contours, key=cv2.contourArea)], -1, 255, thickness=cv2.FILLED)\n",
    "    else:\n",
    "        final_mask = merged_mask  # If no contours found, keep original\n",
    "\n",
    "    return final_mask\n"
   ]
  },
  {
   "cell_type": "code",
   "execution_count": 10,
   "id": "1496d5c0-2bb6-4f0e-97e1-94bf69e8884c",
   "metadata": {},
   "outputs": [
    {
     "name": "stderr",
     "output_type": "stream",
     "text": [
      "  0%|                                                                                          | 0/136 [00:00<?, ?it/s]"
     ]
    },
    {
     "name": "stdout",
     "output_type": "stream",
     "text": [
      "./predicted_masks/images/10a.jpg\n",
      "\n",
      "0: 480x640 1 weld, 5.5ms\n",
      "Speed: 2.1ms preprocess, 5.5ms inference, 1.2ms postprocess per image at shape (1, 3, 480, 640)\n"
     ]
    },
    {
     "name": "stderr",
     "output_type": "stream",
     "text": [
      "  1%|▌                                                                                 | 1/136 [00:00<00:23,  5.84it/s]"
     ]
    },
    {
     "name": "stdout",
     "output_type": "stream",
     "text": [
      "Overlay saved: ./predicted_masks/overlay/10a.jpg\n",
      "./predicted_masks/images/10b.jpg\n",
      "\n",
      "0: 480x640 1 weld, 5.0ms\n",
      "Speed: 1.0ms preprocess, 5.0ms inference, 2.1ms postprocess per image at shape (1, 3, 480, 640)\n",
      "Overlay saved: ./predicted_masks/overlay/10b.jpg\n",
      "./predicted_masks/images/10c.jpg\n",
      "\n",
      "0: 480x640 1 weld, 6.5ms\n",
      "Speed: 2.5ms preprocess, 6.5ms inference, 3.5ms postprocess per image at shape (1, 3, 480, 640)\n",
      "Overlay saved: ./predicted_masks/overlay/10c.jpg"
     ]
    },
    {
     "name": "stderr",
     "output_type": "stream",
     "text": [
      "  2%|█▊                                                                                | 3/136 [00:00<00:15,  8.81it/s]"
     ]
    },
    {
     "name": "stdout",
     "output_type": "stream",
     "text": [
      "\n",
      "./predicted_masks/images/10d.jpg\n",
      "\n",
      "0: 480x640 1 weld, 5.1ms\n",
      "Speed: 1.0ms preprocess, 5.1ms inference, 1.0ms postprocess per image at shape (1, 3, 480, 640)\n",
      "Overlay saved: ./predicted_masks/overlay/10d.jpg\n",
      "./predicted_masks/images/11a.jpg\n",
      "\n",
      "0: 480x640 1 weld, 6.5ms\n",
      "Speed: 1.2ms preprocess, 6.5ms inference, 1.2ms postprocess per image at shape (1, 3, 480, 640)\n"
     ]
    },
    {
     "name": "stderr",
     "output_type": "stream",
     "text": [
      "  4%|███                                                                               | 5/136 [00:00<00:13,  9.90it/s]"
     ]
    },
    {
     "name": "stdout",
     "output_type": "stream",
     "text": [
      "Overlay saved: ./predicted_masks/overlay/11a.jpg\n",
      "./predicted_masks/images/11b.jpg\n",
      "\n",
      "0: 480x640 1 weld, 4.4ms\n",
      "Speed: 1.0ms preprocess, 4.4ms inference, 1.0ms postprocess per image at shape (1, 3, 480, 640)\n",
      "Overlay saved: ./predicted_masks/overlay/11b.jpg\n",
      "./predicted_masks/images/11c.jpg\n",
      "\n",
      "0: 480x640 1 weld, 11.1ms\n",
      "Speed: 1.2ms preprocess, 11.1ms inference, 1.0ms postprocess per image at shape (1, 3, 480, 640)\n"
     ]
    },
    {
     "name": "stderr",
     "output_type": "stream",
     "text": [
      "  5%|████▏                                                                             | 7/136 [00:00<00:13,  9.30it/s]"
     ]
    },
    {
     "name": "stdout",
     "output_type": "stream",
     "text": [
      "Overlay saved: ./predicted_masks/overlay/11c.jpg\n",
      "./predicted_masks/images/11d.jpg\n",
      "\n",
      "0: 480x640 1 weld, 11.2ms\n",
      "Speed: 1.0ms preprocess, 11.2ms inference, 2.3ms postprocess per image at shape (1, 3, 480, 640)\n"
     ]
    },
    {
     "name": "stderr",
     "output_type": "stream",
     "text": [
      "  6%|████▊                                                                             | 8/136 [00:00<00:14,  8.96it/s]"
     ]
    },
    {
     "name": "stdout",
     "output_type": "stream",
     "text": [
      "Overlay saved: ./predicted_masks/overlay/11d.jpg\n",
      "./predicted_masks/images/12a.jpg\n",
      "\n",
      "0: 480x640 1 weld, 5.0ms\n",
      "Speed: 1.0ms preprocess, 5.0ms inference, 1.0ms postprocess per image at shape (1, 3, 480, 640)\n",
      "Overlay saved: ./predicted_masks/overlay/12a.jpg\n",
      "./predicted_masks/images/12b.jpg\n",
      "\n",
      "0: 480x640 1 weld, 8.9ms\n",
      "Speed: 2.2ms preprocess, 8.9ms inference, 1.1ms postprocess per image at shape (1, 3, 480, 640)\n"
     ]
    },
    {
     "name": "stderr",
     "output_type": "stream",
     "text": [
      "  7%|█████▉                                                                           | 10/136 [00:01<00:13,  9.45it/s]"
     ]
    },
    {
     "name": "stdout",
     "output_type": "stream",
     "text": [
      "Overlay saved: ./predicted_masks/overlay/12b.jpg\n",
      "./predicted_masks/images/12c.jpg\n",
      "\n",
      "0: 480x640 1 weld, 5.4ms\n",
      "Speed: 2.1ms preprocess, 5.4ms inference, 2.1ms postprocess per image at shape (1, 3, 480, 640)\n",
      "Overlay saved: ./predicted_masks/overlay/12c.jpg\n",
      "./predicted_masks/images/12d.jpg\n",
      "\n",
      "0: 480x640 1 weld, 10.2ms\n",
      "Speed: 1.1ms preprocess, 10.2ms inference, 2.1ms postprocess per image at shape (1, 3, 480, 640)\n",
      "Overlay saved: ./predicted_masks/overlay/12d.jpg\n"
     ]
    },
    {
     "name": "stderr",
     "output_type": "stream",
     "text": [
      "  9%|███████▏                                                                         | 12/136 [00:01<00:13,  9.27it/s]"
     ]
    },
    {
     "name": "stdout",
     "output_type": "stream",
     "text": [
      "./predicted_masks/images/13a.jpg\n",
      "\n",
      "0: 480x640 1 weld, 10.1ms\n",
      "Speed: 1.0ms preprocess, 10.1ms inference, 3.0ms postprocess per image at shape (1, 3, 480, 640)\n"
     ]
    },
    {
     "name": "stderr",
     "output_type": "stream",
     "text": [
      " 10%|███████▋                                                                         | 13/136 [00:01<00:13,  9.21it/s]"
     ]
    },
    {
     "name": "stdout",
     "output_type": "stream",
     "text": [
      "Overlay saved: ./predicted_masks/overlay/13a.jpg\n",
      "./predicted_masks/images/13b.jpg\n",
      "\n",
      "0: 480x640 1 weld, 9.1ms\n",
      "Speed: 2.5ms preprocess, 9.1ms inference, 1.4ms postprocess per image at shape (1, 3, 480, 640)\n"
     ]
    },
    {
     "name": "stderr",
     "output_type": "stream",
     "text": [
      " 10%|████████▎                                                                        | 14/136 [00:01<00:13,  9.11it/s]"
     ]
    },
    {
     "name": "stdout",
     "output_type": "stream",
     "text": [
      "Overlay saved: ./predicted_masks/overlay/13b.jpg\n",
      "./predicted_masks/images/13c.jpg\n",
      "\n",
      "0: 480x640 1 weld, 10.9ms\n",
      "Speed: 2.6ms preprocess, 10.9ms inference, 1.0ms postprocess per image at shape (1, 3, 480, 640)\n",
      "Overlay saved: ./predicted_masks/overlay/13c.jpg\n"
     ]
    },
    {
     "name": "stderr",
     "output_type": "stream",
     "text": [
      " 11%|████████▉                                                                        | 15/136 [00:01<00:13,  9.06it/s]"
     ]
    },
    {
     "name": "stdout",
     "output_type": "stream",
     "text": [
      "./predicted_masks/images/13d.jpg\n",
      "\n",
      "0: 480x640 1 weld, 7.7ms\n",
      "Speed: 2.1ms preprocess, 7.7ms inference, 2.2ms postprocess per image at shape (1, 3, 480, 640)\n"
     ]
    },
    {
     "name": "stderr",
     "output_type": "stream",
     "text": [
      " 12%|█████████▌                                                                       | 16/136 [00:01<00:13,  9.18it/s]"
     ]
    },
    {
     "name": "stdout",
     "output_type": "stream",
     "text": [
      "Overlay saved: ./predicted_masks/overlay/13d.jpg\n",
      "./predicted_masks/images/14a.jpg\n",
      "\n",
      "0: 480x640 1 weld, 7.5ms\n",
      "Speed: 1.0ms preprocess, 7.5ms inference, 5.5ms postprocess per image at shape (1, 3, 480, 640)\n"
     ]
    },
    {
     "name": "stderr",
     "output_type": "stream",
     "text": [
      " 12%|██████████▏                                                                      | 17/136 [00:01<00:14,  8.47it/s]"
     ]
    },
    {
     "name": "stdout",
     "output_type": "stream",
     "text": [
      "Overlay saved: ./predicted_masks/overlay/14a.jpg\n",
      "./predicted_masks/images/14b.jpg\n",
      "\n",
      "0: 480x640 1 weld, 7.5ms\n",
      "Speed: 2.1ms preprocess, 7.5ms inference, 4.5ms postprocess per image at shape (1, 3, 480, 640)\n"
     ]
    },
    {
     "name": "stderr",
     "output_type": "stream",
     "text": [
      " 13%|██████████▋                                                                      | 18/136 [00:02<00:13,  8.55it/s]"
     ]
    },
    {
     "name": "stdout",
     "output_type": "stream",
     "text": [
      "Overlay saved: ./predicted_masks/overlay/14b.jpg\n",
      "./predicted_masks/images/14c.jpg\n",
      "\n",
      "0: 480x640 1 weld, 7.8ms\n",
      "Speed: 2.4ms preprocess, 7.8ms inference, 2.0ms postprocess per image at shape (1, 3, 480, 640)\n",
      "Overlay saved: ./predicted_masks/overlay/14c.jpg\n"
     ]
    },
    {
     "name": "stderr",
     "output_type": "stream",
     "text": [
      " 14%|███████████▎                                                                     | 19/136 [00:02<00:13,  8.69it/s]"
     ]
    },
    {
     "name": "stdout",
     "output_type": "stream",
     "text": [
      "./predicted_masks/images/14d.jpg\n",
      "\n",
      "0: 480x640 1 weld, 8.0ms\n",
      "Speed: 2.2ms preprocess, 8.0ms inference, 1.1ms postprocess per image at shape (1, 3, 480, 640)\n"
     ]
    },
    {
     "name": "stderr",
     "output_type": "stream",
     "text": [
      " 15%|███████████▉                                                                     | 20/136 [00:02<00:12,  8.96it/s]"
     ]
    },
    {
     "name": "stdout",
     "output_type": "stream",
     "text": [
      "Overlay saved: ./predicted_masks/overlay/14d.jpg\n",
      "./predicted_masks/images/15a.jpg\n",
      "\n",
      "0: 480x640 1 weld, 10.4ms\n",
      "Speed: 3.1ms preprocess, 10.4ms inference, 2.1ms postprocess per image at shape (1, 3, 480, 640)\n",
      "Overlay saved: ./predicted_masks/overlay/15a.jpg\n"
     ]
    },
    {
     "name": "stderr",
     "output_type": "stream",
     "text": [
      " 15%|████████████▌                                                                    | 21/136 [00:02<00:13,  8.84it/s]"
     ]
    },
    {
     "name": "stdout",
     "output_type": "stream",
     "text": [
      "./predicted_masks/images/15b.jpg\n",
      "\n",
      "0: 480x640 1 weld, 9.7ms\n",
      "Speed: 2.1ms preprocess, 9.7ms inference, 2.3ms postprocess per image at shape (1, 3, 480, 640)\n",
      "Overlay saved: ./predicted_masks/overlay/15b.jpg\n"
     ]
    },
    {
     "name": "stderr",
     "output_type": "stream",
     "text": [
      " 16%|█████████████                                                                    | 22/136 [00:02<00:12,  9.01it/s]"
     ]
    },
    {
     "name": "stdout",
     "output_type": "stream",
     "text": [
      "./predicted_masks/images/15c.jpg\n",
      "\n",
      "0: 480x640 1 weld, 7.8ms\n",
      "Speed: 2.4ms preprocess, 7.8ms inference, 1.3ms postprocess per image at shape (1, 3, 480, 640)\n",
      "Overlay saved: ./predicted_masks/overlay/15c.jpg\n",
      "./predicted_masks/images/15d.jpg\n",
      "\n",
      "0: 480x640 1 weld, 7.4ms\n",
      "Speed: 2.1ms preprocess, 7.4ms inference, 1.5ms postprocess per image at shape (1, 3, 480, 640)\n",
      "Overlay saved: ./predicted_masks/overlay/15d.jpg\n"
     ]
    },
    {
     "name": "stderr",
     "output_type": "stream",
     "text": [
      " 18%|██████████████▎                                                                  | 24/136 [00:02<00:11,  9.74it/s]"
     ]
    },
    {
     "name": "stdout",
     "output_type": "stream",
     "text": [
      "./predicted_masks/images/16a.jpg\n",
      "\n",
      "0: 480x640 1 weld, 10.6ms\n",
      "Speed: 2.1ms preprocess, 10.6ms inference, 1.1ms postprocess per image at shape (1, 3, 480, 640)\n",
      "Overlay saved: ./predicted_masks/overlay/16a.jpg\n",
      "./predicted_masks/images/16b.jpg\n",
      "\n",
      "0: 480x640 1 weld, 9.1ms\n",
      "Speed: 4.1ms preprocess, 9.1ms inference, 2.1ms postprocess per image at shape (1, 3, 480, 640)\n",
      "Overlay saved: ./predicted_masks/overlay/16b.jpg\n"
     ]
    },
    {
     "name": "stderr",
     "output_type": "stream",
     "text": [
      " 19%|███████████████▍                                                                 | 26/136 [00:02<00:10, 10.03it/s]"
     ]
    },
    {
     "name": "stdout",
     "output_type": "stream",
     "text": [
      "./predicted_masks/images/16c.jpg\n",
      "\n",
      "0: 480x640 1 weld, 22.4ms\n",
      "Speed: 3.5ms preprocess, 22.4ms inference, 4.2ms postprocess per image at shape (1, 3, 480, 640)\n",
      "Overlay saved: ./predicted_masks/overlay/16c.jpg\n"
     ]
    },
    {
     "name": "stderr",
     "output_type": "stream",
     "text": [
      " 20%|████████████████                                                                 | 27/136 [00:02<00:11,  9.25it/s]"
     ]
    },
    {
     "name": "stdout",
     "output_type": "stream",
     "text": [
      "./predicted_masks/images/16d.jpg\n",
      "\n",
      "0: 480x640 1 weld, 14.7ms\n",
      "Speed: 2.1ms preprocess, 14.7ms inference, 4.1ms postprocess per image at shape (1, 3, 480, 640)\n"
     ]
    },
    {
     "name": "stderr",
     "output_type": "stream",
     "text": [
      " 21%|████████████████▋                                                                | 28/136 [00:03<00:12,  8.70it/s]"
     ]
    },
    {
     "name": "stdout",
     "output_type": "stream",
     "text": [
      "Overlay saved: ./predicted_masks/overlay/16d.jpg\n",
      "./predicted_masks/images/17a.jpg\n",
      "\n",
      "0: 480x640 1 weld, 11.4ms\n",
      "Speed: 2.0ms preprocess, 11.4ms inference, 1.0ms postprocess per image at shape (1, 3, 480, 640)\n",
      "Overlay saved: ./predicted_masks/overlay/17a.jpg\n"
     ]
    },
    {
     "name": "stderr",
     "output_type": "stream",
     "text": [
      " 21%|█████████████████▎                                                               | 29/136 [00:03<00:11,  8.92it/s]"
     ]
    },
    {
     "name": "stdout",
     "output_type": "stream",
     "text": [
      "./predicted_masks/images/17b.jpg\n",
      "\n",
      "0: 480x640 1 weld, 12.6ms\n",
      "Speed: 2.2ms preprocess, 12.6ms inference, 2.0ms postprocess per image at shape (1, 3, 480, 640)\n"
     ]
    },
    {
     "name": "stderr",
     "output_type": "stream",
     "text": [
      " 22%|█████████████████▊                                                               | 30/136 [00:03<00:11,  8.91it/s]"
     ]
    },
    {
     "name": "stdout",
     "output_type": "stream",
     "text": [
      "Overlay saved: ./predicted_masks/overlay/17b.jpg\n",
      "./predicted_masks/images/17c.jpg\n",
      "\n",
      "0: 480x640 1 weld, 9.9ms\n",
      "Speed: 2.2ms preprocess, 9.9ms inference, 2.0ms postprocess per image at shape (1, 3, 480, 640)\n",
      "Overlay saved: ./predicted_masks/overlay/17c.jpg\n"
     ]
    },
    {
     "name": "stderr",
     "output_type": "stream",
     "text": [
      " 23%|██████████████████▍                                                              | 31/136 [00:03<00:11,  8.82it/s]"
     ]
    },
    {
     "name": "stdout",
     "output_type": "stream",
     "text": [
      "./predicted_masks/images/17d.jpg\n",
      "\n",
      "0: 480x640 1 weld, 11.1ms\n",
      "Speed: 2.0ms preprocess, 11.1ms inference, 1.0ms postprocess per image at shape (1, 3, 480, 640)\n"
     ]
    },
    {
     "name": "stderr",
     "output_type": "stream",
     "text": [
      " 24%|███████████████████                                                              | 32/136 [00:03<00:11,  9.11it/s]"
     ]
    },
    {
     "name": "stdout",
     "output_type": "stream",
     "text": [
      "Overlay saved: ./predicted_masks/overlay/17d.jpg\n",
      "./predicted_masks/images/18a.jpg\n",
      "\n",
      "0: 480x640 1 weld, 10.6ms\n",
      "Speed: 2.1ms preprocess, 10.6ms inference, 1.0ms postprocess per image at shape (1, 3, 480, 640)\n"
     ]
    },
    {
     "name": "stderr",
     "output_type": "stream",
     "text": [
      " 24%|███████████████████▋                                                             | 33/136 [00:03<00:11,  9.24it/s]"
     ]
    },
    {
     "name": "stdout",
     "output_type": "stream",
     "text": [
      "Overlay saved: ./predicted_masks/overlay/18a.jpg\n",
      "./predicted_masks/images/18b.jpg\n",
      "\n",
      "0: 480x640 1 weld, 13.2ms\n",
      "Speed: 3.1ms preprocess, 13.2ms inference, 3.3ms postprocess per image at shape (1, 3, 480, 640)\n",
      "Overlay saved: ./predicted_masks/overlay/18b.jpg\n"
     ]
    },
    {
     "name": "stderr",
     "output_type": "stream",
     "text": [
      " 25%|████████████████████▎                                                            | 34/136 [00:03<00:11,  9.04it/s]"
     ]
    },
    {
     "name": "stdout",
     "output_type": "stream",
     "text": [
      "./predicted_masks/images/18c.jpg\n",
      "\n",
      "0: 480x640 1 weld, 9.6ms\n",
      "Speed: 3.2ms preprocess, 9.6ms inference, 4.2ms postprocess per image at shape (1, 3, 480, 640)\n",
      "Overlay saved: ./predicted_masks/overlay/18c.jpg"
     ]
    },
    {
     "name": "stderr",
     "output_type": "stream",
     "text": [
      " 26%|████████████████████▊                                                            | 35/136 [00:03<00:11,  8.62it/s]"
     ]
    },
    {
     "name": "stdout",
     "output_type": "stream",
     "text": [
      "\n",
      "./predicted_masks/images/18d.jpg\n",
      "\n",
      "0: 480x640 1 weld, 27.2ms\n",
      "Speed: 4.3ms preprocess, 27.2ms inference, 5.3ms postprocess per image at shape (1, 3, 480, 640)\n",
      "Overlay saved: ./predicted_masks/overlay/18d.jpg\n"
     ]
    },
    {
     "name": "stderr",
     "output_type": "stream",
     "text": [
      " 26%|█████████████████████▍                                                           | 36/136 [00:04<00:13,  7.33it/s]"
     ]
    },
    {
     "name": "stdout",
     "output_type": "stream",
     "text": [
      "./predicted_masks/images/19a.jpg\n",
      "\n",
      "0: 480x640 1 weld, 25.7ms\n",
      "Speed: 3.1ms preprocess, 25.7ms inference, 1.0ms postprocess per image at shape (1, 3, 480, 640)\n",
      "Overlay saved: ./predicted_masks/overlay/19a.jpg\n"
     ]
    },
    {
     "name": "stderr",
     "output_type": "stream",
     "text": [
      " 27%|██████████████████████                                                           | 37/136 [00:04<00:15,  6.56it/s]"
     ]
    },
    {
     "name": "stdout",
     "output_type": "stream",
     "text": [
      "./predicted_masks/images/19b.jpg\n",
      "\n",
      "0: 480x640 1 weld, 27.5ms\n",
      "Speed: 4.0ms preprocess, 27.5ms inference, 5.5ms postprocess per image at shape (1, 3, 480, 640)\n"
     ]
    },
    {
     "name": "stderr",
     "output_type": "stream",
     "text": [
      " 28%|██████████████████████▋                                                          | 38/136 [00:04<00:15,  6.41it/s]"
     ]
    },
    {
     "name": "stdout",
     "output_type": "stream",
     "text": [
      "Overlay saved: ./predicted_masks/overlay/19b.jpg\n",
      "./predicted_masks/images/19c.jpg\n",
      "\n",
      "0: 480x640 1 weld, 11.6ms\n",
      "Speed: 3.4ms preprocess, 11.6ms inference, 3.0ms postprocess per image at shape (1, 3, 480, 640)\n"
     ]
    },
    {
     "name": "stderr",
     "output_type": "stream",
     "text": [
      " 29%|███████████████████████▏                                                         | 39/136 [00:04<00:14,  6.52it/s]"
     ]
    },
    {
     "name": "stdout",
     "output_type": "stream",
     "text": [
      "Overlay saved: ./predicted_masks/overlay/19c.jpg\n",
      "./predicted_masks/images/19d.jpg\n",
      "\n",
      "0: 480x640 1 weld, 10.4ms\n",
      "Speed: 1.0ms preprocess, 10.4ms inference, 3.4ms postprocess per image at shape (1, 3, 480, 640)\n"
     ]
    },
    {
     "name": "stderr",
     "output_type": "stream",
     "text": [
      " 29%|███████████████████████▊                                                         | 40/136 [00:04<00:13,  6.87it/s]"
     ]
    },
    {
     "name": "stdout",
     "output_type": "stream",
     "text": [
      "Overlay saved: ./predicted_masks/overlay/19d.jpg\n",
      "./predicted_masks/images/1a.jpg\n",
      "\n",
      "0: 480x640 1 weld, 4.1ms\n",
      "Speed: 2.1ms preprocess, 4.1ms inference, 2.3ms postprocess per image at shape (1, 3, 480, 640)\n",
      "Overlay saved: ./predicted_masks/overlay/1a.jpg\n",
      "./predicted_masks/images/1b.jpg\n",
      "\n",
      "0: 480x640 1 weld, 10.0ms\n",
      "Speed: 1.0ms preprocess, 10.0ms inference, 1.0ms postprocess per image at shape (1, 3, 480, 640)\n",
      "Overlay saved: ./predicted_masks/overlay/1b.jpg\n"
     ]
    },
    {
     "name": "stderr",
     "output_type": "stream",
     "text": [
      " 31%|█████████████████████████                                                        | 42/136 [00:04<00:11,  7.98it/s]"
     ]
    },
    {
     "name": "stdout",
     "output_type": "stream",
     "text": [
      "./predicted_masks/images/1c.jpg\n",
      "\n",
      "0: 480x640 1 weld, 5.5ms\n",
      "Speed: 2.2ms preprocess, 5.5ms inference, 2.0ms postprocess per image at shape (1, 3, 480, 640)\n"
     ]
    },
    {
     "name": "stderr",
     "output_type": "stream",
     "text": [
      " 32%|█████████████████████████▌                                                       | 43/136 [00:04<00:11,  8.37it/s]"
     ]
    },
    {
     "name": "stdout",
     "output_type": "stream",
     "text": [
      "Overlay saved: ./predicted_masks/overlay/1c.jpg\n",
      "./predicted_masks/images/1d.jpg\n",
      "\n",
      "0: 480x640 1 weld, 5.4ms\n",
      "Speed: 1.0ms preprocess, 5.4ms inference, 1.0ms postprocess per image at shape (1, 3, 480, 640)\n"
     ]
    },
    {
     "name": "stderr",
     "output_type": "stream",
     "text": [
      " 32%|██████████████████████████▏                                                      | 44/136 [00:05<00:11,  8.30it/s]"
     ]
    },
    {
     "name": "stdout",
     "output_type": "stream",
     "text": [
      "Overlay saved: ./predicted_masks/overlay/1d.jpg\n",
      "./predicted_masks/images/20a.jpg\n",
      "\n",
      "0: 480x640 1 weld, 9.3ms\n",
      "Speed: 2.2ms preprocess, 9.3ms inference, 2.0ms postprocess per image at shape (1, 3, 480, 640)\n"
     ]
    },
    {
     "name": "stderr",
     "output_type": "stream",
     "text": [
      " 33%|██████████████████████████▊                                                      | 45/136 [00:05<00:11,  8.23it/s]"
     ]
    },
    {
     "name": "stdout",
     "output_type": "stream",
     "text": [
      "Overlay saved: ./predicted_masks/overlay/20a.jpg\n",
      "./predicted_masks/images/20b.jpg\n",
      "\n",
      "0: 480x640 1 weld, 7.9ms\n",
      "Speed: 1.0ms preprocess, 7.9ms inference, 2.1ms postprocess per image at shape (1, 3, 480, 640)\n"
     ]
    },
    {
     "name": "stderr",
     "output_type": "stream",
     "text": [
      " 34%|███████████████████████████▍                                                     | 46/136 [00:05<00:10,  8.49it/s]"
     ]
    },
    {
     "name": "stdout",
     "output_type": "stream",
     "text": [
      "Overlay saved: ./predicted_masks/overlay/20b.jpg\n",
      "./predicted_masks/images/20c.jpg\n",
      "\n",
      "0: 480x640 1 weld, 4.5ms\n",
      "Speed: 1.0ms preprocess, 4.5ms inference, 1.0ms postprocess per image at shape (1, 3, 480, 640)\n",
      "Overlay saved: ./predicted_masks/overlay/20c.jpg\n",
      "./predicted_masks/images/20d.jpg\n",
      "\n",
      "0: 480x640 1 weld, 4.5ms\n",
      "Speed: 1.1ms preprocess, 4.5ms inference, 1.0ms postprocess per image at shape (1, 3, 480, 640)\n",
      "Overlay saved: ./predicted_masks/overlay/20d.jpg"
     ]
    },
    {
     "name": "stderr",
     "output_type": "stream",
     "text": [
      " 35%|████████████████████████████▌                                                    | 48/136 [00:05<00:10,  8.66it/s]"
     ]
    },
    {
     "name": "stdout",
     "output_type": "stream",
     "text": [
      "\n",
      "./predicted_masks/images/21a.jpg\n",
      "\n",
      "0: 480x640 1 weld, 4.3ms\n",
      "Speed: 2.1ms preprocess, 4.3ms inference, 2.0ms postprocess per image at shape (1, 3, 480, 640)\n",
      "Overlay saved: ./predicted_masks/overlay/21a.jpg\n",
      "./predicted_masks/images/21b.jpg\n",
      "\n",
      "0: 480x640 1 weld, 7.8ms\n",
      "Speed: 2.1ms preprocess, 7.8ms inference, 1.0ms postprocess per image at shape (1, 3, 480, 640)\n",
      "Overlay saved: ./predicted_masks/overlay/21b.jpg\n"
     ]
    },
    {
     "name": "stderr",
     "output_type": "stream",
     "text": [
      " 37%|█████████████████████████████▊                                                   | 50/136 [00:05<00:09,  9.34it/s]"
     ]
    },
    {
     "name": "stdout",
     "output_type": "stream",
     "text": [
      "./predicted_masks/images/21c.jpg\n",
      "\n",
      "0: 480x640 1 weld, 6.4ms\n",
      "Speed: 2.0ms preprocess, 6.4ms inference, 2.1ms postprocess per image at shape (1, 3, 480, 640)\n",
      "Overlay saved: ./predicted_masks/overlay/21c.jpg\n"
     ]
    },
    {
     "name": "stderr",
     "output_type": "stream",
     "text": [
      " 38%|██████████████████████████████▍                                                  | 51/136 [00:05<00:09,  9.34it/s]"
     ]
    },
    {
     "name": "stdout",
     "output_type": "stream",
     "text": [
      "./predicted_masks/images/21d.jpg\n",
      "\n",
      "0: 480x640 1 weld, 5.2ms\n",
      "Speed: 1.5ms preprocess, 5.2ms inference, 1.0ms postprocess per image at shape (1, 3, 480, 640)\n",
      "Overlay saved: ./predicted_masks/overlay/21d.jpg\n"
     ]
    },
    {
     "name": "stderr",
     "output_type": "stream",
     "text": [
      " 38%|██████████████████████████████▉                                                  | 52/136 [00:05<00:08,  9.40it/s]"
     ]
    },
    {
     "name": "stdout",
     "output_type": "stream",
     "text": [
      "./predicted_masks/images/22a.jpg\n",
      "\n",
      "0: 480x640 1 weld, 10.6ms\n",
      "Speed: 1.0ms preprocess, 10.6ms inference, 3.0ms postprocess per image at shape (1, 3, 480, 640)\n"
     ]
    },
    {
     "name": "stderr",
     "output_type": "stream",
     "text": [
      " 39%|███████████████████████████████▌                                                 | 53/136 [00:06<00:09,  8.75it/s]"
     ]
    },
    {
     "name": "stdout",
     "output_type": "stream",
     "text": [
      "Overlay saved: ./predicted_masks/overlay/22a.jpg\n",
      "./predicted_masks/images/22b.jpg\n",
      "\n",
      "0: 480x640 1 weld, 9.4ms\n",
      "Speed: 2.1ms preprocess, 9.4ms inference, 3.2ms postprocess per image at shape (1, 3, 480, 640)\n"
     ]
    },
    {
     "name": "stderr",
     "output_type": "stream",
     "text": [
      " 40%|████████████████████████████████▏                                                | 54/136 [00:06<00:09,  8.36it/s]"
     ]
    },
    {
     "name": "stdout",
     "output_type": "stream",
     "text": [
      "Overlay saved: ./predicted_masks/overlay/22b.jpg\n",
      "./predicted_masks/images/22c.jpg\n",
      "\n",
      "0: 480x640 1 weld, 4.1ms\n",
      "Speed: 2.4ms preprocess, 4.1ms inference, 1.2ms postprocess per image at shape (1, 3, 480, 640)\n",
      "Overlay saved: ./predicted_masks/overlay/22c.jpg\n",
      "./predicted_masks/images/22d.jpg\n",
      "\n",
      "0: 480x640 1 weld, 4.2ms\n",
      "Speed: 2.6ms preprocess, 4.2ms inference, 1.0ms postprocess per image at shape (1, 3, 480, 640)\n"
     ]
    },
    {
     "name": "stderr",
     "output_type": "stream",
     "text": [
      " 41%|█████████████████████████████████▎                                               | 56/136 [00:06<00:08,  9.39it/s]"
     ]
    },
    {
     "name": "stdout",
     "output_type": "stream",
     "text": [
      "Overlay saved: ./predicted_masks/overlay/22d.jpg\n",
      "./predicted_masks/images/23a.jpg\n",
      "\n",
      "0: 480x640 1 weld, 5.1ms\n",
      "Speed: 1.1ms preprocess, 5.1ms inference, 2.2ms postprocess per image at shape (1, 3, 480, 640)\n",
      "Overlay saved: ./predicted_masks/overlay/23a.jpg\n",
      "./predicted_masks/images/23b.jpg\n",
      "\n",
      "0: 480x640 1 weld, 9.0ms\n",
      "Speed: 1.1ms preprocess, 9.0ms inference, 2.0ms postprocess per image at shape (1, 3, 480, 640)\n",
      "Overlay saved: ./predicted_masks/overlay/23b.jpg"
     ]
    },
    {
     "name": "stderr",
     "output_type": "stream",
     "text": [
      " 43%|██████████████████████████████████▌                                              | 58/136 [00:06<00:07,  9.90it/s]"
     ]
    },
    {
     "name": "stdout",
     "output_type": "stream",
     "text": [
      "\n",
      "./predicted_masks/images/23c.jpg\n",
      "\n",
      "0: 480x640 1 weld, 4.4ms\n",
      "Speed: 2.1ms preprocess, 4.4ms inference, 1.0ms postprocess per image at shape (1, 3, 480, 640)\n",
      "Overlay saved: ./predicted_masks/overlay/23c.jpg\n"
     ]
    },
    {
     "name": "stderr",
     "output_type": "stream",
     "text": [
      " 43%|███████████████████████████████████▏                                             | 59/136 [00:06<00:08,  9.57it/s]"
     ]
    },
    {
     "name": "stdout",
     "output_type": "stream",
     "text": [
      "./predicted_masks/images/23d.jpg\n",
      "\n",
      "0: 480x640 1 weld, 10.1ms\n",
      "Speed: 2.4ms preprocess, 10.1ms inference, 2.2ms postprocess per image at shape (1, 3, 480, 640)\n",
      "Overlay saved: ./predicted_masks/overlay/23d.jpg\n"
     ]
    },
    {
     "name": "stderr",
     "output_type": "stream",
     "text": [
      " 44%|███████████████████████████████████▋                                             | 60/136 [00:06<00:08,  9.28it/s]"
     ]
    },
    {
     "name": "stdout",
     "output_type": "stream",
     "text": [
      "./predicted_masks/images/24a.jpg\n",
      "\n",
      "0: 480x640 1 weld, 5.3ms\n",
      "Speed: 1.1ms preprocess, 5.3ms inference, 1.0ms postprocess per image at shape (1, 3, 480, 640)\n",
      "Overlay saved: ./predicted_masks/overlay/24a.jpg\n"
     ]
    },
    {
     "name": "stderr",
     "output_type": "stream",
     "text": [
      " 45%|████████████████████████████████████▎                                            | 61/136 [00:06<00:08,  9.16it/s]"
     ]
    },
    {
     "name": "stdout",
     "output_type": "stream",
     "text": [
      "./predicted_masks/images/24b.jpg\n",
      "\n",
      "0: 480x640 1 weld, 4.6ms\n",
      "Speed: 2.0ms preprocess, 4.6ms inference, 1.0ms postprocess per image at shape (1, 3, 480, 640)\n",
      "Overlay saved: ./predicted_masks/overlay/24b.jpg\n"
     ]
    },
    {
     "name": "stderr",
     "output_type": "stream",
     "text": [
      " 46%|████████████████████████████████████▉                                            | 62/136 [00:07<00:07,  9.28it/s]"
     ]
    },
    {
     "name": "stdout",
     "output_type": "stream",
     "text": [
      "./predicted_masks/images/24c.jpg\n",
      "\n",
      "0: 480x640 1 weld, 4.3ms\n",
      "Speed: 1.1ms preprocess, 4.3ms inference, 1.0ms postprocess per image at shape (1, 3, 480, 640)\n",
      "Overlay saved: ./predicted_masks/overlay/24c.jpg\n",
      "./predicted_masks/images/24d.jpg\n",
      "\n",
      "0: 480x640 1 weld, 4.3ms\n",
      "Speed: 2.1ms preprocess, 4.3ms inference, 1.0ms postprocess per image at shape (1, 3, 480, 640)\n",
      "Overlay saved: ./predicted_masks/overlay/24d.jpg\n"
     ]
    },
    {
     "name": "stderr",
     "output_type": "stream",
     "text": [
      " 47%|██████████████████████████████████████                                           | 64/136 [00:07<00:07,  9.77it/s]"
     ]
    },
    {
     "name": "stdout",
     "output_type": "stream",
     "text": [
      "./predicted_masks/images/25a.jpg\n",
      "\n",
      "0: 480x640 1 weld, 4.4ms\n",
      "Speed: 1.1ms preprocess, 4.4ms inference, 1.4ms postprocess per image at shape (1, 3, 480, 640)\n",
      "Overlay saved: ./predicted_masks/overlay/25a.jpg\n"
     ]
    },
    {
     "name": "stderr",
     "output_type": "stream",
     "text": [
      " 48%|██████████████████████████████████████▋                                          | 65/136 [00:07<00:07,  9.50it/s]"
     ]
    },
    {
     "name": "stdout",
     "output_type": "stream",
     "text": [
      "./predicted_masks/images/25b.jpg\n",
      "\n",
      "0: 480x640 1 weld, 6.8ms\n",
      "Speed: 2.0ms preprocess, 6.8ms inference, 3.5ms postprocess per image at shape (1, 3, 480, 640)\n"
     ]
    },
    {
     "name": "stderr",
     "output_type": "stream",
     "text": [
      " 49%|███████████████████████████████████████▎                                         | 66/136 [00:07<00:07,  8.84it/s]"
     ]
    },
    {
     "name": "stdout",
     "output_type": "stream",
     "text": [
      "Overlay saved: ./predicted_masks/overlay/25b.jpg\n",
      "./predicted_masks/images/25c.jpg\n",
      "\n",
      "0: 480x640 1 weld, 6.9ms\n",
      "Speed: 2.2ms preprocess, 6.9ms inference, 1.1ms postprocess per image at shape (1, 3, 480, 640)\n"
     ]
    },
    {
     "name": "stderr",
     "output_type": "stream",
     "text": [
      " 49%|███████████████████████████████████████▉                                         | 67/136 [00:07<00:08,  8.55it/s]"
     ]
    },
    {
     "name": "stdout",
     "output_type": "stream",
     "text": [
      "Overlay saved: ./predicted_masks/overlay/25c.jpg\n",
      "./predicted_masks/images/25d.jpg\n",
      "\n",
      "0: 480x640 1 weld, 6.9ms\n",
      "Speed: 2.1ms preprocess, 6.9ms inference, 2.4ms postprocess per image at shape (1, 3, 480, 640)\n",
      "Overlay saved: ./predicted_masks/overlay/25d.jpg\n"
     ]
    },
    {
     "name": "stderr",
     "output_type": "stream",
     "text": [
      " 50%|████████████████████████████████████████▌                                        | 68/136 [00:07<00:07,  8.82it/s]"
     ]
    },
    {
     "name": "stdout",
     "output_type": "stream",
     "text": [
      "./predicted_masks/images/26a.jpg\n",
      "\n",
      "0: 480x640 1 weld, 8.1ms\n",
      "Speed: 2.1ms preprocess, 8.1ms inference, 2.0ms postprocess per image at shape (1, 3, 480, 640)\n",
      "Overlay saved: ./predicted_masks/overlay/26a.jpg\n"
     ]
    },
    {
     "name": "stderr",
     "output_type": "stream",
     "text": [
      " 51%|█████████████████████████████████████████                                        | 69/136 [00:07<00:07,  8.63it/s]"
     ]
    },
    {
     "name": "stdout",
     "output_type": "stream",
     "text": [
      "./predicted_masks/images/26b.jpg\n",
      "\n",
      "0: 480x640 1 weld, 6.7ms\n",
      "Speed: 2.0ms preprocess, 6.7ms inference, 2.3ms postprocess per image at shape (1, 3, 480, 640)\n",
      "Overlay saved: ./predicted_masks/overlay/26b.jpg"
     ]
    },
    {
     "name": "stderr",
     "output_type": "stream",
     "text": [
      " 51%|█████████████████████████████████████████▋                                       | 70/136 [00:07<00:07,  8.69it/s]"
     ]
    },
    {
     "name": "stdout",
     "output_type": "stream",
     "text": [
      "\n",
      "./predicted_masks/images/26c.jpg\n",
      "\n",
      "0: 480x640 1 weld, 7.4ms\n",
      "Speed: 2.1ms preprocess, 7.4ms inference, 1.1ms postprocess per image at shape (1, 3, 480, 640)\n",
      "Overlay saved: ./predicted_masks/overlay/26c.jpg\n"
     ]
    },
    {
     "name": "stderr",
     "output_type": "stream",
     "text": [
      " 52%|██████████████████████████████████████████▎                                      | 71/136 [00:08<00:07,  8.85it/s]"
     ]
    },
    {
     "name": "stdout",
     "output_type": "stream",
     "text": [
      "./predicted_masks/images/26d.jpg\n",
      "\n",
      "0: 480x640 1 weld, 7.4ms\n",
      "Speed: 3.0ms preprocess, 7.4ms inference, 1.1ms postprocess per image at shape (1, 3, 480, 640)\n"
     ]
    },
    {
     "name": "stderr",
     "output_type": "stream",
     "text": [
      " 53%|██████████████████████████████████████████▉                                      | 72/136 [00:08<00:07,  8.91it/s]"
     ]
    },
    {
     "name": "stdout",
     "output_type": "stream",
     "text": [
      "Overlay saved: ./predicted_masks/overlay/26d.jpg\n",
      "./predicted_masks/images/27a.jpg\n",
      "\n",
      "0: 480x640 1 weld, 6.9ms\n",
      "Speed: 3.3ms preprocess, 6.9ms inference, 1.1ms postprocess per image at shape (1, 3, 480, 640)\n",
      "Overlay saved: ./predicted_masks/overlay/27a.jpg\n",
      "./predicted_masks/images/27b.jpg\n",
      "\n",
      "0: 480x640 1 weld, 8.2ms\n",
      "Speed: 2.1ms preprocess, 8.2ms inference, 1.0ms postprocess per image at shape (1, 3, 480, 640)\n",
      "Overlay saved: ./predicted_masks/overlay/27b.jpg\n"
     ]
    },
    {
     "name": "stderr",
     "output_type": "stream",
     "text": [
      " 54%|████████████████████████████████████████████                                     | 74/136 [00:08<00:06,  9.25it/s]"
     ]
    },
    {
     "name": "stdout",
     "output_type": "stream",
     "text": [
      "./predicted_masks/images/27c.jpg\n",
      "\n",
      "0: 480x640 1 weld, 7.4ms\n",
      "Speed: 2.3ms preprocess, 7.4ms inference, 2.3ms postprocess per image at shape (1, 3, 480, 640)\n"
     ]
    },
    {
     "name": "stderr",
     "output_type": "stream",
     "text": [
      " 55%|████████████████████████████████████████████▋                                    | 75/136 [00:08<00:06,  8.87it/s]"
     ]
    },
    {
     "name": "stdout",
     "output_type": "stream",
     "text": [
      "Overlay saved: ./predicted_masks/overlay/27c.jpg\n",
      "./predicted_masks/images/27d.jpg\n",
      "\n",
      "0: 480x640 1 weld, 7.3ms\n",
      "Speed: 3.1ms preprocess, 7.3ms inference, 3.4ms postprocess per image at shape (1, 3, 480, 640)\n",
      "Overlay saved: ./predicted_masks/overlay/27d.jpg"
     ]
    },
    {
     "name": "stderr",
     "output_type": "stream",
     "text": [
      " 56%|█████████████████████████████████████████████▎                                   | 76/136 [00:08<00:06,  8.92it/s]"
     ]
    },
    {
     "name": "stdout",
     "output_type": "stream",
     "text": [
      "\n",
      "./predicted_masks/images/28a.jpg\n",
      "\n",
      "0: 480x640 1 weld, 5.3ms\n",
      "Speed: 2.1ms preprocess, 5.3ms inference, 1.2ms postprocess per image at shape (1, 3, 480, 640)\n",
      "Overlay saved: ./predicted_masks/overlay/28a.jpg\n"
     ]
    },
    {
     "name": "stderr",
     "output_type": "stream",
     "text": [
      " 57%|█████████████████████████████████████████████▊                                   | 77/136 [00:08<00:06,  8.53it/s]"
     ]
    },
    {
     "name": "stdout",
     "output_type": "stream",
     "text": [
      "./predicted_masks/images/28b.jpg\n",
      "\n",
      "0: 480x640 1 weld, 4.6ms\n",
      "Speed: 1.4ms preprocess, 4.6ms inference, 3.0ms postprocess per image at shape (1, 3, 480, 640)\n",
      "Overlay saved: ./predicted_masks/overlay/28b.jpg\n",
      "./predicted_masks/images/28c.jpg\n",
      "\n",
      "0: 480x640 1 weld, 5.1ms\n",
      "Speed: 2.0ms preprocess, 5.1ms inference, 2.0ms postprocess per image at shape (1, 3, 480, 640)\n"
     ]
    },
    {
     "name": "stderr",
     "output_type": "stream",
     "text": [
      " 58%|███████████████████████████████████████████████                                  | 79/136 [00:08<00:06,  9.21it/s]"
     ]
    },
    {
     "name": "stdout",
     "output_type": "stream",
     "text": [
      "Overlay saved: ./predicted_masks/overlay/28c.jpg\n",
      "./predicted_masks/images/28d.jpg\n",
      "\n",
      "0: 480x640 1 weld, 4.5ms\n",
      "Speed: 1.1ms preprocess, 4.5ms inference, 1.3ms postprocess per image at shape (1, 3, 480, 640)\n",
      "Overlay saved: ./predicted_masks/overlay/28d.jpg\n",
      "./predicted_masks/images/29a.jpg\n",
      "\n",
      "0: 480x640 1 weld, 5.4ms\n",
      "Speed: 1.3ms preprocess, 5.4ms inference, 1.2ms postprocess per image at shape (1, 3, 480, 640)\n"
     ]
    },
    {
     "name": "stderr",
     "output_type": "stream",
     "text": [
      " 60%|████████████████████████████████████████████████▏                                | 81/136 [00:09<00:05,  9.81it/s]"
     ]
    },
    {
     "name": "stdout",
     "output_type": "stream",
     "text": [
      "Overlay saved: ./predicted_masks/overlay/29a.jpg\n",
      "./predicted_masks/images/29b.jpg\n",
      "\n",
      "0: 480x640 1 weld, 4.5ms\n",
      "Speed: 2.1ms preprocess, 4.5ms inference, 1.0ms postprocess per image at shape (1, 3, 480, 640)\n",
      "Overlay saved: ./predicted_masks/overlay/29b.jpg\n",
      "./predicted_masks/images/29c.jpg\n",
      "\n",
      "0: 480x640 1 weld, 4.9ms\n",
      "Speed: 2.1ms preprocess, 4.9ms inference, 1.1ms postprocess per image at shape (1, 3, 480, 640)\n",
      "Overlay saved: ./predicted_masks/overlay/29c.jpg"
     ]
    },
    {
     "name": "stderr",
     "output_type": "stream",
     "text": [
      " 61%|█████████████████████████████████████████████████▍                               | 83/136 [00:09<00:05, 10.05it/s]"
     ]
    },
    {
     "name": "stdout",
     "output_type": "stream",
     "text": [
      "\n",
      "./predicted_masks/images/29d.jpg\n",
      "\n",
      "0: 480x640 1 weld, 4.8ms\n",
      "Speed: 1.1ms preprocess, 4.8ms inference, 1.0ms postprocess per image at shape (1, 3, 480, 640)\n",
      "Overlay saved: ./predicted_masks/overlay/29d.jpg\n",
      "./predicted_masks/images/2a.jpg\n",
      "\n",
      "0: 480x640 1 weld, 4.4ms\n",
      "Speed: 2.3ms preprocess, 4.4ms inference, 2.1ms postprocess per image at shape (1, 3, 480, 640)\n",
      "Overlay saved: ./predicted_masks/overlay/2a.jpg"
     ]
    },
    {
     "name": "stderr",
     "output_type": "stream",
     "text": [
      " 62%|██████████████████████████████████████████████████▋                              | 85/136 [00:09<00:04, 10.36it/s]"
     ]
    },
    {
     "name": "stdout",
     "output_type": "stream",
     "text": [
      "\n",
      "./predicted_masks/images/2b.jpg\n",
      "\n",
      "0: 480x640 1 weld, 5.2ms\n",
      "Speed: 1.0ms preprocess, 5.2ms inference, 1.1ms postprocess per image at shape (1, 3, 480, 640)\n",
      "Overlay saved: ./predicted_masks/overlay/2b.jpg\n",
      "./predicted_masks/images/2c.jpg\n",
      "\n",
      "0: 480x640 1 weld, 5.3ms\n",
      "Speed: 1.1ms preprocess, 5.3ms inference, 2.0ms postprocess per image at shape (1, 3, 480, 640)\n",
      "Overlay saved: ./predicted_masks/overlay/2c.jpg\n"
     ]
    },
    {
     "name": "stderr",
     "output_type": "stream",
     "text": [
      " 64%|███████████████████████████████████████████████████▊                             | 87/136 [00:09<00:04, 10.36it/s]"
     ]
    },
    {
     "name": "stdout",
     "output_type": "stream",
     "text": [
      "./predicted_masks/images/2d.jpg\n",
      "\n",
      "0: 480x640 1 weld, 4.4ms\n",
      "Speed: 1.0ms preprocess, 4.4ms inference, 1.0ms postprocess per image at shape (1, 3, 480, 640)\n",
      "Overlay saved: ./predicted_masks/overlay/2d.jpg\n",
      "./predicted_masks/images/30a.jpg\n",
      "\n",
      "0: 480x640 1 weld, 3.5ms\n",
      "Speed: 2.2ms preprocess, 3.5ms inference, 2.2ms postprocess per image at shape (1, 3, 480, 640)\n",
      "Overlay saved: ./predicted_masks/overlay/30a.jpg\n"
     ]
    },
    {
     "name": "stderr",
     "output_type": "stream",
     "text": [
      " 65%|█████████████████████████████████████████████████████                            | 89/136 [00:09<00:04, 10.53it/s]"
     ]
    },
    {
     "name": "stdout",
     "output_type": "stream",
     "text": [
      "./predicted_masks/images/30b.jpg\n",
      "\n",
      "0: 480x640 1 weld, 7.9ms\n",
      "Speed: 1.1ms preprocess, 7.9ms inference, 2.0ms postprocess per image at shape (1, 3, 480, 640)\n",
      "Overlay saved: ./predicted_masks/overlay/30b.jpg\n",
      "./predicted_masks/images/30c.jpg\n",
      "\n",
      "0: 480x640 1 weld, 5.4ms\n",
      "Speed: 1.1ms preprocess, 5.4ms inference, 1.0ms postprocess per image at shape (1, 3, 480, 640)\n"
     ]
    },
    {
     "name": "stderr",
     "output_type": "stream",
     "text": [
      " 67%|██████████████████████████████████████████████████████▏                          | 91/136 [00:10<00:04,  9.51it/s]"
     ]
    },
    {
     "name": "stdout",
     "output_type": "stream",
     "text": [
      "Overlay saved: ./predicted_masks/overlay/30c.jpg\n",
      "./predicted_masks/images/30d.jpg\n",
      "\n",
      "0: 480x640 1 weld, 7.0ms\n",
      "Speed: 2.1ms preprocess, 7.0ms inference, 1.0ms postprocess per image at shape (1, 3, 480, 640)\n",
      "Overlay saved: ./predicted_masks/overlay/30d.jpg\n",
      "./predicted_masks/images/31a.jpg\n",
      "\n",
      "0: 480x640 1 weld, 9.0ms\n",
      "Speed: 2.0ms preprocess, 9.0ms inference, 2.0ms postprocess per image at shape (1, 3, 480, 640)\n",
      "Overlay saved: ./predicted_masks/overlay/31a.jpg"
     ]
    },
    {
     "name": "stderr",
     "output_type": "stream",
     "text": [
      " 68%|███████████████████████████████████████████████████████▍                         | 93/136 [00:10<00:04,  9.85it/s]"
     ]
    },
    {
     "name": "stdout",
     "output_type": "stream",
     "text": [
      "\n",
      "./predicted_masks/images/31b.jpg\n",
      "\n",
      "0: 480x640 1 weld, 8.2ms\n",
      "Speed: 2.1ms preprocess, 8.2ms inference, 1.0ms postprocess per image at shape (1, 3, 480, 640)\n",
      "Overlay saved: ./predicted_masks/overlay/31b.jpg\n",
      "./predicted_masks/images/31c.jpg\n",
      "\n",
      "0: 480x640 1 weld, 12.0ms\n",
      "Speed: 2.1ms preprocess, 12.0ms inference, 3.0ms postprocess per image at shape (1, 3, 480, 640)\n"
     ]
    },
    {
     "name": "stderr",
     "output_type": "stream",
     "text": [
      " 70%|████████████████████████████████████████████████████████▌                        | 95/136 [00:10<00:04,  9.37it/s]"
     ]
    },
    {
     "name": "stdout",
     "output_type": "stream",
     "text": [
      "Overlay saved: ./predicted_masks/overlay/31c.jpg\n",
      "./predicted_masks/images/31d.jpg\n",
      "\n",
      "0: 480x640 1 weld, 5.4ms\n",
      "Speed: 1.1ms preprocess, 5.4ms inference, 1.3ms postprocess per image at shape (1, 3, 480, 640)\n",
      "Overlay saved: ./predicted_masks/overlay/31d.jpg\n",
      "./predicted_masks/images/32a.jpg\n",
      "\n",
      "0: 480x640 1 weld, 4.3ms\n",
      "Speed: 2.2ms preprocess, 4.3ms inference, 1.1ms postprocess per image at shape (1, 3, 480, 640)\n",
      "Overlay saved: ./predicted_masks/overlay/32a.jpg"
     ]
    },
    {
     "name": "stderr",
     "output_type": "stream",
     "text": [
      " 71%|█████████████████████████████████████████████████████████▊                       | 97/136 [00:10<00:04,  9.67it/s]"
     ]
    },
    {
     "name": "stdout",
     "output_type": "stream",
     "text": [
      "\n",
      "./predicted_masks/images/32b.jpg\n",
      "\n",
      "0: 480x640 1 weld, 4.2ms\n",
      "Speed: 1.0ms preprocess, 4.2ms inference, 1.2ms postprocess per image at shape (1, 3, 480, 640)\n",
      "Overlay saved: ./predicted_masks/overlay/32b.jpg\n",
      "./predicted_masks/images/32c.jpg\n",
      "\n",
      "0: 480x640 1 weld, 5.1ms\n",
      "Speed: 2.1ms preprocess, 5.1ms inference, 1.0ms postprocess per image at shape (1, 3, 480, 640)\n"
     ]
    },
    {
     "name": "stderr",
     "output_type": "stream",
     "text": [
      " 73%|██████████████████████████████████████████████████████████▉                      | 99/136 [00:10<00:03,  9.90it/s]"
     ]
    },
    {
     "name": "stdout",
     "output_type": "stream",
     "text": [
      "Overlay saved: ./predicted_masks/overlay/32c.jpg\n",
      "./predicted_masks/images/32d.jpg\n",
      "\n",
      "0: 480x640 1 weld, 6.6ms\n",
      "Speed: 1.0ms preprocess, 6.6ms inference, 1.0ms postprocess per image at shape (1, 3, 480, 640)\n",
      "Overlay saved: ./predicted_masks/overlay/32d.jpg\n",
      "./predicted_masks/images/33a.jpg\n",
      "\n",
      "0: 480x640 1 weld, 5.2ms\n",
      "Speed: 1.1ms preprocess, 5.2ms inference, 1.3ms postprocess per image at shape (1, 3, 480, 640)\n",
      "Overlay saved: ./predicted_masks/overlay/33a.jpg\n"
     ]
    },
    {
     "name": "stderr",
     "output_type": "stream",
     "text": [
      " 74%|███████████████████████████████████████████████████████████▍                    | 101/136 [00:11<00:03, 10.15it/s]"
     ]
    },
    {
     "name": "stdout",
     "output_type": "stream",
     "text": [
      "./predicted_masks/images/33b.jpg\n",
      "\n",
      "0: 480x640 1 weld, 5.3ms\n",
      "Speed: 1.0ms preprocess, 5.3ms inference, 1.0ms postprocess per image at shape (1, 3, 480, 640)\n",
      "Overlay saved: ./predicted_masks/overlay/33b.jpg\n",
      "./predicted_masks/images/33c.jpg\n",
      "\n",
      "0: 480x640 1 weld, 5.3ms\n",
      "Speed: 1.1ms preprocess, 5.3ms inference, 1.2ms postprocess per image at shape (1, 3, 480, 640)\n",
      "Overlay saved: ./predicted_masks/overlay/33c.jpg\n"
     ]
    },
    {
     "name": "stderr",
     "output_type": "stream",
     "text": [
      " 76%|████████████████████████████████████████████████████████████▌                   | 103/136 [00:11<00:03, 10.19it/s]"
     ]
    },
    {
     "name": "stdout",
     "output_type": "stream",
     "text": [
      "./predicted_masks/images/33d.jpg\n",
      "\n",
      "0: 480x640 1 weld, 9.5ms\n",
      "Speed: 2.0ms preprocess, 9.5ms inference, 1.4ms postprocess per image at shape (1, 3, 480, 640)\n",
      "Overlay saved: ./predicted_masks/overlay/33d.jpg\n",
      "./predicted_masks/images/34a.jpg\n",
      "\n",
      "0: 480x640 1 weld, 7.5ms\n",
      "Speed: 2.2ms preprocess, 7.5ms inference, 1.1ms postprocess per image at shape (1, 3, 480, 640)\n"
     ]
    },
    {
     "name": "stderr",
     "output_type": "stream",
     "text": [
      " 77%|█████████████████████████████████████████████████████████████▊                  | 105/136 [00:11<00:03, 10.25it/s]"
     ]
    },
    {
     "name": "stdout",
     "output_type": "stream",
     "text": [
      "Overlay saved: ./predicted_masks/overlay/34a.jpg\n",
      "./predicted_masks/images/34b.jpg\n",
      "\n",
      "0: 480x640 1 weld, 6.5ms\n",
      "Speed: 2.2ms preprocess, 6.5ms inference, 2.0ms postprocess per image at shape (1, 3, 480, 640)\n",
      "Overlay saved: ./predicted_masks/overlay/34b.jpg\n",
      "./predicted_masks/images/34c.jpg\n",
      "\n",
      "0: 480x640 1 weld, 9.6ms\n",
      "Speed: 1.0ms preprocess, 9.6ms inference, 2.1ms postprocess per image at shape (1, 3, 480, 640)\n",
      "Overlay saved: ./predicted_masks/overlay/34c.jpg"
     ]
    },
    {
     "name": "stderr",
     "output_type": "stream",
     "text": [
      " 79%|██████████████████████████████████████████████████████████████▉                 | 107/136 [00:11<00:02, 10.29it/s]"
     ]
    },
    {
     "name": "stdout",
     "output_type": "stream",
     "text": [
      "\n",
      "./predicted_masks/images/34d.jpg\n",
      "\n",
      "0: 480x640 1 weld, 6.3ms\n",
      "Speed: 2.1ms preprocess, 6.3ms inference, 1.2ms postprocess per image at shape (1, 3, 480, 640)\n",
      "Overlay saved: ./predicted_masks/overlay/34d.jpg\n",
      "./predicted_masks/images/3a.jpg\n",
      "\n",
      "0: 480x640 1 weld, 7.4ms\n",
      "Speed: 2.0ms preprocess, 7.4ms inference, 3.0ms postprocess per image at shape (1, 3, 480, 640)\n",
      "Overlay saved: ./predicted_masks/overlay/3a.jpg\n"
     ]
    },
    {
     "name": "stderr",
     "output_type": "stream",
     "text": [
      " 80%|████████████████████████████████████████████████████████████████                | 109/136 [00:11<00:02, 10.28it/s]"
     ]
    },
    {
     "name": "stdout",
     "output_type": "stream",
     "text": [
      "./predicted_masks/images/3b.jpg\n",
      "\n",
      "0: 480x640 1 weld, 9.5ms\n",
      "Speed: 2.1ms preprocess, 9.5ms inference, 1.1ms postprocess per image at shape (1, 3, 480, 640)\n",
      "Overlay saved: ./predicted_masks/overlay/3b.jpg\n",
      "./predicted_masks/images/3c.jpg\n",
      "\n",
      "0: 480x640 1 weld, 22.4ms\n",
      "Speed: 2.3ms preprocess, 22.4ms inference, 3.3ms postprocess per image at shape (1, 3, 480, 640)\n",
      "Overlay saved: ./predicted_masks/overlay/3c.jpg\n"
     ]
    },
    {
     "name": "stderr",
     "output_type": "stream",
     "text": [
      " 82%|█████████████████████████████████████████████████████████████████▎              | 111/136 [00:12<00:02,  9.74it/s]"
     ]
    },
    {
     "name": "stdout",
     "output_type": "stream",
     "text": [
      "./predicted_masks/images/3d.jpg\n",
      "\n",
      "0: 480x640 1 weld, 8.7ms\n",
      "Speed: 2.0ms preprocess, 8.7ms inference, 4.0ms postprocess per image at shape (1, 3, 480, 640)\n"
     ]
    },
    {
     "name": "stderr",
     "output_type": "stream",
     "text": [
      " 82%|█████████████████████████████████████████████████████████████████▉              | 112/136 [00:12<00:02,  9.19it/s]"
     ]
    },
    {
     "name": "stdout",
     "output_type": "stream",
     "text": [
      "Overlay saved: ./predicted_masks/overlay/3d.jpg\n",
      "./predicted_masks/images/4a.jpg\n",
      "\n",
      "0: 480x640 1 weld, 10.4ms\n",
      "Speed: 3.1ms preprocess, 10.4ms inference, 1.0ms postprocess per image at shape (1, 3, 480, 640)\n",
      "Overlay saved: ./predicted_masks/overlay/4a.jpg\n"
     ]
    },
    {
     "name": "stderr",
     "output_type": "stream",
     "text": [
      " 83%|██████████████████████████████████████████████████████████████████▍             | 113/136 [00:12<00:02,  9.19it/s]"
     ]
    },
    {
     "name": "stdout",
     "output_type": "stream",
     "text": [
      "./predicted_masks/images/4b.jpg\n",
      "\n",
      "0: 480x640 1 weld, 8.0ms\n",
      "Speed: 2.2ms preprocess, 8.0ms inference, 3.1ms postprocess per image at shape (1, 3, 480, 640)\n",
      "Overlay saved: ./predicted_masks/overlay/4b.jpg\n",
      "./predicted_masks/images/4c.jpg\n",
      "\n",
      "0: 480x640 1 weld, 10.2ms\n",
      "Speed: 2.0ms preprocess, 10.2ms inference, 2.0ms postprocess per image at shape (1, 3, 480, 640)\n"
     ]
    },
    {
     "name": "stderr",
     "output_type": "stream",
     "text": [
      " 85%|███████████████████████████████████████████████████████████████████▋            | 115/136 [00:12<00:02,  9.45it/s]"
     ]
    },
    {
     "name": "stdout",
     "output_type": "stream",
     "text": [
      "Overlay saved: ./predicted_masks/overlay/4c.jpg\n",
      "./predicted_masks/images/4d.jpg\n",
      "\n",
      "0: 480x640 1 weld, 7.7ms\n",
      "Speed: 3.0ms preprocess, 7.7ms inference, 2.4ms postprocess per image at shape (1, 3, 480, 640)\n",
      "Overlay saved: ./predicted_masks/overlay/4d.jpg\n",
      "./predicted_masks/images/5a.jpg\n",
      "\n",
      "0: 480x640 1 weld, 8.4ms\n",
      "Speed: 2.2ms preprocess, 8.4ms inference, 1.4ms postprocess per image at shape (1, 3, 480, 640)\n",
      "Overlay saved: ./predicted_masks/overlay/5a.jpg\n"
     ]
    },
    {
     "name": "stderr",
     "output_type": "stream",
     "text": [
      " 86%|████████████████████████████████████████████████████████████████████▊           | 117/136 [00:12<00:02,  9.30it/s]"
     ]
    },
    {
     "name": "stdout",
     "output_type": "stream",
     "text": [
      "./predicted_masks/images/5b.jpg\n",
      "\n",
      "0: 480x640 1 weld, 11.6ms\n",
      "Speed: 3.3ms preprocess, 11.6ms inference, 2.0ms postprocess per image at shape (1, 3, 480, 640)\n"
     ]
    },
    {
     "name": "stderr",
     "output_type": "stream",
     "text": [
      " 87%|█████████████████████████████████████████████████████████████████████▍          | 118/136 [00:12<00:01,  9.03it/s]"
     ]
    },
    {
     "name": "stdout",
     "output_type": "stream",
     "text": [
      "Overlay saved: ./predicted_masks/overlay/5b.jpg\n",
      "./predicted_masks/images/5c.jpg\n",
      "\n",
      "0: 480x640 1 weld, 12.0ms\n",
      "Speed: 2.1ms preprocess, 12.0ms inference, 1.1ms postprocess per image at shape (1, 3, 480, 640)\n"
     ]
    },
    {
     "name": "stderr",
     "output_type": "stream",
     "text": [
      " 88%|██████████████████████████████████████████████████████████████████████          | 119/136 [00:13<00:01,  8.67it/s]"
     ]
    },
    {
     "name": "stdout",
     "output_type": "stream",
     "text": [
      "Overlay saved: ./predicted_masks/overlay/5c.jpg\n",
      "./predicted_masks/images/5d.jpg\n",
      "\n",
      "0: 480x640 1 weld, 9.4ms\n",
      "Speed: 2.1ms preprocess, 9.4ms inference, 2.0ms postprocess per image at shape (1, 3, 480, 640)\n",
      "Overlay saved: ./predicted_masks/overlay/5d.jpg\n"
     ]
    },
    {
     "name": "stderr",
     "output_type": "stream",
     "text": [
      " 88%|██████████████████████████████████████████████████████████████████████▌         | 120/136 [00:13<00:01,  8.81it/s]"
     ]
    },
    {
     "name": "stdout",
     "output_type": "stream",
     "text": [
      "./predicted_masks/images/6a.jpg\n",
      "\n",
      "0: 480x640 1 weld, 13.5ms\n",
      "Speed: 2.1ms preprocess, 13.5ms inference, 3.3ms postprocess per image at shape (1, 3, 480, 640)\n"
     ]
    },
    {
     "name": "stderr",
     "output_type": "stream",
     "text": [
      " 89%|███████████████████████████████████████████████████████████████████████▏        | 121/136 [00:13<00:01,  8.95it/s]"
     ]
    },
    {
     "name": "stdout",
     "output_type": "stream",
     "text": [
      "Overlay saved: ./predicted_masks/overlay/6a.jpg\n",
      "./predicted_masks/images/6b.jpg\n",
      "\n",
      "0: 480x640 1 weld, 11.6ms\n",
      "Speed: 2.1ms preprocess, 11.6ms inference, 2.4ms postprocess per image at shape (1, 3, 480, 640)\n"
     ]
    },
    {
     "name": "stderr",
     "output_type": "stream",
     "text": [
      " 90%|███████████████████████████████████████████████████████████████████████▊        | 122/136 [00:13<00:01,  8.27it/s]"
     ]
    },
    {
     "name": "stdout",
     "output_type": "stream",
     "text": [
      "Overlay saved: ./predicted_masks/overlay/6b.jpg\n",
      "./predicted_masks/images/6c.jpg\n",
      "\n",
      "0: 480x640 1 weld, 15.8ms\n",
      "Speed: 3.0ms preprocess, 15.8ms inference, 2.0ms postprocess per image at shape (1, 3, 480, 640)\n"
     ]
    },
    {
     "name": "stderr",
     "output_type": "stream",
     "text": [
      " 90%|████████████████████████████████████████████████████████████████████████▎       | 123/136 [00:13<00:01,  7.84it/s]"
     ]
    },
    {
     "name": "stdout",
     "output_type": "stream",
     "text": [
      "Overlay saved: ./predicted_masks/overlay/6c.jpg\n",
      "./predicted_masks/images/6d.jpg\n",
      "\n",
      "0: 480x640 1 weld, 14.0ms\n",
      "Speed: 5.3ms preprocess, 14.0ms inference, 2.0ms postprocess per image at shape (1, 3, 480, 640)\n"
     ]
    },
    {
     "name": "stderr",
     "output_type": "stream",
     "text": [
      " 91%|████████████████████████████████████████████████████████████████████████▉       | 124/136 [00:13<00:01,  7.89it/s]"
     ]
    },
    {
     "name": "stdout",
     "output_type": "stream",
     "text": [
      "Overlay saved: ./predicted_masks/overlay/6d.jpg\n",
      "./predicted_masks/images/7a.jpg\n",
      "\n",
      "0: 480x640 1 weld, 16.3ms\n",
      "Speed: 1.1ms preprocess, 16.3ms inference, 4.0ms postprocess per image at shape (1, 3, 480, 640)\n",
      "Overlay saved: ./predicted_masks/overlay/7a.jpg\n"
     ]
    },
    {
     "name": "stderr",
     "output_type": "stream",
     "text": [
      " 92%|█████████████████████████████████████████████████████████████████████████▌      | 125/136 [00:13<00:01,  8.19it/s]"
     ]
    },
    {
     "name": "stdout",
     "output_type": "stream",
     "text": [
      "./predicted_masks/images/7b.jpg\n",
      "\n",
      "0: 480x640 1 weld, 14.9ms\n",
      "Speed: 3.0ms preprocess, 14.9ms inference, 1.1ms postprocess per image at shape (1, 3, 480, 640)\n",
      "Overlay saved: ./predicted_masks/overlay/7b.jpg\n",
      "./predicted_masks/images/7c.jpg\n",
      "\n",
      "0: 480x640 1 weld, 15.3ms\n",
      "Speed: 3.4ms preprocess, 15.3ms inference, 2.3ms postprocess per image at shape (1, 3, 480, 640)\n"
     ]
    },
    {
     "name": "stderr",
     "output_type": "stream",
     "text": [
      " 93%|██████████████████████████████████████████████████████████████████████████▋     | 127/136 [00:14<00:01,  8.85it/s]"
     ]
    },
    {
     "name": "stdout",
     "output_type": "stream",
     "text": [
      "Overlay saved: ./predicted_masks/overlay/7c.jpg\n",
      "./predicted_masks/images/7d.jpg\n",
      "\n",
      "0: 480x640 1 weld, 14.4ms\n",
      "Speed: 2.0ms preprocess, 14.4ms inference, 3.3ms postprocess per image at shape (1, 3, 480, 640)\n",
      "Overlay saved: ./predicted_masks/overlay/7d.jpg\n",
      "./predicted_masks/images/8a.jpg\n",
      "\n",
      "0: 480x640 1 weld, 13.7ms\n",
      "Speed: 2.3ms preprocess, 13.7ms inference, 3.2ms postprocess per image at shape (1, 3, 480, 640)\n"
     ]
    },
    {
     "name": "stderr",
     "output_type": "stream",
     "text": [
      " 95%|███████████████████████████████████████████████████████████████████████████▉    | 129/136 [00:14<00:00,  9.12it/s]"
     ]
    },
    {
     "name": "stdout",
     "output_type": "stream",
     "text": [
      "Overlay saved: ./predicted_masks/overlay/8a.jpg\n",
      "./predicted_masks/images/8b.jpg\n",
      "\n",
      "0: 480x640 1 weld, 13.5ms\n",
      "Speed: 2.0ms preprocess, 13.5ms inference, 2.0ms postprocess per image at shape (1, 3, 480, 640)\n"
     ]
    },
    {
     "name": "stderr",
     "output_type": "stream",
     "text": [
      " 96%|████████████████████████████████████████████████████████████████████████████▍   | 130/136 [00:14<00:00,  9.20it/s]"
     ]
    },
    {
     "name": "stdout",
     "output_type": "stream",
     "text": [
      "Overlay saved: ./predicted_masks/overlay/8b.jpg\n",
      "./predicted_masks/images/8c.jpg\n",
      "\n",
      "0: 480x640 1 weld, 13.9ms\n",
      "Speed: 2.4ms preprocess, 13.9ms inference, 1.0ms postprocess per image at shape (1, 3, 480, 640)\n"
     ]
    },
    {
     "name": "stderr",
     "output_type": "stream",
     "text": [
      " 96%|█████████████████████████████████████████████████████████████████████████████   | 131/136 [00:14<00:00,  9.32it/s]"
     ]
    },
    {
     "name": "stdout",
     "output_type": "stream",
     "text": [
      "Overlay saved: ./predicted_masks/overlay/8c.jpg\n",
      "./predicted_masks/images/8d.jpg\n",
      "\n",
      "0: 480x640 1 weld, 15.1ms\n",
      "Speed: 2.3ms preprocess, 15.1ms inference, 2.1ms postprocess per image at shape (1, 3, 480, 640)\n"
     ]
    },
    {
     "name": "stderr",
     "output_type": "stream",
     "text": [
      " 97%|█████████████████████████████████████████████████████████████████████████████▋  | 132/136 [00:14<00:00,  9.40it/s]"
     ]
    },
    {
     "name": "stdout",
     "output_type": "stream",
     "text": [
      "Overlay saved: ./predicted_masks/overlay/8d.jpg\n",
      "./predicted_masks/images/9a.jpg\n",
      "\n",
      "0: 480x640 1 weld, 13.7ms\n",
      "Speed: 2.5ms preprocess, 13.7ms inference, 1.1ms postprocess per image at shape (1, 3, 480, 640)\n"
     ]
    },
    {
     "name": "stderr",
     "output_type": "stream",
     "text": [
      " 98%|██████████████████████████████████████████████████████████████████████████████▏ | 133/136 [00:14<00:00,  9.44it/s]"
     ]
    },
    {
     "name": "stdout",
     "output_type": "stream",
     "text": [
      "Overlay saved: ./predicted_masks/overlay/9a.jpg\n",
      "./predicted_masks/images/9b.jpg\n",
      "\n",
      "0: 480x640 1 weld, 17.3ms\n",
      "Speed: 2.3ms preprocess, 17.3ms inference, 4.5ms postprocess per image at shape (1, 3, 480, 640)\n"
     ]
    },
    {
     "name": "stderr",
     "output_type": "stream",
     "text": [
      " 99%|██████████████████████████████████████████████████████████████████████████████▊ | 134/136 [00:14<00:00,  9.29it/s]"
     ]
    },
    {
     "name": "stdout",
     "output_type": "stream",
     "text": [
      "Overlay saved: ./predicted_masks/overlay/9b.jpg\n",
      "./predicted_masks/images/9c.jpg\n",
      "\n",
      "0: 480x640 1 weld, 22.8ms\n",
      "Speed: 2.5ms preprocess, 22.8ms inference, 5.4ms postprocess per image at shape (1, 3, 480, 640)\n"
     ]
    },
    {
     "name": "stderr",
     "output_type": "stream",
     "text": [
      " 99%|███████████████████████████████████████████████████████████████████████████████▍| 135/136 [00:14<00:00,  8.26it/s]"
     ]
    },
    {
     "name": "stdout",
     "output_type": "stream",
     "text": [
      "Overlay saved: ./predicted_masks/overlay/9c.jpg\n",
      "./predicted_masks/images/9d.jpg\n",
      "\n",
      "0: 480x640 1 weld, 32.4ms\n",
      "Speed: 3.2ms preprocess, 32.4ms inference, 4.7ms postprocess per image at shape (1, 3, 480, 640)\n"
     ]
    },
    {
     "name": "stderr",
     "output_type": "stream",
     "text": [
      "100%|████████████████████████████████████████████████████████████████████████████████| 136/136 [00:15<00:00,  9.02it/s]"
     ]
    },
    {
     "name": "stdout",
     "output_type": "stream",
     "text": [
      "Overlay saved: ./predicted_masks/overlay/9d.jpg\n"
     ]
    },
    {
     "name": "stderr",
     "output_type": "stream",
     "text": [
      "\n"
     ]
    }
   ],
   "source": [
    "import os\n",
    "from pathlib import Path\n",
    "os.environ[\"KMP_DUPLICATE_LIB_OK\"]=\"TRUE\"\n",
    "import cv2\n",
    "import matplotlib.pyplot as plt\n",
    "import numpy as np\n",
    "from ultralytics import YOLO\n",
    "# from pixel_size.utils import get_pixel_real_size\n",
    "from weld_processing.read_mask import plot_mask_and_point,return_points_and_size\n",
    "from PIL import Image, ImageDraw\n",
    "from shapely.geometry import Polygon\n",
    "\n",
    "def save_prediction_masks():\n",
    "    PATH_Images=\"./predicted_masks/images\"\n",
    "    PATH_Masks=\"./predicted_masks/masks\"\n",
    "    \n",
    "    list_img=[img for img in os.listdir(PATH_Images) if img.endswith('.jpg')==True]\n",
    "    model_path = Path('runs/segment/train32/weights/best.pt')  # Adjust path as needed\n",
    "    model = YOLO(model_path)\n",
    "    for i in tqdm(list_img):\n",
    "        img_path=PATH_Images+\"/\"+ i\n",
    "        # Load the model (replace 'best.pt' with your actual model file name)\n",
    "        print(img_path)\n",
    "        # Load an image\n",
    "        img = cv2.imread(img_path)\n",
    "\n",
    "            # Resize the image\n",
    "        # print(img)\n",
    "        H, W,_ = img.shape\n",
    "        results = model(img,imgsz=640, max_det=1, iou=0.7)\n",
    "        \n",
    "        # mask= results[0].masks.data[0].cpu().numpy() * 255\n",
    "        mask= process_yolo_masks(results[0].masks)\n",
    "        # print(mask.shape[0]/mask.shape[1])\n",
    "        # mask = cv2.resize(mask, (W, H))\n",
    "        # print(H/W)\n",
    "    \n",
    "        mask_path=PATH_Masks+'/'+ i\n",
    " \n",
    "        cv2.imwrite(mask_path, mask)\n",
    "        # print(mask_path, img_path)\n",
    "        overlay_mask_jpg(img_path,results[0].masks[0])\n",
    "\n",
    "      \n",
    "\n",
    "# # res = get_pixel_real_size(img_path)\n",
    "# # print(res)\n",
    "# # top_line_len,top_coords, bot_line_len,bot_coords = return_points_and_size('./output.png')\n",
    "# # print(f'top_line_len={top_line_len,top_line_len*res[0]}mm, bot_line_len={bot_line_len,bot_line_len*res[0]}')\n",
    "\n",
    "# # plot_mask_and_point('./output.png')\n",
    "save_prediction_masks()\n"
   ]
  },
  {
   "cell_type": "markdown",
   "id": "826089da-1250-4e1c-8417-b949ef2cf7b4",
   "metadata": {},
   "source": [
    "#### by this stage you should have your overlayed images and masks in the folder \"predicted_masks\"\n",
    "#### you can then choose to add those newly annotated data to your data set and train a new iteration"
   ]
  },
  {
   "cell_type": "code",
   "execution_count": 21,
   "id": "09b2f4c0-a092-4bbe-80f8-2644889d30ef",
   "metadata": {},
   "outputs": [
    {
     "ename": "FileNotFoundError",
     "evalue": "[WinError 3] Системе не удается найти указанный путь: './predicted_masks/overlay/'",
     "output_type": "error",
     "traceback": [
      "\u001b[1;31m---------------------------------------------------------------------------\u001b[0m",
      "\u001b[1;31mFileNotFoundError\u001b[0m                         Traceback (most recent call last)",
      "Cell \u001b[1;32mIn[21], line 20\u001b[0m\n\u001b[0;32m     17\u001b[0m         \u001b[38;5;28;01mif\u001b[39;00m os\u001b[38;5;241m.\u001b[39mpath\u001b[38;5;241m.\u001b[39mexists(mask_path_predicted):\n\u001b[0;32m     18\u001b[0m             shutil\u001b[38;5;241m.\u001b[39mmove(mask_path_predicted, path_masks)\n\u001b[1;32m---> 20\u001b[0m \u001b[43madd_to_dataset\u001b[49m\u001b[43m(\u001b[49m\u001b[43m)\u001b[49m  \n",
      "Cell \u001b[1;32mIn[21], line 8\u001b[0m, in \u001b[0;36madd_to_dataset\u001b[1;34m()\u001b[0m\n\u001b[0;32m      6\u001b[0m path_images_predicted\u001b[38;5;241m=\u001b[39m\u001b[38;5;124m'\u001b[39m\u001b[38;5;124m./predicted_masks/images/\u001b[39m\u001b[38;5;124m'\u001b[39m\n\u001b[0;32m      7\u001b[0m path_overlay\u001b[38;5;241m=\u001b[39m\u001b[38;5;124m'\u001b[39m\u001b[38;5;124m./predicted_masks/overlay/\u001b[39m\u001b[38;5;124m'\u001b[39m\n\u001b[1;32m----> 8\u001b[0m list_img\u001b[38;5;241m=\u001b[39m[img \u001b[38;5;28;01mfor\u001b[39;00m img \u001b[38;5;129;01min\u001b[39;00m \u001b[43mos\u001b[49m\u001b[38;5;241;43m.\u001b[39;49m\u001b[43mlistdir\u001b[49m\u001b[43m(\u001b[49m\u001b[43mpath_overlay\u001b[49m\u001b[43m)\u001b[49m \u001b[38;5;28;01mif\u001b[39;00m img\u001b[38;5;241m.\u001b[39mendswith(\u001b[38;5;124m'\u001b[39m\u001b[38;5;124m.jpg\u001b[39m\u001b[38;5;124m'\u001b[39m)\u001b[38;5;241m==\u001b[39m\u001b[38;5;28;01mTrue\u001b[39;00m]\n\u001b[0;32m      9\u001b[0m \u001b[38;5;28;01mfor\u001b[39;00m i \u001b[38;5;129;01min\u001b[39;00m tqdm(list_img):\n\u001b[0;32m     10\u001b[0m     img_path_predicted\u001b[38;5;241m=\u001b[39mpath_images_predicted\u001b[38;5;241m+\u001b[39m\u001b[38;5;124m\"\u001b[39m\u001b[38;5;124m/\u001b[39m\u001b[38;5;124m\"\u001b[39m\u001b[38;5;241m+\u001b[39m i\n",
      "\u001b[1;31mFileNotFoundError\u001b[0m: [WinError 3] Системе не удается найти указанный путь: './predicted_masks/overlay/'"
     ]
    }
   ],
   "source": [
    "import shutil\n",
    "def add_to_dataset():\n",
    "    path_images = './tmp/images/'\n",
    "    path_masks= './tmp/masks/'\n",
    "    path_masks_predicted='./predicted_masks/masks/'\n",
    "    path_images_predicted='./predicted_masks/images/'\n",
    "    path_overlay='./predicted_masks/overlay/'\n",
    "    list_img=[img for img in os.listdir(path_overlay) if img.endswith('.jpg')==True]\n",
    "    for i in tqdm(list_img):\n",
    "        img_path_predicted=path_images_predicted+\"/\"+ i\n",
    "        mask_path_predicted=path_masks_predicted+\"/\"+ i\n",
    "          # Move predicted image to the image directory\n",
    "        if os.path.exists(img_path_predicted):\n",
    "            shutil.move(img_path_predicted, path_images)\n",
    "        \n",
    "        # Move predicted mask to the masks directory\n",
    "        if os.path.exists(mask_path_predicted):\n",
    "            shutil.move(mask_path_predicted, path_masks)\n",
    "        \n",
    "add_to_dataset()  "
   ]
  },
  {
   "cell_type": "code",
   "execution_count": 59,
   "id": "38322f1f-daab-456c-927b-e5630a930bc6",
   "metadata": {},
   "outputs": [
    {
     "name": "stdout",
     "output_type": "stream",
     "text": [
      "\n",
      "0: 480x640 1 weld, 17.6ms\n",
      "Speed: 2.0ms preprocess, 17.6ms inference, 2.4ms postprocess per image at shape (1, 3, 480, 640)\n"
     ]
    }
   ],
   "source": [
    "import cv2\n",
    "import numpy as np\n",
    "import matplotlib.pyplot as plt\n",
    "from ultralytics import YOLO\n",
    "\n",
    "# Load the model\n",
    "model = YOLO('runs/segment/train25/weights/best.pt')\n",
    "\n",
    "# Load the image\n",
    "img_path = \"./predicted_masks/images/6a.jpg\"\n",
    "img = cv2.imread(img_path)\n",
    "\n",
    "# Run inference\n",
    "results = model(img)\n",
    "\n",
    "# Get segmentation mask\n",
    "masks =process_yolo_masks(results[0].masks)\n",
    "cv2.imshow(\"Processed Single Mask\", masks)\n",
    "cv2.waitKey(0)  # Wait for a key press\n",
    "cv2.destroyAllWindows()  # Close the window"
   ]
  },
  {
   "cell_type": "markdown",
   "id": "2f8c2793-f21b-442d-b57f-d3465b753d83",
   "metadata": {},
   "source": [
    "# Show the loss functions in more detail"
   ]
  },
  {
   "cell_type": "code",
   "execution_count": 11,
   "id": "d6ec2331-f34a-4248-97ca-eca334b834a1",
   "metadata": {},
   "outputs": [
    {
     "name": "stdout",
     "output_type": "stream",
     "text": [
      "Segmentation loss plot saved at: runs/segment\\train32\\segmentation_loss.png\n"
     ]
    }
   ],
   "source": [
    "import pandas as pd\n",
    "import matplotlib.pyplot as plt\n",
    "import os\n",
    "import glob\n",
    "\n",
    "# Find the latest training run folder inside \"runs/segment/\"\n",
    "runs_path = \"runs/segment/\"\n",
    "train_folders = sorted(glob.glob(os.path.join(runs_path, \"train*\")), key=os.path.getmtime, reverse=True)\n",
    "\n",
    "if not train_folders:\n",
    "    raise FileNotFoundError(\"No training folders found in 'runs/segment/'\")\n",
    "\n",
    "latest_run_path = train_folders[0]  # Get the most recent training folder\n",
    "results_csv_path = os.path.join(latest_run_path, \"results.csv\")\n",
    "\n",
    "# Load the training log\n",
    "df = pd.read_csv(results_csv_path)\n",
    "\n",
    "# Plot segmentation loss\n",
    "plt.figure(figsize=(10, 5))\n",
    "plt.plot(df[\"epoch\"], df[\"train/seg_loss\"], label=\"Train Segmentation Loss\")\n",
    "plt.plot(df[\"epoch\"], df[\"val/seg_loss\"], label=\"Validation Segmentation Loss\", linestyle=\"--\")\n",
    "\n",
    "plt.xlabel(\"Epoch\")\n",
    "plt.ylabel(\"Loss\")\n",
    "plt.title(\"YOLO Segmentation Loss Curve\")\n",
    "plt.legend()\n",
    "plt.grid()\n",
    "# plt.show()\n",
    "# Save the plot inside the latest run folder\n",
    "plot_path = os.path.join(latest_run_path, \"segmentation_loss.png\")\n",
    "plt.savefig(plot_path, dpi=300)\n",
    "plt.close()\n",
    "\n",
    "print(f\"Segmentation loss plot saved at: {plot_path}\")\n"
   ]
  },
  {
   "cell_type": "code",
   "execution_count": 12,
   "id": "4daefe33",
   "metadata": {},
   "outputs": [
    {
     "name": "stdout",
     "output_type": "stream",
     "text": [
      "Segmentation loss plot saved at: runs/segment\\train32\\box_loss.png\n"
     ]
    }
   ],
   "source": [
    "import pandas as pd\n",
    "import matplotlib.pyplot as plt\n",
    "import os\n",
    "import glob\n",
    "\n",
    "# Find the latest training run folder inside \"runs/segment/\"\n",
    "runs_path = \"runs/segment/\"\n",
    "train_folders = sorted(glob.glob(os.path.join(runs_path, \"train*\")), key=os.path.getmtime, reverse=True)\n",
    "\n",
    "if not train_folders:\n",
    "    raise FileNotFoundError(\"No training folders found in 'runs/segment/'\")\n",
    "\n",
    "latest_run_path = train_folders[0]  # Get the most recent training folder\n",
    "results_csv_path = os.path.join(latest_run_path, \"results.csv\")\n",
    "\n",
    "# Load the training log\n",
    "df = pd.read_csv(results_csv_path)\n",
    "\n",
    "# Plot segmentation loss\n",
    "plt.figure(figsize=(10, 5))\n",
    "plt.plot(df[\"epoch\"], df[\"train/box_loss\"], label=\"Train box Loss\")\n",
    "plt.plot(df[\"epoch\"], df[\"val/box_loss\"], label=\"Validation box Loss\", linestyle=\"--\")\n",
    "\n",
    "plt.xlabel(\"Epoch\")\n",
    "plt.ylabel(\"Loss\")\n",
    "plt.title(\"YOLO Box Loss Curve\")\n",
    "plt.legend()\n",
    "plt.grid()\n",
    "# plt.show()\n",
    "# Save the plot inside the latest run folder\n",
    "plot_path = os.path.join(latest_run_path, \"box_loss.png\")\n",
    "plt.savefig(plot_path, dpi=300)\n",
    "plt.close()\n",
    "\n",
    "print(f\"Segmentation loss plot saved at: {plot_path}\")\n"
   ]
  },
  {
   "cell_type": "markdown",
   "id": "0606f14d-2b1a-4ad3-af77-547efcab63a4",
   "metadata": {},
   "source": [
    "# smooth the masks "
   ]
  },
  {
   "cell_type": "code",
   "execution_count": 32,
   "id": "513e67d5-ea6a-46b2-b2c5-6be130223a97",
   "metadata": {},
   "outputs": [
    {
     "name": "stdout",
     "output_type": "stream",
     "text": [
      "Smoothed masks saved in: ./predicted_masks/smoothed_masks\n"
     ]
    }
   ],
   "source": [
    "import cv2\n",
    "import numpy as np\n",
    "import glob\n",
    "import os\n",
    "\n",
    "# Set paths\n",
    "input_mask_folder = \"./predicted_masks/masks\"  # Change this to your YOLO mask folder\n",
    "output_mask_folder = \"./predicted_masks/smoothed_masks\"\n",
    "\n",
    "# Create output directory if not exists\n",
    "os.makedirs(output_mask_folder, exist_ok=True)\n",
    "\n",
    "# Get all mask files\n",
    "mask_files = glob.glob(os.path.join(input_mask_folder, \"*.jpg\"))  # Change extension if needed\n",
    "\n",
    "# Process each mask\n",
    "for mask_path in mask_files:\n",
    "    # Load mask as grayscale\n",
    "    mask = cv2.imread(mask_path, cv2.IMREAD_GRAYSCALE)\n",
    "    \n",
    "    # Apply morphological closing to fill small holes\n",
    "    kernel = np.ones((5, 5), np.uint8)  # Adjust kernel size for more/less smoothing\n",
    "    mask_closed = cv2.morphologyEx(mask, cv2.MORPH_CLOSE, kernel)\n",
    "    \n",
    "    # Apply Gaussian Blur to soften edges\n",
    "    mask_blurred = cv2.GaussianBlur(mask_closed, (5, 5), 0)\n",
    "    \n",
    "    # Threshold back to binary\n",
    "    _, smoothed_mask = cv2.threshold(mask_blurred, 127, 255, cv2.THRESH_BINARY)\n",
    "\n",
    "    # Save the smoothed mask\n",
    "    output_path = os.path.join(output_mask_folder, os.path.basename(mask_path))\n",
    "    cv2.imwrite(output_path, smoothed_mask)\n",
    "contours, _ = cv2.findContours(smoothed_mask, cv2.RETR_EXTERNAL, cv2.CHAIN_APPROX_SIMPLE)\n",
    "for cnt in contours:\n",
    "    epsilon = 0.01 * cv2.arcLength(cnt, True)  # Adjust smoothing factor\n",
    "    approx = cv2.approxPolyDP(cnt, epsilon, True)\n",
    "    cv2.drawContours(smoothed_mask, [approx], -1, (255, 255, 255), thickness=cv2.FILLED)\n",
    "\n",
    "print(f\"Smoothed masks saved in: {output_mask_folder}\")\n"
   ]
  },
  {
   "cell_type": "code",
   "execution_count": 67,
   "id": "e7c34faf-a081-4bff-8773-dc6ed9f8f960",
   "metadata": {},
   "outputs": [
    {
     "name": "stdout",
     "output_type": "stream",
     "text": [
      "Smoothed masks saved in: ./predicted_masks/smoothed_masks\n"
     ]
    }
   ],
   "source": [
    "import cv2\n",
    "import numpy as np\n",
    "import glob\n",
    "import os\n",
    "from scipy.interpolate import splprep, splev\n",
    "\n",
    "# Set paths\n",
    "input_mask_folder = \"./predicted_masks/masks\"  # Change this to your YOLO mask folder\n",
    "output_mask_folder = \"./predicted_masks/smoothed_masks\"\n",
    "\n",
    "# Create output directory if not exists\n",
    "os.makedirs(output_mask_folder, exist_ok=True)\n",
    "\n",
    "# Approximation Factor (Lower = Smoother)\n",
    "EPSILON_FACTOR = 0.0015  # Reduce for more points, increase for simpler shapes\n",
    "\n",
    "# Process each mask\n",
    "for mask_path in glob.glob(os.path.join(input_mask_folder, \"*.jpg\")):\n",
    "    # Load mask as grayscale\n",
    "    mask = cv2.imread(mask_path, cv2.IMREAD_GRAYSCALE)\n",
    "\n",
    "    # Find contours\n",
    "    contours, _ = cv2.findContours(mask, cv2.RETR_EXTERNAL, cv2.CHAIN_APPROX_SIMPLE)\n",
    "\n",
    "    # Create a blank mask for the new smoothed contours\n",
    "    smooth_mask = np.zeros_like(mask)\n",
    "\n",
    "    # Process each contour\n",
    "    for cnt in contours:\n",
    "        if len(cnt) >= 3:  # Ensure it has enough points\n",
    "            epsilon = EPSILON_FACTOR * cv2.arcLength(cnt, True)  # Compute epsilon\n",
    "            smoothed_cnt = cv2.approxPolyDP(cnt, epsilon, True)  # Approximate contour\n",
    "            cv2.drawContours(smooth_mask, [smoothed_cnt], -1, 255, thickness=cv2.FILLED)\n",
    "\n",
    "    # Save the smoothed mask\n",
    "    output_path = os.path.join(output_mask_folder, os.path.basename(mask_path))\n",
    "    cv2.imwrite(output_path, smooth_mask)\n",
    "\n",
    "print(f\"Smoothed masks saved in: {output_mask_folder}\")\n"
   ]
  },
  {
   "cell_type": "code",
   "execution_count": null,
   "id": "f9ac3f69-c0ae-4b54-93a1-8e87eba063e2",
   "metadata": {},
   "outputs": [],
   "source": []
  },
  {
   "cell_type": "code",
   "execution_count": null,
   "id": "d212b1b1-ec5d-4fe3-b344-84151b1d2c7c",
   "metadata": {},
   "outputs": [],
   "source": []
  }
 ],
 "metadata": {
  "kernelspec": {
   "display_name": "Python (my_env)",
   "language": "python",
   "name": "my_env"
  },
  "language_info": {
   "codemirror_mode": {
    "name": "ipython",
    "version": 3
   },
   "file_extension": ".py",
   "mimetype": "text/x-python",
   "name": "python",
   "nbconvert_exporter": "python",
   "pygments_lexer": "ipython3",
   "version": "3.9.21"
  }
 },
 "nbformat": 4,
 "nbformat_minor": 5
}
